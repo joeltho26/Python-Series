{
 "cells": [
  {
   "cell_type": "code",
   "execution_count": 1,
   "metadata": {},
   "outputs": [
    {
     "name": "stdout",
     "output_type": "stream",
     "text": [
      "The dog was dead. There was a garden fork sticking out of the dog. The points of the fork must have gone all the way through the dog and into the ground.\n",
      "COUNTER DATA:\n",
      "Counter({'e': 13, 'o': 13, 'h': 11, 't': 11, 'a': 9, 'd': 8, 'g': 8, 'n': 7, 'r': 6, 's': 5, 'f': 4, 'i': 4, 'u': 4, 'T': 3, 'w': 3, '.': 3, 'k': 3, 'l': 2, 'c': 1, 'p': 1, 'm': 1, 'v': 1, 'y': 1})\n"
     ]
    }
   ],
   "source": [
    "from collections import Counter\n",
    "\n",
    "text = \"The dog was dead. There was a garden fork sticking out of the dog. \\\n",
    "The points of the fork must have gone all the way through the dog and into the ground.\"\n",
    "print(text)\n",
    "    \n",
    "\n",
    "counter = Counter(text.replace(\" \",\"\"))\n",
    "print(\"COUNTER DATA:\")\n",
    "print(counter)"
   ]
  },
  {
   "cell_type": "code",
   "execution_count": 2,
   "metadata": {},
   "outputs": [
    {
     "name": "stdout",
     "output_type": "stream",
     "text": [
      "Elements: \n",
      "['T', 'T', 'T', 'h', 'h', 'h', 'h', 'h', 'h', 'h', 'h', 'h', 'h', 'h', 'e', 'e', 'e', 'e', 'e', 'e', 'e', 'e', 'e', 'e', 'e', 'e', 'e', 'd', 'd', 'd', 'd', 'd', 'd', 'd', 'd', 'o', 'o', 'o', 'o', 'o', 'o', 'o', 'o', 'o', 'o', 'o', 'o', 'o', 'g', 'g', 'g', 'g', 'g', 'g', 'g', 'g', 'w', 'w', 'w', 'a', 'a', 'a', 'a', 'a', 'a', 'a', 'a', 'a', 's', 's', 's', 's', 's', '.', '.', '.', 'r', 'r', 'r', 'r', 'r', 'r', 'n', 'n', 'n', 'n', 'n', 'n', 'n', 'f', 'f', 'f', 'f', 'k', 'k', 'k', 't', 't', 't', 't', 't', 't', 't', 't', 't', 't', 't', 'i', 'i', 'i', 'i', 'c', 'u', 'u', 'u', 'u', 'p', 'm', 'v', 'l', 'l', 'y']\n"
     ]
    }
   ],
   "source": [
    "print(\"Elements: \\n{}\".format(list(counter.elements())))"
   ]
  },
  {
   "cell_type": "code",
   "execution_count": 3,
   "metadata": {},
   "outputs": [
    {
     "name": "stdout",
     "output_type": "stream",
     "text": [
      "Pop:  13\n",
      "Counter({'o': 13, 'h': 11, 't': 11, 'a': 9, 'd': 8, 'g': 8, 'n': 7, 'r': 6, 's': 5, 'f': 4, 'i': 4, 'u': 4, 'T': 3, 'w': 3, '.': 3, 'k': 3, 'l': 2, 'c': 1, 'p': 1, 'm': 1, 'v': 1, 'y': 1})\n"
     ]
    }
   ],
   "source": [
    "\n",
    "val = counter.pop('e')\n",
    "print(\"Pop: \", val)\n",
    "print(counter)"
   ]
  },
  {
   "cell_type": "code",
   "execution_count": 4,
   "metadata": {},
   "outputs": [
    {
     "name": "stdout",
     "output_type": "stream",
     "text": [
      "Pop Item: ('y', 1)\n",
      "Counter({'o': 13, 'h': 11, 't': 11, 'a': 9, 'd': 8, 'g': 8, 'n': 7, 'r': 6, 's': 5, 'f': 4, 'i': 4, 'u': 4, 'T': 3, 'w': 3, '.': 3, 'k': 3, 'l': 2, 'c': 1, 'p': 1, 'm': 1, 'v': 1})\n"
     ]
    }
   ],
   "source": [
    "item = counter.popitem()\n",
    "print(\"Pop Item:\", item)\n",
    "print(counter)"
   ]
  },
  {
   "cell_type": "code",
   "execution_count": 9,
   "metadata": {},
   "outputs": [
    {
     "name": "stdout",
     "output_type": "stream",
     "text": [
      "Update:  Counter({'o': 13, 'h': 11, 't': 11, 'a': 9, 'd': 8, 'g': 8, 'n': 7, 'r': 6, 's': 5, 'f': 4, 'i': 4, 'u': 4, 'T': 3, 'w': 3, '.': 3, 'k': 3, 'z': 3, 'Z': 3, 'l': 2, 'c': 1, 'p': 1, 'm': 1, 'v': 1})\n"
     ]
    }
   ],
   "source": [
    "counter.update(\"zzzZZZ\")\n",
    "print(\"Update: \", counter)"
   ]
  },
  {
   "cell_type": "code",
   "execution_count": 8,
   "metadata": {},
   "outputs": [
    {
     "name": "stdout",
     "output_type": "stream",
     "text": [
      "Most Common:  [('o', 13), ('h', 11), ('t', 11)]\n"
     ]
    }
   ],
   "source": [
    "print(\"Most Common: \", counter.most_common(3))"
   ]
  },
  {
   "cell_type": "code",
   "execution_count": 10,
   "metadata": {},
   "outputs": [
    {
     "name": "stdout",
     "output_type": "stream",
     "text": [
      "Keys:  dict_keys(['T', 'h', 'd', 'o', 'g', 'w', 'a', 's', '.', 'r', 'n', 'f', 'k', 't', 'i', 'c', 'u', 'p', 'm', 'v', 'l', 'z', 'Z'])\n"
     ]
    }
   ],
   "source": [
    "print(\"Keys: \", counter.keys())"
   ]
  },
  {
   "cell_type": "code",
   "execution_count": 11,
   "metadata": {},
   "outputs": [
    {
     "name": "stdout",
     "output_type": "stream",
     "text": [
      "Values:  dict_values([3, 11, 8, 13, 8, 3, 9, 5, 3, 6, 7, 4, 3, 11, 4, 1, 4, 1, 1, 1, 2, 3, 3])\n"
     ]
    }
   ],
   "source": [
    "print( \"Values: \", counter.values())"
   ]
  },
  {
   "cell_type": "code",
   "execution_count": 12,
   "metadata": {},
   "outputs": [
    {
     "name": "stdout",
     "output_type": "stream",
     "text": [
      "Get: 9\n"
     ]
    }
   ],
   "source": [
    "print(f\"Get: {counter.get('a')}\")"
   ]
  },
  {
   "cell_type": "code",
   "execution_count": 7,
   "metadata": {},
   "outputs": [
    {
     "name": "stdout",
     "output_type": "stream",
     "text": [
      "Copy: \n",
      " Counter({'o': 13, 'h': 11, 't': 11, 'a': 9, 'd': 8, 'g': 8, 'n': 7, 'r': 6, 's': 5, 'f': 4, 'i': 4, 'u': 4, 'T': 3, 'w': 3, '.': 3, 'k': 3, 'l': 2, 'c': 1, 'p': 1, 'm': 1, 'v': 1})\n"
     ]
    }
   ],
   "source": [
    "counter1 = counter.copy()\n",
    "print(\"Copy: \\n\", counter1)"
   ]
  },
  {
   "cell_type": "code",
   "execution_count": 13,
   "metadata": {},
   "outputs": [
    {
     "name": "stdout",
     "output_type": "stream",
     "text": [
      "Clear: None\n"
     ]
    }
   ],
   "source": [
    "print(f\"Clear: {counter1.clear()}\")"
   ]
  },
  {
   "cell_type": "code",
   "execution_count": 15,
   "metadata": {},
   "outputs": [
    {
     "name": "stdout",
     "output_type": "stream",
     "text": [
      "Items:  dict_items([('T', 3), ('h', 11), ('d', 8), ('o', 13), ('g', 8), ('w', 3), ('a', 9), ('s', 5), ('.', 3), ('r', 6), ('n', 7), ('f', 4), ('k', 3), ('t', 11), ('i', 4), ('c', 1), ('u', 4), ('p', 1), ('m', 1), ('v', 1), ('l', 2), ('z', 3), ('Z', 3)])\n"
     ]
    }
   ],
   "source": [
    "print(\"Items: \", counter.items())"
   ]
  },
  {
   "cell_type": "code",
   "execution_count": null,
   "metadata": {},
   "outputs": [],
   "source": []
  }
 ],
 "metadata": {
  "kernelspec": {
   "display_name": "Python 3",
   "language": "python",
   "name": "python3"
  },
  "language_info": {
   "codemirror_mode": {
    "name": "ipython",
    "version": 3
   },
   "file_extension": ".py",
   "mimetype": "text/x-python",
   "name": "python",
   "nbconvert_exporter": "python",
   "pygments_lexer": "ipython3",
   "version": "3.11.6"
  }
 },
 "nbformat": 4,
 "nbformat_minor": 2
}
