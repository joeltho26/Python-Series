{
 "cells": [
  {
   "cell_type": "markdown",
   "metadata": {},
   "source": [
    "### Collections:\n",
    "- Counter\n",
    "- Deque\n",
    "- Defaultdict\n",
    "- NamedTuple\n",
    "- OrderedDict\n",
    "- UserDict\n",
    "- UserList\n",
    "- UserString\n",
    "- ChainMap\n",
    "\n",
    "\n",
    "Note:\n",
    "- Counter => o/p dictionary\n",
    "- Counter(iterable), works with strings, lists & tuple\n",
    "- fromkeys() method in Counter is not recommended\n",
    "    - use this instead => Counter(dict.fromkeys(seq, 3)) \n",
    "    - https://discuss.python.org/t/counter-fromkeys/26803/2"
   ]
  },
  {
   "cell_type": "markdown",
   "metadata": {},
   "source": []
  }
 ],
 "metadata": {
  "language_info": {
   "name": "python"
  }
 },
 "nbformat": 4,
 "nbformat_minor": 2
}
