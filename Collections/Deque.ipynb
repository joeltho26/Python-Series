{
 "cells": [
  {
   "cell_type": "code",
   "execution_count": 1,
   "metadata": {},
   "outputs": [
    {
     "name": "stdout",
     "output_type": "stream",
     "text": [
      "Get 3rd index element: 1\n"
     ]
    }
   ],
   "source": [
    "from collections import deque\n",
    "    \n",
    "data = deque([1,4,5,1,4,2,3,2,1])\n",
    "print(f\"Get 3rd index element: {data[3]}\")"
   ]
  },
  {
   "cell_type": "code",
   "execution_count": 2,
   "metadata": {},
   "outputs": [
    {
     "name": "stdout",
     "output_type": "stream",
     "text": [
      "Append:  deque([1, 4, 5, 1, 4, 2, 3, 2, 1, 'a'])\n"
     ]
    }
   ],
   "source": [
    "data.append(\"a\")\n",
    "print(\"Append: \", data)"
   ]
  },
  {
   "cell_type": "code",
   "execution_count": null,
   "metadata": {},
   "outputs": [],
   "source": [
    "data.appendleft(\"b\")\n",
    "print_details(\"Append left:\",data)"
   ]
  },
  {
   "cell_type": "code",
   "execution_count": null,
   "metadata": {},
   "outputs": [],
   "source": [
    "\n",
    "\n",
    "\n",
    "\n",
    "\n",
    "data.extend((\"c\",\"d\",\"e\",\"d\"))\n",
    "print_details(\"Extend:\",data)\n",
    "\n",
    "data.extendleft((\"c\",\"d\",\"e\",\"f\"))\n",
    "print_details(\"Extend left:\",data)\n",
    "\n",
    "data1 = data.copy()\n",
    "print_details(\"Copy:\",data)\n",
    "\n",
    "data1.clear()\n",
    "print_details(\"Clear:\",data1)\n",
    "\n",
    "print(\"Count of 'd':\",data.count(\"d\"))\n",
    "print(\"-\"*50)\n",
    "\n",
    "data.insert(0,\"z\")\n",
    "print_details(\"Insert of 'z' at index 0:\",data)\n",
    "\n",
    "data.pop()\n",
    "print_details(\"Pop at index 2:\",data)\n",
    "\n",
    "data.popleft()\n",
    "print_details(\"Pop leftward at index 2:\",data)\n",
    "\n",
    "data.remove(5)\n",
    "print_details(\"Remove by value '5':\",data)\n",
    "\n",
    "print(data)\n",
    "print(\"-\"*50)\n",
    "\n",
    "data.rotate(2)\n",
    "print_details(\"Rotate forward by 2:\",data)\n",
    "\n",
    "data.rotate(-3)\n",
    "print_details(\"Rotate backward by -3:\",data)\n",
    "\n",
    "data2 = deque([1,4,5,1,4,2,3,2,1],maxlen=10)\n",
    "print(\"Max length: 10\")\n",
    "data2.extendleft((\"c\",\"d\",\"e\",\"f\"))\n",
    "print(data2)\n"
   ]
  },
  {
   "cell_type": "code",
   "execution_count": null,
   "metadata": {},
   "outputs": [],
   "source": []
  },
  {
   "cell_type": "code",
   "execution_count": null,
   "metadata": {},
   "outputs": [],
   "source": []
  },
  {
   "cell_type": "code",
   "execution_count": null,
   "metadata": {},
   "outputs": [],
   "source": []
  },
  {
   "cell_type": "code",
   "execution_count": null,
   "metadata": {},
   "outputs": [],
   "source": []
  },
  {
   "cell_type": "code",
   "execution_count": null,
   "metadata": {},
   "outputs": [],
   "source": []
  },
  {
   "cell_type": "code",
   "execution_count": null,
   "metadata": {},
   "outputs": [],
   "source": []
  },
  {
   "cell_type": "code",
   "execution_count": null,
   "metadata": {},
   "outputs": [],
   "source": []
  },
  {
   "cell_type": "code",
   "execution_count": null,
   "metadata": {},
   "outputs": [],
   "source": []
  },
  {
   "cell_type": "code",
   "execution_count": null,
   "metadata": {},
   "outputs": [],
   "source": []
  },
  {
   "cell_type": "code",
   "execution_count": null,
   "metadata": {},
   "outputs": [],
   "source": []
  },
  {
   "cell_type": "code",
   "execution_count": null,
   "metadata": {},
   "outputs": [],
   "source": []
  }
 ],
 "metadata": {
  "kernelspec": {
   "display_name": "Python 3",
   "language": "python",
   "name": "python3"
  },
  "language_info": {
   "codemirror_mode": {
    "name": "ipython",
    "version": 3
   },
   "file_extension": ".py",
   "mimetype": "text/x-python",
   "name": "python",
   "nbconvert_exporter": "python",
   "pygments_lexer": "ipython3",
   "version": "3.11.6"
  }
 },
 "nbformat": 4,
 "nbformat_minor": 2
}
