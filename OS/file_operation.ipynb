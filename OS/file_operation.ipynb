{
 "cells": [
  {
   "cell_type": "code",
   "execution_count": 3,
   "metadata": {},
   "outputs": [
    {
     "name": "stdout",
     "output_type": "stream",
     "text": [
      "Open:\n",
      "GeeksforGeeks: A computer science portal for geeks. students define paragraphs in terms of length: a paragraph is a group of at least five sentences, a paragraph is half a page long, etc. \n",
      "In reality, though, the unity and coherence of ideas among sentences is what constitutes a paragraph. \n",
      "A paragraph is defined as “a group of sentences or a single sentence that forms a unit” (Lunsford and Connors 116). \n",
      "Length and appearance do not determine whether a section in a paper is a paragraph. \n",
      "For instance, in some styles of writing, particularly journalistic styles, a paragraph can be just one sentence long. \n",
      "Ultimately, a paragraph is a sentence or group of sentences that support one main idea. \n",
      "In this handout, we will refer to this as the “controlling idea,” because it controls what happens in the rest of the paragraphToday is a nice weather!Today is a nice weather!Today is a nice weather!\n",
      "Today is a nice weather!\n",
      "Today is a nice weather!GoodBye!\n",
      "Take care\n",
      "See you soon!\n",
      "Today is a nice weather!\n",
      "-------------------------\n"
     ]
    }
   ],
   "source": [
    "#read & write \t\n",
    "print(\"Open:\")\n",
    "path = \"../OS/Data/file2.txt\"\n",
    "flags = os.O_RDWR | os.O_CREAT\n",
    "fd = os.open(path, flags)\n",
    "str = \"GeeksforGeeks: A computer science portal for geeks.\"\n",
    "os.write(fd, str.encode())\n",
    "os.lseek(fd, 0, 0)\n",
    "str = os.read(fd, os.path.getsize(path))\n",
    "print(str.decode())\n",
    "os.close(fd)\n",
    "print(\"-\"*25)"
   ]
  },
  {
   "cell_type": "code",
   "execution_count": 7,
   "metadata": {},
   "outputs": [
    {
     "name": "stdout",
     "output_type": "stream",
     "text": [
      "Parent process is writing\n",
      "Written text: Hello child process\n",
      "\n",
      "Child Process is reading\n"
     ]
    }
   ],
   "source": [
    "#pipe => to pass information from one process to another process (pair of file descriptors (r, w) usable for reading & writing)\n",
    "r, w = os.pipe()\n",
    "pid = os.fork()\n",
    "if pid > 0:\n",
    "    os.close(r)\n",
    "    print(\"Parent process is writing\")\n",
    "    text = b\"Hello child process\"\n",
    "    os.write(w, text)\n",
    "    print(\"Written text:\", text.decode())\n",
    "else:\n",
    "    os.close(w)\n",
    "    print(\"\\nChild Process is reading\")\n",
    "    r = os.fdopen(r)\n",
    "    print(\"Read text:\", r.read())\n",
    "    \n",
    "# to handle pipe error\n",
    "# import sys, errno  \n",
    "# try:  \n",
    "   # INPUT/OUTPUT operation #\n",
    "# except IOError as e:  \n",
    "#    if e.errno == errno.EPIPE:  \n",
    "       # Handling of the error"
   ]
  },
  {
   "cell_type": "code",
   "execution_count": 8,
   "metadata": {},
   "outputs": [
    {
     "ename": "OSError",
     "evalue": "[Errno 34] Result too large",
     "output_type": "error",
     "traceback": [
      "\u001b[0;31m---------------------------------------------------------------------------\u001b[0m",
      "\u001b[0;31mOSError\u001b[0m                                   Traceback (most recent call last)",
      "Cell \u001b[0;32mIn[8], line 3\u001b[0m\n\u001b[1;32m      1\u001b[0m \u001b[38;5;66;03m#openpty\u001b[39;00m\n\u001b[1;32m      2\u001b[0m master, slave \u001b[38;5;241m=\u001b[39m os\u001b[38;5;241m.\u001b[39mopenpty()\n\u001b[0;32m----> 3\u001b[0m name \u001b[38;5;241m=\u001b[39m \u001b[43mos\u001b[49m\u001b[38;5;241;43m.\u001b[39;49m\u001b[43mttyname\u001b[49m\u001b[43m(\u001b[49m\u001b[43mmaster\u001b[49m\u001b[43m)\u001b[49m \n\u001b[1;32m      4\u001b[0m \u001b[38;5;28mprint\u001b[39m(name)\n\u001b[1;32m      5\u001b[0m name \u001b[38;5;241m=\u001b[39m os\u001b[38;5;241m.\u001b[39mttyname(slave) \n",
      "\u001b[0;31mOSError\u001b[0m: [Errno 34] Result too large"
     ]
    }
   ],
   "source": [
    "#openpty\n",
    "master, slave = os.openpty()\n",
    "name = os.ttyname(master) \n",
    "print(name)\n",
    "name = os.ttyname(slave) \n",
    "print(name)"
   ]
  },
  {
   "cell_type": "code",
   "execution_count": 9,
   "metadata": {},
   "outputs": [
    {
     "data": {
      "text/plain": [
       "True"
      ]
     },
     "execution_count": 9,
     "metadata": {},
     "output_type": "execute_result"
    }
   ],
   "source": [
    "#isatty\n",
    "r, w = os.pipe()\n",
    "os.isatty(r)\n",
    "master, slave = os.openpty()\n",
    "os.isatty(master)"
   ]
  },
  {
   "cell_type": "code",
   "execution_count": 12,
   "metadata": {},
   "outputs": [
    {
     "name": "stdout",
     "output_type": "stream",
     "text": [
      "b'GeeksforGeeks: A computer science portal for geeks. students define paragraphs in terms of length: a'\n",
      "b'puter science portal for geeks. students define paragraphs in terms of length: a paragraph is a grou'\n"
     ]
    }
   ],
   "source": [
    "#pread\n",
    "fd = os.open(\"../OS/Data/file2.txt\", os.O_RDONLY)\n",
    "n = 100\n",
    "readBytes = os.read(fd, n)\n",
    "print(readBytes) \n",
    "\n",
    "offset = 20\n",
    "readBytes = os.pread(fd, n, offset) \n",
    "print(readBytes)\n",
    "os.close(fd)"
   ]
  },
  {
   "cell_type": "code",
   "execution_count": 14,
   "metadata": {},
   "outputs": [
    {
     "name": "stdout",
     "output_type": "stream",
     "text": [
      "b'GeeksforGeeks: A comGeeksforGeeks: A computer science portal for geeks new.phs in terms of length: a'\n"
     ]
    }
   ],
   "source": [
    "#pwrite\n",
    "fd = os.open(\"../OS/Data/file2.txt\", os.O_WRONLY)\n",
    "str = \"GeeksforGeeks: A computer science portal for geeks new.\"\n",
    "os.pwrite(fd, str.encode(), offset)\n",
    "\n",
    "fd = os.open(\"../OS/Data/file2.txt\", os.O_RDONLY)\n",
    "readBytes = os.read(fd, n)\n",
    "print(readBytes)"
   ]
  },
  {
   "cell_type": "code",
   "execution_count": 15,
   "metadata": {},
   "outputs": [
    {
     "ename": "OSError",
     "evalue": "[Errno 38] Socket operation on non-socket",
     "output_type": "error",
     "traceback": [
      "\u001b[0;31m---------------------------------------------------------------------------\u001b[0m",
      "\u001b[0;31mOSError\u001b[0m                                   Traceback (most recent call last)",
      "Cell \u001b[0;32mIn[15], line 9\u001b[0m\n\u001b[1;32m      7\u001b[0m offset \u001b[38;5;241m=\u001b[39m \u001b[38;5;241m0\u001b[39m\n\u001b[1;32m      8\u001b[0m count \u001b[38;5;241m=\u001b[39m \u001b[38;5;241m100\u001b[39m\n\u001b[0;32m----> 9\u001b[0m bytesSent \u001b[38;5;241m=\u001b[39m \u001b[43mos\u001b[49m\u001b[38;5;241;43m.\u001b[39;49m\u001b[43msendfile\u001b[49m\u001b[43m(\u001b[49m\u001b[43mdest_fd\u001b[49m\u001b[43m,\u001b[49m\u001b[43m \u001b[49m\u001b[43msrc_fd\u001b[49m\u001b[43m,\u001b[49m\u001b[43m \u001b[49m\u001b[43moffset\u001b[49m\u001b[43m,\u001b[49m\u001b[43m \u001b[49m\u001b[43mcount\u001b[49m\u001b[43m)\u001b[49m\n\u001b[1;32m     10\u001b[0m \u001b[38;5;28mprint\u001b[39m(\u001b[38;5;124m\"\u001b[39m\u001b[38;5;132;01m% d\u001b[39;00m\u001b[38;5;124m bytes sent / copied successfully.\u001b[39m\u001b[38;5;124m\"\u001b[39m \u001b[38;5;241m%\u001b[39m bytesSent)\n\u001b[1;32m     12\u001b[0m os\u001b[38;5;241m.\u001b[39mlseek(dest_fd, \u001b[38;5;241m0\u001b[39m, \u001b[38;5;241m0\u001b[39m)\n",
      "\u001b[0;31mOSError\u001b[0m: [Errno 38] Socket operation on non-socket"
     ]
    }
   ],
   "source": [
    "# sendfile\n",
    "source = '../OS/Data/file2.txt'\n",
    "dest = '../OS/Data/Sample/file2.txt'\n",
    "src_fd = os.open(source, os.O_RDONLY)\n",
    "dest_fd = os.open(dest, os.O_RDWR | os.O_CREAT)\n",
    "\n",
    "offset = 0\n",
    "count = 100\n",
    "bytesSent = os.sendfile(dest_fd, src_fd, offset, count)\n",
    "print(\"% d bytes sent / copied successfully.\" % bytesSent)\n",
    "\n",
    "os.lseek(dest_fd, 0, 0)\n",
    "str = os.read(dest_fd, bytesSent)\n",
    "print(str)\n",
    "\n",
    "os.close(src_fd)\n",
    "os.close(dest_fd)\n"
   ]
  },
  {
   "cell_type": "code",
   "execution_count": null,
   "metadata": {},
   "outputs": [],
   "source": [
    "#blocking\n",
    "path = '../Python-Series/Files/file_context_manager_duplicate.txt'\n",
    "fd = os.open(path, os.O_RDWR)\n",
    "print(\"Blocking Mode:\", os.get_blocking(fd))\n",
    "blocking = False\n",
    "os.set_blocking(fd, blocking)\n",
    "print(\"Blocking mode changed\")\n",
    "print(\"Blocking Mode:\", os.get_blocking(fd))\n",
    "os.close(fd)"
   ]
  }
 ],
 "metadata": {
  "kernelspec": {
   "display_name": "Python 3",
   "language": "python",
   "name": "python3"
  },
  "language_info": {
   "codemirror_mode": {
    "name": "ipython",
    "version": 3
   },
   "file_extension": ".py",
   "mimetype": "text/x-python",
   "name": "python",
   "nbconvert_exporter": "python",
   "pygments_lexer": "ipython3",
   "version": "3.11.6"
  }
 },
 "nbformat": 4,
 "nbformat_minor": 2
}
