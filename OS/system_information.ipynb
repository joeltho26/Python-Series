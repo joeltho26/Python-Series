{
 "cells": [
  {
   "cell_type": "code",
   "execution_count": 2,
   "metadata": {},
   "outputs": [
    {
     "name": "stdout",
     "output_type": "stream",
     "text": [
      "Sys config\n",
      "4096\n",
      "-------------------------\n"
     ]
    }
   ],
   "source": [
    "import os\n",
    "\n",
    "def print_details(*args):\n",
    "    print(args[0])\n",
    "    print(args[1])\n",
    "    print(\"-\"*25)\n",
    "    \n",
    "#sysconfig\n",
    "name = \"SC_PAGE_SIZE\"\n",
    "print_details(\"Sys config\", os.sysconf(name))"
   ]
  },
  {
   "cell_type": "code",
   "execution_count": 3,
   "metadata": {},
   "outputs": [
    {
     "name": "stdout",
     "output_type": "stream",
     "text": [
      "Exists the path:\n",
      "True\n",
      "-------------------------\n"
     ]
    }
   ],
   "source": [
    "#access => os.R_OK/ os.W_OK/ os.X_OK\n",
    "path1 = os.access(\"../OS/Data/file2.txt\", os.F_OK)\n",
    "print_details(\"Exists the path:\", path1)"
   ]
  },
  {
   "cell_type": "code",
   "execution_count": 4,
   "metadata": {},
   "outputs": [
    {
     "name": "stdout",
     "output_type": "stream",
     "text": [
      "cpu count:\n",
      "4\n",
      "-------------------------\n"
     ]
    }
   ],
   "source": [
    "#cpu count\n",
    "print_details(\"cpu count:\",os.cpu_count())"
   ]
  },
  {
   "cell_type": "code",
   "execution_count": null,
   "metadata": {},
   "outputs": [],
   "source": []
  }
 ],
 "metadata": {
  "kernelspec": {
   "display_name": "Python 3",
   "language": "python",
   "name": "python3"
  },
  "language_info": {
   "codemirror_mode": {
    "name": "ipython",
    "version": 3
   },
   "file_extension": ".py",
   "mimetype": "text/x-python",
   "name": "python",
   "nbconvert_exporter": "python",
   "pygments_lexer": "ipython3",
   "version": "3.11.6"
  }
 },
 "nbformat": 4,
 "nbformat_minor": 2
}
