{
 "cells": [
  {
   "cell_type": "code",
   "execution_count": 2,
   "metadata": {},
   "outputs": [
    {
     "name": "stdout",
     "output_type": "stream",
     "text": [
      "absolute path:\n",
      "/Users/joeljoseph26/Documents/Education/Back-End/Python/Python-Series/OS\n",
      "-------------------------\n"
     ]
    }
   ],
   "source": [
    "import os\n",
    "\n",
    "def print_details(*args):\n",
    "    print(args[0])\n",
    "    print(args[1])\n",
    "    print(\"-\"*25)\n",
    "\n",
    "abs_path = os.path.abspath(\"../OS\")\n",
    "print_details(\"absolute path:\",abs_path)"
   ]
  },
  {
   "cell_type": "code",
   "execution_count": 8,
   "metadata": {},
   "outputs": [
    {
     "name": "stdout",
     "output_type": "stream",
     "text": [
      "join path:\n",
      "/Users/joeljoseph26/Documents/Education/Back-End/Python/Python-Series/OS/Data\n",
      "-------------------------\n"
     ]
    }
   ],
   "source": [
    "join_path = os.path.join(abs_path,\"Data\")\n",
    "print_details(\"join path:\",join_path)"
   ]
  },
  {
   "cell_type": "code",
   "execution_count": 9,
   "metadata": {},
   "outputs": [
    {
     "name": "stdout",
     "output_type": "stream",
     "text": [
      "exist path:\n",
      "True\n",
      "-------------------------\n"
     ]
    }
   ],
   "source": [
    "print_details(\"exist path:\",os.path.exists(join_path))"
   ]
  },
  {
   "cell_type": "code",
   "execution_count": 10,
   "metadata": {},
   "outputs": [
    {
     "name": "stdout",
     "output_type": "stream",
     "text": [
      "list all files and folders in the directory specified:\n",
      "['os.ipynb', 'system_information.ipynb', 'file_directories.ipynb', 'process_parameters.ipynb', 'file_operation.ipynb', 'Data']\n",
      "-------------------------\n"
     ]
    }
   ],
   "source": [
    "print_details(\"list all files and folders in the directory specified:\", os.listdir(abs_path))"
   ]
  },
  {
   "cell_type": "code",
   "execution_count": 18,
   "metadata": {},
   "outputs": [
    {
     "name": "stdout",
     "output_type": "stream",
     "text": [
      "make directory:\n",
      "None\n",
      "-------------------------\n"
     ]
    }
   ],
   "source": [
    "print_details(\"make directory:\", os.makedirs(os.path.join(os.path.abspath(\"../OS/Data\"),\"Sample\"), exist_ok=True))"
   ]
  },
  {
   "cell_type": "code",
   "execution_count": 19,
   "metadata": {},
   "outputs": [
    {
     "name": "stdout",
     "output_type": "stream",
     "text": [
      "Hard link created successfully\n",
      "-------------------------\n"
     ]
    }
   ],
   "source": [
    "#link\n",
    "src = '../OS/Data/file3.txt'\n",
    "dst = '../OS/Data/file3(link).txt'\n",
    "os.link(src, dst)\n",
    "print(\"Hard link created successfully\")\n",
    "print(\"-\"*25)\n"
   ]
  },
  {
   "cell_type": "code",
   "execution_count": 20,
   "metadata": {},
   "outputs": [
    {
     "name": "stdout",
     "output_type": "stream",
     "text": [
      "Hard unlink created successfully\n",
      "-------------------------\n"
     ]
    }
   ],
   "source": [
    "# unlink\n",
    "dst = '../OS/Data/file3(link).txt'\n",
    "os.unlink(dst)\n",
    "print(\"Hard unlink created successfully\")\n",
    "print(\"-\"*25)"
   ]
  },
  {
   "cell_type": "code",
   "execution_count": 17,
   "metadata": {},
   "outputs": [
    {
     "name": "stdout",
     "output_type": "stream",
     "text": [
      "Raw device number: 16777223\n",
      "Device major number: 1\n",
      "-------------------------\n"
     ]
    }
   ],
   "source": [
    "\"\"\"In Linux, everything is file, some are ordinary files while some are special files. \n",
    "Special files can be found under /dev directory. \n",
    "These special files are called device files. \n",
    "Character and block devices are the most common type of device files. \n",
    "These device files are represented as a pair of numbers ( major device number and minor device number) by Linux kernel.\n",
    "Major device number indicates that which driver is used to access the hardware. \n",
    "Each driver in the system has a unique major number and all the device files whose major device number is same is controlled by the same driver.\n",
    "While minor device number is used by the driver to distinguish between the various hardware it controls. \n",
    "Minor device number tells the kernel special characteristics of the device to be accessed.\n",
    "\"\"\"\n",
    "\n",
    "# major\n",
    "device = os.stat(\"../OS/Data/file3.txt\").st_dev \n",
    "print(\"Raw device number:\", device) \n",
    "major = os.major(device)  \n",
    "print(\"Device major number:\", major) \n",
    "print(\"-\"*25)"
   ]
  },
  {
   "cell_type": "code",
   "execution_count": 16,
   "metadata": {},
   "outputs": [
    {
     "name": "stdout",
     "output_type": "stream",
     "text": [
      "Raw device number: 16777223\n",
      "Device major number: 7\n",
      "-------------------------\n"
     ]
    }
   ],
   "source": [
    "# minor\n",
    "device = os.stat(\"../OS/Data/file3.txt\").st_dev \n",
    "print(\"Raw device number:\", device) \n",
    "minor = os.minor(device)  \n",
    "print(\"Device major number:\", minor) \n",
    "print(\"-\"*25)"
   ]
  },
  {
   "cell_type": "code",
   "execution_count": 3,
   "metadata": {},
   "outputs": [
    {
     "name": "stdout",
     "output_type": "stream",
     "text": [
      "Documents\n"
     ]
    },
    {
     "ename": "",
     "evalue": "",
     "output_type": "error",
     "traceback": [
      "\u001b[1;31mThe Kernel crashed while executing code in the current cell or a previous cell. \n",
      "\u001b[1;31mPlease review the code in the cell(s) to identify a possible cause of the failure. \n",
      "\u001b[1;31mClick <a href='https://aka.ms/vscodeJupyterKernelCrash'>here</a> for more info. \n",
      "\u001b[1;31mView Jupyter <a href='command:jupyter.viewOutput'>log</a> for further details."
     ]
    }
   ],
   "source": [
    "#basename\n",
    "\n",
    "path = '/home/User/Documents'\n",
    "basename = os.path.basename(path)\n",
    "print(basename)\n",
    "\n",
    "path = '/home/User/Documents/file.txt'\n",
    "basename = os.path.basename(path)\n",
    "print(basename)"
   ]
  },
  {
   "cell_type": "code",
   "execution_count": 15,
   "metadata": {},
   "outputs": [
    {
     "name": "stdout",
     "output_type": "stream",
     "text": [
      "Open:\n",
      "GeeksforGeeks: A computer science portal for geeks. students define paragraphs in terms of length: a paragraph is a group of at least five sentences, a paragraph is half a page long, etc. \n",
      "In reality, though, the unity and coherence of ideas among sentences is what constitutes a paragraph. \n",
      "A paragraph is defined as “a group of sentences or a single sentence that forms a unit” (Lunsford and Connors 116). \n",
      "Length and appearance do not determine whether a section in a paper is a paragraph. \n",
      "For instance, in some styles of writing, particularly journalistic styles, a paragraph can be just one sentence long. \n",
      "Ultimately, a paragraph is a sentence or group of sentences that support one main idea. \n",
      "In this handout, we will refer to this as the “controlling idea,” because it controls what happens in the rest of the paragraphToday is a nice weather!Today is a nice weather!Today is a nice weather!\n",
      "Today is a nice weather!\n",
      "Today is a nice weather!GoodBye!\n",
      "Take care\n",
      "See you soon!\n",
      "Today is a nice weather!\n",
      "-------------------------\n"
     ]
    }
   ],
   "source": [
    "#open => os.O_RDONLY/os.O_WRONLY/os.O_RDWR/os.O_NONBLOCK/os.O_APPEND/os.O_CREAT/os.O_TRUNC\n",
    "# os.O_EXCL/os.O_FSYNC/os.O_NOFOLLOW/os.O_DIRECT/os.O_EXLOCK/os.O_SHLOCK\t\n",
    "print(\"Open:\")\n",
    "path = \"../OS/Data/file3.txt\"\n",
    "flags = os.O_RDWR | os.O_CREAT\n",
    "fd = os.open(path, flags)\n",
    "str = \"GeeksforGeeks: A computer science portal for geeks.\"\n",
    "os.write(fd, str.encode())\n",
    "os.lseek(fd, 0, 0) # => current position of the file descriptor\n",
    "str = os.read(fd, os.path.getsize(path))\n",
    "print(str.decode()) \n",
    "os.close(fd)\n",
    "print(\"-\"*25)"
   ]
  },
  {
   "cell_type": "code",
   "execution_count": 14,
   "metadata": {},
   "outputs": [
    {
     "name": "stdout",
     "output_type": "stream",
     "text": [
      "<os._wrap_close object at 0x10b692790>\n",
      "\u001b[34mData\u001b[m\u001b[m\n",
      "file_directories.ipynb\n",
      "file_operation.ipynb\n",
      "os.ipynb\n",
      "process_parameters.ipynb\n",
      "system_information.ipynb\n",
      "\n"
     ]
    }
   ],
   "source": [
    "#popen => perform linux command operations\n",
    "a = \"mkdir ../OS/Data/new_directory\"\n",
    "b = os.popen(a,\"r\",1)\n",
    "print (b)\n",
    "\n",
    "fileStream = os.popen(\"ls\")\n",
    "res = fileStream.read()\n",
    "print(res)"
   ]
  },
  {
   "cell_type": "code",
   "execution_count": 13,
   "metadata": {},
   "outputs": [
    {
     "name": "stdout",
     "output_type": "stream",
     "text": [
      "scan directory:\n",
      "os.stat_result(st_mode=33188, st_ino=16218883, st_dev=16777223, st_nlink=1, st_uid=501, st_gid=20, st_size=1016, st_atime=1727352315, st_mtime=1727352287, st_ctime=1727352287)\n",
      "-------------------------\n"
     ]
    }
   ],
   "source": [
    "#stat => status info about the file\n",
    "print_details(\"scan directory:\", os.stat(\"../OS/Data/file3.txt\"))"
   ]
  },
  {
   "cell_type": "code",
   "execution_count": 11,
   "metadata": {},
   "outputs": [
    {
     "name": "stdout",
     "output_type": "stream",
     "text": [
      "Force write everything committed successfully\n"
     ]
    }
   ],
   "source": [
    "#sync\n",
    "path1 = '../OS/Data/file.txt'\n",
    "path2 = '../OS/Data/file2.txt'\n",
    "path3 = '../OS/Data/file3.txt'\n",
    "\n",
    "fd1 = os.open(path1, os.O_RDWR)\n",
    "fd2 = os.open(path2, os.O_RDWR)\n",
    "fd3 = os.open(path3, os.O_RDWR)\n",
    "\n",
    "str = b\"GeeksforGeeks\"\n",
    "os.write(fd1, str)\n",
    "os.write(fd2, str)\n",
    "os.write(fd3, str)\n",
    "\n",
    "os.sync()\n",
    "print(\"Force write everything committed successfully\")\n",
    "\n",
    "os.close(fd1)\n",
    "os.close(fd2)\n",
    "os.close(fd3)"
   ]
  },
  {
   "cell_type": "code",
   "execution_count": 7,
   "metadata": {},
   "outputs": [
    {
     "name": "stdout",
     "output_type": "stream",
     "text": [
      "File size (in bytes): 1016\n",
      "Paragraphs are the building blocks of papers. \n",
      "Many students define para\n",
      "File size (in bytes): 72\n"
     ]
    }
   ],
   "source": [
    "#truncate => truncate the file indicated by the specified path to at most specified length\n",
    "path = \"../OS/Data/file.txt\"\n",
    "print(\"File size (in bytes):\", os.path.getsize(path)) \n",
    "\n",
    "length = 72\n",
    "os.truncate(path, length) \n",
    "\n",
    "with open(path, 'r') as f: \n",
    "\tprint(f.read()) \n",
    "print(\"File size (in bytes):\", os.path.getsize(path)) "
   ]
  },
  {
   "cell_type": "code",
   "execution_count": 4,
   "metadata": {},
   "outputs": [
    {
     "name": "stdout",
     "output_type": "stream",
     "text": [
      ".\n",
      "['Data']\n",
      "['os.ipynb', 'system_information.ipynb', 'file_directories.ipynb', 'process_parameters.ipynb', 'file_operation.ipynb']\n",
      "--------------------------------\n",
      "./Data\n",
      "[]\n",
      "[]\n",
      "--------------------------------\n"
     ]
    }
   ],
   "source": [
    "#walk => generate the file names in a directory tree by walking the tree either top-down or bottom-up.\n",
    "for (root,dirs,files) in os.walk('.', topdown=True):\n",
    "        print (root)\n",
    "        print (dirs)\n",
    "        print (files)\n",
    "        print ('--------------------------------')"
   ]
  },
  {
   "cell_type": "code",
   "execution_count": null,
   "metadata": {},
   "outputs": [],
   "source": [
    "os.abort() #=> to abort method"
   ]
  },
  {
   "cell_type": "code",
   "execution_count": null,
   "metadata": {},
   "outputs": [
    {
     "ename": "",
     "evalue": "",
     "output_type": "error",
     "traceback": [
      "\u001b[1;31mThe Kernel crashed while executing code in the current cell or a previous cell. \n",
      "\u001b[1;31mPlease review the code in the cell(s) to identify a possible cause of the failure. \n",
      "\u001b[1;31mClick <a href='https://aka.ms/vscodeJupyterKernelCrash'>here</a> for more info. \n",
      "\u001b[1;31mView Jupyter <a href='command:jupyter.viewOutput'>log</a> for further details."
     ]
    }
   ],
   "source": [
    "os._exit(os.EX_OK) #=> to exit process with status os.EX_OK"
   ]
  },
  {
   "cell_type": "code",
   "execution_count": 39,
   "metadata": {},
   "outputs": [
    {
     "name": "stdout",
     "output_type": "stream",
     "text": [
      "I am parent process:\n",
      "Process ID: 20185\n",
      "Child's process ID: 24326\n"
     ]
    },
    {
     "name": "stdout",
     "output_type": "stream",
     "text": [
      "\n",
      "I am child process:\n",
      "Process ID: 24326\n",
      "Parent's process ID: 20185\n"
     ]
    }
   ],
   "source": [
    "#fork\n",
    "pid = os.fork() \n",
    "if pid > 0 : \n",
    "    print(\"I am parent process:\") \n",
    "    print(\"Process ID:\", os.getpid()) \n",
    "    print(\"Child's process ID:\", pid) \n",
    "else : \n",
    "    print(\"\\nI am child process:\") \n",
    "    print(\"Process ID:\", os.getpid()) \n",
    "    print(\"Parent's process ID:\", os.getppid()) "
   ]
  },
  {
   "cell_type": "code",
   "execution_count": 38,
   "metadata": {},
   "outputs": [
    {
     "name": "stdout",
     "output_type": "stream",
     "text": [
      "Sent SIGTERM signal to process 24270\n"
     ]
    }
   ],
   "source": [
    "#kill\n",
    "import signal\n",
    "\n",
    "pid = os.fork()\n",
    "try:\n",
    "    os.kill(pid, signal.SIGTERM)\n",
    "    print(f\"Sent SIGTERM signal to process {pid}\")\n",
    "except OSError:\n",
    "    print(f\"Failed to send SIGTERM signal to process {pid}\")"
   ]
  },
  {
   "cell_type": "code",
   "execution_count": 37,
   "metadata": {},
   "outputs": [
    {
     "name": "stdout",
     "output_type": "stream",
     "text": [
      "Current nice value of the process: 0\n",
      "\n",
      "Niceness of the process increased\n"
     ]
    }
   ],
   "source": [
    "#nice\n",
    "\"\"\" Niceness or nice value is set of guidelines for the CPU to follow when a process wants to \n",
    "get CPU time in order to executes its job. The niceness of process range between -20 to 19 \n",
    "(both inclusive). A process with a lower niceness or nice value is given higher priority and \n",
    "more CPU time while a process with a higher nice value is given a lower priority and less CPU time.\"\"\"\n",
    "\n",
    "niceValue = os.nice(0)\n",
    "print(\"Current nice value of the process:\", niceValue)\n",
    "value = 5\n",
    "niceValue = os.nice(value) \n",
    "print(\"\\nNiceness of the process increased\") "
   ]
  },
  {
   "cell_type": "code",
   "execution_count": 36,
   "metadata": {},
   "outputs": [
    {
     "name": "stdout",
     "output_type": "stream",
     "text": [
      "\u001b[34mData\u001b[m\u001b[m\n",
      "file_directories.ipynb\n",
      "file_operation.ipynb\n",
      "os.ipynb\n",
      "process_parameters.ipynb\n",
      "system_information.ipynb\n"
     ]
    },
    {
     "data": {
      "text/plain": [
       "0"
      ]
     },
     "execution_count": 36,
     "metadata": {},
     "output_type": "execute_result"
    }
   ],
   "source": [
    "#system\n",
    "cmd = 'ls'\n",
    "os.system(cmd)"
   ]
  },
  {
   "cell_type": "code",
   "execution_count": 34,
   "metadata": {},
   "outputs": [
    {
     "name": "stdout",
     "output_type": "stream",
     "text": [
      "In Child process-\n",
      "Process ID: 23641\n",
      "Hello ! Geeks\n",
      "Exiting\n"
     ]
    },
    {
     "ename": "KeyboardInterrupt",
     "evalue": "",
     "output_type": "error",
     "traceback": [
      "\u001b[0;31m---------------------------------------------------------------------------\u001b[0m",
      "\u001b[0;31mKeyboardInterrupt\u001b[0m                         Traceback (most recent call last)",
      "Cell \u001b[0;32mIn[34], line 5\u001b[0m\n\u001b[1;32m      2\u001b[0m pid \u001b[38;5;241m=\u001b[39m os\u001b[38;5;241m.\u001b[39mfork() \n\u001b[1;32m      4\u001b[0m \u001b[38;5;28;01mif\u001b[39;00m pid :  \n\u001b[0;32m----> 5\u001b[0m \tstatus \u001b[38;5;241m=\u001b[39m \u001b[43mos\u001b[49m\u001b[38;5;241;43m.\u001b[39;49m\u001b[43mwait\u001b[49m\u001b[43m(\u001b[49m\u001b[43m)\u001b[49m \n\u001b[1;32m      6\u001b[0m \t\u001b[38;5;28mprint\u001b[39m(\u001b[38;5;124m\"\u001b[39m\u001b[38;5;130;01m\\n\u001b[39;00m\u001b[38;5;124mIn parent process-\u001b[39m\u001b[38;5;124m\"\u001b[39m) \n\u001b[1;32m      7\u001b[0m \t\u001b[38;5;28mprint\u001b[39m(\u001b[38;5;124m\"\u001b[39m\u001b[38;5;124mTerminated child\u001b[39m\u001b[38;5;124m'\u001b[39m\u001b[38;5;124ms process id:\u001b[39m\u001b[38;5;124m\"\u001b[39m, status[\u001b[38;5;241m0\u001b[39m]) \n",
      "\u001b[0;31mKeyboardInterrupt\u001b[0m: "
     ]
    }
   ],
   "source": [
    "#wait\n",
    "#used by a process to wait for completion of a child process\n",
    "pid = os.fork() \n",
    "\n",
    "if pid :  \n",
    "\tstatus = os.wait() \n",
    "\tprint(\"\\nIn parent process-\") \n",
    "\tprint(\"Terminated child's process id:\", status[0]) \n",
    "\tprint(\"Signal number that killed the child process:\", status[1]) \n",
    "\n",
    "else : \n",
    "\tprint(\"In Child process-\") \n",
    "\tprint(\"Process ID:\", os.getpid()) \n",
    "\tprint(\"Hello ! Geeks\") \n",
    "\tprint(\"Exiting\") "
   ]
  },
  {
   "cell_type": "code",
   "execution_count": 30,
   "metadata": {},
   "outputs": [
    {
     "name": "stdout",
     "output_type": "stream",
     "text": [
      "times:\n",
      "posix.times_result(user=2.57, system=1.22, children_user=0.0, children_system=0.02, elapsed=1727351369.3)\n",
      "-------------------------\n"
     ]
    }
   ],
   "source": [
    "#times\n",
    "#get the current global process times\n",
    "print_details(\"times:\", os.times()) "
   ]
  },
  {
   "cell_type": "code",
   "execution_count": 20,
   "metadata": {},
   "outputs": [
    {
     "name": "stdout",
     "output_type": "stream",
     "text": [
      "replace:\n",
      "None\n",
      "-------------------------\n"
     ]
    }
   ],
   "source": [
    "#replace\n",
    "#to rename the file or directory\n",
    "file = \"../OS/Data/unwanted.txt\"\n",
    "location = \"../OS/Data/unwanted_new.txt\"\n",
    "print_details(\"replace:\", os.replace(file, location))\n"
   ]
  },
  {
   "cell_type": "code",
   "execution_count": 21,
   "metadata": {},
   "outputs": [
    {
     "name": "stdout",
     "output_type": "stream",
     "text": [
      "replace:\n",
      "None\n",
      "-------------------------\n"
     ]
    }
   ],
   "source": [
    "#replace\n",
    "#to move the file\n",
    "file = \"../OS/Data/unwanted_new.txt\"\n",
    "location = \"../OS/Data_Copy/unwanted_new.txt\"\n",
    "print_details(\"replace:\", os.replace(file, location))"
   ]
  },
  {
   "cell_type": "code",
   "execution_count": 22,
   "metadata": {},
   "outputs": [
    {
     "name": "stdout",
     "output_type": "stream",
     "text": [
      "renames:\n",
      "None\n",
      "-------------------------\n"
     ]
    }
   ],
   "source": [
    "#renames\n",
    "print_details(\"renames:\", os.renames(\"../OS/Data_Copy/unwanted_new.txt\",\"../OS/Data_Copy/unwanted.txt\"))"
   ]
  },
  {
   "cell_type": "code",
   "execution_count": 23,
   "metadata": {},
   "outputs": [
    {
     "name": "stdout",
     "output_type": "stream",
     "text": [
      "remove:\n",
      "None\n",
      "-------------------------\n"
     ]
    }
   ],
   "source": [
    "#remove\n",
    "print_details(\"remove:\", os.remove(\"../OS/Data_Copy/unwanted.txt\"))"
   ]
  },
  {
   "cell_type": "code",
   "execution_count": 25,
   "metadata": {},
   "outputs": [
    {
     "name": "stdout",
     "output_type": "stream",
     "text": [
      "removedirs:\n",
      "None\n",
      "-------------------------\n"
     ]
    }
   ],
   "source": [
    "#removedirs\n",
    "# will remove only if the directory is empty\n",
    "print_details(\"removedirs:\", os.removedirs(\"../OS/Data_Copy/\"))\n",
    "print_details(\"remove directory:\", os.rmdir(\"../Python-Series/Files/\"))"
   ]
  },
  {
   "cell_type": "code",
   "execution_count": 29,
   "metadata": {},
   "outputs": [
    {
     "name": "stdout",
     "output_type": "stream",
     "text": [
      "scan directory:\n",
      "<posix.ScandirIterator object at 0x10a79d680>\n",
      "-------------------------\n",
      "<DirEntry 'os.ipynb'>\n",
      "<DirEntry 'system_information.ipynb'>\n",
      "<DirEntry 'file_directories.ipynb'>\n",
      "<DirEntry 'process_parameters.ipynb'>\n",
      "<DirEntry 'file_operation.ipynb'>\n",
      "<DirEntry 'Data'>\n"
     ]
    }
   ],
   "source": [
    "#scandir => scan directory\n",
    "print_details(\"scan directory:\", os.scandir(\"../OS/\"))\n",
    "\n",
    "for i in os.scandir(\"../OS/\"):\n",
    "    print(i)"
   ]
  },
  {
   "cell_type": "code",
   "execution_count": null,
   "metadata": {},
   "outputs": [],
   "source": []
  }
 ],
 "metadata": {
  "kernelspec": {
   "display_name": "Python 3",
   "language": "python",
   "name": "python3"
  },
  "language_info": {
   "codemirror_mode": {
    "name": "ipython",
    "version": 3
   },
   "file_extension": ".py",
   "mimetype": "text/x-python",
   "name": "python",
   "nbconvert_exporter": "python",
   "pygments_lexer": "ipython3",
   "version": "3.11.6"
  }
 },
 "nbformat": 4,
 "nbformat_minor": 2
}
