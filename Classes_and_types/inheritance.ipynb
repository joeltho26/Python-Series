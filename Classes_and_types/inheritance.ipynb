{
 "cells": [
  {
   "cell_type": "markdown",
   "metadata": {},
   "source": [
    "### Inheritance:"
   ]
  },
  {
   "cell_type": "markdown",
   "metadata": {},
   "source": [
    "#### Inheritance with \"pass\" keyword:"
   ]
  },
  {
   "cell_type": "code",
   "execution_count": 4,
   "metadata": {},
   "outputs": [
    {
     "name": "stdout",
     "output_type": "stream",
     "text": [
      "Person=>(name=Jones, age=21)\n",
      "Student=>(name=Mary, age=23)\n",
      "Student=>(name=Mary, age=23)\n",
      "The Student classes are equal\n"
     ]
    }
   ],
   "source": [
    "class Person:\n",
    "    def __init__(self, name, age):\n",
    "        self.name = name\n",
    "        self.age = age\n",
    "        \n",
    "    def __repr__(self):\n",
    "        return f\"{self.__class__.__name__}=>(name={self.name}, age={self.age})\"\n",
    "    \n",
    "    def __eq__(self, other):\n",
    "        if isinstance(other, Person):\n",
    "            return self.name == other.name and self.age == other.age\n",
    "        return False\n",
    "    \n",
    "    def details(self):\n",
    "        print(\"My name is {0} and I am {1} years old\".format(self.name,self.age))\n",
    "        \n",
    "        \n",
    "class Student(Person):\n",
    "    pass\n",
    "\n",
    "if __name__ == \"__main__\":\n",
    "    person = Person(\"Jones\",21)\n",
    "    student = Student(\"Mary\",23)\n",
    "    student1 = Student(\"Mary\",23)\n",
    "    \n",
    "    for i in [person,student,student1]:\n",
    "        print(i)\n",
    "    \n",
    "    if person == student:\n",
    "        print(f\"Both {person.__class__.__name__} & {student.__class__.__name__} classes are equal\")\n",
    "    elif student1 == student:\n",
    "        print(f\"The {student1.__class__.__name__} classes are equal\")\n",
    "    else:\n",
    "        print(f\"The {person.__class__.__name__} or {student.__class__.__name__} classes are not equal\")"
   ]
  },
  {
   "cell_type": "markdown",
   "metadata": {},
   "source": [
    "#### Inheritance with Base Class (Person):"
   ]
  },
  {
   "cell_type": "code",
   "execution_count": 10,
   "metadata": {},
   "outputs": [
    {
     "name": "stdout",
     "output_type": "stream",
     "text": [
      "Person=>(name=Jones, age=21)\n",
      "Student=>(name=Mary, age=23, gender=female)\n",
      "Student=>(name=Mary, age=23, gender=male)\n",
      "The Student classes are equal\n"
     ]
    }
   ],
   "source": [
    "class Person:\n",
    "    def __init__(self, name, age):\n",
    "        self.name = name\n",
    "        self.age = age\n",
    "        \n",
    "    def __repr__(self):\n",
    "        return f\"{self.__class__.__name__}=>(name={self.name}, age={self.age})\"\n",
    "    \n",
    "    def __eq__(self, other):\n",
    "        if isinstance(other, Person):\n",
    "            return self.name == other.name and self.age == other.age\n",
    "        return False\n",
    "    \n",
    "    def details(self):\n",
    "        print(\"My name is {0} and I am {1} years old\".format(self.name,self.age))\n",
    "        \n",
    "        \n",
    "class Student(Person):\n",
    "    def __init__(self, name, age, gender):\n",
    "        Person.__init__(self,name,age)\n",
    "        self.gender = gender\n",
    "        \n",
    "    def details(self):\n",
    "        print(\"My name is {0} and I am a {2} who is {1} years old\".format(self.name,self.age,self.gender))\n",
    "        \n",
    "    def __repr__(self):\n",
    "        return f\"{self.__class__.__name__}=>(name={self.name}, age={self.age}, gender={self.gender})\"\n",
    "\n",
    "if __name__ == \"__main__\":\n",
    "    person = Person(\"Jones\",21)\n",
    "    student = Student(\"Mary\",23,\"female\")\n",
    "    student1 = Student(\"Mary\",23,\"male\")\n",
    "    \n",
    "    for i in [person,student,student1]:\n",
    "        print(i)\n",
    "    \n",
    "    if person == student:\n",
    "        print(f\"Both {person.__class__.__name__} & {student.__class__.__name__} classes are equal\")\n",
    "    elif student1 == student:\n",
    "        print(f\"The {student1.__class__.__name__} classes are equal\")\n",
    "    else:\n",
    "        print(f\"The {person.__class__.__name__} or {student.__class__.__name__} classes are not equal\")"
   ]
  },
  {
   "cell_type": "markdown",
   "metadata": {},
   "source": [
    "#### Inheritance with \"super\" keyword:"
   ]
  },
  {
   "cell_type": "code",
   "execution_count": 12,
   "metadata": {},
   "outputs": [
    {
     "name": "stdout",
     "output_type": "stream",
     "text": [
      "Person=>(name=Jones, age=21)\n",
      "Student=>(name=Mary, age=23, gender=female)\n",
      "Student=>(name=Mary, age=23, gender=female)\n",
      "The Student classes are equal\n"
     ]
    }
   ],
   "source": [
    "class Person:\n",
    "    def __init__(self, name, age):\n",
    "        self.name = name\n",
    "        self.age = age\n",
    "        \n",
    "    def __repr__(self):\n",
    "        return f\"{self.__class__.__name__}=>(name={self.name}, age={self.age})\"\n",
    "    \n",
    "    def __eq__(self, other):\n",
    "        if isinstance(other, Person):\n",
    "            return self.name == other.name and self.age == other.age\n",
    "        return False\n",
    "    \n",
    "    def details(self):\n",
    "        print(\"My name is {0} and I am {1} years old\".format(self.name,self.age))\n",
    "        \n",
    "        \n",
    "class Student(Person):\n",
    "    def __init__(self, name, age, gender):\n",
    "        super().__init__(name,age)\n",
    "        self.gender = gender\n",
    "        \n",
    "    def details(self):\n",
    "        print(\"My name is {0} and I am a {2} who is {1} years old\".format(self.name,self.age,self.gender))\n",
    "        \n",
    "    def __repr__(self):\n",
    "        return f\"{self.__class__.__name__}=>(name={self.name}, age={self.age}, gender={self.gender})\"\n",
    "    \n",
    "    def __eq__(self, other):\n",
    "        if isinstance(other, Person):\n",
    "            return self.name == other.name and self.age == other.age and other.gender == self.gender\n",
    "        return False\n",
    "\n",
    "if __name__ == \"__main__\":\n",
    "    person = Person(\"Jones\",21)\n",
    "    student = Student(\"Mary\",23,\"female\")\n",
    "    student1 = Student(\"Mary\",23,\"female\")\n",
    "    \n",
    "    for i in [person,student,student1]:\n",
    "        print(i)\n",
    "    \n",
    "    if person == student:\n",
    "        print(f\"Both {person.__class__.__name__} & {student.__class__.__name__} classes are equal\")\n",
    "    elif student1 == student:\n",
    "        print(f\"The {student1.__class__.__name__} classes are equal\")\n",
    "    else:\n",
    "        print(f\"The {person.__class__.__name__} or {student.__class__.__name__} classes are not equal\")"
   ]
  }
 ],
 "metadata": {
  "kernelspec": {
   "display_name": "Python 3",
   "language": "python",
   "name": "python3"
  },
  "language_info": {
   "codemirror_mode": {
    "name": "ipython",
    "version": 3
   },
   "file_extension": ".py",
   "mimetype": "text/x-python",
   "name": "python",
   "nbconvert_exporter": "python",
   "pygments_lexer": "ipython3",
   "version": "3.11.6"
  }
 },
 "nbformat": 4,
 "nbformat_minor": 2
}
