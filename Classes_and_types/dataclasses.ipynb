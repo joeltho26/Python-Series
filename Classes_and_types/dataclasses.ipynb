{
 "cells": [
  {
   "cell_type": "markdown",
   "metadata": {},
   "source": [
    "### Dataclasses:"
   ]
  },
  {
   "cell_type": "code",
   "execution_count": 16,
   "metadata": {},
   "outputs": [
    {
     "name": "stdout",
     "output_type": "stream",
     "text": [
      "Person(name='John', age=30, occupation='Engineer')\n"
     ]
    }
   ],
   "source": [
    "from dataclasses import dataclass\n",
    "\n",
    "@dataclass\n",
    "class Person:\n",
    "    name: str\n",
    "    age: int\n",
    "    occupation: str=\"Engineer\"   \n",
    "    \n",
    "if __name__ == \"__main__\":\n",
    "    person = Person(name=\"John\", age=30)\n",
    "    print(person)"
   ]
  },
  {
   "cell_type": "markdown",
   "metadata": {},
   "source": [
    "## Dataclass with property as decorator:"
   ]
  },
  {
   "cell_type": "code",
   "execution_count": 2,
   "metadata": {},
   "outputs": [
    {
     "name": "stdout",
     "output_type": "stream",
     "text": [
      "John\n",
      "Mary\n"
     ]
    }
   ],
   "source": [
    "from dataclasses import dataclass\n",
    "@dataclass\n",
    "class Person:\n",
    "    value: str  \n",
    "    \n",
    "    @property\n",
    "    def name(self) -> str:\n",
    "        return self.value\n",
    "    \n",
    "    @name.setter\n",
    "    def name(self, value: str) -> None:\n",
    "        self.value = value\n",
    "    \n",
    "    @name.deleter\n",
    "    def name(self) -> None:\n",
    "        del self.value\n",
    "    \n",
    "if __name__ == \"__main__\":\n",
    "    person = Person(\"John\")\n",
    "    print(person.name)\n",
    "    person.name = \"Mary\"\n",
    "    print(person.name)\n",
    "    del person.name"
   ]
  },
  {
   "cell_type": "markdown",
   "metadata": {},
   "source": [
    "## Dataclass with property as method:"
   ]
  },
  {
   "cell_type": "code",
   "execution_count": 15,
   "metadata": {},
   "outputs": [
    {
     "name": "stdout",
     "output_type": "stream",
     "text": [
      "John\n",
      "Mary\n"
     ]
    }
   ],
   "source": [
    "@dataclass\n",
    "class Person:\n",
    "    name: str  \n",
    "    \n",
    "    def get_name(self) -> str:\n",
    "        return self._name\n",
    "    \n",
    "    def set_name(self, value: str) -> None:\n",
    "        self._name = value\n",
    "    \n",
    "    def del_name(self) -> None:\n",
    "        del self._name\n",
    "        \n",
    "    name = property(get_name,set_name,del_name)\n",
    "    \n",
    "if __name__ == \"__main__\":\n",
    "    person = Person(\"John\")\n",
    "    print(person.name)\n",
    "    person.name = \"Mary\"\n",
    "    print(person.name)\n",
    "    del person.name"
   ]
  },
  {
   "cell_type": "markdown",
   "metadata": {},
   "source": [
    "## Dataclass with inheritance:"
   ]
  },
  {
   "cell_type": "code",
   "execution_count": 6,
   "metadata": {},
   "outputs": [
    {
     "name": "stdout",
     "output_type": "stream",
     "text": [
      "Person(name='Ron', age=10)\n",
      "Person(name='Mary', age=16)\n",
      "Student(name='Ron', age=18, isSenior=True, standard=5)\n"
     ]
    }
   ],
   "source": [
    "from dataclasses import dataclass\n",
    "\n",
    "@dataclass(kw_only=True)\n",
    "class Person:\n",
    "    name: str='Ron'\n",
    "    age: int\n",
    "    \n",
    "    def print_details(self):\n",
    "        print(f\"Name: {self.name}, Age: {self.age}\")\n",
    "      \n",
    "@dataclass(kw_only=True)  \n",
    "class Student(Person):\n",
    "    isSenior: bool=True\n",
    "    standard: int\n",
    "    \n",
    "p = Person(age=10)\n",
    "print(p)\n",
    "    \n",
    "p1 = Person(name='Mary', age=16)\n",
    "print(p1)\n",
    "\n",
    "s = Student(age=18, standard=5)\n",
    "print(s)\n",
    "    "
   ]
  },
  {
   "cell_type": "code",
   "execution_count": null,
   "metadata": {},
   "outputs": [],
   "source": []
  }
 ],
 "metadata": {
  "kernelspec": {
   "display_name": "Python 3",
   "language": "python",
   "name": "python3"
  },
  "language_info": {
   "codemirror_mode": {
    "name": "ipython",
    "version": 3
   },
   "file_extension": ".py",
   "mimetype": "text/x-python",
   "name": "python",
   "nbconvert_exporter": "python",
   "pygments_lexer": "ipython3",
   "version": "3.11.6"
  }
 },
 "nbformat": 4,
 "nbformat_minor": 2
}
