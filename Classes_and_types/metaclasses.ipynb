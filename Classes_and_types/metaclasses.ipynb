{
 "cells": [
  {
   "cell_type": "code",
   "execution_count": 1,
   "metadata": {},
   "outputs": [
    {
     "name": "stdout",
     "output_type": "stream",
     "text": [
      "Vegetarian\n"
     ]
    }
   ],
   "source": [
    "def init(self, ftype): \n",
    "\tself.ftype = ftype \n",
    "\n",
    "def getFtype(self): \n",
    "\treturn self.ftype \n",
    "\n",
    "FoodType = type('FoodType', (object, ), { \n",
    "\t'__init__': init, \n",
    "\t'getFtype' : getFtype, \n",
    "\t}) \n",
    "\n",
    "fType = FoodType(ftype ='Vegetarian') \n",
    "print(fType.getFtype())\n"
   ]
  },
  {
   "cell_type": "code",
   "execution_count": 2,
   "metadata": {},
   "outputs": [
    {
     "name": "stdout",
     "output_type": "stream",
     "text": [
      "Vegetarian\n",
      "{'Spinach', 'Bitter Guard'}\n"
     ]
    }
   ],
   "source": [
    "def init(self, ftype): \n",
    "\tself.ftype = ftype \n",
    "\n",
    "def getFtype(self): \n",
    "\treturn self.ftype \n",
    "\n",
    "FoodType = type('FoodType', (object, ), { \n",
    "\t'__init__': init, \n",
    "\t'getFtype' : getFtype, \n",
    "\t}) \n",
    "\n",
    "def vegFoods(self): \n",
    "\treturn {'Spinach', 'Bitter Guard'} \n",
    "\n",
    "## creating subclass using type \n",
    "VegType = type('VegType', (FoodType, ), { \n",
    "\t'vegFoods' : vegFoods, \n",
    "\t}) \n",
    "\n",
    "\n",
    "vType = VegType(ftype ='Vegetarian') \n",
    "print(vType.getFtype()) \n",
    "print(vType.vegFoods()) \n"
   ]
  }
 ],
 "metadata": {
  "kernelspec": {
   "display_name": "Python 3",
   "language": "python",
   "name": "python3"
  },
  "language_info": {
   "codemirror_mode": {
    "name": "ipython",
    "version": 3
   },
   "file_extension": ".py",
   "mimetype": "text/x-python",
   "name": "python",
   "nbconvert_exporter": "python",
   "pygments_lexer": "ipython3",
   "version": "3.11.6"
  }
 },
 "nbformat": 4,
 "nbformat_minor": 2
}
