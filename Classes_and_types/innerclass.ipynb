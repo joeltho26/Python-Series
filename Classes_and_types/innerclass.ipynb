{
 "cells": [
  {
   "cell_type": "markdown",
   "metadata": {},
   "source": [
    "### Inner Class:"
   ]
  },
  {
   "cell_type": "code",
   "execution_count": 1,
   "metadata": {},
   "outputs": [
    {
     "name": "stdout",
     "output_type": "stream",
     "text": [
      "Name: Green\n",
      "Name: Light Green\n",
      "Code: 024avc\n"
     ]
    }
   ],
   "source": [
    "class Color:\n",
    "    def __init__(self):\n",
    "        self.name = 'Green'\n",
    "        self.lg = self.Lightgreen()\n",
    "\n",
    "    def show(self):\n",
    "        print('Name:', self.name)\n",
    "\n",
    "    class Lightgreen:\n",
    "        def __init__(self):\n",
    "            self.name = 'Light Green'\n",
    "            self.code = '024avc'\n",
    "\n",
    "        def display(self):\n",
    "            print('Name:', self.name)\n",
    "            print('Code:', self.code)\n",
    "\n",
    "outer = Color()\n",
    "outer.show()\n",
    "g = outer.lg\n",
    "g.display()\n"
   ]
  },
  {
   "cell_type": "markdown",
   "metadata": {},
   "source": [
    "- Types of inner classes are as follows: \n",
    "    - Multiple inner class\n",
    "    - Multilevel inner class"
   ]
  },
  {
   "cell_type": "code",
   "execution_count": 2,
   "metadata": {},
   "outputs": [
    {
     "name": "stdout",
     "output_type": "stream",
     "text": [
      "In outer class\n",
      "Name: Doctor\n",
      "\n",
      "Name: Dr. Savita\n",
      "Degree: BDS\n",
      "\n",
      "Name: Dr. Amit\n",
      "Degree: DM\n"
     ]
    }
   ],
   "source": [
    "#multiple inner class\n",
    "class Doctors:\n",
    "    def __init__(self):\n",
    "        self.name = 'Doctor'\n",
    "        self.den = self.Dentist()\n",
    "        self.car = self.Cardiologist()\n",
    "\n",
    "    def show(self):\n",
    "        print('In outer class')\n",
    "        print('Name:', self.name)\n",
    "\n",
    "    class Dentist:\n",
    "        def __init__(self):\n",
    "            self.name = 'Dr. Savita'\n",
    "            self.degree = 'BDS'\n",
    "\n",
    "        def display(self):\n",
    "            print(\"Name:\", self.name)\n",
    "            print(\"Degree:\", self.degree)\n",
    "\n",
    "    class Cardiologist:\n",
    "        def __init__(self):\n",
    "            self.name = 'Dr. Amit'\n",
    "            self.degree = 'DM'\n",
    "\n",
    "        def display(self):\n",
    "            print(\"Name:\", self.name)\n",
    "            print(\"Degree:\", self.degree)\n",
    "\n",
    "outer = Doctors()\n",
    "outer.show()\n",
    "d1 = outer.den\n",
    "d2 = outer.car\n",
    "print()\n",
    "d1.display()\n",
    "print()\n",
    "d2.display()"
   ]
  },
  {
   "cell_type": "code",
   "execution_count": 6,
   "metadata": {},
   "outputs": [
    {
     "name": "stdout",
     "output_type": "stream",
     "text": [
      "In outer class\n",
      "Name: Doctor\n",
      "Name: Dr. Savita\n",
      "Degree: BDS\n",
      "Speciality: Surgeon\n"
     ]
    }
   ],
   "source": [
    "#multiple inner class\n",
    "class Doctors:\n",
    "    def __init__(self):\n",
    "        self.name = 'Doctor'\n",
    "        self.den = self.Mbbs()\n",
    "\n",
    "    def show(self):\n",
    "        print('In outer class')\n",
    "        print('Name:', self.name)\n",
    "\n",
    "    class Mbbs:\n",
    "        def __init__(self):\n",
    "            self.name = 'Dr. Savita'\n",
    "            self.degree = 'BDS'\n",
    "            self.cardio = self.Cardiologist()\n",
    "\n",
    "        def display(self):\n",
    "            print(\"Name:\", self.name)\n",
    "            print(\"Degree:\", self.degree)\n",
    "\n",
    "        class Cardiologist:\n",
    "            def __init__(self):\n",
    "                self.specialist = 'Surgeon'\n",
    "\n",
    "            def display(self):\n",
    "                print(\"Speciality:\", self.specialist)\n",
    "\n",
    "outer = Doctors()\n",
    "outer.show()\n",
    "d = outer.den\n",
    "d.display()\n",
    "c = d.cardio\n",
    "c.display()"
   ]
  }
 ],
 "metadata": {
  "kernelspec": {
   "display_name": "Python 3",
   "language": "python",
   "name": "python3"
  },
  "language_info": {
   "codemirror_mode": {
    "name": "ipython",
    "version": 3
   },
   "file_extension": ".py",
   "mimetype": "text/x-python",
   "name": "python",
   "nbconvert_exporter": "python",
   "pygments_lexer": "ipython3",
   "version": "3.11.6"
  }
 },
 "nbformat": 4,
 "nbformat_minor": 2
}
