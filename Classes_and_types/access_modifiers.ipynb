{
 "cells": [
  {
   "cell_type": "markdown",
   "metadata": {},
   "source": [
    "## Private:\n",
    "\n",
    "#### Mangling?\n",
    "\n",
    "- In Python, there is something called name mangling, which means that there is limited support for a valid use-case for class-private members basically to avoid name clashes of names with names defined by subclasses. Any identifier of the form __geek (at least two leading underscores or at most one trailing underscore) is replaced with _classname__geek, where classname is the current class name with a leading underscore(s) stripped. As long as it occurs within the definition of the class, this mangling is done. This is helpful for letting subclasses override methods without breaking intraclass method calls. \n",
    "    \n",
    "- The mangling rules are designed mostly to avoid accidents but it is still possible to access or modify a variable that is considered private. This can even be useful in special circumstances, such as in the debugger."
   ]
  },
  {
   "cell_type": "code",
   "execution_count": 14,
   "metadata": {},
   "outputs": [
    {
     "name": "stdout",
     "output_type": "stream",
     "text": [
      "Name: Kenny\n",
      "Number: XXXX5678\n",
      "Bank: Python Bank\n",
      "Balance: 0\n",
      "Name: Kenny\n",
      "Number: XXXX5678\n",
      "Bank: Python Bank\n",
      "Balance: 10000\n",
      "Name: Kenny\n",
      "Number: XXXX5678\n",
      "Bank: Python Bank\n",
      "Balance: 10200\n",
      "Card Number: 12345678\n"
     ]
    }
   ],
   "source": [
    "class CreditCard:\n",
    "    def __init__(self, name, number, limit = 8000, bank = \"Python Bank\"):\n",
    "        self.name = name\n",
    "        self.__number = number ## mangling (private variable)\n",
    "        self.bank = bank\n",
    "        self.balance = 0\n",
    "        self.limit = limit\n",
    "    \n",
    "    def charge(self, amount):\n",
    "        #not int or not not float\n",
    "        if not (isinstance(amount, int) or  isinstance(amount, float)) or (amount <= 0):\n",
    "            print(\"Charge Denied\")\n",
    "        else:\n",
    "            self.balance += amount\n",
    "    \n",
    "    def pay(self, amount):\n",
    "        if not (isinstance(amount, int) or  isinstance(amount, float)) or (amount <= 0):\n",
    "            print(\"Charge Denied\")\n",
    "        else:\n",
    "            self.balance -= amount\n",
    "\n",
    "    def __str__(self):\n",
    "        info = \"Name: \" + self.name + \"\\n\"\n",
    "        info += \"Number: \" + \"XXXX\" + self.__number[4:] + \"\\n\"\n",
    "        info += \"Bank: \" + self.bank + \"\\n\"\n",
    "        info += \"Balance: \" + str(self.balance)\n",
    "        return info\n",
    "\n",
    "    def __repr__(self):\n",
    "        return str(self)\n",
    "\n",
    "card = CreditCard(\"Kenny\", \"12345678\")\n",
    "print(card)\n",
    "card.charge(10000)\n",
    "print(card)\n",
    "card.charge(200)\n",
    "print(card)\n",
    "\n",
    "card.pay(5000)\n",
    "print(\"Card Number: {0}\".format(card._CreditCard__number)) ## mangling overcome"
   ]
  },
  {
   "cell_type": "markdown",
   "metadata": {},
   "source": [
    "The mangling rules are designed mostly to avoid accidents but it is still possible to access or modify a variable that is considered private. This can even be useful in special circumstances, such as in the debugger."
   ]
  },
  {
   "cell_type": "markdown",
   "metadata": {},
   "source": [
    "### Single Leading Underscores:\n",
    "\n",
    "So basically one underline at the beginning of a method, function, or data member means you shouldn’t access this method because it’s not part of the API. "
   ]
  },
  {
   "cell_type": "code",
   "execution_count": 5,
   "metadata": {},
   "outputs": [],
   "source": [
    "def _get_errors(self):\n",
    "    if self._errors is None:\n",
    "        self.full_clean()\n",
    "    return self._errors\n",
    "\n",
    "errors = property(_get_errors)\n"
   ]
  },
  {
   "cell_type": "markdown",
   "metadata": {},
   "source": [
    "The snippet is taken from the Django source code (django/forms/forms.py). This suggests that errors are property, and it’s also a part of the API, but the method, _get_errors, is “private”, so one shouldn’t access it"
   ]
  },
  {
   "cell_type": "markdown",
   "metadata": {},
   "source": [
    "### Double Leading Underscores (private):\n",
    "\n",
    "Two underlines, in the beginning, cause a lot of confusion. This is about syntax rather than a convention. double underscore will mangle the attribute names of a class to avoid conflicts of attribute names between classes."
   ]
  },
  {
   "cell_type": "code",
   "execution_count": 6,
   "metadata": {},
   "outputs": [],
   "source": [
    "class Geek:\n",
    "    def _single_method(self):\n",
    "        pass\n",
    "    def __double_method(self):\n",
    "        pass\n",
    "    \n",
    "class Pyth(Geek):\n",
    "    def __double_method(self):\n",
    "        pass\n"
   ]
  },
  {
   "cell_type": "markdown",
   "metadata": {},
   "source": [
    "### __Double leading and Double trailing underscores__:\n",
    "(magic methods or special methods inside a class)\n",
    "\n",
    "There’s another case of double leading and trailing underscores. We follow this while using special variables or methods (called “magic method”) such as__len__, __init__. These methods provide special syntactic features to the names. For example, __file__ indicates the location of the Python file, __eq__ is executed when a == b expression is executed. "
   ]
  },
  {
   "cell_type": "code",
   "execution_count": 7,
   "metadata": {},
   "outputs": [],
   "source": [
    "class Geek:\n",
    "\n",
    "    # '__init__' for initializing, this is a\n",
    "    # special method  \n",
    "    def __init__(self, ab): \n",
    "        self.ab = ab\n",
    "\n",
    "    # custom special method. try not to use it\n",
    "    def __custom__(self): \n",
    "        pass"
   ]
  },
  {
   "cell_type": "markdown",
   "metadata": {},
   "source": [
    "## Protected (_variable):"
   ]
  },
  {
   "cell_type": "code",
   "execution_count": 16,
   "metadata": {},
   "outputs": [
    {
     "name": "stdout",
     "output_type": "stream",
     "text": [
      "Length:  10\n",
      "Breadth:  20\n",
      "Length:  80\n",
      "Breadth:  50\n",
      "Area:  4000\n"
     ]
    }
   ],
   "source": [
    "#protected variables => denoted by underscores\n",
    "class Shape: \n",
    "\tdef __init__(self, length, breadth): \n",
    "\t\tself._length = length \n",
    "\t\tself._breadth = breadth \n",
    "\t\t\n",
    "\tdef _displaySides(self): \n",
    "\t\tprint(\"Length: \", self._length) \n",
    "\t\tprint(\"Breadth: \", self._breadth) \n",
    "\n",
    "class Rectangle(Shape): \n",
    "\tdef __init__(self, length, breadth): \n",
    "\t\tShape.__init__(self, length, breadth) \n",
    "\t\t\n",
    "\tdef calculateArea(self): \n",
    "\t\tprint(\"Area: \", self._length * self._breadth) \n",
    "  \n",
    "s = Shape(10,20)\n",
    "s._displaySides()\n",
    "\t\t\t\t\t\n",
    "obj = Rectangle(80, 50) \n",
    "obj._displaySides() \n",
    "obj.calculateArea() "
   ]
  }
 ],
 "metadata": {
  "kernelspec": {
   "display_name": "Python 3",
   "language": "python",
   "name": "python3"
  },
  "language_info": {
   "codemirror_mode": {
    "name": "ipython",
    "version": 3
   },
   "file_extension": ".py",
   "mimetype": "text/x-python",
   "name": "python",
   "nbconvert_exporter": "python",
   "pygments_lexer": "ipython3",
   "version": "3.11.6"
  }
 },
 "nbformat": 4,
 "nbformat_minor": 2
}
