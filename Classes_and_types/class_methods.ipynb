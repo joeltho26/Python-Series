{
 "cells": [
  {
   "cell_type": "markdown",
   "metadata": {},
   "source": [
    "## ClassMethod as decorator:"
   ]
  },
  {
   "cell_type": "code",
   "execution_count": 1,
   "metadata": {},
   "outputs": [
    {
     "name": "stdout",
     "output_type": "stream",
     "text": [
      "Course: DSA\n",
      "Number of instances: 2\n",
      "Welcome to Geeks for Geeks!\n"
     ]
    }
   ],
   "source": [
    "class Geeks:\n",
    "    course = 'DSA'\n",
    "    list_of_instances = []\n",
    "\n",
    "    def __init__(self, name):\n",
    "        self.name = name\n",
    "        Geeks.list_of_instances.append(self)\n",
    "\n",
    "    @classmethod\n",
    "    def get_course(cls):\n",
    "        return f\"Course: {cls.course}\"\n",
    "\n",
    "    @classmethod\n",
    "    def get_instance_count(cls):\n",
    "        return f\"Number of instances: {len(cls.list_of_instances)}\"\n",
    "\n",
    "    @staticmethod\n",
    "    def welcome_message():\n",
    "        return \"Welcome to Geeks for Geeks!\"\n",
    "\n",
    "g1 = Geeks('Alice')\n",
    "g2 = Geeks('Bob')\n",
    "\n",
    "print(Geeks.get_course())  \n",
    "print(Geeks.get_instance_count())  \n",
    "print(Geeks.welcome_message())  \n"
   ]
  },
  {
   "cell_type": "markdown",
   "metadata": {},
   "source": [
    "## ClassMethod as method:"
   ]
  },
  {
   "cell_type": "code",
   "execution_count": null,
   "metadata": {},
   "outputs": [],
   "source": [
    "class Student:\n",
    "    name = \"Geeksforgeeks\"\n",
    "\n",
    "    def print_name(obj):\n",
    "        print(\"The name is : \", obj.name)\n",
    "\n",
    "Student.print_name = classmethod(Student.print_name)\n",
    "Student.print_name()"
   ]
  }
 ],
 "metadata": {
  "kernelspec": {
   "display_name": "Python 3",
   "language": "python",
   "name": "python3"
  },
  "language_info": {
   "codemirror_mode": {
    "name": "ipython",
    "version": 3
   },
   "file_extension": ".py",
   "mimetype": "text/x-python",
   "name": "python",
   "nbconvert_exporter": "python",
   "pygments_lexer": "ipython3",
   "version": "3.11.6"
  }
 },
 "nbformat": 4,
 "nbformat_minor": 2
}
