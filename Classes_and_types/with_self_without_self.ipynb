{
 "cells": [
  {
   "cell_type": "code",
   "execution_count": null,
   "metadata": {},
   "outputs": [],
   "source": [
    "#an instance (use self keyword)\n",
    "class Polygon:\n",
    "    def sides(self):\n",
    "        print(\"Polygons have 3 or more than 3 sides\")\n",
    "\n",
    "class Triangle(Polygon):  \n",
    "    def sides(self):\n",
    "        print(\"Triangle has 3 sides\")\n",
    "\n",
    "P = Polygon()\n",
    "P.sides()\n",
    "\n",
    "T = Triangle()\n",
    "T.sides()\n"
   ]
  },
  {
   "cell_type": "code",
   "execution_count": null,
   "metadata": {},
   "outputs": [],
   "source": [
    "#not an instance (static)\n",
    "class Polygon:\n",
    "    def sides():\n",
    "        print(\"Polygons have 3 or more than 3 sides\")\n",
    "\n",
    "class Triangle(Polygon):  \n",
    "    def sides():\n",
    "        print(\"Triangle has 3 sides\")\n",
    "\n",
    "polygon = Polygon.sides()\n",
    "triangle = Triangle.sides()"
   ]
  }
 ],
 "metadata": {
  "language_info": {
   "name": "python"
  }
 },
 "nbformat": 4,
 "nbformat_minor": 2
}
