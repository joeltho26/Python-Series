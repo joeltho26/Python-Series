{
 "cells": [
  {
   "cell_type": "markdown",
   "metadata": {},
   "source": [
    "## Abstract Class:\n",
    "### with ABC as object and abstractmethod:"
   ]
  },
  {
   "cell_type": "code",
   "execution_count": 31,
   "metadata": {},
   "outputs": [
    {
     "name": "stdout",
     "output_type": "stream",
     "text": [
      "Triangle\n",
      "I have 3 sides\n",
      "Quadrilateral\n",
      "I have 4 sides\n",
      "Pentagon\n",
      "I have 5 sides\n",
      "Hexagon\n",
      "I have 6 sides\n"
     ]
    }
   ],
   "source": [
    "#Method-1\n",
    "from abc import ABC, abstractmethod\n",
    "\n",
    "class Polygon(ABC):\n",
    "    global value\n",
    "    value = 10\n",
    "    \n",
    "    @abstractmethod\n",
    "    def noofsides(self):\n",
    "        pass\n",
    "    \n",
    "    def print_classname(self):\n",
    "        print(f\"{self.__class__.__name__}\")\n",
    "        \n",
    "\n",
    "class Triangle(Polygon):\n",
    "    def noofsides(self):\n",
    "        print(\"I have 3 sides\")\n",
    "\n",
    "class Pentagon(Polygon):\n",
    "    def noofsides(self):\n",
    "        print(\"I have 5 sides\")\n",
    "\n",
    "class Hexagon(Polygon):\n",
    "    def noofsides(self):\n",
    "        print(\"I have 6 sides\")\n",
    "\n",
    "class Quadrilateral(Polygon):\n",
    "    def noofsides(self):\n",
    "        print(\"I have 4 sides\")\n",
    "\n",
    "if __name__ == \"__main__\":\n",
    "    \n",
    "    R = Triangle()\n",
    "    R.print_classname()\n",
    "    R.noofsides()\n",
    "\n",
    "    K = Quadrilateral()\n",
    "    K.print_classname()\n",
    "    K.noofsides()\n",
    "\n",
    "    R = Pentagon()\n",
    "    R.print_classname()\n",
    "    R.noofsides()\n",
    "\n",
    "    K = Hexagon()\n",
    "    K.print_classname()\n",
    "    K.noofsides()"
   ]
  },
  {
   "cell_type": "markdown",
   "metadata": {},
   "source": [
    "### with ABC as object and no abstractmethod:"
   ]
  },
  {
   "cell_type": "code",
   "execution_count": null,
   "metadata": {},
   "outputs": [],
   "source": [
    "#Method-2\n",
    "from abc import ABC\n",
    "\n",
    "class Animal(ABC):\n",
    "    def move(self):\n",
    "        pass\n",
    "\n",
    "class Human(Animal):\n",
    "    def move(self):\n",
    "        print(\"I can walk and run\")\n",
    "\n",
    "class Snake(Animal):\n",
    "    def move(self):\n",
    "        print(\"I can crawl\")\n",
    "\n",
    "class Dog(Animal):\n",
    "    def move(self):\n",
    "        print(\"I can bark\")\n",
    "\n",
    "class Lion(Animal):\n",
    "    def move(self):\n",
    "        print(\"I can roar\")\n",
    "\n",
    "if __name__ == \"__main__\":\n",
    "    R = Human()\n",
    "    R.move()\n",
    "\n",
    "    K = Snake()\n",
    "    K.move()\n",
    "\n",
    "    R = Dog()\n",
    "    R.move()\n",
    "\n",
    "    K = Lion()\n",
    "    K.move()"
   ]
  },
  {
   "cell_type": "markdown",
   "metadata": {},
   "source": [
    "### without ABC as object and no abstractmethod:"
   ]
  },
  {
   "cell_type": "code",
   "execution_count": 32,
   "metadata": {},
   "outputs": [
    {
     "name": "stdout",
     "output_type": "stream",
     "text": [
      "child class\n",
      "True\n",
      "True\n"
     ]
    }
   ],
   "source": [
    "#Method-3\n",
    "class parent:       \n",
    "    def geeks(self):\n",
    "        pass\n",
    "\n",
    "class child(parent):\n",
    "    def geeks(self):\n",
    "        print(\"child class\")\n",
    "        \n",
    "        \n",
    "c = child()\n",
    "c.geeks()\n",
    "\n",
    "print(issubclass(child, parent))\n",
    "print(isinstance(child(), parent))"
   ]
  },
  {
   "cell_type": "markdown",
   "metadata": {},
   "source": [
    "### using super():"
   ]
  },
  {
   "cell_type": "code",
   "execution_count": 39,
   "metadata": {},
   "outputs": [
    {
     "name": "stdout",
     "output_type": "stream",
     "text": [
      "Abstract Base Class\n",
      "subclass \n"
     ]
    }
   ],
   "source": [
    "# method using super()\n",
    "from abc import ABC, abstractmethod\n",
    "\n",
    "class Parent(ABC):\n",
    "    @abstractmethod\n",
    "    def rk(self):\n",
    "        print(\"Abstract Base Class\")\n",
    "\n",
    "class Child(Parent):  \n",
    "    def rk(self):\n",
    "        super().rk()\n",
    "        print(\"subclass \")\n",
    "\n",
    "r = K()\n",
    "r.rk()"
   ]
  },
  {
   "cell_type": "markdown",
   "metadata": {},
   "source": [
    "### using property:"
   ]
  },
  {
   "cell_type": "code",
   "execution_count": 10,
   "metadata": {},
   "outputs": [
    {
     "name": "stdout",
     "output_type": "stream",
     "text": [
      "Fruit\n",
      "Vegetable\n",
      "'Child' object has no attribute 'data'\n"
     ]
    }
   ],
   "source": [
    "from abc import ABC, abstractmethod\n",
    "\n",
    "class Parent(ABC):\n",
    "    def __init__(self, data: str):\n",
    "        self.data = data\n",
    "    \n",
    "    @abstractmethod\n",
    "    def value(self):\n",
    "        pass\n",
    "        \n",
    "class Child(Parent):\n",
    "    @property\n",
    "    def value(self) -> str:\n",
    "        return self.data\n",
    "    \n",
    "    @value.setter\n",
    "    def value(self, data: str) -> None:\n",
    "        self.data = data\n",
    "    \n",
    "    @value.deleter\n",
    "    def value(self) -> None:\n",
    "        del self.data\n",
    "        \n",
    "try:\n",
    "    r = Child(\"Fruit\")\n",
    "    print(r.value)\n",
    "    r.value = \"Vegetable\"\n",
    "    print(r.value)\n",
    "    del r.value\n",
    "    print(r.value)\n",
    "except Exception as err:\n",
    "    print(err)\n"
   ]
  },
  {
   "cell_type": "markdown",
   "metadata": {},
   "source": [
    "### Using staticmethod, classmethod & protected variable:"
   ]
  },
  {
   "cell_type": "code",
   "execution_count": 2,
   "metadata": {},
   "outputs": [
    {
     "name": "stdout",
     "output_type": "stream",
     "text": [
      "Fruit\n",
      "20\n",
      "Operation class\n"
     ]
    }
   ],
   "source": [
    "from abc import ABC, abstractmethod\n",
    "\n",
    "class Operation(ABC):\n",
    "    _value = \"Operation class\"\n",
    "    \n",
    "    def __init__(self,data):\n",
    "        self.data = data\n",
    "      \n",
    "    @abstractmethod  \n",
    "    def given_value(value):\n",
    "        pass\n",
    "    \n",
    "    @staticmethod\n",
    "    @abstractmethod\n",
    "    def double_value(self, value):\n",
    "        pass\n",
    "        \n",
    "    @classmethod\n",
    "    @abstractmethod\n",
    "    def class_value(cls):\n",
    "        pass\n",
    "    \n",
    "class Math(Operation):\n",
    "    _value = None\n",
    "    \n",
    "    def given_value(self) -> str:\n",
    "        return self.data\n",
    "    \n",
    "    def double_value(value) -> float:\n",
    "        return value * 2\n",
    "    \n",
    "    def class_value(cls) -> str:   \n",
    "        if r._value is None:\n",
    "            return super()._value\n",
    "        else :\n",
    "            return cls._value\n",
    "        \n",
    "try:\n",
    "    r = Math(\"Fruit\")\n",
    "    print(r.given_value())\n",
    "    print(Math.double_value(10))\n",
    "    print(r.class_value())\n",
    "        \n",
    "except Exception as err:\n",
    "    print(err)\n"
   ]
  }
 ],
 "metadata": {
  "kernelspec": {
   "display_name": "Python 3",
   "language": "python",
   "name": "python3"
  },
  "language_info": {
   "codemirror_mode": {
    "name": "ipython",
    "version": 3
   },
   "file_extension": ".py",
   "mimetype": "text/x-python",
   "name": "python",
   "nbconvert_exporter": "python",
   "pygments_lexer": "ipython3",
   "version": "3.11.6"
  }
 },
 "nbformat": 4,
 "nbformat_minor": 2
}
