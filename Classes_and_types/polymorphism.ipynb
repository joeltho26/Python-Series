{
 "cells": [
  {
   "cell_type": "markdown",
   "metadata": {},
   "source": [
    "### Polymorphism:\n",
    "- having many forms i.e. a same function performing different operation based on the class invoked\n",
    "- runtime and compile time polymorphism"
   ]
  },
  {
   "cell_type": "code",
   "execution_count": 1,
   "metadata": {},
   "outputs": [
    {
     "name": "stdout",
     "output_type": "stream",
     "text": [
      "The Vehicle of Tesla brand painted in Grey and manufactured in 2018.\n",
      "'Vehicle' => (brand='Tesla', year=2018, color='Grey')\n",
      "--------------------\n",
      "The Car of Benz brand is painted in Black and manufactured in 2021.\n",
      "'Car' => (brand='Benz', year=2021, color='Black')\n",
      "--------------------\n",
      "The Boat of BMW brand is painted in Grey and manufactured in 2020.\n",
      "'Boat' => (brand='BMW', year=2020, color='Grey')\n",
      "--------------------\n",
      "The Airplane of Boeing brand is painted in White and manufactured in 2018.\n",
      "'Airplane' => (brand='Boeing', year=2018, color='White')\n",
      "--------------------\n",
      "The Bicycle of Boeing brand is painted in Red and manufactured in 2014. The bicycle has no gears\n",
      "'Bicycle' => (brand='Boeing', year=2014, color='Red')\n",
      "--------------------\n"
     ]
    }
   ],
   "source": [
    "class Vehicle:\n",
    "    def __init__(self,brand,year,color):\n",
    "        self.brand = brand\n",
    "        self.year = year\n",
    "        self.color = color\n",
    "        \n",
    "    def __repr__(self):\n",
    "        return f\"{self.__class__.__name__!r} => (brand={self.brand!r}, year={self.year!r}, color={self.color!r})\"\n",
    "        \n",
    "    def details(self):\n",
    "        print(f\"The {self.__class__.__name__} of {self.brand} brand painted in {self.color} and manufactured in {self.year}.\")\n",
    "        \n",
    "class Car(Vehicle):\n",
    "    def details(self):\n",
    "        print(f\"The {self.__class__.__name__} of {self.brand} brand is painted in {self.color} and manufactured in {self.year}.\")\n",
    "\n",
    "class Boat(Vehicle):\n",
    "    def details(self):\n",
    "        print(f\"The {self.__class__.__name__} of {self.brand} brand is painted in {self.color} and manufactured in {self.year}.\")\n",
    "\n",
    "class Airplane(Vehicle):\n",
    "    def details(self):\n",
    "        print(f\"The {self.__class__.__name__} of {self.brand} brand is painted in {self.color} and manufactured in {self.year}.\")   \n",
    "\n",
    "class Bicycle(Vehicle):\n",
    "    def __init__(self,brand,year,color,auto):\n",
    "        super().__init__(brand,year,color)\n",
    "        self.auto = auto\n",
    "        \n",
    "    def details(self):\n",
    "        print(f\"The {self.__class__.__name__} of {self.brand} brand is painted in {self.color} and manufactured in {self.year}. The bicycle has {self.auto}\")\n",
    "        \n",
    "if __name__ == '__main__':\n",
    "    vehicles = Vehicle(\"Tesla\",2018,\"Grey\")\n",
    "    car = Car(\"Benz\",2021,'Black')\n",
    "    boat = Boat(\"BMW\",2020,'Grey')\n",
    "    airplane = Airplane(\"Boeing\",2018,'White')\n",
    "    bicycle = Bicycle(\"Boeing\",2014,'Red','no gears')\n",
    "    \n",
    "    for vehicle in [vehicles,car,boat,airplane,bicycle]:\n",
    "        vehicle.details()\n",
    "        print(vehicle)\n",
    "        print(\"-\"*20)"
   ]
  }
 ],
 "metadata": {
  "kernelspec": {
   "display_name": "Python 3",
   "language": "python",
   "name": "python3"
  },
  "language_info": {
   "codemirror_mode": {
    "name": "ipython",
    "version": 3
   },
   "file_extension": ".py",
   "mimetype": "text/x-python",
   "name": "python",
   "nbconvert_exporter": "python",
   "pygments_lexer": "ipython3",
   "version": "3.11.6"
  }
 },
 "nbformat": 4,
 "nbformat_minor": 2
}
