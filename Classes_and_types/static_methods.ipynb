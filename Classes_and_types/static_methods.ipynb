{
 "cells": [
  {
   "cell_type": "markdown",
   "metadata": {},
   "source": [
    "## Static Method:"
   ]
  },
  {
   "cell_type": "code",
   "execution_count": 10,
   "metadata": {},
   "outputs": [
    {
     "name": "stdout",
     "output_type": "stream",
     "text": [
      "<class '__main__.Math'>\n",
      "30\n",
      "10\n",
      "2.0\n",
      "200\n"
     ]
    }
   ],
   "source": [
    "from dataclasses import dataclass\n",
    "\n",
    "@dataclass\n",
    "class Math:\n",
    "    \n",
    "    @staticmethod\n",
    "    def add(x,y):\n",
    "        return x + y\n",
    "    \n",
    "    @staticmethod\n",
    "    def subtract(x,y):\n",
    "        return x - y\n",
    "    \n",
    "    @staticmethod\n",
    "    def multiply(x,y):\n",
    "        return x * y\n",
    "    \n",
    "    @staticmethod\n",
    "    def divide(x,y):\n",
    "        return x / y\n",
    "\n",
    "if __name__ == \"__main__\":\n",
    "    print(Math)\n",
    "    print(Math.add(x=10,y=20))\n",
    "    print(Math.subtract(x=20,y=10))\n",
    "    print(Math.divide(x=20,y=10))\n",
    "    print(Math.multiply(x=20,y=10))"
   ]
  },
  {
   "cell_type": "markdown",
   "metadata": {},
   "source": [
    "## Using singledispatchmethod & partialmethod:"
   ]
  },
  {
   "cell_type": "code",
   "execution_count": 11,
   "metadata": {},
   "outputs": [
    {
     "name": "stdout",
     "output_type": "stream",
     "text": [
      "30\n",
      "31.0\n",
      "-10\n",
      "-10.4\n",
      "15\n"
     ]
    }
   ],
   "source": [
    "from functools import singledispatchmethod, partialmethod\n",
    "\n",
    "class Math:\n",
    "    @singledispatchmethod #=> place this decorator always on the top to work\n",
    "    @staticmethod\n",
    "    def add(x: int,y: int):\n",
    "        return x + y \n",
    "    \n",
    "    @add.register(float)\n",
    "    def _(x, y):\n",
    "        return x + y\n",
    "    \n",
    "    @singledispatchmethod\n",
    "    @staticmethod\n",
    "    def subtract(x: int,y: int):\n",
    "        return x - y\n",
    "    \n",
    "    @subtract.register(float)\n",
    "    def _(x, y):\n",
    "        return x - y\n",
    "\n",
    "    sum = partialmethod(add, 10, y=5)\n",
    "\n",
    "if __name__ == \"__main__\":\n",
    "    print(Math.add(10,20))\n",
    "    print(Math.add(10.5,20.5))\n",
    "    print(Math.subtract(10,20))\n",
    "    print(Math.subtract(10.4,20.8))\n",
    "    print(Math.sum())"
   ]
  },
  {
   "cell_type": "code",
   "execution_count": 1,
   "metadata": {},
   "outputs": [
    {
     "name": "stdout",
     "output_type": "stream",
     "text": [
      "Engineer\n"
     ]
    }
   ],
   "source": [
    "from dataclasses import dataclass\n",
    "\n",
    "@dataclass\n",
    "class Person:\n",
    "    name: str\n",
    "    age: int\n",
    "    gender: str=\"Male\"\n",
    "    _occupation: str=\"Engineer\"\n",
    "    \n",
    "    @staticmethod\n",
    "    def occupation_default() -> str:\n",
    "        return Person._occupation\n",
    "    \n",
    "if __name__ == \"__main__\":\n",
    "    print(Person.occupation_default())\n",
    "       "
   ]
  }
 ],
 "metadata": {
  "kernelspec": {
   "display_name": "Python 3",
   "language": "python",
   "name": "python3"
  },
  "language_info": {
   "codemirror_mode": {
    "name": "ipython",
    "version": 3
   },
   "file_extension": ".py",
   "mimetype": "text/x-python",
   "name": "python",
   "nbconvert_exporter": "python",
   "pygments_lexer": "ipython3",
   "version": "3.11.6"
  }
 },
 "nbformat": 4,
 "nbformat_minor": 2
}
