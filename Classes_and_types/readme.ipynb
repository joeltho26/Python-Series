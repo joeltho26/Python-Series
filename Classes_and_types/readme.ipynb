{
 "cells": [
  {
   "cell_type": "markdown",
   "metadata": {},
   "source": [
    "## Commonly used option:\n",
    "\n",
    "- property\n",
    "- staticmethod\n",
    "- abstractmethod -> abc\n",
    "- classmethod -> cls\n",
    "- partialmethod\n",
    "- super() => without self\n",
    "- dataclasses\n",
    "- innerclass"
   ]
  },
  {
   "cell_type": "markdown",
   "metadata": {},
   "source": []
  }
 ],
 "metadata": {
  "language_info": {
   "name": "python"
  }
 },
 "nbformat": 4,
 "nbformat_minor": 2
}
