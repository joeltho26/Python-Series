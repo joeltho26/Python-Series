{
 "cells": [
  {
   "cell_type": "markdown",
   "metadata": {},
   "source": [
    "### Functools:"
   ]
  },
  {
   "cell_type": "code",
   "execution_count": 8,
   "metadata": {},
   "outputs": [
    {
     "name": "stdout",
     "output_type": "stream",
     "text": [
      "Reduce:\n",
      "24\n",
      "-------------------------\n",
      "comparing  2  and  1\n",
      "comparing  4  and  2\n",
      "comparing  3  and  4\n",
      "comparing  3  and  2\n",
      "comparing  3  and  4\n",
      "comparing  8  and  3\n",
      "comparing  8  and  4\n",
      "comparing  5  and  3\n",
      "comparing  5  and  8\n",
      "comparing  5  and  4\n",
      "cmp_to_key:\n",
      "[1, 2, 3, 4, 5, 8]\n",
      "-------------------------\n",
      "partial function: \n",
      "312\n",
      "-------------------------\n"
     ]
    }
   ],
   "source": [
    "from functools import reduce, cmp_to_key, cache, _make_key, lru_cache, total_ordering, wraps\n",
    "from functools import partial, partialmethod, singledispatch, singledispatchmethod, update_wrapper\n",
    "\n",
    "def print_details(*args):\n",
    "    print(args[0])\n",
    "    print(args[1])\n",
    "    print(\"-\"*25)\n",
    "\n",
    "data = [1,2,3,4]\n",
    "data2 = [5,6,7,8]\n",
    "string_data = \"abcdefg\"\n",
    "\n",
    "# reduce\n",
    "print_details(\"Reduce:\", reduce(lambda x,y: x*y, data))\n",
    "\n",
    "# cmp_to_key\n",
    "def mycmp(a, b): \n",
    "    print(\"comparing \", a, \" and \", b) \n",
    "    if a > b: \n",
    "        return 1\n",
    "    elif a < b: \n",
    "        return -1\n",
    "    else: \n",
    "        return 0\n",
    "\n",
    "data = [1,2,4,3,8,5]\n",
    "print_details(\"cmp_to_key:\", sorted(data, key=cmp_to_key(mycmp)))\n",
    "\n",
    "# partial function\n",
    "def add(a, b, c):\n",
    "    return 100 * a + 10 * b + c\n",
    "\n",
    "add_part = partial(add, c = 2, b = 1)\n",
    "print_details(\"partial function: \", add_part(3))"
   ]
  },
  {
   "cell_type": "code",
   "execution_count": 16,
   "metadata": {},
   "outputs": [
    {
     "name": "stdout",
     "output_type": "stream",
     "text": [
      "Turning on the switch: True\n",
      "Turning off the switch: False\n"
     ]
    }
   ],
   "source": [
    "# partial method => mostly applied inside class\n",
    "# it is mandatory to initialize the value of args while using partial method\n",
    "class Switch:\n",
    "    def __init__(self):\n",
    "        self._state = False\n",
    "\n",
    "    def set_new_state(self, new_state: bool):\n",
    "        self._state = new_state\n",
    "\n",
    "    @property\n",
    "    def state(self):\n",
    "        return self._state\n",
    "\n",
    "    turn_on = partialmethod(set_new_state, True)\n",
    "    turn_off = partialmethod(set_new_state, False)\n",
    "\n",
    "switch = Switch()\n",
    "print(\"Turning on the switch: \", end=\"\")\n",
    "switch.turn_on()\n",
    "print(switch.state)\n",
    "\n",
    "print(\"Turning off the switch: \", end=\"\")\n",
    "switch.turn_off()\n",
    "print(switch.state)"
   ]
  },
  {
   "cell_type": "code",
   "execution_count": 15,
   "metadata": {},
   "outputs": [
    {
     "name": "stdout",
     "output_type": "stream",
     "text": [
      "False\n",
      "False\n",
      "True\n",
      "True\n",
      "False\n",
      "True\n"
     ]
    }
   ],
   "source": [
    "# total ordering => used as class decorators when we want to avoid implementing the comparison methods\n",
    "@total_ordering\n",
    "class Students: \n",
    "\tdef __init__(self, cgpa): \n",
    "\t\tself.cgpa = cgpa \n",
    "\n",
    "\tdef __lt__(self, other): \n",
    "\t\treturn self.cgpa<other.cgpa \n",
    "\n",
    "\tdef __eq__(self, other): \n",
    "\t\treturn self.cgpa == other.cgpa \n",
    "\n",
    "Arjun = Students(8.6) \n",
    "Ram = Students(7.5) \n",
    "print(Arjun.__lt__(Ram)) \n",
    "print(Arjun.__le__(Ram)) \n",
    "print(Arjun.__gt__(Ram)) \n",
    "print(Arjun.__ge__(Ram)) \n",
    "print(Arjun.__eq__(Ram)) \n",
    "print(Arjun.__ne__(Ram)) \n"
   ]
  },
  {
   "cell_type": "code",
   "execution_count": 25,
   "metadata": {},
   "outputs": [
    {
     "name": "stdout",
     "output_type": "stream",
     "text": [
      "wrapper\n",
      "Hi has taken over Hello Documentation\n",
      "Help on function wrapper in module __main__:\n",
      "\n",
      "wrapper()\n",
      "    Hi has taken over Hello Documentation\n",
      "\n"
     ]
    }
   ],
   "source": [
    "# update wrapper\n",
    "\n",
    "def hi(func):\n",
    "\tdef wrapper():\n",
    "\t\t\"Hi has taken over Hello Documentation\"\n",
    "\t\tprint(\"Hi geeks\")\n",
    "\t\tfunc()\n",
    "\treturn wrapper\n",
    "\t\n",
    "@hi\n",
    "def hello():\n",
    "\t\"this is the documentation of Hello Function\"\n",
    "\tprint(\"Hey Geeks\")\n",
    "\n",
    "print(hello.__name__)\n",
    "print(hello.__doc__)\n",
    "help(hello)\n"
   ]
  },
  {
   "cell_type": "code",
   "execution_count": 39,
   "metadata": {},
   "outputs": [
    {
     "name": "stdout",
     "output_type": "stream",
     "text": [
      "hello\n",
      "this is the documentation of Hello Function\n",
      "Help on function hello in module __main__:\n",
      "\n",
      "hello()\n",
      "    this is the documentation of Hello Function\n",
      "\n"
     ]
    }
   ],
   "source": [
    "# alternate for update wrapper with cons\n",
    "\n",
    "def hi(func):\n",
    "\tdef wrapper():\n",
    "\t\t\"Hi has taken over Hello Documentation\"\n",
    "\t\tprint(\"Hi geeks\")\n",
    "\t\tfunc()\n",
    "  \n",
    "\twrapper.__doc__ = func.__doc__\n",
    "\twrapper.__name__ = func.__name__\n",
    "\treturn wrapper\n",
    "\t\n",
    "@hi\n",
    "def hello():\n",
    "\t\"this is the documentation of Hello Function\"\n",
    "\tprint(\"Hey Geeks\")\n",
    "\n",
    "print(hello.__name__)\n",
    "print(hello.__doc__)\n",
    "help(hello)\n"
   ]
  },
  {
   "cell_type": "code",
   "execution_count": 37,
   "metadata": {},
   "outputs": [
    {
     "name": "stdout",
     "output_type": "stream",
     "text": [
      "UPDATED WRAPPER DATA\n",
      "WRAPPER ASSIGNMENTS : ('__module__', '__name__', '__qualname__', '__doc__', '__annotations__')\n",
      "UPDATES : ('__dict__',)\n",
      "wrapper\n",
      "Hi has taken over Hello Documentation\n",
      "Help on function wrapper in module __main__:\n",
      "\n",
      "wrapper(*args, **kwargs)\n",
      "    Hi has taken over Hello Documentation\n",
      "\n"
     ]
    }
   ],
   "source": [
    "# update wrapper => used to update the metadata of the wrapper function, allows for better readability and re-usability of code\n",
    "import functools\n",
    "\n",
    "def hi(func):\n",
    "\tdef wrapper(*args, **kwargs):\n",
    "\t\t\"Hi has taken over Hello Documentation\"\n",
    "\t\tprint(\"Hi geeks\")\n",
    "\t\tfunc()\n",
    "\t\t\n",
    "\tprint(\"UPDATED WRAPPER DATA\")\n",
    "\tprint(f'WRAPPER ASSIGNMENTS : {functools.WRAPPER_ASSIGNMENTS}')\n",
    "\tprint(f'UPDATES : {functools.WRAPPER_UPDATES}')\n",
    "\t\n",
    "\tupdate_wrapper(wrapper, func)\n",
    "\treturn wrapper\n",
    "\t\n",
    "@hi\n",
    "def hello():\n",
    "\t\"this is the documentation of Hello Function\"\n",
    "\tprint(\"Hey Geeks\")\n",
    "\n",
    "print(hello.__name__)\n",
    "print(hello.__doc__)\n",
    "help(hello)\n"
   ]
  },
  {
   "cell_type": "code",
   "execution_count": 22,
   "metadata": {},
   "outputs": [
    {
     "name": "stdout",
     "output_type": "stream",
     "text": [
      "UPDATED WRAPPER DATA\n",
      "WRAPPER ASSIGNMENTS : ('__module__', '__name__', '__qualname__', '__doc__', '__annotations__')\n",
      "UPDATES : ('__dict__',)\n",
      "divide\n",
      "Original Documentation of Divide\n",
      "Help on partial in module __main__:\n",
      "\n",
      "divide = functools.partial(<function divide at 0x10c1a3c40>, b=2)\n",
      "    Original Documentation of Divide\n",
      "\n",
      "Help on partial in module functools object:\n",
      "\n",
      "class partial(builtins.object)\n",
      " |  partial(func, *args, **keywords) - new function with partial application\n",
      " |  of the given arguments and keywords.\n",
      " |  \n",
      " |  Methods defined here:\n",
      " |  \n",
      " |  __call__(self, /, *args, **kwargs)\n",
      " |      Call self as a function.\n",
      " |  \n",
      " |  __delattr__(self, name, /)\n",
      " |      Implement delattr(self, name).\n",
      " |  \n",
      " |  __getattribute__(self, name, /)\n",
      " |      Return getattr(self, name).\n",
      " |  \n",
      " |  __reduce__(...)\n",
      " |      Helper for pickle.\n",
      " |  \n",
      " |  __repr__(self, /)\n",
      " |      Return repr(self).\n",
      " |  \n",
      " |  __setattr__(self, name, value, /)\n",
      " |      Implement setattr(self, name, value).\n",
      " |  \n",
      " |  __setstate__(...)\n",
      " |  \n",
      " |  ----------------------------------------------------------------------\n",
      " |  Class methods defined here:\n",
      " |  \n",
      " |  __class_getitem__(...) from builtins.type\n",
      " |      See PEP 585\n",
      " |  \n",
      " |  ----------------------------------------------------------------------\n",
      " |  Static methods defined here:\n",
      " |  \n",
      " |  __new__(*args, **kwargs) from builtins.type\n",
      " |      Create and return a new object.  See help(type) for accurate signature.\n",
      " |  \n",
      " |  ----------------------------------------------------------------------\n",
      " |  Data descriptors defined here:\n",
      " |  \n",
      " |  __dict__\n",
      " |  \n",
      " |  __vectorcalloffset__\n",
      " |  \n",
      " |  args\n",
      " |      tuple of arguments to future partial calls\n",
      " |  \n",
      " |  func\n",
      " |      function object to use in future partial calls\n",
      " |  \n",
      " |  keywords\n",
      " |      dictionary of keyword arguments to future partial calls\n",
      "\n"
     ]
    }
   ],
   "source": [
    "# update wrapper\n",
    "\n",
    "def divide(a, b):\n",
    "\t\"Original Documentation of Divide\"\n",
    "\treturn a / b\n",
    "\n",
    "half = functools.partial(divide, b = 2)\n",
    "oneThird = functools.partial(divide, b = 3)\n",
    "\n",
    "print(\"UPDATED WRAPPER DATA\")\n",
    "print(f'WRAPPER ASSIGNMENTS : {functools.WRAPPER_ASSIGNMENTS}')\n",
    "print(f'UPDATES : {functools.WRAPPER_UPDATES}')\n",
    "update_wrapper(half, divide)\n",
    "try:\n",
    "\tprint(half.__name__)\n",
    "\t\n",
    "except AttributeError:\n",
    "\tprint('No Name')\n",
    "\t\n",
    "print(half.__doc__)\n",
    "help(half)\n",
    "help(oneThird)\n"
   ]
  },
  {
   "cell_type": "code",
   "execution_count": 35,
   "metadata": {},
   "outputs": [
    {
     "name": "stdout",
     "output_type": "stream",
     "text": [
      "first_function\n",
      "This is docstring for first function\n",
      "Help on function first_function in module __main__:\n",
      "\n",
      "first_function()\n",
      "    This is docstring for first function\n",
      "\n",
      "second_function\n",
      "This is docstring for second function\n",
      "Help on function second_function in module __main__:\n",
      "\n",
      "second_function(a)\n",
      "    This is docstring for second function\n",
      "\n"
     ]
    }
   ],
   "source": [
    "# wraps => similar to update_wrapper but better since it can work for multiple functions (decorator)\n",
    "# i.e update_wrapper(wrapper,divide) => can be applied to only one func called divide and if new func used then, we duplicate\n",
    "\n",
    "def a_decorator(func):\n",
    "\t@wraps(func)\n",
    "\tdef wrapper(*args, **kwargs):\n",
    "\t\t\"\"\"A wrapper function\"\"\"\n",
    "\t\tfunc()\n",
    "\treturn wrapper\n",
    "\n",
    "@a_decorator\n",
    "def first_function():\n",
    "\t\"\"\"This is docstring for first function\"\"\"\n",
    "\tprint(\"first function\")\n",
    "\n",
    "@a_decorator\n",
    "def second_function(a):\n",
    "\t\"\"\"This is docstring for second function\"\"\"\n",
    "\tprint(\"second function\")\n",
    "\n",
    "print(first_function.__name__)\n",
    "print(first_function.__doc__)\n",
    "help(first_function)\n",
    "print(second_function.__name__)\n",
    "print(second_function.__doc__)\n",
    "help(second_function)"
   ]
  },
  {
   "cell_type": "code",
   "execution_count": 31,
   "metadata": {},
   "outputs": [
    {
     "name": "stdout",
     "output_type": "stream",
     "text": [
      "Time taken to execute the function without lru_cache is 0.677175760269165\n",
      "Time taken to execute the function with lru_cache is 0.0001499652862548828\n"
     ]
    }
   ],
   "source": [
    "import time \n",
    "\n",
    "# without lru_cache\n",
    "def fib_without_cache(n): \n",
    "\tif n < 2: \n",
    "\t\treturn n \n",
    "\treturn fib_without_cache(n-1) + fib_without_cache(n-2) \n",
    "\t\n",
    "begin = time.time() \n",
    "fib_without_cache(30) \n",
    "end = time.time() \n",
    "\n",
    "print(\"Time taken to execute the function without lru_cache is\", end-begin) \n",
    "\n",
    "# with lru_cache\n",
    "@lru_cache(maxsize = 128, typed=True) \n",
    "def fib_with_cache(n): \n",
    "\tif n < 2: \n",
    "\t\treturn n \n",
    "\treturn fib_with_cache(n-1) + fib_with_cache(n-2) \n",
    "\t\n",
    "begin = time.time() \n",
    "fib_with_cache(30) \n",
    "end = time.time() \n",
    "\n",
    "print(\"Time taken to execute the function with lru_cache is\", end-begin) \n"
   ]
  },
  {
   "cell_type": "code",
   "execution_count": 34,
   "metadata": {},
   "outputs": [
    {
     "name": "stdout",
     "output_type": "stream",
     "text": [
      "Time taken to execute the function with lru_cache is 6.985664367675781e-05\n"
     ]
    }
   ],
   "source": [
    "# cache => if we dont want to specify the maxsize then use cache or else use lru_cache\n",
    "@cache \n",
    "def fib_with_cache(n): \n",
    "\tif n < 2: \n",
    "\t\treturn n \n",
    "\treturn fib_with_cache(n-1) + fib_with_cache(n-2) \n",
    "\t\n",
    "begin = time.time() \n",
    "\n",
    "fib_with_cache(30) \n",
    "end = time.time() \n",
    "\n",
    "print(\"Time taken to execute the function with lru_cache is\", end-begin) "
   ]
  },
  {
   "cell_type": "code",
   "execution_count": 50,
   "metadata": {},
   "outputs": [
    {
     "name": "stdout",
     "output_type": "stream",
     "text": [
      "GeeksforGeeks\n",
      "20\n",
      "0 g\n",
      "1 e\n",
      "2 e\n",
      "3 k\n",
      "4 s\n",
      "60.03000000000000468958205602\n",
      "20\n",
      "<function fun at 0x10c2cd4e0>\n",
      "<function _2 at 0x10c2e7880>\n",
      "dict_keys([<class 'object'>, <class 'int'>, <class 'decimal.Decimal'>, <class 'list'>, <class 'float'>])\n",
      "<function _1 at 0x10c2e6700>\n",
      "<function fun at 0x10c2cd4e0>\n"
     ]
    }
   ],
   "source": [
    "# singledispatch => function overloading\n",
    "from decimal import Decimal\n",
    "\n",
    "@singledispatch\n",
    "def fun(s): \n",
    "\tprint(s) \n",
    "\n",
    "@fun.register(int) \n",
    "def _1(s): \n",
    "\tprint(s * 2) \n",
    "\n",
    "@fun.register(Decimal) \n",
    "def _3(s): \n",
    "\tprint(s * 3) \n",
    "\n",
    "@fun.register(list) \n",
    "def _2(s): \n",
    "\tfor i, e in enumerate(s):print(i, e) \n",
    "\n",
    "@fun.register(float) \n",
    "def _4(s): \n",
    "\tprint(round(s*2))\n",
    "\n",
    "fun('GeeksforGeeks') \n",
    "fun(10) \n",
    "fun(['g', 'e', 'e', 'k', 's']) \n",
    "fun(Decimal(20.01))\n",
    "fun(10.01)\n",
    "\n",
    "print(fun.dispatch(dict)) \n",
    "print(fun.dispatch(list))\n",
    "print(fun.registry.keys()) \n",
    "print(fun.registry[int]) \n",
    "print(fun.registry[object])\n"
   ]
  },
  {
   "cell_type": "code",
   "execution_count": null,
   "metadata": {},
   "outputs": [],
   "source": [
    "class Sum:\n",
    "    @singledispatchmethod\n",
    "    def sumMethod(self, arg1, arg2):\n",
    "        print(\"Default implementation with arg1 = %s and arg2 = %s\" % (arg1, arg2))\n",
    "\n",
    "    @sumMethod.register\n",
    "    def _(self, arg1: int, arg2: int):\n",
    "        print(\"Sum with arg1 as integer. %s + %s = %s\" % (arg1, arg2, arg1 + arg2))\n",
    "\n",
    "    @sumMethod.register\n",
    "    def _(self, arg1: float, arg2: float):\n",
    "        print(\"Sum with arg1 as float. %s + %s = %s\" % (arg1, arg2, arg1 + arg2))\n",
    "\n",
    "\n",
    "s = Sum()\n",
    "s.sumMethod(2, 3)\n",
    "s.sumMethod(2.1, 3.4)\n",
    "s.sumMethod(\"hi\", 3.4)"
   ]
  }
 ],
 "metadata": {
  "kernelspec": {
   "display_name": "Python 3",
   "language": "python",
   "name": "python3"
  },
  "language_info": {
   "codemirror_mode": {
    "name": "ipython",
    "version": 3
   },
   "file_extension": ".py",
   "mimetype": "text/x-python",
   "name": "python",
   "nbconvert_exporter": "python",
   "pygments_lexer": "ipython3",
   "version": "3.11.6"
  }
 },
 "nbformat": 4,
 "nbformat_minor": 2
}
