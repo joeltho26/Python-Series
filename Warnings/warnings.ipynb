{
 "cells": [
  {
   "cell_type": "markdown",
   "metadata": {},
   "source": [
    "### Warning:"
   ]
  },
  {
   "cell_type": "code",
   "execution_count": 17,
   "metadata": {},
   "outputs": [],
   "source": [
    "import warnings\n",
    "\n",
    "warnings.warn(\"Error Message: The function is wrong\")\n",
    "warnings.filterwarnings(action='ignore',message='Error.*')"
   ]
  },
  {
   "cell_type": "code",
   "execution_count": 13,
   "metadata": {},
   "outputs": [
    {
     "name": "stderr",
     "output_type": "stream",
     "text": [
      "/var/folders/z1/8c8tjdhn2z740qzvlw8cs1f80000gn/T/ipykernel_47497/1160664901.py:1: UserWarning: Message: The function is invalid\n",
      "  warnings.warn(\"Message: The function is invalid\")\n"
     ]
    }
   ],
   "source": [
    "warnings.warn(\"Message: The function is invalid\")\n",
    "warnings.filterwarnings(action='ignore',message='error.*')"
   ]
  },
  {
   "cell_type": "code",
   "execution_count": null,
   "metadata": {},
   "outputs": [],
   "source": []
  }
 ],
 "metadata": {
  "kernelspec": {
   "display_name": "Python 3",
   "language": "python",
   "name": "python3"
  },
  "language_info": {
   "codemirror_mode": {
    "name": "ipython",
    "version": 3
   },
   "file_extension": ".py",
   "mimetype": "text/x-python",
   "name": "python",
   "nbconvert_exporter": "python",
   "pygments_lexer": "ipython3",
   "version": "3.11.6"
  }
 },
 "nbformat": 4,
 "nbformat_minor": 2
}
