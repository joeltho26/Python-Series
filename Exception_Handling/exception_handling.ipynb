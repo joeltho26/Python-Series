{
 "cells": [
  {
   "cell_type": "markdown",
   "metadata": {},
   "source": [
    "### Exception Handling:"
   ]
  },
  {
   "cell_type": "code",
   "execution_count": 15,
   "metadata": {},
   "outputs": [
    {
     "name": "stdout",
     "output_type": "stream",
     "text": [
      "Error: Divide the numbers with same data type in numerator and denominator\n",
      "Division operation completed\n"
     ]
    }
   ],
   "source": [
    "def check_division(*args,**kwargs):\n",
    "    a = args[0]\n",
    "    b = kwargs['b']\n",
    "    return a/b\n",
    "\n",
    "try:\n",
    "    value = check_division(0,b=\"1\")\n",
    "    print(f\"Quotient value: {value}\")\n",
    "except ZeroDivisionError:\n",
    "    print(\"Error: Division by zero is not allowed\")\n",
    "except TypeError:\n",
    "    print(\"Error: Divide the numbers with same data type in numerator and denominator\")\n",
    "except Exception:\n",
    "    print(\"An error occurred\")\n",
    "else:\n",
    "    value = check_division(0,b=1)\n",
    "    print(f\"Quotient value: {value}\")\n",
    "finally: \n",
    "    print(\"Division operation completed\")"
   ]
  }
 ],
 "metadata": {
  "kernelspec": {
   "display_name": "Python 3",
   "language": "python",
   "name": "python3"
  },
  "language_info": {
   "codemirror_mode": {
    "name": "ipython",
    "version": 3
   },
   "file_extension": ".py",
   "mimetype": "text/x-python",
   "name": "python",
   "nbconvert_exporter": "python",
   "pygments_lexer": "ipython3",
   "version": "3.11.6"
  }
 },
 "nbformat": 4,
 "nbformat_minor": 2
}
