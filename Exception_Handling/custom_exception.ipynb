{
 "cells": [
  {
   "cell_type": "code",
   "execution_count": 2,
   "metadata": {},
   "outputs": [
    {
     "name": "stdout",
     "output_type": "stream",
     "text": [
      "Value Error: High Value!, Value 120 is greater than 100 and invalid!\n"
     ]
    }
   ],
   "source": [
    "class Error(Exception):\n",
    "    def __init__(self, value: int, message: str):\n",
    "        self.value = value\n",
    "        self.message = message\n",
    "\n",
    "class ValueTooHigh(Error):\n",
    "    pass\n",
    "\n",
    "class ValueTooLow(Error):\n",
    "    pass\n",
    "\n",
    "def check_value(*args):\n",
    "    if args[0] > 100:\n",
    "        raise ValueTooHigh(args[0], \"High Value\")\n",
    "    elif args[0] < 0:\n",
    "        raise ValueTooLow(args[0], \"Low Value\")\n",
    "    else:\n",
    "        return \"The value given is valid!\"\n",
    "\n",
    "try:\n",
    "    value = check_value(120)\n",
    "    print(value)\n",
    "except ValueTooHigh as e:\n",
    "    print(f\"Value Error: {e.message}!, Value {e.value} is greater than 100 and invalid!\")\n",
    "except ValueTooLow as e:\n",
    "    print(f\"Value Error: {e.message}, Value {e.value} is lesser than 0 and invalid\")\n",
    "except Exception:\n",
    "    print(\"An error occurred\")"
   ]
  },
  {
   "cell_type": "code",
   "execution_count": 1,
   "metadata": {},
   "outputs": [
    {
     "name": "stdout",
     "output_type": "stream",
     "text": [
      "Value Error: Low Value, Value -12 is lesser than 0 and invalid\n"
     ]
    }
   ],
   "source": [
    "class Error(Exception):\n",
    "    def __init__(self, value: int, message: str):\n",
    "        self.value = value\n",
    "        self.message = message\n",
    "\n",
    "class ValueTooHigh(Error):\n",
    "    pass\n",
    "\n",
    "class ValueTooLow(Error):\n",
    "    def __init__(self, value, message, status):\n",
    "        super().__init__(value,message)\n",
    "        self.status = status\n",
    "\n",
    "def check_value(*args):\n",
    "    if args[0] > 100:\n",
    "        raise ValueTooHigh(args[0], \"High Value\")\n",
    "    elif args[0] < 0:\n",
    "        raise ValueTooLow(args[0], \"Low Value\", \"invalid\")\n",
    "    else:\n",
    "        return \"The value given is valid!\"\n",
    "\n",
    "try:\n",
    "    value = check_value(-12)\n",
    "    print(value)\n",
    "except ValueTooHigh as e:\n",
    "    print(f\"Value Error: {e.message}!, Value {e.value} is greater than 100 and invalid!\")\n",
    "except ValueTooLow as e:\n",
    "    print(f\"Value Error: {e.message}, Value {e.value} is lesser than 0 and {e.status}\")\n",
    "except Exception:\n",
    "    print(\"An error occurred\")"
   ]
  },
  {
   "cell_type": "code",
   "execution_count": null,
   "metadata": {},
   "outputs": [],
   "source": []
  }
 ],
 "metadata": {
  "kernelspec": {
   "display_name": "Python 3",
   "language": "python",
   "name": "python3"
  },
  "language_info": {
   "codemirror_mode": {
    "name": "ipython",
    "version": 3
   },
   "file_extension": ".py",
   "mimetype": "text/x-python",
   "name": "python",
   "nbconvert_exporter": "python",
   "pygments_lexer": "ipython3",
   "version": "3.11.6"
  }
 },
 "nbformat": 4,
 "nbformat_minor": 2
}
