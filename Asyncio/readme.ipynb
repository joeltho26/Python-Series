{
 "cells": [
  {
   "cell_type": "markdown",
   "metadata": {},
   "source": [
    "## Commonly used option:\n",
    "\n",
    "- Asyncio\n",
    "- async\n",
    "- await\n",
    "- get_running_loop\n",
    "    - create_future\n",
    "- sleep\n",
    "- taskgroup\n",
    "- createtask\n",
    "- gather\n",
    "- semaphore\n",
    "- lock\n",
    "- asyncio.run()\n",
    "- create_future"
   ]
  },
  {
   "cell_type": "markdown",
   "metadata": {},
   "source": []
  }
 ],
 "metadata": {
  "language_info": {
   "name": "python"
  }
 },
 "nbformat": 4,
 "nbformat_minor": 2
}
