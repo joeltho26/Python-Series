{
 "cells": [
  {
   "cell_type": "markdown",
   "metadata": {},
   "source": [
    "- Asynchronous (concurrently):\n",
    "    - running in parallel\n",
    "\n",
    "- Synchronous:\n",
    "    - running in parallel\n",
    "\n",
    "-----------\n",
    "#### CPU bound tasks vs IO bound tasks:\n",
    "- If a task doesn't carry out many calculations, but it does do a lot of input/output operations, it's called an I/O-bound task.\n",
    "----------\n",
    "\n",
    "- CPU Bound => Multi Processing    |    IS IT CPU-HEAVY ? ---------> USE multiprocessing\n",
    "- I/O Bound, Fast I/O, Limited Number of Connections => Multi Threading   |    ELSE ? ----------------------> USE threading\n",
    "- I/O Bound, Slow I/O, Many connections => Asyncio     |     Is it IO-BOUND ? -----------> USE asyncio\n",
    "\n",
    "\n",
    "https://stackoverflow.com/questions/27435284/multiprocessing-vs-multithreading-vs-asyncio\n",
    "\n",
    "\n"
   ]
  },
  {
   "cell_type": "code",
   "execution_count": null,
   "metadata": {},
   "outputs": [],
   "source": [
    "\"\"\"\n",
    "if io_bound:\n",
    "    if io_very_slow:\n",
    "        print(\"Use Asyncio\")\n",
    "    else:\n",
    "        print(\"Use Threads\")\n",
    "else:\n",
    "    print(\"Multi Processing\")\n",
    "\"\"\""
   ]
  },
  {
   "cell_type": "markdown",
   "metadata": {},
   "source": [
    "### Asyncio:\n",
    "- Event Loop\n",
    "- Co-routines\n",
    "- Tasks\n",
    "\n",
    "#### Event Loop:\n",
    "- a central with tasks waiting to be executed around it\n",
    "    - executed immediately or paused (awaits) for retrieving data from the internet\n",
    "    - when the task awaits, it steps aside and makes room for the the other task to run, and once the task awaited has fetched the necessary data from internet then it will resume keep the program flow efficient"
   ]
  },
  {
   "cell_type": "code",
   "execution_count": null,
   "metadata": {},
   "outputs": [],
   "source": []
  }
 ],
 "metadata": {
  "language_info": {
   "name": "python"
  }
 },
 "nbformat": 4,
 "nbformat_minor": 2
}
