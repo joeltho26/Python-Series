{
 "cells": [
  {
   "cell_type": "markdown",
   "metadata": {},
   "source": [
    "### JSON:"
   ]
  },
  {
   "cell_type": "code",
   "execution_count": 5,
   "metadata": {},
   "outputs": [
    {
     "name": "stdout",
     "output_type": "stream",
     "text": [
      "Json strings -> dictionary:\n",
      "{'name': 'John', 'age': 25, 'gender': 'male', 'isMale': True}\n",
      "-------------------------\n"
     ]
    }
   ],
   "source": [
    "import json\n",
    "\n",
    "def print_details(*args):\n",
    "    print(args[0])\n",
    "    print(args[1])\n",
    "    print(\"-\"*25)\n",
    "\n",
    "data = '{ \"name\": \"John\", \"age\":25, \"gender\": \"male\", \"isMale\": true}'\n",
    "\n",
    "#json strings\n",
    "data_convert = json.loads(data)\n",
    "print_details(\"Json strings -> dictionary:\", data_convert)"
   ]
  },
  {
   "cell_type": "code",
   "execution_count": 6,
   "metadata": {},
   "outputs": [
    {
     "name": "stdout",
     "output_type": "stream",
     "text": [
      "Dictionary -> json strings:\n",
      "{\n",
      "   \"age\"=25,\n",
      "   \"gender\"=\"male\",\n",
      "   \"isFemale\"=false,\n",
      "   \"isMale\"=true,\n",
      "   \"name\"=\"John\"\n",
      "}\n",
      "-------------------------\n"
     ]
    }
   ],
   "source": [
    "#jason write strings\n",
    "data_convert[\"isFemale\"] = False\n",
    "json_data = json.dumps(data_convert, indent=3, separators=[\",\",\"=\"], sort_keys=True)\n",
    "print_details(\"Dictionary -> json strings:\", json_data)"
   ]
  },
  {
   "cell_type": "code",
   "execution_count": 7,
   "metadata": {},
   "outputs": [
    {
     "name": "stdout",
     "output_type": "stream",
     "text": [
      "Json -> dictionary:\n",
      "{'quiz': {'sport': {'q1': {'question': 'Which one is correct team name in NBA?', 'options': ['New York Bulls', 'Los Angeles Kings', 'Golden State Warriros', 'Huston Rocket'], 'answer': 'Huston Rocket'}}, 'maths': {'q1': {'question': '5 + 7 = ?', 'options': ['10', '11', '12', '13'], 'answer': '12'}, 'q2': {'question': '12 - 8 = ?', 'options': ['1', '2', '3', '4'], 'answer': '4'}}}}\n",
      "-------------------------\n"
     ]
    }
   ],
   "source": [
    "#json read files\n",
    "with open(\"../JSON/Data/file.json\", \"rt\") as f:\n",
    "    data_convert = json.load(f)\n",
    "print_details(\"Json -> dictionary:\", data_convert)"
   ]
  },
  {
   "cell_type": "code",
   "execution_count": 8,
   "metadata": {},
   "outputs": [],
   "source": [
    "#json write files\n",
    "data_convert[\"quiz\"][\"sport\"][\"q1\"][\"options\"] = \"Adelaide Strikers\"\n",
    "\n",
    "with open(\"../JSON/Data/file1.json\", \"wt\") as f:\n",
    "    json.dump(data_convert, f, indent=3, separators=[\",\",\"=\"], sort_keys=True)"
   ]
  },
  {
   "cell_type": "code",
   "execution_count": 3,
   "metadata": {},
   "outputs": [
    {
     "name": "stdout",
     "output_type": "stream",
     "text": [
      "{\"name\": \"Max\", \"age\": 27, \"User\": true}\n"
     ]
    }
   ],
   "source": [
    "import json \n",
    "\n",
    "class User:\n",
    "    def __init__(self, name, age):\n",
    "        self.name = name\n",
    "        self.age = age\n",
    "        \n",
    "user = User(\"Max\",27)\n",
    "\n",
    "def encode_user(o):\n",
    "    if isinstance(o, User):\n",
    "        return {'name': o.name, 'age': o.age, o.__class__.__name__: True}\n",
    "    else:\n",
    "        raise TypeError('Object of type User is not JSON serializable')\n",
    "    \n",
    "\n",
    "#user_json = json.dumps(encode_user(user))\n",
    "user_json = json.dumps(user, default=encode_user)\n",
    "print(user_json)"
   ]
  },
  {
   "cell_type": "code",
   "execution_count": 8,
   "metadata": {},
   "outputs": [
    {
     "name": "stdout",
     "output_type": "stream",
     "text": [
      "{\"name\": \"Max\", \"age\": 27, \"User\": true}\n",
      "Max\n"
     ]
    },
    {
     "ename": "",
     "evalue": "",
     "output_type": "error",
     "traceback": [
      "\u001b[1;31mThe Kernel crashed while executing code in the current cell or a previous cell. \n",
      "\u001b[1;31mPlease review the code in the cell(s) to identify a possible cause of the failure. \n",
      "\u001b[1;31mClick <a href='https://aka.ms/vscodeJupyterKernelCrash'>here</a> for more info. \n",
      "\u001b[1;31mView Jupyter <a href='command:jupyter.viewOutput'>log</a> for further details."
     ]
    }
   ],
   "source": [
    "from json import JSONEncoder\n",
    "\n",
    "class UserEncoder(JSONEncoder):\n",
    "    def default(self,o):\n",
    "        if isinstance(o, User):\n",
    "            return {'name': o.name, 'age': o.age, o.__class__.__name__: True}\n",
    "        return JSONEncoder.default(self,o)\n",
    "\n",
    "user = User(\"Max\",27)\n",
    "#user_json = json.dumps(user, cls=UserEncoder)\n",
    "user_json = UserEncoder().encode(user)\n",
    "print(user_json)\n",
    "\n",
    "def decode_user(dct):\n",
    "    if User.__name__ in dct:\n",
    "        return User(name=dct['name'], age=dct['age'])\n",
    "    return dct\n",
    "\n",
    "user_dict = json.loads(user_json, object_hook=decode_user)\n",
    "print(user_dict.name)\n"
   ]
  }
 ],
 "metadata": {
  "kernelspec": {
   "display_name": "Python 3",
   "language": "python",
   "name": "python3"
  },
  "language_info": {
   "codemirror_mode": {
    "name": "ipython",
    "version": 3
   },
   "file_extension": ".py",
   "mimetype": "text/x-python",
   "name": "python",
   "nbconvert_exporter": "python",
   "pygments_lexer": "ipython3",
   "version": "3.11.6"
  }
 },
 "nbformat": 4,
 "nbformat_minor": 2
}
