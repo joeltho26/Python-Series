{
 "cells": [
  {
   "cell_type": "code",
   "execution_count": 1,
   "metadata": {},
   "outputs": [],
   "source": [
    "import xml\n",
    "import xml.etree\n",
    "import xml.etree.ElementPath\n",
    "import xml.etree.ElementTree\n",
    "\n",
    "tree = xml.etree.ElementTree.parse('../XML/Data/movies.xml')\n",
    "root = tree.getroot()"
   ]
  },
  {
   "cell_type": "code",
   "execution_count": 2,
   "metadata": {},
   "outputs": [],
   "source": [
    "import re\n",
    "\n",
    "for form in root.findall(\"./genre/decade/movie/format\"):\n",
    "    match = re.search(',',form.text)\n",
    "    if match:\n",
    "        form.set('multiple','Yes')\n",
    "    else:\n",
    "        form.set('multiple','No')"
   ]
  },
  {
   "cell_type": "code",
   "execution_count": 4,
   "metadata": {},
   "outputs": [],
   "source": [
    "tree.write('../XML/Data/movies.xml')"
   ]
  },
  {
   "cell_type": "code",
   "execution_count": 5,
   "metadata": {},
   "outputs": [
    {
     "name": "stdout",
     "output_type": "stream",
     "text": [
      "{'multiple': 'No'} DVD\n",
      "{'multiple': 'Yes'} DVD,Online\n",
      "{'multiple': 'No'} Blu-ray\n",
      "{'multiple': 'Yes'} dvd, digital\n",
      "{'multiple': 'No'} VHS\n",
      "{'multiple': 'No'} Online\n",
      "{'multiple': 'No'} DVD\n",
      "{'multiple': 'No'} DVD\n",
      "{'multiple': 'No'} blue-ray\n"
     ]
    }
   ],
   "source": [
    "tree = xml.etree.ElementTree.parse('../XML/Data/movies.xml')\n",
    "root = tree.getroot()\n",
    "\n",
    "for form in root.findall(\"./genre/decade/movie/format\"):\n",
    "    print(form.attrib, form.text)"
   ]
  },
  {
   "cell_type": "code",
   "execution_count": null,
   "metadata": {},
   "outputs": [],
   "source": []
  }
 ],
 "metadata": {
  "kernelspec": {
   "display_name": "Python 3",
   "language": "python",
   "name": "python3"
  },
  "language_info": {
   "codemirror_mode": {
    "name": "ipython",
    "version": 3
   },
   "file_extension": ".py",
   "mimetype": "text/x-python",
   "name": "python",
   "nbconvert_exporter": "python",
   "pygments_lexer": "ipython3",
   "version": "3.11.6"
  }
 },
 "nbformat": 4,
 "nbformat_minor": 2
}
