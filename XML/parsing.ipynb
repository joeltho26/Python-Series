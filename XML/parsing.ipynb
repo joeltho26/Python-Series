{
 "cells": [
  {
   "cell_type": "code",
   "execution_count": 1,
   "metadata": {},
   "outputs": [
    {
     "name": "stdout",
     "output_type": "stream",
     "text": [
      "root:\n",
      "collection\n",
      "--------------------------------------------------\n",
      "root attribute: {}\n",
      "--------------------------------------------------\n"
     ]
    }
   ],
   "source": [
    "import xml\n",
    "import xml.etree\n",
    "import xml.etree.ElementPath\n",
    "import xml.etree.ElementTree\n",
    "\n",
    "def print_details(*args):\n",
    "    print(args[0])\n",
    "    print(args[1])\n",
    "    print(\"-\"*50)\n",
    "\n",
    "tree = xml.etree.ElementTree.parse('../XML/Data/movies.xml')\n",
    "root = tree.getroot()\n",
    "print_details(\"root:\",root.tag)\n",
    "print(\"root attribute:\",root.attrib)\n",
    "print(\"-\"*50)"
   ]
  },
  {
   "cell_type": "code",
   "execution_count": 2,
   "metadata": {},
   "outputs": [
    {
     "name": "stdout",
     "output_type": "stream",
     "text": [
      "genre {'category': 'Action'}\n",
      "genre {'category': 'Thriller'}\n",
      "--------------------------------------------------\n"
     ]
    }
   ],
   "source": [
    "for child in root:\n",
    "    print(child.tag, child.attrib)\n",
    "print(\"-\"*50)"
   ]
  },
  {
   "cell_type": "code",
   "execution_count": 3,
   "metadata": {},
   "outputs": [
    {
     "name": "stdout",
     "output_type": "stream",
     "text": [
      "iter:\n",
      "[('collection', {}), ('genre', {'category': 'Action'}), ('decade', {'years': '1980s'}), ('movie', {'favorite': 'True', 'title': 'Indiana Jones: The raiders of the lost Ark'}), ('format', {'multiple': 'No'}), ('year', {}), ('rating', {}), ('description', {}), ('movie', {'favorite': 'True', 'title': 'THE KARATE KID'}), ('format', {'multiple': 'Yes'}), ('year', {}), ('rating', {}), ('description', {}), ('movie', {'favorite': 'False', 'title': 'Back 2 the Future'}), ('format', {'multiple': 'False'}), ('year', {}), ('rating', {}), ('description', {}), ('decade', {'years': '1990s'}), ('movie', {'favorite': 'False', 'title': 'X-Men'}), ('format', {'multiple': 'Yes'}), ('year', {}), ('rating', {}), ('description', {}), ('movie', {'favorite': 'True', 'title': 'Batman Returns'}), ('format', {'multiple': 'No'}), ('year', {}), ('rating', {}), ('description', {}), ('movie', {'favorite': 'False', 'title': 'Reservoir Dogs'}), ('format', {'multiple': 'No'}), ('year', {}), ('rating', {}), ('description', {}), ('genre', {'category': 'Thriller'}), ('decade', {'years': '1970s'}), ('movie', {'favorite': 'False', 'title': 'ALIEN'}), ('format', {'multiple': 'Yes'}), ('year', {}), ('rating', {}), ('description', {}), ('decade', {'years': '1980s'}), ('movie', {'favorite': 'True', 'title': \"Ferris Bueller's Day Off\"}), ('format', {'multiple': 'No'}), ('year', {}), ('rating', {}), ('description', {}), ('movie', {'favorite': 'FALSE', 'title': 'American Psycho'}), ('format', {'multiple': 'No'}), ('year', {}), ('rating', {}), ('description', {})]\n",
      "--------------------------------------------------\n"
     ]
    }
   ],
   "source": [
    "print_details(\"iter:\",[(elem.tag,elem.attrib) for elem in root.iter()])"
   ]
  },
  {
   "cell_type": "code",
   "execution_count": 4,
   "metadata": {},
   "outputs": [
    {
     "name": "stdout",
     "output_type": "stream",
     "text": [
      "to string:\n",
      "<?xml version='1.0' encoding='utf8'?>\n",
      "<collection>\n",
      "    <genre category=\"Action\">\n",
      "        <decade years=\"1980s\">\n",
      "            <movie favorite=\"True\" title=\"Indiana Jones: The raiders of the lost Ark\">\n",
      "                <format multiple=\"No\">DVD</format>\n",
      "                <year>1981</year>\n",
      "                <rating>PG</rating>\n",
      "                <description>\n",
      "                'Archaeologist and adventurer Indiana Jones \n",
      "                is hired by the U.S. government to find the Ark of the \n",
      "                Covenant before the Nazis.'\n",
      "                </description>\n",
      "            </movie>\n",
      "               <movie favorite=\"True\" title=\"THE KARATE KID\">\n",
      "               <format multiple=\"Yes\">DVD,Online</format>\n",
      "               <year>1984</year>\n",
      "               <rating>PG</rating>\n",
      "               <description>None provided.</description>\n",
      "            </movie>\n",
      "            <movie favorite=\"False\" title=\"Back 2 the Future\">\n",
      "               <format multiple=\"False\">Blu-ray</format>\n",
      "               <year>1985</year>\n",
      "               <rating>PG</rating>\n",
      "               <description>Marty McFly</description>\n",
      "            </movie>\n",
      "        </decade>\n",
      "        <decade years=\"1990s\">\n",
      "            <movie favorite=\"False\" title=\"X-Men\">\n",
      "               <format multiple=\"Yes\">dvd, digital</format>\n",
      "               <year>2000</year>\n",
      "               <rating>PG-13</rating>\n",
      "               <description>Two mutants come to a private academy for their kind whose resident superhero team must \n",
      "               oppose a terrorist organization with similar powers.</description>\n",
      "            </movie>\n",
      "            <movie favorite=\"True\" title=\"Batman Returns\">\n",
      "               <format multiple=\"No\">VHS</format>\n",
      "               <year>1992</year>\n",
      "               <rating>PG13</rating>\n",
      "               <description>NA.</description>\n",
      "            </movie>\n",
      "               <movie favorite=\"False\" title=\"Reservoir Dogs\">\n",
      "               <format multiple=\"No\">Online</format>\n",
      "               <year>1992</year>\n",
      "               <rating>R</rating>\n",
      "               <description>WhAtEvER I Want!!!?!</description>\n",
      "            </movie>\n",
      "        </decade>    \n",
      "    </genre>\n",
      "\n",
      "    <genre category=\"Thriller\">\n",
      "        <decade years=\"1970s\">\n",
      "            <movie favorite=\"False\" title=\"ALIEN\">\n",
      "                <format multiple=\"Yes\">DVD</format>\n",
      "                <year>1979</year>\n",
      "                <rating>R</rating>\n",
      "                <description>\"\"\"\"\"\"\"\"\"</description>\n",
      "            </movie>\n",
      "        </decade>\n",
      "        <decade years=\"1980s\">\n",
      "            <movie favorite=\"True\" title=\"Ferris Bueller's Day Off\">\n",
      "                <format multiple=\"No\">DVD</format>\n",
      "                <year>1986</year>\n",
      "                <rating>PG13</rating>\n",
      "                <description>Funny movie about a funny guy</description>\n",
      "            </movie>\n",
      "            <movie favorite=\"FALSE\" title=\"American Psycho\">\n",
      "                <format multiple=\"No\">blue-ray</format>\n",
      "                <year>2000</year>\n",
      "                <rating>Unrated</rating>\n",
      "                <description>psychopathic Bateman</description>\n",
      "            </movie>\n",
      "        </decade>\n",
      "    </genre>\n",
      "</collection>\n",
      "--------------------------------------------------\n"
     ]
    }
   ],
   "source": [
    "print_details(\"to string:\", xml.etree.ElementTree.tostring(root, encoding='utf8').decode('utf8'))"
   ]
  },
  {
   "cell_type": "markdown",
   "metadata": {},
   "source": [
    "#### Using Xpaths:"
   ]
  },
  {
   "cell_type": "code",
   "execution_count": 5,
   "metadata": {},
   "outputs": [
    {
     "name": "stdout",
     "output_type": "stream",
     "text": [
      "description:\n",
      "\n",
      "                'Archaeologist and adventurer Indiana Jones \n",
      "                is hired by the U.S. government to find the Ark of the \n",
      "                Covenant before the Nazis.'\n",
      "                \n",
      "None provided.\n",
      "Marty McFly\n",
      "Two mutants come to a private academy for their kind whose resident superhero team must \n",
      "               oppose a terrorist organization with similar powers.\n",
      "NA.\n",
      "WhAtEvER I Want!!!?!\n",
      "\"\"\"\"\"\"\"\"\"\n",
      "Funny movie about a funny guy\n",
      "psychopathic Bateman\n",
      "--------------------------------------------------\n"
     ]
    }
   ],
   "source": [
    "print(\"description:\")\n",
    "for description in root.iter('description'):\n",
    "    print(description.text)\n",
    "print(\"-\"*50)"
   ]
  },
  {
   "cell_type": "code",
   "execution_count": 6,
   "metadata": {},
   "outputs": [
    {
     "name": "stdout",
     "output_type": "stream",
     "text": [
      "Movie:\n",
      "movie {'favorite': 'True', 'title': 'Batman Returns'}\n",
      "movie {'favorite': 'False', 'title': 'Reservoir Dogs'}\n",
      "--------------------------------------------------\n"
     ]
    }
   ],
   "source": [
    "print(\"Movie:\")\n",
    "for movie in root.findall(\"./genre/decade/movie/[year='1992']\"):\n",
    "    print(movie.tag, movie.attrib)\n",
    "print(\"-\"*50)"
   ]
  },
  {
   "cell_type": "code",
   "execution_count": 7,
   "metadata": {},
   "outputs": [
    {
     "name": "stdout",
     "output_type": "stream",
     "text": [
      "Format:\n",
      "format {'multiple': 'Yes'}\n",
      "format {'multiple': 'Yes'}\n",
      "format {'multiple': 'Yes'}\n",
      "--------------------------------------------------\n"
     ]
    }
   ],
   "source": [
    "print(\"Format:\")\n",
    "for movie in root.findall(\"./genre/decade/movie/format/[@multiple='Yes']\"):\n",
    "    print(movie.tag, movie.attrib)\n",
    "print(\"-\"*50)"
   ]
  },
  {
   "cell_type": "code",
   "execution_count": 8,
   "metadata": {},
   "outputs": [
    {
     "name": "stdout",
     "output_type": "stream",
     "text": [
      "Format (parent):\n",
      "movie {'favorite': 'True', 'title': 'THE KARATE KID'}\n",
      "movie {'favorite': 'False', 'title': 'X-Men'}\n",
      "movie {'favorite': 'False', 'title': 'ALIEN'}\n",
      "--------------------------------------------------\n"
     ]
    }
   ],
   "source": [
    "# ... return parent of the current element\n",
    "print(\"Format (parent):\")\n",
    "for movie in root.findall(\"./genre/decade/movie/format[@multiple='Yes']...\"):\n",
    "    print(movie.tag, movie.attrib)\n",
    "print(\"-\"*50)"
   ]
  },
  {
   "cell_type": "code",
   "execution_count": null,
   "metadata": {},
   "outputs": [],
   "source": []
  }
 ],
 "metadata": {
  "kernelspec": {
   "display_name": "Python 3",
   "language": "python",
   "name": "python3"
  },
  "language_info": {
   "codemirror_mode": {
    "name": "ipython",
    "version": 3
   },
   "file_extension": ".py",
   "mimetype": "text/x-python",
   "name": "python",
   "nbconvert_exporter": "python",
   "pygments_lexer": "ipython3",
   "version": "3.11.6"
  }
 },
 "nbformat": 4,
 "nbformat_minor": 2
}
