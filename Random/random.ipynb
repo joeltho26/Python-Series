{
 "cells": [
  {
   "cell_type": "code",
   "execution_count": 2,
   "metadata": {},
   "outputs": [
    {
     "name": "stdout",
     "output_type": "stream",
     "text": [
      "19\n"
     ]
    }
   ],
   "source": [
    "import random\n",
    "\n",
    "#int value between 10 to 20\n",
    "a = random.randint(10,20)\n",
    "print(a)\n"
   ]
  },
  {
   "cell_type": "code",
   "execution_count": 3,
   "metadata": {},
   "outputs": [
    {
     "name": "stdout",
     "output_type": "stream",
     "text": [
      "0.032585065282054626\n"
     ]
    }
   ],
   "source": [
    "#float value between 0 to 1\n",
    "a = random.random()\n",
    "print(a)"
   ]
  },
  {
   "cell_type": "code",
   "execution_count": 5,
   "metadata": {},
   "outputs": [
    {
     "name": "stdout",
     "output_type": "stream",
     "text": [
      "2.9302466982034234\n"
     ]
    }
   ],
   "source": [
    "#float value between 0 to 5\n",
    "a = random.uniform(1,5)\n",
    "print(a)"
   ]
  },
  {
   "cell_type": "code",
   "execution_count": 6,
   "metadata": {},
   "outputs": [
    {
     "name": "stdout",
     "output_type": "stream",
     "text": [
      "1\n"
     ]
    }
   ],
   "source": [
    "#int value between 0 to 4\n",
    "a = random.randrange(1,5)\n",
    "print(a)"
   ]
  },
  {
   "cell_type": "code",
   "execution_count": 7,
   "metadata": {},
   "outputs": [
    {
     "name": "stdout",
     "output_type": "stream",
     "text": [
      "4.203934759447744\n"
     ]
    }
   ],
   "source": [
    "#value with 'mu' (mean) -> 1 and 'sigma' (standard deviation) -> 2\n",
    "a = random.normalvariate(1,2)\n",
    "print(a)"
   ]
  },
  {
   "cell_type": "code",
   "execution_count": 8,
   "metadata": {},
   "outputs": [
    {
     "name": "stdout",
     "output_type": "stream",
     "text": [
      "4\n"
     ]
    }
   ],
   "source": [
    "# choose random value from the given list\n",
    "a = [1,4,2,7,5,9]\n",
    "print(random.choice(a))"
   ]
  },
  {
   "cell_type": "code",
   "execution_count": 9,
   "metadata": {},
   "outputs": [
    {
     "name": "stdout",
     "output_type": "stream",
     "text": [
      "[1, 5, 7]\n"
     ]
    }
   ],
   "source": [
    "# choose multiple random value (unique) from the given list\n",
    "a = [1,4,2,7,5,9]\n",
    "print(random.sample(a, 3))"
   ]
  },
  {
   "cell_type": "code",
   "execution_count": 11,
   "metadata": {},
   "outputs": [
    {
     "name": "stdout",
     "output_type": "stream",
     "text": [
      "[4, 4, 9]\n"
     ]
    }
   ],
   "source": [
    "# choose multiple random value (can contain duplicates) from the given list\n",
    "a = [1,4,2,7,5,9]\n",
    "print(random.choices(a, k=3))"
   ]
  },
  {
   "cell_type": "code",
   "execution_count": 15,
   "metadata": {},
   "outputs": [
    {
     "name": "stdout",
     "output_type": "stream",
     "text": [
      "[1, 2, 5, 9, 7, 4]\n"
     ]
    }
   ],
   "source": [
    "# shuffle the given list\n",
    "a = [1,4,2,7,5,9]\n",
    "random.shuffle(a)\n",
    "print(a)"
   ]
  },
  {
   "cell_type": "code",
   "execution_count": 17,
   "metadata": {},
   "outputs": [
    {
     "name": "stdout",
     "output_type": "stream",
     "text": [
      "0.13436424411240122\n",
      "1\n",
      "0.9560342718892494\n",
      "1\n",
      "0.13436424411240122\n",
      "1\n",
      "0.23796462709189137\n",
      "5\n",
      "0.9560342718892494\n",
      "1\n"
     ]
    }
   ],
   "source": [
    "#reproduce the same number eventhough we use random methods using seed\n",
    "\n",
    "a = [1,4,2,7,5,9]\n",
    "\n",
    "random.seed(1)\n",
    "print(random.random())\n",
    "print(random.choice(a))\n",
    "\n",
    "random.seed(2)\n",
    "print(random.random())\n",
    "print(random.choice(a))\n",
    "\n",
    "random.seed(1)\n",
    "print(random.random())\n",
    "print(random.choice(a))\n",
    "\n",
    "random.seed(3)\n",
    "print(random.random())\n",
    "print(random.choice(a))\n",
    "\n",
    "random.seed(2)\n",
    "print(random.random())\n",
    "print(random.choice(a))\n"
   ]
  },
  {
   "cell_type": "code",
   "execution_count": 19,
   "metadata": {},
   "outputs": [
    {
     "name": "stdout",
     "output_type": "stream",
     "text": [
      "6\n"
     ]
    }
   ],
   "source": [
    "# used in password, token, authentication, etc\n",
    "import secrets\n",
    "\n",
    "# int value below 10\n",
    "print(secrets.randbelow(10))\n",
    "\n",
    "# int value below 0 -> 15 i.e. 0000 <-> 1111 (1:2^3, 1:2^2, 1:2^1, 1:2^0)\n",
    "print(secrets.randbits(4))\n",
    "\n",
    "# int value below 10\n",
    "a = [1,4,2,7,5,9]\n",
    "print(secrets.choice(a))"
   ]
  }
 ],
 "metadata": {
  "kernelspec": {
   "display_name": "Python 3",
   "language": "python",
   "name": "python3"
  },
  "language_info": {
   "codemirror_mode": {
    "name": "ipython",
    "version": 3
   },
   "file_extension": ".py",
   "mimetype": "text/x-python",
   "name": "python",
   "nbconvert_exporter": "python",
   "pygments_lexer": "ipython3",
   "version": "3.11.6"
  }
 },
 "nbformat": 4,
 "nbformat_minor": 2
}
