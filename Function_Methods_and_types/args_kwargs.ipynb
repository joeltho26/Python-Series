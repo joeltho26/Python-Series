{
 "cells": [
  {
   "cell_type": "markdown",
   "metadata": {},
   "source": [
    "### Arguments & Keyword Arguments:\n",
    "- args -> arguments\n",
    "- kwargs -> keyword arguments\n",
    "- rule: first args followed by kwargs"
   ]
  },
  {
   "cell_type": "code",
   "execution_count": 1,
   "metadata": {},
   "outputs": [
    {
     "name": "stdout",
     "output_type": "stream",
     "text": [
      "1 2\n",
      "one two\n"
     ]
    }
   ],
   "source": [
    "def print_details(*args,**kwargs):\n",
    "    print(args[0], args[1])\n",
    "    print(kwargs['first'], kwargs['second'])\n",
    "    \n",
    "print_details(1,2,first='one',second='two')"
   ]
  },
  {
   "cell_type": "code",
   "execution_count": 11,
   "metadata": {},
   "outputs": [
    {
     "name": "stdout",
     "output_type": "stream",
     "text": [
      "1 2\n"
     ]
    }
   ],
   "source": [
    "def print_details(arg1,arg2,/):\n",
    "    print(arg1, arg2)\n",
    "    \n",
    "print_details(1,2)"
   ]
  },
  {
   "cell_type": "code",
   "execution_count": 9,
   "metadata": {},
   "outputs": [
    {
     "name": "stdout",
     "output_type": "stream",
     "text": [
      "1 2\n"
     ]
    }
   ],
   "source": [
    "def print_details(*,first,second):\n",
    "    print(first, second)\n",
    "    \n",
    "print_details(first='1', second='2')"
   ]
  },
  {
   "cell_type": "code",
   "execution_count": 12,
   "metadata": {},
   "outputs": [
    {
     "name": "stdout",
     "output_type": "stream",
     "text": [
      "1 2\n",
      "1 3\n"
     ]
    }
   ],
   "source": [
    "def print_details(*,first,second='2'):\n",
    "    print(first, second)\n",
    "    \n",
    "print_details(first='1')\n"
   ]
  },
  {
   "cell_type": "code",
   "execution_count": 13,
   "metadata": {},
   "outputs": [
    {
     "name": "stdout",
     "output_type": "stream",
     "text": [
      "1 3\n"
     ]
    }
   ],
   "source": [
    "def print_details(*,first,second='2'):\n",
    "    print(first, second)\n",
    "    \n",
    "print_details(first='1', second='3')"
   ]
  },
  {
   "cell_type": "code",
   "execution_count": 16,
   "metadata": {},
   "outputs": [
    {
     "name": "stdout",
     "output_type": "stream",
     "text": [
      "1\n",
      "[5, 6, 7, 8, 9, 10, 11, 12, 13, 14]\n"
     ]
    }
   ],
   "source": [
    "def print_details(*,first,data=[]):\n",
    "    print(first)\n",
    "    \n",
    "    for i in range(10):\n",
    "        data.append(i+5)\n",
    "    print(data)\n",
    "    \n",
    "print_details(first='1')"
   ]
  },
  {
   "cell_type": "code",
   "execution_count": null,
   "metadata": {},
   "outputs": [],
   "source": []
  }
 ],
 "metadata": {
  "kernelspec": {
   "display_name": "Python 3",
   "language": "python",
   "name": "python3"
  },
  "language_info": {
   "codemirror_mode": {
    "name": "ipython",
    "version": 3
   },
   "file_extension": ".py",
   "mimetype": "text/x-python",
   "name": "python",
   "nbconvert_exporter": "python",
   "pygments_lexer": "ipython3",
   "version": "3.11.6"
  }
 },
 "nbformat": 4,
 "nbformat_minor": 2
}
