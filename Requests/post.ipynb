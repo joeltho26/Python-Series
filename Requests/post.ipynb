{
 "cells": [
  {
   "cell_type": "code",
   "execution_count": 1,
   "metadata": {},
   "outputs": [
    {
     "name": "stdout",
     "output_type": "stream",
     "text": [
      "{\n",
      "  \"args\": {}, \n",
      "  \"data\": \"\", \n",
      "  \"files\": {}, \n",
      "  \"form\": {\n",
      "    \"key1\": \"value1\", \n",
      "    \"key2\": \"value2\"\n",
      "  }, \n",
      "  \"headers\": {\n",
      "    \"Accept\": \"*/*\", \n",
      "    \"Accept-Encoding\": \"gzip, deflate\", \n",
      "    \"Content-Length\": \"23\", \n",
      "    \"Content-Type\": \"application/x-www-form-urlencoded\", \n",
      "    \"Host\": \"httpbin.org\", \n",
      "    \"User-Agent\": \"python-requests/2.32.3\", \n",
      "    \"X-Amzn-Trace-Id\": \"Root=1-66f53fd1-32da4858649a13dd53742a5e\"\n",
      "  }, \n",
      "  \"json\": null, \n",
      "  \"origin\": \"49.37.211.187\", \n",
      "  \"url\": \"https://httpbin.org/post\"\n",
      "}\n",
      "\n",
      "{'User-Agent': 'python-requests/2.32.3', 'Accept-Encoding': 'gzip, deflate', 'Accept': '*/*', 'Connection': 'keep-alive'}\n"
     ]
    }
   ],
   "source": [
    "from requests import post\n",
    "import requests\n",
    "\n",
    "\"\"\"\n",
    "POST method is used to request that the origin server accept the entity enclosed in the \n",
    "request as a new subordinate of the resource identified by the Request-URI in the Request-Line.\n",
    "\n",
    "POST is NOT idempotent. So if you retry the request N times, \n",
    "you will end up having N resources with N different URIs created on server.\n",
    "\n",
    "Use POST when you want to add a child resource under resources collection. \n",
    "\n",
    "Always use POST for CREATE operations.\n",
    "\"\"\"\n",
    "\n",
    "payload = dict(key1='value1', key2='value2')\n",
    "r = post('https://httpbin.org/post', data=payload)\n",
    "print(r.text)\n",
    "\n",
    "with requests.Session() as s:\n",
    "    s.get('https://httpbin.org/get')\n",
    "    print(s.headers)"
   ]
  },
  {
   "cell_type": "code",
   "execution_count": null,
   "metadata": {},
   "outputs": [],
   "source": []
  }
 ],
 "metadata": {
  "kernelspec": {
   "display_name": "Python 3",
   "language": "python",
   "name": "python3"
  },
  "language_info": {
   "codemirror_mode": {
    "name": "ipython",
    "version": 3
   },
   "file_extension": ".py",
   "mimetype": "text/x-python",
   "name": "python",
   "nbconvert_exporter": "python",
   "pygments_lexer": "ipython3",
   "version": "3.11.6"
  }
 },
 "nbformat": 4,
 "nbformat_minor": 2
}
