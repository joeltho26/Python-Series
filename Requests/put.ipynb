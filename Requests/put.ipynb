{
 "cells": [
  {
   "cell_type": "code",
   "execution_count": 1,
   "metadata": {},
   "outputs": [
    {
     "name": "stdout",
     "output_type": "stream",
     "text": [
      "{\n",
      "  \"args\": {}, \n",
      "  \"data\": \"\", \n",
      "  \"files\": {}, \n",
      "  \"form\": {\n",
      "    \"key1\": \"value3\"\n",
      "  }, \n",
      "  \"headers\": {\n",
      "    \"Accept\": \"*/*\", \n",
      "    \"Accept-Encoding\": \"gzip, deflate\", \n",
      "    \"Content-Length\": \"11\", \n",
      "    \"Content-Type\": \"application/x-www-form-urlencoded\", \n",
      "    \"Host\": \"httpbin.org\", \n",
      "    \"User-Agent\": \"python-requests/2.32.3\", \n",
      "    \"X-Amzn-Trace-Id\": \"Root=1-66f54072-4d5ed52b3fa992d0683daf6a\"\n",
      "  }, \n",
      "  \"json\": null, \n",
      "  \"origin\": \"49.37.211.187\", \n",
      "  \"url\": \"https://httpbin.org/put\"\n",
      "}\n",
      "\n",
      "{'User-Agent': 'python-requests/2.32.3', 'Accept-Encoding': 'gzip, deflate', 'Accept': '*/*', 'Connection': 'keep-alive'}\n"
     ]
    }
   ],
   "source": [
    "from requests import put\n",
    "import requests\n",
    "\n",
    "\"\"\"\n",
    "PUT request is made to a particular resource. \n",
    "If the Request-URI refers to an already existing resource, an update operation will happen, \n",
    "otherwise create operation should happen if Request-URI is a valid resource URI \n",
    "\n",
    "PUT method is idempotent. So if you send retry a request multiple times, \n",
    "that should be equivalent to single request modification\n",
    "\n",
    "Use PUT when you want to modify a single resource which is already a part of resources collection. \n",
    "PUT overwrites the resource in its entirety. \n",
    "Use PATCH if request updates part of the resource. \n",
    "\n",
    "Generally, in practice, always use PUT for UPDATE operations.\n",
    "\"\"\"\n",
    "\n",
    "payload = dict(key1='value3')\n",
    "params = { 'category': 'electronics', 'tags': ['on-sale', 'clearance'] }\n",
    "http_proxy  = \"http://10.10.1.10:3128\"\n",
    "https_proxy = \"https://10.10.1.11:1080\"\n",
    "ftp_proxy   = \"ftp://10.10.1.10:3128\"\n",
    "proxies = { \n",
    "              \"http\"  : http_proxy, \n",
    "              \"https\" : https_proxy, \n",
    "              \"ftp\"   : ftp_proxy\n",
    "            }\n",
    "header = {'Date': 'Tue, 24 Sep 2024 13:19:04 GMT', 'Content-Type': 'text/html', 'Content-Length': '178', 'Connection': 'keep-alive', 'Server': 'gunicorn/19.9.0', 'Allow': 'OPTIONS, POST', 'Access-Control-Allow-Origin': '*', 'Access-Control-Allow-Credentials': 'true'}\n",
    "r = put('https://httpbin.org/put', data=payload, timeout=5)\n",
    "print(r.text)\n",
    "\n",
    "with requests.Session() as s:\n",
    "    s.get('https://httpbin.org/get')\n",
    "    print(s.headers)"
   ]
  }
 ],
 "metadata": {
  "kernelspec": {
   "display_name": "Python 3",
   "language": "python",
   "name": "python3"
  },
  "language_info": {
   "codemirror_mode": {
    "name": "ipython",
    "version": 3
   },
   "file_extension": ".py",
   "mimetype": "text/x-python",
   "name": "python",
   "nbconvert_exporter": "python",
   "pygments_lexer": "ipython3",
   "version": "3.11.6"
  }
 },
 "nbformat": 4,
 "nbformat_minor": 2
}
