{
 "cells": [
  {
   "cell_type": "code",
   "execution_count": 14,
   "metadata": {},
   "outputs": [
    {
     "name": "stdout",
     "output_type": "stream",
     "text": [
      "text:\n",
      "{\n",
      "  \"args\": {}, \n",
      "  \"headers\": {\n",
      "    \"Accept\": \"*/*\", \n",
      "    \"Accept-Encoding\": \"gzip, deflate\", \n",
      "    \"Host\": \"httpbin.org\", \n",
      "    \"User-Agent\": \"python-requests/2.32.3\", \n",
      "    \"X-Amzn-Trace-Id\": \"Root=1-66f53ee2-4ff1dd4e28a0018809f708a8\"\n",
      "  }, \n",
      "  \"origin\": \"49.37.211.187\", \n",
      "  \"url\": \"https://httpbin.org/get\"\n",
      "}\n",
      "\n",
      "--------------------------------------------------\n"
     ]
    }
   ],
   "source": [
    "from requests import request\n",
    "def print_details(*args):\n",
    "    print(args[0])\n",
    "    print(args[1])\n",
    "    print(\"-\"*50)\n",
    "\n",
    "request = request(method=\"get\",url=\"https://httpbin.org/get\")\n",
    "print_details(\"text:\", request.text)\n"
   ]
  },
  {
   "cell_type": "code",
   "execution_count": 15,
   "metadata": {},
   "outputs": [
    {
     "name": "stdout",
     "output_type": "stream",
     "text": [
      "headers:\n",
      "{'Date': 'Thu, 26 Sep 2024 11:00:50 GMT', 'Content-Type': 'application/json', 'Content-Length': '307', 'Connection': 'keep-alive', 'Server': 'gunicorn/19.9.0', 'Access-Control-Allow-Origin': '*', 'Access-Control-Allow-Credentials': 'true'}\n",
      "--------------------------------------------------\n"
     ]
    }
   ],
   "source": [
    "print_details(\"headers:\",request.headers)"
   ]
  },
  {
   "cell_type": "code",
   "execution_count": 16,
   "metadata": {},
   "outputs": [
    {
     "name": "stdout",
     "output_type": "stream",
     "text": [
      "status code:\n",
      "200\n",
      "--------------------------------------------------\n"
     ]
    }
   ],
   "source": [
    "print_details(\"status code:\",request.status_code)\n"
   ]
  },
  {
   "cell_type": "code",
   "execution_count": 17,
   "metadata": {},
   "outputs": [
    {
     "name": "stdout",
     "output_type": "stream",
     "text": [
      "content:\n",
      "b'{\\n  \"args\": {}, \\n  \"headers\": {\\n    \"Accept\": \"*/*\", \\n    \"Accept-Encoding\": \"gzip, deflate\", \\n    \"Host\": \"httpbin.org\", \\n    \"User-Agent\": \"python-requests/2.32.3\", \\n    \"X-Amzn-Trace-Id\": \"Root=1-66f53ee2-4ff1dd4e28a0018809f708a8\"\\n  }, \\n  \"origin\": \"49.37.211.187\", \\n  \"url\": \"https://httpbin.org/get\"\\n}\\n'\n",
      "--------------------------------------------------\n"
     ]
    }
   ],
   "source": [
    "print_details(\"content:\",request.content)"
   ]
  },
  {
   "cell_type": "code",
   "execution_count": 18,
   "metadata": {},
   "outputs": [
    {
     "name": "stdout",
     "output_type": "stream",
     "text": [
      "url:\n",
      "https://httpbin.org/get\n",
      "--------------------------------------------------\n"
     ]
    }
   ],
   "source": [
    "print_details(\"url:\",request.url)"
   ]
  },
  {
   "cell_type": "code",
   "execution_count": 19,
   "metadata": {},
   "outputs": [
    {
     "name": "stdout",
     "output_type": "stream",
     "text": [
      "cookies:\n",
      "<RequestsCookieJar[]>\n",
      "--------------------------------------------------\n"
     ]
    }
   ],
   "source": [
    "print_details(\"cookies:\",request.cookies)"
   ]
  },
  {
   "cell_type": "code",
   "execution_count": 20,
   "metadata": {},
   "outputs": [
    {
     "name": "stdout",
     "output_type": "stream",
     "text": [
      "history:\n",
      "[]\n",
      "--------------------------------------------------\n"
     ]
    }
   ],
   "source": [
    "print_details(\"history:\",request.history)\n"
   ]
  },
  {
   "cell_type": "code",
   "execution_count": 21,
   "metadata": {},
   "outputs": [
    {
     "name": "stdout",
     "output_type": "stream",
     "text": [
      "encoding:\n",
      "utf-8\n",
      "--------------------------------------------------\n"
     ]
    }
   ],
   "source": [
    "print_details(\"encoding:\",request.encoding)"
   ]
  },
  {
   "cell_type": "code",
   "execution_count": 22,
   "metadata": {},
   "outputs": [
    {
     "name": "stdout",
     "output_type": "stream",
     "text": [
      "elapsed:\n",
      "0:00:01.404658\n",
      "--------------------------------------------------\n"
     ]
    }
   ],
   "source": [
    "print_details(\"elapsed:\",request.elapsed)"
   ]
  },
  {
   "cell_type": "code",
   "execution_count": 23,
   "metadata": {},
   "outputs": [
    {
     "name": "stdout",
     "output_type": "stream",
     "text": [
      "links:\n",
      "{}\n",
      "--------------------------------------------------\n"
     ]
    }
   ],
   "source": [
    "print_details(\"links:\",request.links)"
   ]
  },
  {
   "cell_type": "code",
   "execution_count": 24,
   "metadata": {},
   "outputs": [
    {
     "name": "stdout",
     "output_type": "stream",
     "text": [
      "next:\n",
      "None\n",
      "--------------------------------------------------\n"
     ]
    }
   ],
   "source": [
    "print_details(\"next:\",request.next)\n"
   ]
  },
  {
   "cell_type": "code",
   "execution_count": 25,
   "metadata": {},
   "outputs": [
    {
     "name": "stdout",
     "output_type": "stream",
     "text": [
      "request:\n",
      "<PreparedRequest [GET]>\n",
      "--------------------------------------------------\n"
     ]
    }
   ],
   "source": [
    "print_details(\"request:\",request.request)"
   ]
  },
  {
   "cell_type": "code",
   "execution_count": null,
   "metadata": {},
   "outputs": [],
   "source": []
  }
 ],
 "metadata": {
  "kernelspec": {
   "display_name": "Python 3",
   "language": "python",
   "name": "python3"
  },
  "language_info": {
   "codemirror_mode": {
    "name": "ipython",
    "version": 3
   },
   "file_extension": ".py",
   "mimetype": "text/x-python",
   "name": "python",
   "nbconvert_exporter": "python",
   "pygments_lexer": "ipython3",
   "version": "3.11.6"
  }
 },
 "nbformat": 4,
 "nbformat_minor": 2
}
