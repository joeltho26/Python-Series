{
 "cells": [
  {
   "cell_type": "markdown",
   "metadata": {},
   "source": [
    "### Requests:"
   ]
  },
  {
   "cell_type": "code",
   "execution_count": 1,
   "metadata": {},
   "outputs": [
    {
     "data": {
      "text/plain": [
       "'\\nrequest(\\n    url: str | bytes,\\n    data: _Data | None = None,\\n    json: Any | None = None,\\n    *,\\n    params: _Params | None = ...,\\n    headers: _HeadersMapping | None = ...,\\n    cookies: RequestsCookieJar | _TextMapping | None = ...,\\n    files: _Files | None = ...,\\n    auth: _Auth | None = ...,\\n    timeout: _Timeout | None = ...,\\n    allow_redirects: bool = ...,\\n    proxies: _TextMapping | None = ...,\\n    hooks: _HooksInput | None = ...,\\n    stream: bool | None = ...,\\n    verify: _Verify | None = ...,\\n    cert: _Cert | None = ...\\n) -> Response\\n'"
      ]
     },
     "execution_count": 1,
     "metadata": {},
     "output_type": "execute_result"
    }
   ],
   "source": [
    "\"\"\"\n",
    "request(\n",
    "    url: str | bytes,\n",
    "    data: _Data | None = None,\n",
    "    json: Any | None = None,\n",
    "    *,\n",
    "    params: _Params | None = ...,\n",
    "    headers: _HeadersMapping | None = ...,\n",
    "    cookies: RequestsCookieJar | _TextMapping | None = ...,\n",
    "    files: _Files | None = ...,\n",
    "    auth: _Auth | None = ...,\n",
    "    timeout: _Timeout | None = ...,\n",
    "    allow_redirects: bool = ...,\n",
    "    proxies: _TextMapping | None = ...,\n",
    "    hooks: _HooksInput | None = ...,\n",
    "    stream: bool | None = ...,\n",
    "    verify: _Verify | None = ...,\n",
    "    cert: _Cert | None = ...\n",
    ") -> Response\n",
    "\"\"\""
   ]
  }
 ],
 "metadata": {
  "kernelspec": {
   "display_name": "Python 3",
   "language": "python",
   "name": "python3"
  },
  "language_info": {
   "codemirror_mode": {
    "name": "ipython",
    "version": 3
   },
   "file_extension": ".py",
   "mimetype": "text/x-python",
   "name": "python",
   "nbconvert_exporter": "python",
   "pygments_lexer": "ipython3",
   "version": "3.11.6"
  }
 },
 "nbformat": 4,
 "nbformat_minor": 2
}
