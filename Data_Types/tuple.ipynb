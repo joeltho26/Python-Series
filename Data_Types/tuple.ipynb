{
 "cells": [
  {
   "cell_type": "markdown",
   "metadata": {},
   "source": [
    "### Tuple:\n",
    "- Ordered\n",
    "- Unchangeable\n",
    "- Allow Duplicates"
   ]
  },
  {
   "cell_type": "code",
   "execution_count": 5,
   "metadata": {},
   "outputs": [
    {
     "name": "stdout",
     "output_type": "stream",
     "text": [
      "Element Index of tuple:\n",
      "0\n",
      "-------------------------\n",
      "Count of an element of tuple:\n",
      "2\n",
      "-------------------------\n",
      "length of tuple:\n",
      "5\n",
      "-------------------------\n",
      "unpacking of list:\n",
      "apple\n",
      "['orange', 'grape', 'banana']\n",
      "apple\n",
      "-------------------------\n",
      "unpacking of list with _ (ignoring value):\n",
      "apple\n",
      "['grape', 'banana', 'apple']\n",
      "-------------------------\n",
      "Modified tuple: \n",
      "('orange', 'grape', 'banana', 'apple', 'lemon')\n",
      "-------------------------\n",
      "list comprehension:\n",
      "['APPLE', 'ORANGE', 'GRAPE', 'BANANA', 'APPLE']\n",
      "-------------------------\n",
      "list comprehension with if:\n",
      "['ORANGE', 'BANANA']\n",
      "-------------------------\n",
      "list comprehension with if..else:\n",
      "[None, 'ORANGE', None, 'BANANA', None]\n",
      "-------------------------\n",
      "list comprehension with 2 for loops:\n",
      "[0, 0, 0, 0, 0, 0, 1, 2, 3, 4, 0, 2, 4, 6, 8]\n",
      "-------------------------\n"
     ]
    }
   ],
   "source": [
    "data = (1,5,7,2,5,7,2,9,4,8,1,0)\n",
    "data_string = tuple([\"apple\",\"orange\",\"grape\",\"banana\",\"apple\"])\n",
    "\n",
    "def print_details(*args):\n",
    "    print(args[0])\n",
    "    print(args[1])\n",
    "    # if len(args) > 2:\n",
    "    if args[0].lower().find(\"unpacking\") > -1:\n",
    "        for arg in args[2:]:\n",
    "            print(arg)\n",
    "    else:\n",
    "        pass\n",
    "    print(\"-\"*25)\n",
    "\n",
    "# element index\n",
    "print_details(\"Element Index of tuple:\",data_string.index(\"apple\"))\n",
    "\n",
    "# count element\n",
    "print_details(\"Count of an element of tuple:\",data_string.count(\"apple\"))\n",
    "\n",
    "# length of tuple\n",
    "print_details(\"length of tuple:\",len(data_string))\n",
    "\n",
    "# unpacking of tuple\n",
    "a,*b,c = data_string\n",
    "print_details(\"unpacking of list:\",a,b,c)\n",
    "\n",
    "a,_,*c = data_string\n",
    "print_details(\"unpacking of list with _ (ignoring value):\",a,c)\n",
    "\n",
    "#update, add, remove elements from tuple => convert to list and perform the necessary operation\n",
    "data_list = list(data_string)\n",
    "data_list.append(\"lemon\")\n",
    "data_list.remove(\"apple\")\n",
    "data_list = tuple(data_list)\n",
    "print_details(\"Modified tuple: \", tuple(data_list))\n",
    "\n",
    "# tuple comprehension\n",
    "print_details(\"list comprehension:\",[i.upper() for i in data_string])\n",
    "print_details(\"list comprehension with if:\", [i.upper() for i in data_string if len(i)%2==0])\n",
    "print_details(\"list comprehension with if..else:\", [i.upper() if len(i)%2==0 else None for i in data_string])\n",
    "print_details(\"list comprehension with 2 for loops:\", [i*j for i in range(0,3) for j in range(0,5)])\n",
    "\n"
   ]
  },
  {
   "cell_type": "code",
   "execution_count": null,
   "metadata": {},
   "outputs": [],
   "source": []
  }
 ],
 "metadata": {
  "kernelspec": {
   "display_name": "Python 3",
   "language": "python",
   "name": "python3"
  },
  "language_info": {
   "codemirror_mode": {
    "name": "ipython",
    "version": 3
   },
   "file_extension": ".py",
   "mimetype": "text/x-python",
   "name": "python",
   "nbconvert_exporter": "python",
   "pygments_lexer": "ipython3",
   "version": "3.11.6"
  }
 },
 "nbformat": 4,
 "nbformat_minor": 2
}
