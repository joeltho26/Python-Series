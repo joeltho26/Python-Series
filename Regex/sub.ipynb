{
 "cells": [
  {
   "cell_type": "code",
   "execution_count": 2,
   "metadata": {},
   "outputs": [
    {
     "name": "stdout",
     "output_type": "stream",
     "text": [
      "Sub from regex:\n",
      "_ello, world, SURPRISE!\n",
      "-------------------------\n"
     ]
    }
   ],
   "source": [
    "import re\n",
    "text = \"Hello, world, SURPRISE!\"\n",
    "\n",
    "def print_details(*args):\n",
    "    print(args[0])\n",
    "    print(args[1])\n",
    "    print(\"-\"*25)\n",
    "\n",
    "output = re.sub(r\"[A-Z]+\", \"_\", text, 1, flags=re.UNICODE)\n",
    "print_details(\"Sub from regex:\", output)"
   ]
  },
  {
   "cell_type": "code",
   "execution_count": null,
   "metadata": {},
   "outputs": [],
   "source": []
  }
 ],
 "metadata": {
  "kernelspec": {
   "display_name": "Python 3",
   "language": "python",
   "name": "python3"
  },
  "language_info": {
   "codemirror_mode": {
    "name": "ipython",
    "version": 3
   },
   "file_extension": ".py",
   "mimetype": "text/x-python",
   "name": "python",
   "nbconvert_exporter": "python",
   "pygments_lexer": "ipython3",
   "version": "3.11.6"
  }
 },
 "nbformat": 4,
 "nbformat_minor": 2
}
