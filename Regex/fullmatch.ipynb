{
 "cells": [
  {
   "cell_type": "code",
   "execution_count": 1,
   "metadata": {},
   "outputs": [
    {
     "name": "stdout",
     "output_type": "stream",
     "text": [
      "Fullmatch from regex:\n",
      "<re.Match object; span=(0, 23), match='Hello, world, SURPRISE!'>\n",
      "-------------------------\n"
     ]
    }
   ],
   "source": [
    "import re\n",
    "text = \"Hello, world, SURPRISE!\"\n",
    "\n",
    "def print_details(*args):\n",
    "    print(args[0])\n",
    "    print(args[1])\n",
    "    print(\"-\"*25)\n",
    "    \n",
    "output = re.fullmatch(r\"[A-Za-z\\,\\s\\!]+\", text, flags=re.UNICODE)\n",
    "print_details(\"Fullmatch from regex:\", output)"
   ]
  },
  {
   "cell_type": "code",
   "execution_count": 2,
   "metadata": {},
   "outputs": [
    {
     "name": "stdout",
     "output_type": "stream",
     "text": [
      "Fullmatch from regex (group):\n",
      "Hello, world, SURPRISE!\n",
      "-------------------------\n"
     ]
    }
   ],
   "source": [
    "print_details(\"Fullmatch from regex (group):\", output.group())"
   ]
  },
  {
   "cell_type": "code",
   "execution_count": 3,
   "metadata": {},
   "outputs": [
    {
     "name": "stdout",
     "output_type": "stream",
     "text": [
      "Fullmatch from regex (span):\n",
      "(0, 23)\n",
      "-------------------------\n"
     ]
    }
   ],
   "source": [
    "print_details(\"Fullmatch from regex (span):\", output.span())"
   ]
  },
  {
   "cell_type": "code",
   "execution_count": 4,
   "metadata": {},
   "outputs": [
    {
     "name": "stdout",
     "output_type": "stream",
     "text": [
      "Fullmatch from regex (string):\n",
      "Hello, world, SURPRISE!\n",
      "-------------------------\n"
     ]
    }
   ],
   "source": [
    "print_details(\"Fullmatch from regex (string):\", output.string)"
   ]
  },
  {
   "cell_type": "code",
   "execution_count": 5,
   "metadata": {},
   "outputs": [
    {
     "name": "stdout",
     "output_type": "stream",
     "text": [
      "Fullmatch from regex end index:\n",
      "23\n",
      "-------------------------\n"
     ]
    }
   ],
   "source": [
    "print_details(\"Fullmatch from regex end index:\", output.end())"
   ]
  },
  {
   "cell_type": "code",
   "execution_count": 6,
   "metadata": {},
   "outputs": [
    {
     "name": "stdout",
     "output_type": "stream",
     "text": [
      "Fullmatch from regex start index:\n",
      "0\n",
      "-------------------------\n"
     ]
    }
   ],
   "source": [
    "print_details(\"Fullmatch from regex start index:\", output.start())"
   ]
  },
  {
   "cell_type": "code",
   "execution_count": null,
   "metadata": {},
   "outputs": [],
   "source": []
  }
 ],
 "metadata": {
  "kernelspec": {
   "display_name": "Python 3",
   "language": "python",
   "name": "python3"
  },
  "language_info": {
   "codemirror_mode": {
    "name": "ipython",
    "version": 3
   },
   "file_extension": ".py",
   "mimetype": "text/x-python",
   "name": "python",
   "nbconvert_exporter": "python",
   "pygments_lexer": "ipython3",
   "version": "3.11.6"
  }
 },
 "nbformat": 4,
 "nbformat_minor": 2
}
