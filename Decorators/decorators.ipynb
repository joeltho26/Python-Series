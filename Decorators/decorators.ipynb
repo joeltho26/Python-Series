{
 "cells": [
  {
   "cell_type": "markdown",
   "metadata": {},
   "source": [
    "### Decorators:"
   ]
  },
  {
   "cell_type": "code",
   "execution_count": 2,
   "metadata": {},
   "outputs": [
    {
     "name": "stdout",
     "output_type": "stream",
     "text": [
      "Starting...\n",
      "Hello, Alex!\n",
      "Completed...\n"
     ]
    }
   ],
   "source": [
    "import functools\n",
    "\n",
    "def print_details(func):\n",
    "    @functools.wraps(func)\n",
    "    def wrapper(*args, **kwargs):\n",
    "        print(\"Starting...\")\n",
    "        func(*args,**kwargs)\n",
    "        print(\"Completed...\")\n",
    "    return wrapper\n",
    "\n",
    "@print_details\n",
    "def print_name(name):\n",
    "    print(f\"Hello, {name}!\")\n",
    "    \n",
    "if __name__ == \"__main__\":\n",
    "    print_name('Alex')\n"
   ]
  },
  {
   "cell_type": "code",
   "execution_count": 4,
   "metadata": {},
   "outputs": [
    {
     "name": "stdout",
     "output_type": "stream",
     "text": [
      "Starting...\n",
      "Hello, Alex!\n",
      "Hello, Alex!\n",
      "Hello, Alex!\n",
      "Hello, Alex!\n",
      "Hello, Alex!\n",
      "Completed...\n"
     ]
    }
   ],
   "source": [
    "def repeat(num):\n",
    "    def decorator(func):\n",
    "        @functools.wraps(func)\n",
    "        def wrapper(*args, **kwargs):\n",
    "            print(\"Starting...\")\n",
    "            for i in range(num):\n",
    "                func(*args,**kwargs)\n",
    "            print(\"Completed...\")\n",
    "        return wrapper\n",
    "    return decorator\n",
    "\n",
    "@repeat(num=5)\n",
    "def print_name(name):\n",
    "    print(f\"Hello, {name}!\")\n",
    "    \n",
    "if __name__ == \"__main__\":\n",
    "    print_name('Alex')"
   ]
  },
  {
   "cell_type": "code",
   "execution_count": 5,
   "metadata": {},
   "outputs": [
    {
     "name": "stdout",
     "output_type": "stream",
     "text": [
      "Starting...\n",
      "Hello, Alex!\n",
      "Hello, Alex!\n",
      "Hello, Alex!\n",
      "Hello, Alex!\n",
      "Hello, Alex!\n",
      "Completed...\n"
     ]
    }
   ],
   "source": [
    "class Repeat:\n",
    "    def repeat_times(num):\n",
    "        def decorator(func):\n",
    "            @functools.wraps(func)\n",
    "            def wrapper(*args, **kwargs):\n",
    "                print(\"Starting...\")\n",
    "                for i in range(num):\n",
    "                    func(*args,**kwargs)\n",
    "                print(\"Completed...\")\n",
    "            return wrapper\n",
    "        return decorator\n",
    "\n",
    "@Repeat.repeat_times(num=5)\n",
    "def print_name(name):\n",
    "    print(f\"Hello, {name}!\")\n",
    "    \n",
    "if __name__ == \"__main__\":\n",
    "    print_name('Alex')"
   ]
  },
  {
   "cell_type": "code",
   "execution_count": null,
   "metadata": {},
   "outputs": [],
   "source": [
    "from dataclasses import dataclass\n",
    "@dataclass\n",
    "class Person:\n",
    "    value: str  \n",
    "    \n",
    "    @property\n",
    "    def name(self) -> str:\n",
    "        return self.value\n",
    "    \n",
    "    @name.setter\n",
    "    def name(self, value: str) -> None:\n",
    "        self.value = value\n",
    "    \n",
    "    @name.deleter\n",
    "    def name(self) -> None:\n",
    "        del self.value\n",
    "    \n",
    "if __name__ == \"__main__\":\n",
    "    person = Person(\"John\")\n",
    "    print(person.name)\n",
    "    person.name = \"Mary\"\n",
    "    print(person.name)\n",
    "    del person.name"
   ]
  },
  {
   "cell_type": "code",
   "execution_count": null,
   "metadata": {},
   "outputs": [],
   "source": [
    "from dataclasses import dataclass\n",
    "@dataclass\n",
    "class Person:\n",
    "    value: str  \n",
    "    \n",
    "    @property\n",
    "    def name(self) -> str:\n",
    "        return self.value\n",
    "    \n",
    "    @name.setter\n",
    "    def name(self, value: str) -> None:\n",
    "        self.value = value\n",
    "    \n",
    "    @name.deleter\n",
    "    def name(self) -> None:\n",
    "        del self.value\n",
    "    \n",
    "if __name__ == \"__main__\":\n",
    "    person = Person(\"John\")\n",
    "    print(person.name)\n",
    "    person.name = \"Mary\"\n",
    "    print(person.name)\n",
    "    del person.name"
   ]
  },
  {
   "cell_type": "code",
   "execution_count": 3,
   "metadata": {},
   "outputs": [
    {
     "name": "stdout",
     "output_type": "stream",
     "text": [
      "My name is Mona and I am 10 years old\n"
     ]
    }
   ],
   "source": [
    "from dataclasses import dataclass\n",
    "\n",
    "@dataclass(kw_only=True)\n",
    "class Person:\n",
    "    name: str=\"Mona\"\n",
    "    age: int\n",
    "\n",
    "    def print_details(self):\n",
    "        print(f\"My name is {self.name} and I am {self.age} years old\")\n",
    "    \n",
    "\n",
    "p = Person(age=10)\n",
    "p.print_details()\n",
    "    "
   ]
  },
  {
   "cell_type": "code",
   "execution_count": 6,
   "metadata": {},
   "outputs": [
    {
     "name": "stdout",
     "output_type": "stream",
     "text": [
      "My name is Mona and I am 24 years old and I am studying in 12 standard\n"
     ]
    }
   ],
   "source": [
    "# https://docs.python.org/3/library/dataclasses.html#inheritance\n",
    "\n",
    "from dataclasses import dataclass\n",
    "\n",
    "@dataclass(kw_only=True)\n",
    "class Person:\n",
    "    name: str=\"Mona\"\n",
    "    age: int\n",
    "\n",
    "    def print_details(self):\n",
    "        print(f\"My name is {self.name} and I am {self.age} years old\")\n",
    "\n",
    "\n",
    "@dataclass(kw_only=True)\n",
    "class Student(Person):\n",
    "    standard: int\n",
    "\n",
    "    def print_details(self):\n",
    "        print(f\"My name is {self.name} and I am {self.age} years old and I am studying in {self.standard} standard\")\n",
    "    \n",
    "\n",
    "p = Student(age=24,standard=12)\n",
    "p.print_details()\n"
   ]
  },
  {
   "cell_type": "code",
   "execution_count": 1,
   "metadata": {},
   "outputs": [
    {
     "name": "stdout",
     "output_type": "stream",
     "text": [
      "Fruit\n",
      "Vegetable\n",
      "'Child' object has no attribute 'data'\n"
     ]
    }
   ],
   "source": [
    "class Parent:\n",
    "    def __init__(self, data: str):\n",
    "        self.data = data\n",
    "        \n",
    "class Child(Parent):\n",
    "    @property\n",
    "    def value(self) -> str:\n",
    "        return self.data\n",
    "    \n",
    "    @value.setter\n",
    "    def value(self, data: str) -> None:\n",
    "        self.data = data\n",
    "    \n",
    "    @value.deleter\n",
    "    def value(self) -> None:\n",
    "        del self.data\n",
    "        \n",
    "try:\n",
    "    r = Child(\"Fruit\")\n",
    "    print(r.value)\n",
    "    r.value = \"Vegetable\"\n",
    "    print(r.value)\n",
    "    del r.value\n",
    "    print(r.value)\n",
    "except Exception as err:\n",
    "    print(err)\n"
   ]
  },
  {
   "cell_type": "code",
   "execution_count": 1,
   "metadata": {},
   "outputs": [
    {
     "ename": "NameError",
     "evalue": "name 'func' is not defined",
     "output_type": "error",
     "traceback": [
      "\u001b[0;31m---------------------------------------------------------------------------\u001b[0m",
      "\u001b[0;31mNameError\u001b[0m                                 Traceback (most recent call last)",
      "Cell \u001b[0;32mIn[1], line 14\u001b[0m\n\u001b[1;32m     11\u001b[0m         \u001b[38;5;28;01mreturn\u001b[39;00m wrapper\n\u001b[1;32m     12\u001b[0m     \u001b[38;5;28;01mreturn\u001b[39;00m decorator\n\u001b[0;32m---> 14\u001b[0m \u001b[38;5;129m@repeat\u001b[39m\u001b[43m(\u001b[49m\u001b[43mn\u001b[49m\u001b[38;5;241;43m=\u001b[39;49m\u001b[38;5;241;43m5\u001b[39;49m\u001b[43m)\u001b[49m\n\u001b[1;32m     15\u001b[0m \u001b[38;5;28;01mdef\u001b[39;00m \u001b[38;5;21mprint_name\u001b[39m(name):\n\u001b[1;32m     16\u001b[0m     \u001b[38;5;28mprint\u001b[39m(\u001b[38;5;124mf\u001b[39m\u001b[38;5;124m\"\u001b[39m\u001b[38;5;124mMy name is \u001b[39m\u001b[38;5;132;01m{\u001b[39;00mname\u001b[38;5;132;01m}\u001b[39;00m\u001b[38;5;124m\"\u001b[39m)\n\u001b[1;32m     18\u001b[0m \u001b[38;5;28;01mif\u001b[39;00m \u001b[38;5;18m__name__\u001b[39m \u001b[38;5;241m==\u001b[39m \u001b[38;5;124m\"\u001b[39m\u001b[38;5;124m__main__\u001b[39m\u001b[38;5;124m\"\u001b[39m:\n",
      "Cell \u001b[0;32mIn[1], line 4\u001b[0m, in \u001b[0;36mrepeat\u001b[0;34m(n)\u001b[0m\n\u001b[1;32m      3\u001b[0m \u001b[38;5;28;01mdef\u001b[39;00m \u001b[38;5;21mrepeat\u001b[39m(n):\n\u001b[0;32m----> 4\u001b[0m     \u001b[38;5;129m@functools\u001b[39m\u001b[38;5;241m.\u001b[39mwraps(\u001b[43mfunc\u001b[49m)\n\u001b[1;32m      5\u001b[0m     \u001b[38;5;28;01mdef\u001b[39;00m \u001b[38;5;21mdecorator\u001b[39m(func):\n\u001b[1;32m      6\u001b[0m         \u001b[38;5;28;01mdef\u001b[39;00m \u001b[38;5;21mwrapper\u001b[39m(\u001b[38;5;241m*\u001b[39margs, \u001b[38;5;241m*\u001b[39m\u001b[38;5;241m*\u001b[39mkwargs):\n\u001b[1;32m      7\u001b[0m             \u001b[38;5;28;01mfor\u001b[39;00m i \u001b[38;5;129;01min\u001b[39;00m \u001b[38;5;28mrange\u001b[39m(n):\n",
      "\u001b[0;31mNameError\u001b[0m: name 'func' is not defined"
     ]
    }
   ],
   "source": [
    "import functools\n",
    "\n",
    "def repeat(n):\n",
    "    @functools.wraps(func)\n",
    "    def decorator(func):\n",
    "        def wrapper(*args, **kwargs):\n",
    "            for i in range(n):\n",
    "                print(\"Starting....\")\n",
    "                func(*args, **kwargs)\n",
    "                print(\"Completed...\")\n",
    "        return wrapper\n",
    "    return decorator\n",
    "\n",
    "@repeat(n=5)\n",
    "def print_name(name):\n",
    "    print(f\"My name is {name}\")\n",
    "\n",
    "if __name__ == \"__main__\":\n",
    "    print_name('Alex')\n",
    "        "
   ]
  },
  {
   "cell_type": "code",
   "execution_count": null,
   "metadata": {},
   "outputs": [],
   "source": []
  }
 ],
 "metadata": {
  "kernelspec": {
   "display_name": "Python 3",
   "language": "python",
   "name": "python3"
  },
  "language_info": {
   "codemirror_mode": {
    "name": "ipython",
    "version": 3
   },
   "file_extension": ".py",
   "mimetype": "text/x-python",
   "name": "python",
   "nbconvert_exporter": "python",
   "pygments_lexer": "ipython3",
   "version": "3.11.6"
  }
 },
 "nbformat": 4,
 "nbformat_minor": 2
}
