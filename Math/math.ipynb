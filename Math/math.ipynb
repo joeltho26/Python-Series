{
 "cells": [
  {
   "cell_type": "markdown",
   "metadata": {},
   "source": [
    "### Math:"
   ]
  },
  {
   "cell_type": "code",
   "execution_count": 28,
   "metadata": {},
   "outputs": [
    {
     "name": "stdout",
     "output_type": "stream",
     "text": [
      "max:\n",
      "9\n",
      "-------------------------\n",
      "min:\n",
      "1\n",
      "-------------------------\n",
      "absolute:\n",
      "10.3\n",
      "-------------------------\n",
      "power:\n",
      "1024\n",
      "-------------------------\n",
      "ordinal:\n",
      "97\n",
      "-------------------------\n",
      "divmod:\n",
      "(2, 2)\n",
      "-------------------------\n",
      "sqrt:\n",
      "4.0\n",
      "-------------------------\n",
      "log:\n",
      "0.6931471805599453\n",
      "-------------------------\n",
      "exponential:\n",
      "20.085536923187668\n",
      "-------------------------\n",
      "pi:\n",
      "3.141592653589793\n",
      "-------------------------\n",
      "ceil:\n",
      "11\n",
      "-------------------------\n",
      "floor:\n",
      "10\n",
      "-------------------------\n",
      "infinity:\n",
      "inf\n",
      "-------------------------\n",
      "greatest common divisor:\n",
      "25\n",
      "-------------------------\n",
      "factorial:\n",
      "120\n",
      "-------------------------\n",
      "remainder:\n",
      "0.0\n",
      "-------------------------\n",
      "product:\n",
      "8\n",
      "-------------------------\n",
      "lcm:\n",
      "30\n",
      "-------------------------\n"
     ]
    }
   ],
   "source": [
    "import math\n",
    "\n",
    "def print_details(*args):\n",
    "    print(args[0])\n",
    "    print(args[1])\n",
    "    print(\"-\"*25)\n",
    "\n",
    "data = [1,2,6,3,8,3,4,6,9]\n",
    "\n",
    "print_details(\"max:\", max(data))\n",
    "print_details(\"min:\", min(data))\n",
    "print_details(\"absolute:\", abs(-10.3)) # outputs always a non negative value\n",
    "print_details(\"power:\", pow(4,5))\n",
    "print_details(\"ordinal:\", ord('a')) # outputs ascii value of character\n",
    "print_details(\"divmod:\", divmod(10,4)) # outputs both the quotient and remainder\n",
    "print_details(\"sqrt:\", math.sqrt(16))\n",
    "print_details(\"log:\", math.log(2))\n",
    "print_details(\"exponential:\", math.exp(3))\n",
    "print_details(\"pi:\", math.pi)\n",
    "print_details(\"ceil:\", math.ceil(10.5))\n",
    "print_details(\"floor:\", math.floor(10.5))\n",
    "print_details(\"infinity:\", math.inf)\n",
    "print_details(\"greatest common divisor:\", math.gcd(75,25))\n",
    "print_details(\"factorial:\", math.factorial(5))\n",
    "print_details(\"remainder:\", math.remainder(10,2))\n",
    "print_details(\"product:\", math.prod([2,4]))\n",
    "print_details(\"lcm:\", math.lcm(10,15))"
   ]
  },
  {
   "cell_type": "code",
   "execution_count": null,
   "metadata": {},
   "outputs": [],
   "source": []
  }
 ],
 "metadata": {
  "kernelspec": {
   "display_name": "Python 3",
   "language": "python",
   "name": "python3"
  },
  "language_info": {
   "codemirror_mode": {
    "name": "ipython",
    "version": 3
   },
   "file_extension": ".py",
   "mimetype": "text/x-python",
   "name": "python",
   "nbconvert_exporter": "python",
   "pygments_lexer": "ipython3",
   "version": "3.11.6"
  }
 },
 "nbformat": 4,
 "nbformat_minor": 2
}
