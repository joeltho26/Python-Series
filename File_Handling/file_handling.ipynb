{
 "cells": [
  {
   "cell_type": "markdown",
   "metadata": {},
   "source": [
    "### File handling:"
   ]
  },
  {
   "cell_type": "code",
   "execution_count": 21,
   "metadata": {},
   "outputs": [
    {
     "name": "stdout",
     "output_type": "stream",
     "text": [
      "Paragraphs are the building blocks of papers. \n",
      "Many students define paragraphs in terms of length: a paragraph is a group of at least five sentences, a paragraph is half a page long, etc. \n",
      "In reality, though, the unity and coherence of ideas among sentences is what constitutes a paragraph. \n",
      "A paragraph is defined as “a group of sentences or a single sentence that forms a unit” (Lunsford and Connors 116). \n",
      "Length and appearance do not determine whether a section in a paper is a paragraph. \n",
      "For instance, in some styles of writing, particularly journalistic styles, a paragraph can be just one sentence long. \n",
      "Ultimately, a paragraph is a sentence or group of sentences that support one main idea. \n",
      "In this handout, we will refer to this as the “controlling idea,” because it controls what happens in the rest of the paragraphToday is a nice weather!Today is a nice weather!Today is a nice weather!\n",
      "Today is a nice weather!\n",
      "Today is a nice weather!GoodBye!\n",
      "Take care\n",
      "See you soon!\n"
     ]
    }
   ],
   "source": [
    "import os\n",
    "file = open(os.path.join(os.getcwd(),\"Files/file_handling_sample.txt\"),\"rt\")\n",
    "print(file.read())\n",
    "file.close()\n"
   ]
  },
  {
   "cell_type": "code",
   "execution_count": 12,
   "metadata": {},
   "outputs": [
    {
     "name": "stdout",
     "output_type": "stream",
     "text": [
      "Paragraphs are the building blocks of papers. \n",
      "Many students define paragraphs in terms of length: a paragraph is a group of at least five sentences, a paragraph is half a page long, etc. \n",
      "In reality, though, the unity and coherence of ideas among sentences is what constitutes a paragraph. \n",
      "A paragraph is defined as “a group of sentences or a single sentence that forms a unit” (Lunsford and Connors 116). \n",
      "Length and appearance do not determine whether a section in a paper is a paragraph. \n",
      "For instance, in some styles of writing, particularly journalistic styles, a paragraph can be just one sentence long. \n",
      "Ultimately, a paragraph is a sentence or group of sentences that support one main idea. \n",
      "In this handout, we will refer to this as the “controlling idea,” because it controls what happens in the rest of the paragraph"
     ]
    }
   ],
   "source": [
    "file = open(os.path.join(os.getcwd(),\"Files/file_handling_sample.txt\"),\"rt\")\n",
    "for i in file.readlines():\n",
    "    print(i, end=\"\")    \n",
    "file.close()"
   ]
  },
  {
   "cell_type": "code",
   "execution_count": 14,
   "metadata": {},
   "outputs": [
    {
     "data": {
      "text/plain": [
       "'Many students define paragraphs in terms of length: a paragraph is a group of at least five sentences, a paragraph is half a page long, etc. \\n'"
      ]
     },
     "execution_count": 14,
     "metadata": {},
     "output_type": "execute_result"
    }
   ],
   "source": [
    "file = open(os.path.join(os.getcwd(),\"Files/file_handling_sample.txt\"),\"rt\")\n",
    "file.readline()\n",
    "file.readline()\n",
    "file.close()"
   ]
  },
  {
   "cell_type": "code",
   "execution_count": 22,
   "metadata": {},
   "outputs": [
    {
     "name": "stdout",
     "output_type": "stream",
     "text": [
      "Paragraphs are the building blocks of papers. \n",
      "Many students define paragraphs in terms of length: a paragraph is a group of at least five sentences, a paragraph is half a page long, etc. \n",
      "In reality, though, the unity and coherence of ideas among sentences is what constitutes a paragraph. \n",
      "A paragraph is defined as “a group of sentences or a single sentence that forms a unit” (Lunsford and Connors 116). \n",
      "Length and appearance do not determine whether a section in a paper is a paragraph. \n",
      "For instance, in some styles of writing, particularly journalistic styles, a paragraph can be just one sentence long. \n",
      "Ultimately, a paragraph is a sentence or group of sentences that support one main idea. \n",
      "In this handout, we will refer to this as the “controlling idea,” because it controls what happens in the rest of the paragraphToday is a nice weather!Today is a nice weather!Today is a nice weather!\n",
      "Today is a nice weather!\n",
      "Today is a nice weather!GoodBye!\n",
      "Take care\n",
      "See you soon!\n",
      "Today is a nice weather!"
     ]
    }
   ],
   "source": [
    "file = open(os.path.join(os.getcwd(),\"Files/file_handling_sample.txt\"),\"at\")\n",
    "file.write(\"\\nToday is a nice weather!\")\n",
    "file.close()\n",
    "\n",
    "file = open(os.path.join(os.getcwd(),\"Files/file_handling_sample.txt\"),\"rt\")\n",
    "for i in file.readlines():\n",
    "    print(i, end=\"\")\n",
    "file.close()"
   ]
  },
  {
   "cell_type": "code",
   "execution_count": 20,
   "metadata": {},
   "outputs": [
    {
     "name": "stdout",
     "output_type": "stream",
     "text": [
      "Paragraphs are the building blocks of papers. \n",
      "Many students define paragraphs in terms of length: a paragraph is a group of at least five sentences, a paragraph is half a page long, etc. \n",
      "In reality, though, the unity and coherence of ideas among sentences is what constitutes a paragraph. \n",
      "A paragraph is defined as “a group of sentences or a single sentence that forms a unit” (Lunsford and Connors 116). \n",
      "Length and appearance do not determine whether a section in a paper is a paragraph. \n",
      "For instance, in some styles of writing, particularly journalistic styles, a paragraph can be just one sentence long. \n",
      "Ultimately, a paragraph is a sentence or group of sentences that support one main idea. \n",
      "In this handout, we will refer to this as the “controlling idea,” because it controls what happens in the rest of the paragraphToday is a nice weather!Today is a nice weather!Today is a nice weather!\n",
      "Today is a nice weather!\n",
      "Today is a nice weather!GoodBye!\n",
      "Take care\n",
      "See you soon!"
     ]
    }
   ],
   "source": [
    "file = open(os.path.join(os.getcwd(),\"Files/file_handling_sample.txt\"),\"at\")\n",
    "file.writelines([\"\\nTake care\", \"\\nSee you soon!\"])\n",
    "file.close()\n",
    "\n",
    "file = open(os.path.join(os.getcwd(),\"Files/file_handling_sample.txt\"),\"rt\")\n",
    "for i in file.readlines():\n",
    "    print(i, end=\"\")\n",
    "file.close()"
   ]
  },
  {
   "cell_type": "code",
   "execution_count": 23,
   "metadata": {},
   "outputs": [
    {
     "name": "stdout",
     "output_type": "stream",
     "text": [
      "0\n"
     ]
    }
   ],
   "source": [
    "file = open(os.path.join(os.getcwd(),\"Files/file_handling_sample.txt\"),\"rt\")\n",
    "print(file.tell())"
   ]
  },
  {
   "cell_type": "code",
   "execution_count": 26,
   "metadata": {},
   "outputs": [
    {
     "name": "stdout",
     "output_type": "stream",
     "text": [
      " are the building blocks of papers. \n",
      "Many students define paragraphs in terms of length: a paragraph is a group of at least five sentences, a paragraph is half a page long, etc. \n",
      "In reality, though, the unity and coherence of ideas among sentences is what constitutes a paragraph. \n",
      "A paragraph is defined as “a group of sentences or a single sentence that forms a unit” (Lunsford and Connors 116). \n",
      "Length and appearance do not determine whether a section in a paper is a paragraph. \n",
      "For instance, in some styles of writing, particularly journalistic styles, a paragraph can be just one sentence long. \n",
      "Ultimately, a paragraph is a sentence or group of sentences that support one main idea. \n",
      "In this handout, we will refer to this as the “controlling idea,” because it controls what happens in the rest of the paragraphToday is a nice weather!Today is a nice weather!Today is a nice weather!\n",
      "Today is a nice weather!\n",
      "Today is a nice weather!GoodBye!\n",
      "Take care\n",
      "See you soon!\n",
      "Today is a nice weather!"
     ]
    }
   ],
   "source": [
    "file = open(os.path.join(os.getcwd(),\"Files/file_handling_sample.txt\"),\"rt\")\n",
    "file.seek(10)\n",
    "for i in file.readlines():\n",
    "    print(i, end=\"\")\n",
    "file.close()"
   ]
  },
  {
   "cell_type": "code",
   "execution_count": null,
   "metadata": {},
   "outputs": [],
   "source": []
  }
 ],
 "metadata": {
  "kernelspec": {
   "display_name": "Python 3",
   "language": "python",
   "name": "python3"
  },
  "language_info": {
   "codemirror_mode": {
    "name": "ipython",
    "version": 3
   },
   "file_extension": ".py",
   "mimetype": "text/x-python",
   "name": "python",
   "nbconvert_exporter": "python",
   "pygments_lexer": "ipython3",
   "version": "3.11.6"
  }
 },
 "nbformat": 4,
 "nbformat_minor": 2
}
