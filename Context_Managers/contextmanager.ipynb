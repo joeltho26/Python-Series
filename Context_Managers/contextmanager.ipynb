{
 "cells": [
  {
   "cell_type": "markdown",
   "metadata": {},
   "source": [
    "### Context Manager:\n",
    "- tool for resource management\n",
    "- allows to allocate and release resources whenever"
   ]
  },
  {
   "cell_type": "markdown",
   "metadata": {},
   "source": [
    "#### Open context manager:"
   ]
  },
  {
   "cell_type": "code",
   "execution_count": 5,
   "metadata": {},
   "outputs": [
    {
     "name": "stdout",
     "output_type": "stream",
     "text": [
      "The dog was dead. \n",
      "There was a garden fork sticking out of the dog.\n",
      "The points of the fork must have gone all the way through the dog and into the ground.\n"
     ]
    }
   ],
   "source": [
    "with open(\"/Users/joeljoseph26/Documents/Education/Back-End/Python/Python-Series/Files/file_context_manager.txt\",\"rt\") as file:\n",
    "    data = file.read()\n",
    "    print(data)"
   ]
  },
  {
   "cell_type": "code",
   "execution_count": 7,
   "metadata": {},
   "outputs": [],
   "source": [
    "with open(\"/Users/joeljoseph26/Documents/Education/Back-End/Python/Python-Series/Files/write_file_context_manager.txt\",\"wt\") as file:\n",
    "    file.write(\"Hello, World\")\n",
    "    file.writelines([\"The Bicycle of Boeing brand is painted in Red.\\n\",\"It is manufactured in 2014\\n\"])"
   ]
  },
  {
   "cell_type": "code",
   "execution_count": 2,
   "metadata": {},
   "outputs": [
    {
     "name": "stdout",
     "output_type": "stream",
     "text": [
      "{'User-Agent': 'python-requests/2.32.3', 'Accept-Encoding': 'gzip, deflate', 'Accept': '*/*', 'Connection': 'keep-alive'}\n"
     ]
    }
   ],
   "source": [
    "import requests\n",
    "with requests.Session() as s:\n",
    "    s.get('https://httpbin.org/get')\n",
    "    print(s.headers)"
   ]
  },
  {
   "cell_type": "markdown",
   "metadata": {},
   "source": [
    "#### Custom context manager:"
   ]
  },
  {
   "cell_type": "code",
   "execution_count": 9,
   "metadata": {},
   "outputs": [
    {
     "name": "stdout",
     "output_type": "stream",
     "text": [
      "enter\n",
      "Do something...\n",
      "exc: <class 'AttributeError'> '_io.TextIOWrapper' object has no attribute 'somemethod' <traceback object at 0x1064068c0>\n",
      "exit\n"
     ]
    },
    {
     "ename": "AttributeError",
     "evalue": "'_io.TextIOWrapper' object has no attribute 'somemethod'",
     "output_type": "error",
     "traceback": [
      "\u001b[0;31m---------------------------------------------------------------------------\u001b[0m",
      "\u001b[0;31mAttributeError\u001b[0m                            Traceback (most recent call last)",
      "Cell \u001b[0;32mIn[9], line 19\u001b[0m\n\u001b[1;32m     17\u001b[0m     \u001b[38;5;28mprint\u001b[39m(\u001b[38;5;124m'\u001b[39m\u001b[38;5;124mDo something...\u001b[39m\u001b[38;5;124m'\u001b[39m)\n\u001b[1;32m     18\u001b[0m     file\u001b[38;5;241m.\u001b[39mwrite(\u001b[38;5;124m'\u001b[39m\u001b[38;5;124msome todo...\u001b[39m\u001b[38;5;124m'\u001b[39m)  \n\u001b[0;32m---> 19\u001b[0m     \u001b[43mfile\u001b[49m\u001b[38;5;241;43m.\u001b[39;49m\u001b[43msomemethod\u001b[49m() \n\u001b[1;32m     21\u001b[0m \u001b[38;5;28mprint\u001b[39m(\u001b[38;5;124m\"\u001b[39m\u001b[38;5;124mcontinuing...\u001b[39m\u001b[38;5;124m\"\u001b[39m)     \n",
      "\u001b[0;31mAttributeError\u001b[0m: '_io.TextIOWrapper' object has no attribute 'somemethod'"
     ]
    }
   ],
   "source": [
    "class ManagedFile:\n",
    "    def __init__(self, filename):\n",
    "        self.filename = filename\n",
    "        \n",
    "    def __enter__(self):\n",
    "        print(\"enter\")\n",
    "        self.file = open(self.filename, 'w')\n",
    "        return self.file\n",
    "        \n",
    "    def __exit__(self, exc_type, exc_value, exc_traceback):\n",
    "        if not self.file:\n",
    "            self.file.close()\n",
    "        print(\"exc:\", exc_type, exc_value, exc_traceback)\n",
    "        print(\"exit\")\n",
    "        \n",
    "with ManagedFile('notes.txt') as file:\n",
    "    print('Do something...')\n",
    "    file.write('some todo...')  \n",
    "    file.somemethod() \n",
    "    \n",
    "print(\"continuing...\")     \n"
   ]
  },
  {
   "cell_type": "code",
   "execution_count": 14,
   "metadata": {},
   "outputs": [
    {
     "name": "stdout",
     "output_type": "stream",
     "text": [
      "enter\n",
      "Do something...\n",
      "exit\n",
      "continuing...\n"
     ]
    }
   ],
   "source": [
    "class ManagedFile:\n",
    "    def __init__(self, filename):\n",
    "        self.filename = filename\n",
    "        \n",
    "    def __enter__(self):\n",
    "        print(\"enter\")\n",
    "        self.file = open(self.filename, 'w')\n",
    "        return self.file\n",
    "        \n",
    "    def __exit__(self, exc_type, exc_value, exc_traceback):\n",
    "        if not self.file:\n",
    "            self.file.close()\n",
    "        if not exc_type:\n",
    "            print(\"Exception has been handled\")\n",
    "        print(\"exit\")\n",
    "        return True\n",
    "        \n",
    "with ManagedFile('notes.txt') as file:\n",
    "    print('Do something...')\n",
    "    file.write('some todo...')  \n",
    "    file.somemethod() \n",
    "    \n",
    "print(\"continuing...\")     \n"
   ]
  },
  {
   "cell_type": "code",
   "execution_count": 15,
   "metadata": {},
   "outputs": [],
   "source": [
    "from contextlib import contextmanager\n",
    "\n",
    "@contextmanager\n",
    "def open_managed_file(filename):\n",
    "    f = open(filename,'w')\n",
    "    try:\n",
    "        yield f # yield will temporarily hold the process here and go to the below with open_managed_file statement\n",
    "    finally: # once with open_managed_file statement completed, it will continue here\n",
    "        f.close()\n",
    "        \n",
    "        \n",
    "with open_managed_file('notes.txt') as file:\n",
    "    file.write('Hello, world!')"
   ]
  }
 ],
 "metadata": {
  "kernelspec": {
   "display_name": "Python 3",
   "language": "python",
   "name": "python3"
  },
  "language_info": {
   "codemirror_mode": {
    "name": "ipython",
    "version": 3
   },
   "file_extension": ".py",
   "mimetype": "text/x-python",
   "name": "python",
   "nbconvert_exporter": "python",
   "pygments_lexer": "ipython3",
   "version": "3.11.6"
  }
 },
 "nbformat": 4,
 "nbformat_minor": 2
}
