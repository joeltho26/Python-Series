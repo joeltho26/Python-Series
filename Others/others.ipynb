{
 "cells": [
  {
   "cell_type": "markdown",
   "metadata": {},
   "source": [
    "### Filter:"
   ]
  },
  {
   "cell_type": "code",
   "execution_count": 7,
   "metadata": {},
   "outputs": [
    {
     "name": "stdout",
     "output_type": "stream",
     "text": [
      "[10, 20, 30]\n"
     ]
    }
   ],
   "source": [
    "filter_data = [10,20,30,35,45]\n",
    "val = filter(lambda x: x%10==0,filter_data)\n",
    "print(list(val))"
   ]
  },
  {
   "cell_type": "markdown",
   "metadata": {},
   "source": [
    "### Map:"
   ]
  },
  {
   "cell_type": "code",
   "execution_count": 2,
   "metadata": {},
   "outputs": [
    {
     "name": "stdout",
     "output_type": "stream",
     "text": [
      "[20, 40, 60]\n"
     ]
    }
   ],
   "source": [
    "map_data = [10,20,30]\n",
    "double = map(lambda x: x + x,map_data)\n",
    "print(list(double))"
   ]
  },
  {
   "cell_type": "markdown",
   "metadata": {},
   "source": [
    "### Globals:\n",
    "\n",
    "Python globals() function is a built-in function in Python that returns the dictionary of the current global symbol table. \n",
    "\n",
    "##### Symbol table: \n",
    "A symbol table is a data structure that contains all necessary information about the program. These include variable names, methods, classes, etc. The global symbol table stores all information related to the program’s global scope and is accessed in Python using the globals() method. The functions, and variables that are not associated with any class or function are stored in global scope.\n"
   ]
  },
  {
   "cell_type": "code",
   "execution_count": 7,
   "metadata": {},
   "outputs": [
    {
     "name": "stdout",
     "output_type": "stream",
     "text": [
      "15\n",
      "----------------------------------------------------------------------------------------------------\n"
     ]
    },
    {
     "data": {
      "text/plain": [
       "{'__name__': '__main__',\n",
       " '__doc__': 'Automatically created module for IPython interactive environment',\n",
       " '__package__': None,\n",
       " '__loader__': None,\n",
       " '__spec__': None,\n",
       " '__builtin__': <module 'builtins' (built-in)>,\n",
       " '__builtins__': <module 'builtins' (built-in)>,\n",
       " '_ih': ['',\n",
       "  'a = 5\\ndef func():\\n    c = 10\\n    d = c + a\\n     \\n    # Calling globals()\\n    globals()[\\'a\\'] = d\\n    print (a)\\n     \\n# Driver Code    \\nfunc()\\nglobals()\\nprint(\"-\"*100)\\nlocals()',\n",
       "  'a = 5\\ndef func():\\n    c = 10\\n    d = c + a\\n     \\n    # Calling globals()\\n    globals()[\\'a\\'] = d\\n    print (a)\\n     \\n# Driver Code    \\n# func()\\nglobals()\\nprint(\"-\"*100)\\nlocals()',\n",
       "  'a = 5\\ndef func():\\n    c = 10\\n    d = c + a\\n     \\n    # Calling globals()\\n    globals()[\\'a\\'] = d\\n    print (a)\\n     \\n# Driver Code    \\n# func()\\nglobals()\\nprint(\"-\"*100)\\nlocals()\\nprint(\"-\"*100)\\nglobals()',\n",
       "  'a = 5\\ndef func():\\n    c = 10\\n    d = c + a\\n     \\n    # Calling globals()\\n    globals()[\\'a\\'] = d\\n    print(\"variables local:\", locals())\\n    print (a)\\n     \\n# Driver Code    \\nfunc()\\nprint(\"-\"*100)\\nglobals()',\n",
       "  'a = 5\\ndef func():\\n    c = 10\\n    d = c + a\\n     \\n    # Calling globals()\\n    globals()[\\'a\\'] = d\\n    print(\"variables local:\", locals())\\n    print (a)\\nprint(\"variables globals:\", globals())\\n# Driver Code    \\nfunc()\\nprint(\"-\"*100)\\nglobals()',\n",
       "  'a = 5\\ndef func():\\n    c = 10\\n    d = c + a\\n     \\n    # Calling globals()\\n    globals()[\\'a\\'] = d\\n    print(\"variables local:\", locals())\\n    print (a)\\n\\n# Driver Code    \\nfunc()\\nprint(\"-\"*100)\\nglobals()',\n",
       "  'a = 5\\ndef func():\\n    c = 10\\n    d = c + a\\n     \\n    # Calling globals()\\n    globals()[\\'a\\'] = d\\n    print (a)\\n\\n# Driver Code    \\nfunc()\\nprint(\"-\"*100)\\nglobals()'],\n",
       " '_oh': {1: {...}, 2: {...}, 3: {...}, 4: {...}, 5: {...}, 6: {...}},\n",
       " '_dh': [PosixPath('/Users/joeljoseph26/Documents/Education/Back-End/Python/Python-Series')],\n",
       " 'In': ['',\n",
       "  'a = 5\\ndef func():\\n    c = 10\\n    d = c + a\\n     \\n    # Calling globals()\\n    globals()[\\'a\\'] = d\\n    print (a)\\n     \\n# Driver Code    \\nfunc()\\nglobals()\\nprint(\"-\"*100)\\nlocals()',\n",
       "  'a = 5\\ndef func():\\n    c = 10\\n    d = c + a\\n     \\n    # Calling globals()\\n    globals()[\\'a\\'] = d\\n    print (a)\\n     \\n# Driver Code    \\n# func()\\nglobals()\\nprint(\"-\"*100)\\nlocals()',\n",
       "  'a = 5\\ndef func():\\n    c = 10\\n    d = c + a\\n     \\n    # Calling globals()\\n    globals()[\\'a\\'] = d\\n    print (a)\\n     \\n# Driver Code    \\n# func()\\nglobals()\\nprint(\"-\"*100)\\nlocals()\\nprint(\"-\"*100)\\nglobals()',\n",
       "  'a = 5\\ndef func():\\n    c = 10\\n    d = c + a\\n     \\n    # Calling globals()\\n    globals()[\\'a\\'] = d\\n    print(\"variables local:\", locals())\\n    print (a)\\n     \\n# Driver Code    \\nfunc()\\nprint(\"-\"*100)\\nglobals()',\n",
       "  'a = 5\\ndef func():\\n    c = 10\\n    d = c + a\\n     \\n    # Calling globals()\\n    globals()[\\'a\\'] = d\\n    print(\"variables local:\", locals())\\n    print (a)\\nprint(\"variables globals:\", globals())\\n# Driver Code    \\nfunc()\\nprint(\"-\"*100)\\nglobals()',\n",
       "  'a = 5\\ndef func():\\n    c = 10\\n    d = c + a\\n     \\n    # Calling globals()\\n    globals()[\\'a\\'] = d\\n    print(\"variables local:\", locals())\\n    print (a)\\n\\n# Driver Code    \\nfunc()\\nprint(\"-\"*100)\\nglobals()',\n",
       "  'a = 5\\ndef func():\\n    c = 10\\n    d = c + a\\n     \\n    # Calling globals()\\n    globals()[\\'a\\'] = d\\n    print (a)\\n\\n# Driver Code    \\nfunc()\\nprint(\"-\"*100)\\nglobals()'],\n",
       " 'Out': {1: {...}, 2: {...}, 3: {...}, 4: {...}, 5: {...}, 6: {...}},\n",
       " 'get_ipython': <bound method InteractiveShell.get_ipython of <ipykernel.zmqshell.ZMQInteractiveShell object at 0x1125f16d0>>,\n",
       " 'exit': <IPython.core.autocall.ZMQExitAutocall at 0x112601c50>,\n",
       " 'quit': <IPython.core.autocall.ZMQExitAutocall at 0x112601c50>,\n",
       " 'open': <function io.open(file, mode='r', buffering=-1, encoding=None, errors=None, newline=None, closefd=True, opener=None)>,\n",
       " '_': {...},\n",
       " '__': {...},\n",
       " '___': {...},\n",
       " '__vsc_ipynb_file__': '/Users/joeljoseph26/Documents/Education/Back-End/Python/Python-Series/others.ipynb',\n",
       " '_i': 'a = 5\\ndef func():\\n    c = 10\\n    d = c + a\\n     \\n    # Calling globals()\\n    globals()[\\'a\\'] = d\\n    print(\"variables local:\", locals())\\n    print (a)\\n\\n# Driver Code    \\nfunc()\\nprint(\"-\"*100)\\nglobals()',\n",
       " '_ii': 'a = 5\\ndef func():\\n    c = 10\\n    d = c + a\\n     \\n    # Calling globals()\\n    globals()[\\'a\\'] = d\\n    print(\"variables local:\", locals())\\n    print (a)\\nprint(\"variables globals:\", globals())\\n# Driver Code    \\nfunc()\\nprint(\"-\"*100)\\nglobals()',\n",
       " '_iii': 'a = 5\\ndef func():\\n    c = 10\\n    d = c + a\\n     \\n    # Calling globals()\\n    globals()[\\'a\\'] = d\\n    print(\"variables local:\", locals())\\n    print (a)\\n     \\n# Driver Code    \\nfunc()\\nprint(\"-\"*100)\\nglobals()',\n",
       " '_i1': 'a = 5\\ndef func():\\n    c = 10\\n    d = c + a\\n     \\n    # Calling globals()\\n    globals()[\\'a\\'] = d\\n    print (a)\\n     \\n# Driver Code    \\nfunc()\\nglobals()\\nprint(\"-\"*100)\\nlocals()',\n",
       " 'a': 15,\n",
       " 'func': <function __main__.func()>,\n",
       " '_1': {...},\n",
       " '_i2': 'a = 5\\ndef func():\\n    c = 10\\n    d = c + a\\n     \\n    # Calling globals()\\n    globals()[\\'a\\'] = d\\n    print (a)\\n     \\n# Driver Code    \\n# func()\\nglobals()\\nprint(\"-\"*100)\\nlocals()',\n",
       " '_2': {...},\n",
       " '_i3': 'a = 5\\ndef func():\\n    c = 10\\n    d = c + a\\n     \\n    # Calling globals()\\n    globals()[\\'a\\'] = d\\n    print (a)\\n     \\n# Driver Code    \\n# func()\\nglobals()\\nprint(\"-\"*100)\\nlocals()\\nprint(\"-\"*100)\\nglobals()',\n",
       " '_3': {...},\n",
       " '_i4': 'a = 5\\ndef func():\\n    c = 10\\n    d = c + a\\n     \\n    # Calling globals()\\n    globals()[\\'a\\'] = d\\n    print(\"variables local:\", locals())\\n    print (a)\\n     \\n# Driver Code    \\nfunc()\\nprint(\"-\"*100)\\nglobals()',\n",
       " '_4': {...},\n",
       " '_i5': 'a = 5\\ndef func():\\n    c = 10\\n    d = c + a\\n     \\n    # Calling globals()\\n    globals()[\\'a\\'] = d\\n    print(\"variables local:\", locals())\\n    print (a)\\nprint(\"variables globals:\", globals())\\n# Driver Code    \\nfunc()\\nprint(\"-\"*100)\\nglobals()',\n",
       " '_5': {...},\n",
       " '_i6': 'a = 5\\ndef func():\\n    c = 10\\n    d = c + a\\n     \\n    # Calling globals()\\n    globals()[\\'a\\'] = d\\n    print(\"variables local:\", locals())\\n    print (a)\\n\\n# Driver Code    \\nfunc()\\nprint(\"-\"*100)\\nglobals()',\n",
       " '_6': {...},\n",
       " '_i7': 'a = 5\\ndef func():\\n    c = 10\\n    d = c + a\\n     \\n    # Calling globals()\\n    globals()[\\'a\\'] = d\\n    print (a)\\n\\n# Driver Code    \\nfunc()\\nprint(\"-\"*100)\\nglobals()'}"
      ]
     },
     "execution_count": 7,
     "metadata": {},
     "output_type": "execute_result"
    }
   ],
   "source": [
    "# globals value can be updated\n",
    "a = 5\n",
    "def func():\n",
    "    c = 10\n",
    "    d = c + a\n",
    "     \n",
    "    # Calling globals()\n",
    "    globals()['a'] = d\n",
    "    print (a)\n",
    "\n",
    "# Driver Code    \n",
    "func()\n",
    "print(\"-\"*100)\n",
    "globals()"
   ]
  },
  {
   "cell_type": "markdown",
   "metadata": {},
   "source": [
    "### Locals:"
   ]
  },
  {
   "cell_type": "code",
   "execution_count": 9,
   "metadata": {},
   "outputs": [
    {
     "name": "stdout",
     "output_type": "stream",
     "text": [
      "local variables:  {'c': 10, 'd': 15}\n",
      "5\n"
     ]
    }
   ],
   "source": [
    "# locals value cannot be updated\n",
    "a = 5\n",
    "def func():\n",
    "    c = 10\n",
    "    d = c + a\n",
    "     \n",
    "    # Calling globals()\n",
    "    print(\"local variables: \", locals())\n",
    "    print (a)\n",
    "\n",
    "# Driver Code    \n",
    "func()\n"
   ]
  },
  {
   "cell_type": "markdown",
   "metadata": {},
   "source": [
    "#### reversed:"
   ]
  },
  {
   "cell_type": "code",
   "execution_count": 2,
   "metadata": {},
   "outputs": [
    {
     "name": "stdout",
     "output_type": "stream",
     "text": [
      "[8, 2, 6, 3, 1, 9, 5, 3]\n"
     ]
    }
   ],
   "source": [
    "a = [3,5,9,1,3,6,2,8]\n",
    "print(list(reversed(a)))"
   ]
  },
  {
   "cell_type": "markdown",
   "metadata": {},
   "source": [
    "#### sorted:"
   ]
  },
  {
   "cell_type": "code",
   "execution_count": 3,
   "metadata": {},
   "outputs": [
    {
     "name": "stdout",
     "output_type": "stream",
     "text": [
      "[6, 2, 8, 3, 5, 9, 1, 3]\n"
     ]
    }
   ],
   "source": [
    "a = [3,5,9,1,3,6,2,8]\n",
    "print(sorted(a, key=lambda x: x%2==0, reverse=True))"
   ]
  },
  {
   "cell_type": "markdown",
   "metadata": {},
   "source": [
    "### Vars:"
   ]
  },
  {
   "cell_type": "code",
   "execution_count": 5,
   "metadata": {},
   "outputs": [
    {
     "name": "stdout",
     "output_type": "stream",
     "text": [
      "{'__module__': '__main__', 'name': 'John', 'age': 36, 'country': 'norway', '__dict__': <attribute '__dict__' of 'Person' objects>, '__weakref__': <attribute '__weakref__' of 'Person' objects>, '__doc__': None}\n"
     ]
    }
   ],
   "source": [
    "class Person:\n",
    "  name = \"John\"\n",
    "  age = 36\n",
    "  country = \"norway\"\n",
    "\n",
    "x = vars(Person)\n",
    "print(x)"
   ]
  },
  {
   "cell_type": "markdown",
   "metadata": {},
   "source": [
    "#### Assert:"
   ]
  },
  {
   "cell_type": "code",
   "execution_count": 6,
   "metadata": {},
   "outputs": [
    {
     "ename": "AssertionError",
     "evalue": "X is not greater than 10",
     "output_type": "error",
     "traceback": [
      "\u001b[0;31m---------------------------------------------------------------------------\u001b[0m",
      "\u001b[0;31mAssertionError\u001b[0m                            Traceback (most recent call last)",
      "Cell \u001b[0;32mIn[6], line 2\u001b[0m\n\u001b[1;32m      1\u001b[0m x \u001b[38;5;241m=\u001b[39m \u001b[38;5;241m5\u001b[39m\n\u001b[0;32m----> 2\u001b[0m \u001b[38;5;28;01massert\u001b[39;00m(x\u001b[38;5;241m>\u001b[39m\u001b[38;5;241m10\u001b[39m), \u001b[38;5;124m\"\u001b[39m\u001b[38;5;124mX is not greater than 10\u001b[39m\u001b[38;5;124m\"\u001b[39m\n\u001b[1;32m      4\u001b[0m x \u001b[38;5;241m=\u001b[39m \u001b[38;5;241m15\u001b[39m\n\u001b[1;32m      5\u001b[0m \u001b[38;5;28;01massert\u001b[39;00m(x\u001b[38;5;241m>\u001b[39m\u001b[38;5;241m10\u001b[39m), \u001b[38;5;124m\"\u001b[39m\u001b[38;5;124mX is not greater than 10\u001b[39m\u001b[38;5;124m\"\u001b[39m\n",
      "\u001b[0;31mAssertionError\u001b[0m: X is not greater than 10"
     ]
    }
   ],
   "source": [
    "x = 5\n",
    "assert(x>10), \"X is not greater than 10\"\n",
    "\n",
    "x = 15\n",
    "assert(x>10), \"X is not greater than 10\""
   ]
  },
  {
   "cell_type": "markdown",
   "metadata": {},
   "source": [
    "#### Property:"
   ]
  },
  {
   "cell_type": "code",
   "execution_count": 7,
   "metadata": {},
   "outputs": [
    {
     "name": "stdout",
     "output_type": "stream",
     "text": [
      "John\n",
      "Mary\n"
     ]
    }
   ],
   "source": [
    "from dataclasses import dataclass\n",
    "\n",
    "@dataclass\n",
    "class Person:\n",
    "    name: str  \n",
    "    \n",
    "    def get_name(self) -> str:\n",
    "        return self._name\n",
    "    \n",
    "    def set_name(self, value: str) -> None:\n",
    "        self._name = value\n",
    "    \n",
    "    def del_name(self) -> None:\n",
    "        del self._name\n",
    "        \n",
    "    name = property(get_name,set_name,del_name)\n",
    "    \n",
    "if __name__ == \"__main__\":\n",
    "    person = Person(\"John\")\n",
    "    print(person.name)\n",
    "    person.name = \"Mary\"\n",
    "    print(person.name)\n",
    "    del person.name"
   ]
  },
  {
   "cell_type": "markdown",
   "metadata": {},
   "source": [
    "### Dataclass:"
   ]
  },
  {
   "cell_type": "code",
   "execution_count": 6,
   "metadata": {},
   "outputs": [
    {
     "name": "stdout",
     "output_type": "stream",
     "text": [
      "John\n",
      "Mary\n"
     ]
    }
   ],
   "source": [
    "from dataclasses import dataclass\n",
    "\n",
    "@dataclass\n",
    "class Person:\n",
    "    def __init__(self,name):\n",
    "        self.name = name \n",
    "    \n",
    "    def get_name(self) -> str:\n",
    "        return self._name\n",
    "    \n",
    "    def set_name(self, value: str) -> None:\n",
    "        self._name = value\n",
    "    \n",
    "    def del_name(self) -> None:\n",
    "        del self._name\n",
    "        \n",
    "    name = property(get_name,set_name,del_name)\n",
    "    \n",
    "if __name__ == \"__main__\":\n",
    "    person = Person(\"John\")\n",
    "    print(person.name)\n",
    "    person.name = \"Mary\"\n",
    "    print(person.name)\n",
    "    del person.name"
   ]
  },
  {
   "cell_type": "markdown",
   "metadata": {},
   "source": [
    "### Shallow Copy Vs Deep Copy:"
   ]
  },
  {
   "cell_type": "code",
   "execution_count": 2,
   "metadata": {},
   "outputs": [
    {
     "name": "stdout",
     "output_type": "stream",
     "text": [
      "[10, 2, 3] [10, 2, 3]\n"
     ]
    }
   ],
   "source": [
    "a = [1,2,3]\n",
    "b = a\n",
    "b[0] = 10\n",
    "print(a, b)  # [10, 2, 3]"
   ]
  },
  {
   "cell_type": "code",
   "execution_count": 3,
   "metadata": {},
   "outputs": [
    {
     "name": "stdout",
     "output_type": "stream",
     "text": [
      "[1, 2, 3] [10, 2, 3]\n"
     ]
    }
   ],
   "source": [
    "a = [1,2,3]\n",
    "b = list(a)\n",
    "b[0] = 10\n",
    "print(a, b) "
   ]
  },
  {
   "cell_type": "code",
   "execution_count": 4,
   "metadata": {},
   "outputs": [
    {
     "name": "stdout",
     "output_type": "stream",
     "text": [
      "[1, 2, 3] [10, 2, 3]\n"
     ]
    }
   ],
   "source": [
    "import copy \n",
    "a = [1,2,3]\n",
    "b = a.copy()\n",
    "b[0] = 10\n",
    "print(a, b) "
   ]
  },
  {
   "cell_type": "code",
   "execution_count": 5,
   "metadata": {},
   "outputs": [
    {
     "name": "stdout",
     "output_type": "stream",
     "text": [
      "[[1, 10], [3, 4], [5, 6, 7]] [[1, 10], [3, 4], [5, 6, 7]]\n"
     ]
    }
   ],
   "source": [
    "a = [[1,2],[3,4],[5,6,7]]\n",
    "b = a.copy()\n",
    "b[0][1] = 10\n",
    "print(a,b)"
   ]
  },
  {
   "cell_type": "code",
   "execution_count": 8,
   "metadata": {},
   "outputs": [
    {
     "name": "stdout",
     "output_type": "stream",
     "text": [
      "[[1, 2], [3, 4], [5, 6, 7]] [[1, 10], [3, 4], [5, 6, 7]]\n"
     ]
    }
   ],
   "source": [
    "from copy import deepcopy\n",
    "a = [[1,2],[3,4],[5,6,7]]\n",
    "b = deepcopy(a)\n",
    "b[0][1] = 10\n",
    "print(a,b)"
   ]
  },
  {
   "cell_type": "code",
   "execution_count": 30,
   "metadata": {},
   "outputs": [
    {
     "name": "stdout",
     "output_type": "stream",
     "text": [
      "Person('Alex')\n",
      "Person('John')\n",
      "--------------------\n",
      "Company('Person('Alex')', 'Person('John')')\n",
      "Company('Person('Alex')', 'Person('John')')\n",
      "--------------------\n",
      "Company('Person('Cole')', 'Person('John')')\n",
      "Company('Person('Cole')', 'Person('John')')\n",
      "--------------------\n",
      "Company('Person('Cole')', 'Person('John')')\n",
      "Company('Person('Ronnie')', 'Person('John')')\n",
      "--------------------\n",
      "Company('Person('Cole')', 'Person('John')')\n",
      "Company('Person('Maria')', 'Person('John')')\n"
     ]
    }
   ],
   "source": [
    "import copy\n",
    "\n",
    "class Person:\n",
    "    def __init__(self, name):\n",
    "        self.name = name\n",
    "        \n",
    "    def __repr__(self):\n",
    "        return f\"{self.__class__.__name__}('{self.name}')\"\n",
    "        \n",
    "class Company(Person):\n",
    "    def __init__(self, boss, employee):\n",
    "        self.boss = boss\n",
    "        self.employee = employee\n",
    "        \n",
    "    def __repr__(self):\n",
    "        return f\"{self.__class__.__name__}('{self.boss}', '{self.employee}')\"\n",
    "        \n",
    "p1 = Person('Alex')\n",
    "p2 = Person('John')\n",
    "print(p1)\n",
    "print(p2)\n",
    "\n",
    "company = Company(p1,p2)\n",
    "company_clone = copy.copy(company)\n",
    "print(\"-\"*20)\n",
    "print(company)\n",
    "print(company_clone)\n",
    "\n",
    "print(\"-\"*20)\n",
    "company_clone.boss.name = 'Cole'\n",
    "print(company)\n",
    "print(company_clone)\n",
    "\n",
    "\n",
    "#use this to avoid shallow copy\n",
    "print(\"-\"*20)\n",
    "company_clone2 = copy.deepcopy(company)\n",
    "company_clone2.boss.name = 'Ronnie'\n",
    "print(company)\n",
    "print(company_clone2)\n",
    "\n",
    "print(\"-\"*20)\n",
    "company_clone.boss = Person('Maria')\n",
    "print(company)\n",
    "print(company_clone)"
   ]
  },
  {
   "cell_type": "code",
   "execution_count": null,
   "metadata": {},
   "outputs": [],
   "source": []
  }
 ],
 "metadata": {
  "kernelspec": {
   "display_name": "Python 3",
   "language": "python",
   "name": "python3"
  },
  "language_info": {
   "codemirror_mode": {
    "name": "ipython",
    "version": 3
   },
   "file_extension": ".py",
   "mimetype": "text/x-python",
   "name": "python",
   "nbconvert_exporter": "python",
   "pygments_lexer": "ipython3",
   "version": "3.11.6"
  }
 },
 "nbformat": 4,
 "nbformat_minor": 2
}
