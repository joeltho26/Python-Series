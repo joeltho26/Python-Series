{
 "cells": [
  {
   "cell_type": "markdown",
   "metadata": {},
   "source": [
    "## HTML Data:"
   ]
  },
  {
   "cell_type": "code",
   "execution_count": 2,
   "metadata": {},
   "outputs": [],
   "source": [
    "from bs4 import BeautifulSoup\n",
    "\n",
    "html_doc = \"\"\"\n",
    "<html>\n",
    "    <head>\n",
    "        <title>\n",
    "            Welcome to geeksforgeeks\n",
    "        </title>\n",
    "    </head> \n",
    "    <body> \n",
    "        <p class=\"title\"><b>Geeks</b></p> \n",
    "        <p class=\"body\">geeksforgeeks a computer science portal for geeks </p> \n",
    "    </body> \n",
    "</html>\n",
    "\"\"\""
   ]
  },
  {
   "cell_type": "markdown",
   "metadata": {},
   "source": [
    "## find method:"
   ]
  },
  {
   "cell_type": "code",
   "execution_count": 3,
   "metadata": {},
   "outputs": [
    {
     "data": {
      "text/plain": [
       "<p class=\"body\">geeksforgeeks a computer science portal for geeks </p>"
      ]
     },
     "execution_count": 3,
     "metadata": {},
     "output_type": "execute_result"
    }
   ],
   "source": [
    "\n",
    "soup = BeautifulSoup(html_doc, 'html.parser') \n",
    "soup.find(class_ = \"body\" )"
   ]
  },
  {
   "cell_type": "markdown",
   "metadata": {},
   "source": [
    "## Using GET request to download HTML content:"
   ]
  },
  {
   "cell_type": "code",
   "execution_count": 5,
   "metadata": {},
   "outputs": [],
   "source": [
    "import requests \n",
    "\n",
    "#extract all classes\n",
    "URL = 'https://www.geeksforgeeks.org/'\n",
    "\n",
    "page = requests.get(URL) \n",
    "soup = BeautifulSoup(page.content, 'html5lib') "
   ]
  },
  {
   "cell_type": "markdown",
   "metadata": {},
   "source": [
    "## Using find_all method:"
   ]
  },
  {
   "cell_type": "code",
   "execution_count": 6,
   "metadata": {},
   "outputs": [
    {
     "name": "stdout",
     "output_type": "stream",
     "text": [
      "{'div', 'img', 'input', 'footer', 'script', 'ul', 'span', 'i', 'path', 'html', 'head', 'a', 'noscript', 'style', 'body', 'svg', 'meta', 'h2', 'button', 'li', 'link', 'title'}\n"
     ]
    }
   ],
   "source": [
    "tags = {tag.name for tag in soup.find_all()} \n",
    "print(tags)"
   ]
  },
  {
   "cell_type": "markdown",
   "metadata": {},
   "source": [
    "## Using has_attrs:"
   ]
  },
  {
   "cell_type": "code",
   "execution_count": 8,
   "metadata": {},
   "outputs": [
    {
     "name": "stdout",
     "output_type": "stream",
     "text": [
      "{'App', 'socialIcon youtube', 'HomePageTopicCard_homePageTopicCard__eePhS row8', 'HomePageTopicsContainer_homePageTopicsContainer_header__WYYBB', 'darkMode-wrap darkMode-wrap-desktop', 'gfg-footer', 'headerMainLogo', 'HomePageTopicCard_homePageTopicCard_button--icon__VYq8d', 'headerMainListDark', 'HomePageCourseCard_homePageCourseCard_textContainer_level__2nbvZ', 'socialIcon linkedin', 'mainContainerSubheader', 'HomePageArticleCard_homePageArticleCard--cta__CUjXy', 'root', 'HomePageTopicCard_homePageTopicCard__eePhS row7', 'HomePageSectionHeader_homePageSectionHeader--cta__aRzJv home_viewall_row5', 'logo', 'HomePageTopicCard_homePageTopicCard__eePhS row1', 'footer-container_branding-social', 'social-links', 'HomePageSectionHeader_homePageSectionHeader--cta__aRzJv home_viewall_row1', 'HomePageTopicCard_homePageTopicCard__eePhS row5', 'HomePageTopicCard_homePageTopicCard_button__JKWch', 'HomePageArticleCard_homePageArticleCard--cta--icon___IAfv', 'HomePageTopicCard_homePageTopicCard__eePhS row6', 'HomePageSearchContainer_homePageSearchContainer_container--icon__6FDkO', 'footer-container_links_list-items', 'HomePageArticlesContainer_homePageArticlesContainer__SacfT', 'gfg-icon gfg-icon-black-big-right-carrot _5pxBottom', 'HomePageCourseCard_homePageCourseCard_textContainer_container_geeksCount--icon__OfLKQ', 'containerWrapperDark', 'SearchChip_searchChip__oKfVN', 'HomePageSectionHeader_homePageSectionHeader--cta__aRzJv home_viewall_row2', 'HomePageTopicsContainer_homePageTopicsContainer_cardsContainer__rNWDY', 'HomePageCourseCard_homePageCourseCard_image__au041', 'footer-container_address_content footer_address', 'HomePageSectionHeader_homePageSectionHeader--cta__aRzJv home_viewall_row7', 'HomePageCourseCard_homePageCourseCard__1Z34I', 'HomePageCoursesContainer_homePageCoursesContainer_header__EBoXo', 'gfgheader_parentContainer', 'socialIcon twitter', 'gfgLogoImg normal', 'SearchContainerChips_searchContainerChips__PnpvD', 'HomePageSectionHeader_homePageSectionHeader__Gdp6s viewAll_courses', 'HomePageCourseCard_homePageCourseCard_textContainer_level--icon__z96MC', 'HomePageSectionHeader_homePageSectionHeader__Gdp6s viewAll_articles', 'footer-container_branding-address', 'footer-container_links_list-title', 'HomePageTopicsContainer_homePageTopicsContainer__G7Ad5', 'footer-strip', 'gfg_header__root', 'headerMainListItemDark', 'HomePageCourseCard_homePageCourseCard_textContainer_container_geeksCount__qOvOm', 'flexR gs-toggle-icon', 'HomePageArticlesContainer_homePageArticlesContainer_cardsContainer__edrGd', 'suggestion_box_collection', 'footer-container_right', 'HomePageSectionHeader_homePageSectionHeader--cta__aRzJv home_viewall_row10', 'HomePageSectionHeader_homePageSectionHeader--cta__aRzJv home_viewall_row3', 'HomePageCourseCard_homePageCourseCard--starRating__lztEN', 'footer-container_left', 'HomePageTopicCard_homePageTopicCard__eePhS row10', 'gs-input_wrapper', 'leftIcon icon', 'HomePageCourseCard_homePageCourseCard_textContainer_heading__lrAZE', 'socialIcon instagram', 'HomePageCourseCard_homePageCourseCard_textContainer_level--text__gdzdr', 'HomePageCoursesContainer_homePageCoursesContainer__gCbAe', 'HomePageSectionHeader_homePageSectionHeader--cta__aRzJv home_viewall_row4', 'copyright', 'index_homePageContainer__H8GJD', 'HomePageSectionHeader_homePageSectionHeader--cta__aRzJv home_viewall_row9', 'genericHeaderListClass', 'gfg-icon gfg-icon-grey-translate', 'darkModeTooltipText', 'HomePageTopicCard_homePageTopicCard__eePhS row3', 'footer-container_branding-logo', 'gfg-icon gfg-icon-black-big-right-carrot _3pxTop', 'notification_container', 'gs-plus-suggestion-container', 'HomePageSearchContainer_homePageSearchContainer_container__vWZMD', 'HomePageTopicCard_homePageTopicCard__eePhS row11', 'containerSubheader', 'footer-container_branding-logo-container', 'header-main__container', 'HomePageArticleCard_homePageArticleCard__a_mZs', 'link', 'headerContainerDark', 'suggestion_box', 'HomePageCourseCard_homePageCourseCard_textContainer_container--cta__9ajVC', 'HomePageTopicCard_homePageTopicCard__eePhS row4', 'HomePageCourseCard_homePageCourseCard_textContainer___928L', 'HomePageSectionHeader_homePageSectionHeader--cta__aRzJv', 'HomePageArticlesContainer_homePageArticlesContainer_header__SThWg', 'HomePageSearchContainer_homePageSearchContainer_heading__DhWmd', 'gfg-icon gfg-icon-white-search', 'socialIcon facebook', 'footer-container_links-list', 'root gfg_header__root', 'HomePageSectionHeader_homePageSectionHeader--cta__aRzJv home_viewall_row6', 'HomePageSearchContainer_homePageSearchContainer_container_input__1LS0r', 'HomePageCourseCard_homePageCourseCard--starRating--icon__odhp2', 'gfg-icon gfg-icon_dark-mode', 'notification-bell-icon', 'HomePageCoursesContainer_homePageCoursesContainer_cardsContainer__XLFxQ', 'rightIcon icon', 'footer-container_branding-app', 'suggestion_box_collection_item suggestion_box_collection_color_highlighted', 'gfg-icon gfg-icon-white-down-carrot genericHeaderListClass', 'HomePageSectionHeader_homePageSectionHeader_heading__HVYsv', 'HomePageSearchContainer_homePageSearchContainer__bNc8c', 'HomePageTopicCard_homePageTopicCard__eePhS row2', 'HomePageCourseCard_homePageCourseCard_textContainer_container__gOEY1', 'footer-container', 'footer-container_address_box', 'HomePageSectionHeader_homePageSectionHeader--cta__aRzJv home_viewall_row8', 'HomePageCourseCard_homePageCourseCard_textContainer_container_geeksCount--text__LCcz_', 'darkMode-wrap-red-dot', 'HomePageTopicCard_homePageTopicCard__eePhS row9'}\n"
     ]
    }
   ],
   "source": [
    "class_list = set() \n",
    "for tag in tags: \n",
    "    for i in soup.find_all(tag): \n",
    "\t    if i.has_attr(\"class\"): \n",
    "\t\t    if len(i['class']) != 0: \n",
    "\t\t\t    class_list.add(\" \".join(i['class'])) \n",
    "\n",
    "print(class_list) "
   ]
  },
  {
   "cell_type": "markdown",
   "metadata": {},
   "source": [
    "## Using HTML data:"
   ]
  },
  {
   "cell_type": "code",
   "execution_count": 9,
   "metadata": {},
   "outputs": [],
   "source": [
    "#BeautifulSoup – Search by text inside a tag \n",
    "sample_web_page = 'https://www.geeksforgeeks.org/caching-page-tables/'\n",
    "page = requests.get(sample_web_page)\n",
    "soup = BeautifulSoup(page.content, \"html.parser\")"
   ]
  },
  {
   "cell_type": "code",
   "execution_count": 10,
   "metadata": {},
   "outputs": [
    {
     "name": "stdout",
     "output_type": "stream",
     "text": [
      "<strong>page table base register (PTBR)</strong>\n"
     ]
    }
   ],
   "source": [
    "child_soup = soup.find_all('strong')\n",
    "text = 'page table base register (PTBR)'\n",
    "\n",
    "for i in child_soup:\n",
    "\tif(i.string == text):\n",
    "\t\tprint(i)"
   ]
  },
  {
   "cell_type": "markdown",
   "metadata": {},
   "source": [
    "## Using text:"
   ]
  },
  {
   "cell_type": "code",
   "execution_count": 11,
   "metadata": {},
   "outputs": [
    {
     "name": "stdout",
     "output_type": "stream",
     "text": [
      "[<strong>hit ratio (hit rate)</strong>]\n"
     ]
    }
   ],
   "source": [
    "#BeautifulSoup – Search by text inside a tag using lambda\n",
    "\n",
    "text = 'hit ratio (hit rate)'\n",
    "gfg = soup.find_all(lambda tag: tag.name == \"strong\" and text in tag.text)\n",
    "print(gfg)"
   ]
  },
  {
   "cell_type": "markdown",
   "metadata": {},
   "source": [
    "## HTML Data:"
   ]
  },
  {
   "cell_type": "code",
   "execution_count": 14,
   "metadata": {},
   "outputs": [
    {
     "name": "stdout",
     "output_type": "stream",
     "text": [
      "<!DOCTYPE html>\n",
      "<html lang=\"en-IN\"><head><meta charset=\"utf-8\"/><meta content=\"/images/branding/googleg/1x/googleg_standard_color_128dp.png\" itemprop=\"image\"/><title>geeksforgeeks - Google Search</title><script nonce=\"OfeM2M84IFZcxuPnOOcVew\">(function(){\n",
      "document.documentElement.addEventListener(\"submit\",function(b){var a;if(a=b.target){var c=a.getAttribute(\"data-submitfalse\");a=c===\"1\"||c===\"q\"&&!a.elements.q.value?!0:!1}else a=!1;a&&(b.preventDefault(),b.stopPropagation())},!0);document.documentElement.addEventListener(\"click\",function(b){var a;a:{for(a=b.target;a&&a!==document.documentElement;a=a.parentElement)if(a.tagName===\"A\"){a=a.getAttribute(\"data-nohref\")===\"1\";break a}a=!1}a&&b.preventDefault()},!0);}).call(this);(function(){window.google=window.google||{};var a=window.performance&&window.performance.timing&&\"navigationStart\"in window.performance.timing,b=google.stvsc&&google.stvsc.ns,c=a?b||window.performance.timing.navigationStart:void 0,d=google.stvsc&&google.stvsc.rs,f=a?d||window.performance.timing.responseStart:void 0;window.start=Date.now();var h=window,k=window.performance;k&&(c&&f&&f>c&&f<=window.start?(window.start=f,h.wsrt=f-c):k.now&&(h.wsrt=Math.floor(window.performance.now()-(google.stvsc&&google.stvsc.pno||0))));var l=function(g){g&&g.target.setAttribute(\"data-iml\",String(Date.now()))};document.documentElement.addEventListener(\"load\",l,!0);google.rglh=function(){document.documentElement.removeEventListener(\"load\",l,!0)};}).call(this);(function(){window.google.erd={jsr:1,bv:2085,de:true,dpf:'TEzx6c2TJ9oecJ4LEwbqi2fEncRzbYoU7jOvBEiKAfw'};})();(function(){var sdo=false;var mei=10;\n",
      "var g=this||self;var k,l=(k=g.mei)!=null?k:1,n,p=(n=g.sdo)!=null?n:!0,q=0,r,t=google.erd,v=t.jsr;google.ml=function(a,b,d,m,e){e=e===void 0?2:e;b&&(r=a&&a.message);d===void 0&&(d={});d.cad=\"ple_\"+google.ple+\".aple_\"+google.aple;if(google.dl)return google.dl(a,e,d,!0),null;b=d;if(v<0){window.console&&console.error(a,b);if(v===-2)throw a;b=!1}else b=!a||!a.message||a.message===\"Error loading script\"||q>=l&&!m?!1:!0;if(!b)return null;q++;d=d||{};b=encodeURIComponent;var c=\"/gen_204?atyp=i&ei=\"+b(google.kEI);google.kEXPI&&(c+=\"&jexpid=\"+b(google.kEXPI));c+=\"&srcpg=\"+b(google.sn)+\"&jsr=\"+b(t.jsr)+\n",
      "\"&bver=\"+b(t.bv);t.dpf&&(c+=\"&dpf=\"+b(t.dpf));var f=a.lineNumber;f!==void 0&&(c+=\"&line=\"+f);var h=a.fileName;h&&(h.indexOf(\"-extension:/\")>0&&(e=3),c+=\"&script=\"+b(h),f&&h===window.location.href&&(f=document.documentElement.outerHTML.split(\"\\n\")[f],c+=\"&cad=\"+b(f?f.substring(0,300):\"No script found.\")));google.ple&&google.ple===1&&(e=2);c+=\"&jsel=\"+e;for(var u in d)c+=\"&\",c+=b(u),c+=\"=\",c+=b(d[u]);c=c+\"&emsg=\"+b(a.name+\": \"+a.message);c=c+\"&jsst=\"+b(a.stack||\"N/A\");c.length>=12288&&(c=c.substr(0,12288));a=c;m||google.log(0,\"\",a);return a};window.onerror=function(a,b,d,m,e){r!==a&&(a=e instanceof Error?e:Error(a),d===void 0||\"lineNumber\"in a||(a.lineNumber=d),b===void 0||\"fileName\"in a||(a.fileName=b),google.ml(a,!1,void 0,!1,a.name===\"SyntaxError\"||a.message.substring(0,11)===\"SyntaxError\"||a.message.indexOf(\"Script error\")!==-1?3:0));r=null;p&&q>=l&&(window.onerror=null)};})();(function(){var c=[],e=0;window.ping=function(b){b.indexOf(\"&zx\")==-1&&(b+=\"&zx=\"+Date.now());var a=new Image,d=e++;c[d]=a;a.onerror=a.onload=a.onabort=function(){delete c[d]};a.src=b};}).call(this);</script><style>a{color:#1a0dab;text-decoration:none;tap-highlight-color:rgba(0,0,0,.10)}a:visited{color:#4b11a8}a:hover{text-decoration:underline}img{border:0}html{font-family:arial,sans-serif;font-size:14px;line-height:20px;text-size-adjust:100%;color:#3c4043;word-wrap:break-word;background-color:#fff}.bz1lBb{background-color:#fff;height:72px;}.KP7LCb{background-color:#fff;padding-left:4px}.BsXmcf{position:absolute;height:1px;left:0;right:0;background-color:#dadce0}.cOl4Id{background-color:#fff}.bRsWnc{overflow:hidden}.N6RWV{height:51px}.Uv67qb{font-size:14px;line-height:20px;font-weight:bold;display:flex}.Uv67qb a,.Uv67qb span{color:#5e5e5e;height:20px;margin:4px 12px 1px;display:block;flex:none;text-align:center;}.OXXup{border-bottom:2px solid #1f1f1f}.Uv67qb .OXXup{font-weight:bold;color:#1f1f1f}a.eZt8xd:visited{color:#5e5e5e}.FElbsf{border-left:1px solid #dadce0}header article{overflow:visible}.Pg70bf{height:39px;display:box;display:flex;display:flex;width:100%}.H0PQec{position:relative;flex:1}.Pg70bf{height:26px}.hlm7Y{height:46px;margin-top:26px;border-radius:25px;width:auto;background:#fff;box-shadow:0px 2px 6px rgba(60,64,67,0.16)}.sbc{display:flex}.Pg70bf input{}.x{width:26px;color:#70757a;line-height:40px;margin-top:3px;font:27px/38px arial, sans-serif}#qdClwb{flex:0 0 auto;padding:0;height:33px;margin-top:5px;border-top-right-radius:25px;border-bottom-right-radius:25px;width:48px;background:#fff;border:0;border-left:1px solid #dadce0;background-repeat:no-repeat;background-image:url(data:image/gif;base64,R0lGODlhJAAjAOYAAP////7+//v8//b5//z9//H2//T4/9Xl/uTu/+ry/+zz/+/1/1GX+1aa+1mc+1+f+2ml+3eu/H6y/IK0/IO1/Iq5/JG9/ZG9/JfB/Z3E/Z7F/Z/F/ajL/anL/azN/bjU/rrV/b3X/sHa/sPb/sTc/sbd/svg/tDj/tfn/tzq/t/s/+bw/+ny/+vz//X5//r8/w9x+RV1+Rd2+Rh3+Rl3+Rp3+Rp4+Rt4+Rt5+Rx5+R16+R56+R96+R97+SB7+SF8+SJ8+SJ9+SN9+SR9+SV++SeA+Sh/+SmA+SqB+SuB+iuB+SyC+S2C+jKF+jKG+jSH+jWH+jWI+jqK+jyL+j+N+kSQ+kWR+kaR+keS+kmT+k6W+lOZ+1Sa+1ab+1eb+1ec+1ic+1md+1qd+1ue+1ye+12f+16f+2el+2mm+2un+26p/HSt+3au/IS2/IW3/Ia3/Iq6/JK+/JbB/JfB/JjC/JrD/KLI/anM/arN/b/Z/cHa/d/s/uLu/ufx//3+/////yH5BAUAAH8ALAAAAAAkACMAAAf4gACCg4SFhoeIiYqLjI2Oj5CRkpOUlZaXmAAJeXEUGyUEmYIBGlRENTE7S2UmohM8PVVoaw1OMlMjlwIWQUdvCoIDJV47UCiWKU02c4YFWDRnoZQXNmAuhyJHUXyVZDYViC5ZQCCVWjN4iH5hMXaVEDNyiAtXQyGVdDMPL4cmTE0qKp1Q4gODoRdfZES45MbGEwwGBh0wIwTKiksGIvjowYANHDVTcBSxUofFpQBtpOSgEePGDy4kwsAY0wLTngwS0mTQc82DER1igIkq1AGJDgc1hxLqkCSHgwRKCd1JoqNLn6iDOAjZchWroA8IvIodS7as2bOWAgEAOw==)}.sc{font-size:16px;position:absolute;top:48px;left:0;right:0;box-shadow:0 2px 5px rgba(0,0,0,.2);z-index:2;background-color:#fff}.sc>div{padding:10px 20px}.scs{background-color:#fafafa;}.noHIxc{display:block;font-size:16px;padding:0 0 0 8px;flex:1;height:35px;outline:none;border:none;width:100%;-webkit-tap-highlight-color:rgba(0,0,0,0);overflow:hidden;padding:4px 0 0 20px}.sbc input[type=text]{background:none}html{background-color:#fff;}body{padding:0;}body{margin:0 auto 0 156px;max-width:652px;min-width:652px;padding:0 8px}.cOl4Id{letter-spacing:-1px;text-align:center;font:22pt Futura, arial,sans-serif;font-smoothing:antialiased;padding:32px 28px 0 24px;position:absolute;left:0;top:0;height:37px}.cOl4Id span{display:inline-block}.V6gwVd{color:#4285f4}.iWkuvd{color:#ea4335}.cDrQ7{color:#fcc934}.ntlR9{color:#34a853}.tJ3Myc{-webkit-transform:rotate(-20deg);position:relative;left:-1px;display:inline-block}footer{text-align:center;margin-top:18px}footer a,footer a:visited,.smiUbb{color:#70757a}.xeDNfc{margin:0 13px;display:inline-block}#EOlPnc{margin-top:36px}#EOlPnc>div{margin:20px}.Srfpq{color:#70757a}</style></head><body jsmodel=\"hspDDf \"><header id=\"hdr\"><script nonce=\"OfeM2M84IFZcxuPnOOcVew\">(function(){\n",
      "var k=this||self,l=function(a){var b=typeof a;return b==\"object\"&&a!=null||b==\"function\"},m=function(a,b){function c(){}c.prototype=b.prototype;a.l=b.prototype;a.prototype=new c;a.prototype.constructor=a;a.s=function(d,e,f){for(var g=Array(arguments.length-2),h=2;h<arguments.length;h++)g[h-2]=arguments[h];return b.prototype[e].apply(d,g)}};var n=Array.prototype.indexOf?function(a,b){return Array.prototype.indexOf.call(a,b,void 0)}:function(a,b){if(typeof a===\"string\")return typeof b!==\"string\"||b.length!=1?-1:a.indexOf(b,0);for(var c=0;c<a.length;c++)if(c in a&&a[c]===b)return c;return-1};var p=function(a){return typeof a.className==\"string\"?a.className:a.getAttribute&&a.getAttribute(\"class\")||\"\"},q=function(a,b){typeof a.className==\"string\"?a.className=b:a.setAttribute&&a.setAttribute(\"class\",b)},r=function(a,b){a.classList?b=a.classList.contains(b):(a=a.classList?a.classList:p(a).match(/\\S+/g)||[],b=n(a,b)>=0);return b},v=function(){var a=t,b=u;a.classList?a.classList.remove(b):r(a,b)&&q(a,Array.prototype.filter.call(a.classList?a.classList:p(a).match(/\\S+/g)||[],function(c){return c!=\n",
      "b}).join(\" \"))};var w=function(a,b){this.type=a;this.target=b};w.prototype.g=function(){};var x=function(){if(!k.addEventListener||!Object.defineProperty)return!1;var a=!1,b=Object.defineProperty({},\"passive\",{get:function(){a=!0}});try{var c=function(){};k.addEventListener(\"test\",c,b);k.removeEventListener(\"test\",c,b)}catch(d){}return a}();var y=function(a){w.call(this,a?a.type:\"\");this.relatedTarget=this.target=null;this.button=this.screenY=this.screenX=this.clientY=this.clientX=0;this.key=\"\";this.keyCode=0;this.metaKey=this.shiftKey=this.altKey=this.ctrlKey=!1;this.state=null;this.pointerId=0;this.pointerType=\"\";this.i=null;if(a){var b=this.type=a.type,c=a.changedTouches&&a.changedTouches.length?a.changedTouches[0]:null;this.target=a.target||a.srcElement;var d=a.relatedTarget;d||(b==\"mouseover\"?d=a.fromElement:b==\"mouseout\"&&(d=a.toElement));this.relatedTarget=d;c?(this.clientX=c.clientX!==void 0?c.clientX:c.pageX,this.clientY=c.clientY!==void 0?c.clientY:c.pageY,this.screenX=c.screenX||0,this.screenY=c.screenY||0):(this.clientX=a.clientX!==void 0?a.clientX:a.pageX,this.clientY=a.clientY!==void 0?a.clientY:a.pageY,this.screenX=a.screenX||0,this.screenY=a.screenY||0);this.button=a.button;this.keyCode=a.keyCode||0;this.key=a.key||\"\";this.ctrlKey=a.ctrlKey;this.altKey=a.altKey;this.shiftKey=a.shiftKey;this.metaKey=a.metaKey;this.pointerId=\n",
      "a.pointerId||0;this.pointerType=a.pointerType;this.state=a.state;this.i=a;a.defaultPrevented&&y.l.g.call(this)}};m(y,w);y.prototype.g=function(){y.l.g.call(this);var a=this.i;a.preventDefault?a.preventDefault():a.returnValue=!1};var z=\"closure_listenable_\"+(Math.random()*1E6|0);var A=0;var B=function(a,b,c,d,e){this.listener=a;this.proxy=null;this.src=b;this.type=c;this.capture=!!d;this.i=e;this.key=++A;this.g=this.j=!1},C=function(a){a.g=!0;a.listener=null;a.proxy=null;a.src=null;a.i=null};var D=function(a){this.src=a;this.g={};this.i=0};D.prototype.add=function(a,b,c,d,e){var f=a.toString();a=this.g[f];a||(a=this.g[f]=[],this.i++);var g;a:{for(g=0;g<a.length;++g){var h=a[g];if(!h.g&&h.listener==b&&h.capture==!!d&&h.i==e)break a}g=-1}g>-1?(b=a[g],c||(b.j=!1)):(b=new B(b,this.src,f,!!d,e),b.j=c,a.push(b));return b};var E=\"closure_lm_\"+(Math.random()*1E6|0),F={},G=0,I=function(a,b,c,d,e){if(d&&d.once)return H(a,b,c,d,e);if(Array.isArray(b)){for(var f=0;f<b.length;f++)I(a,b[f],c,d,e);return null}c=J(c);return a&&a[z]?a.g(b,c,l(d)?!!d.capture:!!d,e):K(a,b,c,!1,d,e)},K=function(a,b,c,d,e,f){if(!b)throw Error(\"a\");var g=l(e)?!!e.capture:!!e,h=L(a);h||(a[E]=h=new D(a));c=h.add(b,c,d,g,f);if(c.proxy)return c;d=M();c.proxy=d;d.src=a;d.listener=c;if(a.addEventListener)x||(e=g),e===void 0&&(e=!1),a.addEventListener(b.toString(),d,e);else if(a.attachEvent)a.attachEvent(N(b.toString()),d);else if(a.addListener&&a.removeListener)a.addListener(d);else throw Error(\"b\");G++;return c},M=function(){var a=O,b=function(c){return a.call(b.src,b.listener,c)};return b},H=function(a,b,c,d,e){if(Array.isArray(b)){for(var f=0;f<b.length;f++)H(a,b[f],c,d,e);return null}c=J(c);return a&&a[z]?a.i(b,c,l(d)?!!d.capture:!!d,e):K(a,b,c,!0,d,e)},P=function(a){if(typeof a!==\"number\"&&a&&!a.g){var b=a.src;if(b&&b[z])b.v(a);else{var c=a.type,d=a.proxy;b.removeEventListener?b.removeEventListener(c,d,a.capture):b.detachEvent?b.detachEvent(N(c),d):b.addListener&&b.removeListener&&b.removeListener(d);G--;if(c=L(b)){d=a.type;if(d in c.g){var e=c.g[d],f=n(e,a),g;(g=f>=0)&&Array.prototype.splice.call(e,f,1);g&&(C(a),c.g[d].length==0&&(delete c.g[d],c.i--))}c.i==0&&(c.src=null,b[E]=null)}else C(a)}}},N=function(a){return a in F?F[a]:F[a]=\"on\"+a},O=function(a,b){if(a.g)a=!0;else{b=new y(b,this);var c=a.listener,d=a.i||a.src;a.j&&P(a);a=c.call(d,b)}return a},L=function(a){a=a[E];return a instanceof D?a:null},Q=\"__closure_events_fn_\"+(Math.random()*1E9>>>0),J=function(a){if(typeof a===\"function\")return a;a[Q]||(a[Q]=function(b){return a.handleEvent(b)});return a[Q]};var R=[9],u,t=document.documentElement,S;function T(){P(S);S=H(t,\"mousedown\",function(){v();U()},{capture:!0})}function U(){P(S);S=I(t,\"keydown\",function(a){if(R.indexOf(a.keyCode)!==-1){a=t;var b=u;if(a.classList)a.classList.add(b);else if(!r(a,b)){var c=p(a);q(a,c+(c.length>0?\" \"+b:b))}T()}})};u=\"zAoYTe\";U();}).call(this);</script><div class=\"cOl4Id\"><a href=\"/?sa=X&amp;ved=0ahUKEwjsm9TZhOGIAxW2zzgGHf6LL1cQOwgC\"><span class=\"V6gwVd\">G</span><span class=\"iWkuvd\">o</span><span class=\"cDrQ7\">o</span><span class=\"V6gwVd\">g</span><span class=\"ntlR9\">l</span><span class=\"iWkuvd tJ3Myc\">e</span></a></div><div class=\"bz1lBb\"><form class=\"Pg70bf hlm7Y\" id=\"sf\"><input name=\"sca_esv\" type=\"hidden\" value=\"adb58b67ff5950fb\"/><input name=\"sca_upv\" type=\"hidden\" value=\"1\"/><input name=\"ie\" type=\"hidden\" value=\"ISO-8859-1\"/><div class=\"H0PQec\"><div class=\"sbc esbc\"><input autocapitalize=\"none\" autocomplete=\"off\" class=\"noHIxc\" name=\"q\" spellcheck=\"false\" type=\"text\" value=\"geeksforgeeks\"/><input name=\"oq\" type=\"hidden\"/><input name=\"aqs\" type=\"hidden\"/><div class=\"x\">×</div><div class=\"sc\"></div></div></div><button id=\"qdClwb\" type=\"submit\"></button></form></div><noscript><meta content=\"0;url=/search?q=geeksforgeeks&amp;sca_esv=adb58b67ff5950fb&amp;sca_upv=1&amp;ie=UTF-8&amp;gbv=1&amp;sei=xIz1ZuypLbaf4-EP_pe-uQU\" http-equiv=\"refresh\"/><style>table,div,span,p{display:none}</style><div style=\"display:block\">Please click <a href=\"/search?q=geeksforgeeks&amp;sca_esv=adb58b67ff5950fb&amp;sca_upv=1&amp;ie=UTF-8&amp;gbv=1&amp;sei=xIz1ZuypLbaf4-EP_pe-uQU\">here</a> if you are not redirected within a few seconds.</div></noscript></header><div id=\"main\"><div><div class=\"KP7LCb\"> <div class=\"bRsWnc\"> <div class=\"N6RWV\"> <div class=\"Pg70bf Uv67qb\"> <span class=\"OXXup\">All</span><a class=\"eZt8xd\" href=\"/search?q=geeksforgeeks&amp;sca_esv=adb58b67ff5950fb&amp;sca_upv=1&amp;ie=UTF-8&amp;tbm=isch&amp;source=lnms&amp;sa=X&amp;ved=0ahUKEwjsm9TZhOGIAxW2zzgGHf6LL1cQ_AUIBigB\">Images</a><a class=\"eZt8xd\" href=\"/search?q=geeksforgeeks&amp;sca_esv=adb58b67ff5950fb&amp;sca_upv=1&amp;ie=UTF-8&amp;tbm=vid&amp;source=lnms&amp;sa=X&amp;ved=0ahUKEwjsm9TZhOGIAxW2zzgGHf6LL1cQ_AUIBygC\">Videos</a><a class=\"eZt8xd\" href=\"/search?q=geeksforgeeks&amp;sca_esv=adb58b67ff5950fb&amp;sca_upv=1&amp;ie=UTF-8&amp;tbm=nws&amp;source=lnms&amp;sa=X&amp;ved=0ahUKEwjsm9TZhOGIAxW2zzgGHf6LL1cQ_AUICCgD\">News</a> <a href=\"/url?q=https://maps.google.com/maps%3Fq%3Dgeeksforgeeks%26um%3D1%26ie%3DUTF-8%26ved%3D1t:200713%26ictx%3D111&amp;opi=89978449&amp;sa=U&amp;ved=0ahUKEwjsm9TZhOGIAxW2zzgGHf6LL1cQiaAMCAkoBA&amp;usg=AOvVaw0Yhl3K__Rl9JUCzTv2N29h\">Maps</a> <a href=\"/url?q=/search%3Fq%3Dgeeksforgeeks%26sca_esv%3Dadb58b67ff5950fb%26sca_upv%3D1%26ie%3DUTF-8%26tbm%3Dshop%26source%3Dlnms%26ved%3D1t:200713%26ictx%3D111&amp;opi=89978449&amp;sa=U&amp;ved=0ahUKEwjsm9TZhOGIAxW2zzgGHf6LL1cQiaAMCAooBQ&amp;usg=AOvVaw2hojjm6VKjzdS3NNgVI6W2\">Shopping</a> <a href=\"/search?q=geeksforgeeks&amp;sca_esv=adb58b67ff5950fb&amp;sca_upv=1&amp;ie=UTF-8&amp;tbm=bks&amp;source=lnms&amp;sa=X&amp;ved=0ahUKEwjsm9TZhOGIAxW2zzgGHf6LL1cQ_AUICygG\">Books</a> <div class=\"FElbsf\"><a href=\"/advanced_search\" id=\"st-toggle\" role=\"button\" style=\"white-space:nowrap\">Search tools</a></div> </div> </div> </div> </div><div class=\"Pg70bf wEsjbd Gx5Zad xpd EtOod pkphOe\" id=\"st-card\" style=\"display:none\"><style>.wEsjbd{height:44px;white-space:nowrap}.coPU8c{height:60px;overflow-scrolling:touch;overflow-x:auto;overflow-y:hidden}.Xj2aue{height:44px;overflow:hidden}.RnNGze{margin:11px 16px}.wEsjbd div,.wEsjbd a,.wEsjbd li{outline-width:0;outline:none}</style><div class=\"Xj2aue\"><div class=\"coPU8c\"><div class=\"RnNGze\"><style>.PA9J5{display:inline-block}.RXaOfd,.tbcPJb{display:inline-block;height:22px;position:relative;padding-top:0;padding-bottom:0;padding-right:16px;padding-left:0;line-height:22px;cursor:pointer;text-transform:uppercase;font-size:12px;color:#70757a}.sa1toc{background:#fff;display:none;position:absolute;border:1px solid #dadce0;box-shadow:0 2px 4px rgba(0,0,0,.3);margin:0;white-space:nowrap;z-index:103;line-height:17px;padding-top:5px;padding-bottom:5px;padding-left:0}.PA9J5:hover .sa1toc{display:block}.mGSy8d a:active,.RXaOfd:active{color:#4285f4}</style><div class=\"PA9J5\"><div class=\"RXaOfd\" role=\"button\" tabindex=\"0\"><style>.TWMOUc{display:inline-block;padding-right:14px;white-space:nowrap}.vQYuGf{font-weight:bold}.OmTIzf{border-color:#909090 transparent;border-style:solid;border-width:4px 4px 0 4px;width:0;height:0;margin-left:-10px;top:50%;margin-top:-2px;position:absolute}.RXaOfd:active .OmTIzf{border-color:#4285f4 transparent}</style><div class=\"TWMOUc\">Any time</div><span class=\"OmTIzf\"></span></div><ul class=\"sa1toc ozatM\"><style>.ozatM{font-size:12px;text-transform:uppercase}.ozatM .yNFsl,.ozatM li{list-style-type:none;list-style-position:outside;list-style-image:none}.yNFsl.SkUj4c,.yNFsl a{color:#70757a;text-decoration:none;padding:6px 44px 6px 14px;line-height:17px;display:block}.SkUj4c{background-image:url(//ssl.gstatic.com/ui/v1/menu/checkmark2.png);background-position:right center;background-repeat:no-repeat}.SkUj4c:active{background-color:#f8f9fa}</style><li class=\"yNFsl SkUj4c\"><style>.tbcPJb a{color:#70757a;text-decoration:none}</style>Any time</li><li class=\"yNFsl\"><a href=\"/search?q=geeksforgeeks&amp;sca_esv=adb58b67ff5950fb&amp;sca_upv=1&amp;ie=UTF-8&amp;source=lnt&amp;tbs=qdr:h&amp;sa=X&amp;ved=0ahUKEwjsm9TZhOGIAxW2zzgGHf6LL1cQpwUIDQ\">Past hour</a></li><li class=\"yNFsl\"><a href=\"/search?q=geeksforgeeks&amp;sca_esv=adb58b67ff5950fb&amp;sca_upv=1&amp;ie=UTF-8&amp;source=lnt&amp;tbs=qdr:d&amp;sa=X&amp;ved=0ahUKEwjsm9TZhOGIAxW2zzgGHf6LL1cQpwUIDg\">Past 24 hours</a></li><li class=\"yNFsl\"><a href=\"/search?q=geeksforgeeks&amp;sca_esv=adb58b67ff5950fb&amp;sca_upv=1&amp;ie=UTF-8&amp;source=lnt&amp;tbs=qdr:w&amp;sa=X&amp;ved=0ahUKEwjsm9TZhOGIAxW2zzgGHf6LL1cQpwUIDw\">Past week</a></li><li class=\"yNFsl\"><a href=\"/search?q=geeksforgeeks&amp;sca_esv=adb58b67ff5950fb&amp;sca_upv=1&amp;ie=UTF-8&amp;source=lnt&amp;tbs=qdr:m&amp;sa=X&amp;ved=0ahUKEwjsm9TZhOGIAxW2zzgGHf6LL1cQpwUIEA\">Past month</a></li><li class=\"yNFsl\"><a href=\"/search?q=geeksforgeeks&amp;sca_esv=adb58b67ff5950fb&amp;sca_upv=1&amp;ie=UTF-8&amp;source=lnt&amp;tbs=qdr:y&amp;sa=X&amp;ved=0ahUKEwjsm9TZhOGIAxW2zzgGHf6LL1cQpwUIEQ\">Past year</a></li></ul></div><div class=\"PA9J5\"><div class=\"RXaOfd\" role=\"button\" tabindex=\"0\"><div class=\"TWMOUc\">All results</div><span class=\"OmTIzf\"></span></div><ul class=\"sa1toc ozatM\"><li class=\"yNFsl SkUj4c\">All results</li><li class=\"yNFsl\"><a href=\"/search?q=geeksforgeeks&amp;sca_esv=adb58b67ff5950fb&amp;sca_upv=1&amp;ie=UTF-8&amp;source=lnt&amp;tbs=li:1&amp;sa=X&amp;ved=0ahUKEwjsm9TZhOGIAxW2zzgGHf6LL1cQpwUIEw\">Verbatim</a></li></ul></div></div></div></div><script nonce=\"OfeM2M84IFZcxuPnOOcVew\">(function(){var a=document.getElementById(\"st-toggle\"),b=document.getElementById(\"st-card\");a&&b&&a.addEventListener(\"click\",function(c){b.style.display=b.style.display?\"\":\"none\";c.preventDefault()},!1);}).call(this);</script></div></div><div class=\"BsXmcf\"></div><style>.Gx5Zad{margin-bottom:30px;margin:0px 0px 8px;}.pkphOe{font-size:14px;line-height:22px;}.EtOod>*:first-child{border-top-left-radius:8px;border-top-right-radius:8px}.EtOod>*:last-child{border-bottom-left-radius:8px;border-bottom-right-radius:8px}.EtOod.avPKgf>*:last-child{border-bottom-left-radius:4px}.rl7ilb{display:block;clear:both}.egMi0{margin-bottom:-23px}.kCrYT{padding:16px 14px 12px}a.fdYsqf{color:#4b11a8}.sCuL3{position:absolute;width:100%;top:0;left:0;padding-top:1px;margin-bottom:-1px}.j039Wc{padding-top:28px;margin-bottom:-1px}.DnJfK{position:relative}.l97dzf{font-weight:400}.zBAuLc{line-height:normal;margin:0;padding:0}.BNeawe{white-space:pre-line;word-wrap:break-word}.vvjwJb{color:#1a0dab;font-size:20px;line-height:26px}a:visited .vvjwJb,.vvjwJb a:visited{color:#4b11a8}.vvjwJb.HrGdeb{color:#fff}a:visited .vvjwJb.HrGdeb,.vvjwJb.HrGdeb a:visited{color:rgba(255,255,255,.70)}.UPmit{font-size:14px;line-height:22px}.UPmit.HrGdeb{color:rgba(255,255,255,.70)}.UPmit.AP7Wnd{color:#202124}.lRVwie{text-overflow:ellipsis;white-space:nowrap;overflow:hidden}.Ap5OSd{padding-bottom:12px}.s3v9rd{font-size:14px;line-height:22px}.s3v9rd.HrGdeb{color:#fff}.s3v9rd.AP7Wnd{color:#202124}.mSx1Ee{padding-left:48px;margin:0}.v9i61e{padding-bottom:8px}.XLloXe{color:#1a0dab;font-size:14px;line-height:20px}a:visited .XLloXe,.XLloXe a:visited{color:#4b11a8}.XLloXe.HrGdeb{color:#fff}a:visited .XLloXe.HrGdeb,.XLloXe.HrGdeb a:visited{color:rgba(255,255,255,.70)}.K8tyEc{padding-bottom:12px}.mEUgP{font-size:20px;font-weight:bold;line-height:26px;color:#1f1f1f;height:14px;padding:16px 14px 0px 14px;margin:0}.FCUp0c{font-weight:bold}.nRlVm .FCUp0c{background-color:#d3e3fd;color:#040c28}.C7GS5b{margin-left:12px;display:table-cell;vertical-align:middle}.rkGIWe{padding:14px}.rxk4ae{padding-top:6px;padding-bottom:6px}.xpc .hwc,.xpx .hwx{display:none}.iIWm4b{box-sizing:border-box;min-height:48px}.fLtXsc{padding:14px;position:relative}.NtmAdb{width:40px;height:40px;overflow:hidden;margin-top:-10px;margin-bottom:-16px;margin-right:8px;border-radius:4px}.xpc .NtmAdb{display:inline-block}.xpx .NtmAdb{display:none}.Lt3Tzc{display:inline-block;padding-right:26px;color:#474747;font-size:16px}.Lym8W{width:14px;height:20px;position:relative;margin:0 auto}.xCgLUe{position:absolute;margin-top:-10px;top:50%;margin-right:-4px}.Lym8W div{position:absolute;border-left:7px solid transparent;border-right:7px solid transparent;width:0;height:0;left:0}.IyYaEd{top:7px;border-top:7px solid #70757a}.ECUHQe{top:4px;border-top:7px solid #fff}.AeQQub{bottom:7px;border-bottom:7px solid #70757a}.YCU7eb{bottom:4px;border-bottom:7px solid #fff}.v7Y0Ge{background-color:#f7f8f9;padding:10px;width:14px;height:15px;right:14px;margin-top:-18px;top:50%;position:absolute;border-radius:50%}.WZP0ub{display:inline-block;margin-left:5px;margin-top:-6px}.qxDOhb{border-radius:0}.EtOod>.qxDOhb>*:first-child{border-top-left-radius:8px;border-top-right-radius:8px}.EtOod>.qxDOhb>*:last-child{border-bottom-left-radius:8px;border-bottom-right-radius:8px}.yStFkb .xpd{box-shadow:none;border-radius:16px;background-color:#f7f8f9;}.oTWEpb{padding-top:16px}.n1Qedd{overflow:hidden;text-align:center}.KMAGC{margin:0 auto;display:block}.ho0sdc{margin:0 -50%;display:inline-block}.PqksIc{font-size:16px;line-height:20px}.x54gtf{height:1px;background-color:#dadce0;margin:0 14px}.Q0HXG{height:1px;background-color:#dadce0;}.Xb5VRe{color:#1a0dab}a:visited .Xb5VRe{color:#4b11a8}.Xb5VRe.tr0dw{color:#fff}a:visited .Xb5VRe.tr0dw{color:rgba(255,255,255,.70)}.P1NWSe{display:table;width:100%;padding-top:16px;padding-bottom:16px;margin-bottom:-12px}.wOMIed{display:table-cell;vertical-align:top}.nkPlDb{vertical-align:middle}.JhFlyf{color:#3c4043;font-size:14px;text-align:center}.VQFmSd{display:block;white-space:pre-line;word-wrap:break-word}.JhFlyf.VQFmSd{line-height:22px}.f4J0H{padding:18px}.cAuxJf{font-size:20px;font-weight:bold;line-height:26px;color:#1f1f1f;margin:0}.tAd8D{font-size:14px;line-height:20px}.tAd8D.HrGdeb{color:rgba(255,255,255,.70)}.tAd8D.AP7Wnd{color:#70757a}.Xdlr0d{overflow-x:auto;-webkit-overflow-scrolling:touch;margin:0 -8px;padding:2px 0 16px 22px;margin-top:-2px;transform:translate3d(0,0,0)}.idg8be{display:table;border-collapse:separate;border-spacing:8px 0;margin:0 -8px;padding-right:14px}.BVG0Nb{display:table-cell;vertical-align:top;overflow:hidden;}.pijXPc{overflow:hidden;border-radius:16px;background-color:#f7f8f9;font-size:18px}.OxTOff{overflow:hidden;border-radius:8px;background-color:#f7f8f9}.WddBJd{display:block;margin:0 auto;border-radius:8px}.RJI4s{vertical-align:middle}.mHhylf{display:table-cell;vertical-align:middle}.WZ5GJf{align-items:center;padding:0 20px;min-width:112px}.qN9Ked,.DXk5Me{margin:0 auto;color:#001d35}.DXk5Me{cursor:pointer;margin-bottom:12px}.Dk7jOe{display:block;margin:0 auto}.Qi9Fd{border:0;border-radius:999px;display:block;height:56px;justify-content:center;width:56px;z-index:0;background:#f7f8f9;}.Qi9Fd:focus{outline:none}.Qi9Fd .hWHuJ{display:block;margin:0 auto}.MmS8p span{mask-image:url(data:image/png;base64,iVBORw0KGgoAAAANSUhEUgAAADAAAAAwCAQAAAD9CzEMAAAAXUlEQVR4Ae3NPQqAMBQE4b2WPxcTLFaPHA8QkVcbCPqKwHzbzwpAt0NWolNVNe9if/KZF5MKF1xwwUWoH+bMg5gHP7B+N6sMnF/It/IX+Tcr+ZYtMx+cmQ/uzwO4AfFiCfnWUbTrAAAAAElFTkSuQmCC)}.ji5jpf{text-align:center}.r0bn4c.tr0dw{color:rgba(255,255,255,.70)}.r0bn4c.rQMQod{color:#70757a}.tP9Zud{display:inline-block;}.QzarWc{color:#3c4043}.oqSTJd{color:#70757a}.Hk2yDb,.Hk2yDb span{background-repeat:repeat-x;background-size:14px,14px;height:14px;width:70px}.Hk2yDb{display:inline-block;font-size:0;line-height:0;position:relative;top:1px}.Hk2yDb span{display:block}.Hk2yDb.KsR1A{background-image:url(data:image/png;base64,iVBORw0KGgoAAAANSUhEUgAAACgAAAAoBAMAAAB+0KVeAAAAD1BMVEVMaXEAAAAAAAAAAAAAAACF6eB8AAAABXRSTlMAID8OM2w9R7oAAACdSURBVHgBvdGBCcIwEEbhq+kAaXEA+5oBYuoAmnb/mQT5gcMDCoB+AIEA9y7EfmrIFl1uFrXVol4sSFBjB3LsQCzNsMQOlNjhq5S26Qrwmjbdp6PjlKMq4SiXwNOAhrOadDeymoyAPP1zfEUGJJvTNdFOLxFzElLPQqNb0/8F+x39iDTYzR56ucws7pBePtnU/aKomrpbM5sM1f7pDdrTIIXMnb07AAAAAElFTkSuQmCC)}.Hk2yDb.KsR1A span{background-image:url(data:image/png;base64,iVBORw0KGgoAAAANSUhEUgAAACgAAAAoBAMAAAB+0KVeAAAAGFBMVEVMaXH0tAD0tAD0tAD0tAD0tAD0tAD0tAB7hoq7AAAACHRSTlMAP6Ib/oXVZJ3/vYgAAADHSURBVHgBnNE1A4JgGARgmtHW0dxtZ+OA0dbRdrX/v+RLmkc/9H3MH2HjEcgVIrA1iMCZEoF7NWwycA6hBKxDmAZ6IawA/aDx0FMLoGjgKIAdA3d0WM89SkfYOZaWl5SOdwSiGe0EMW4/jkIP5vdeU2t2k14sUGugKJ6GKGdfG0aoE/+l509I7y/4azfiL7/l4IDIU4rmHwv0zZUH94AaZ421f4DO1ofVCFmgbGwbQNwzahtrJ4sRoUQvva8JuRo9vcA8RyMAAIXWR1O6HNlyAAAAAElFTkSuQmCC)}.h1hFNe{display:inline-block;position:relative}.Q6Xouf{overflow:hidden}.G6SP0b{display:inline-block}.eeoFaf{position:relative}.AzWLW .xpd{box-shadow:none;border:none;margin-bottom:0;margin-top:-16px}.FybcKc{padding-top:16px}.Iaa5if{overflow:hidden;position:relative}.l7d08{align-items:center;display:flex;flex-direction:column;justify-content:space-around}.gGQDvd{position:relative;padding:20px 14px 14px 14px;height:60px;}.Q71vJc{display:block;position:relative;width:100%}.kjGX2{position:absolute;vertical-align:bottom;display:inline-block;right:48px;left:0;color:#4d5156;}.Xe4YD{font-size:16px}.ieB2Dd{overflow:hidden;margin-top:-10px;margin-bottom:-16px;margin-right:8px;border-radius:4px;display:inline-block;border-radius:50%;padding:8px 7px 8px 9px;background-color:#f7f8f9;}.toMBf{position:absolute;right:0;margin-right:-8px;margin-top:-2px}.OEaqif{width:20px;height:20px;display:block}.sRN2ub,.OcpZAb{padding-top:16px;padding-bottom:12px}.MlK5cf{padding-left:14px;}.J094Fd,.OcpZAb,.ZXY5Ec,.RQNVx{padding-left:14px;padding-right:14px;}.ZXY5Ec{padding-bottom:12px}.RQNVx{padding-top:12px}.nMymef{display:flex}.G5eFlf{flex:1;display:block}.nMymef span{text-align:center}.EYqSq{margin:6px 4px 9px 0;border-radius:100%;display:inline-block;height:10px;vertical-align:middle;width:10px}.dfB0uf{color:#3c4043;font-weight:bold}.IffyKc{word-wrap:break-word}</style><div></div><div><div class=\"Gx5Zad xpd EtOod pkphOe\"><div class=\"egMi0 kCrYT\"><a data-ved=\"2ahUKEwjsm9TZhOGIAxW2zzgGHf6LL1cQFnoECAYQAg\" href=\"/url?q=https://www.geeksforgeeks.org/&amp;sa=U&amp;ved=2ahUKEwjsm9TZhOGIAxW2zzgGHf6LL1cQFnoECAYQAg&amp;usg=AOvVaw1UruyTogKT-kc_LsWD3IU3\"><div class=\"DnJfK\"><div class=\"j039Wc\"><h3 class=\"zBAuLc l97dzf\"><div class=\"BNeawe vvjwJb AP7Wnd\">GeeksforGeeks | A computer science portal for geeks</div></h3></div><div class=\"sCuL3\"><div class=\"BNeawe UPmit AP7Wnd lRVwie\">www.geeksforgeeks.org</div></div></div></a></div><div class=\"kCrYT\"><div><div class=\"BNeawe s3v9rd AP7Wnd\"><div><div class=\"v9i61e\"><div class=\"BNeawe s3v9rd AP7Wnd\">A Computer Science portal for geeks. It contains well written, well thought and well explained computer science and programming articles, ...</div></div><div><div class=\"v9i61e\"><div class=\"BNeawe s3v9rd AP7Wnd\"><span class=\"BNeawe\"><a data-ved=\"2ahUKEwjsm9TZhOGIAxW2zzgGHf6LL1cQjBB6BAgGEAU\" href=\"/url?q=https://www.geeksforgeeks.org/explore&amp;sa=U&amp;ved=2ahUKEwjsm9TZhOGIAxW2zzgGHf6LL1cQjBB6BAgGEAU&amp;usg=AOvVaw1TLi3QVjJ-jmw8k4gRXDqG\"><span class=\"XLloXe AP7Wnd\">Practice</span></a></span></div></div><div class=\"v9i61e\"><div class=\"BNeawe s3v9rd AP7Wnd\"><span class=\"BNeawe\"><a data-ved=\"2ahUKEwjsm9TZhOGIAxW2zzgGHf6LL1cQjBB6BAgGEAc\" href=\"/url?q=https://www.geeksforgeeks.org/problem-of-the-day&amp;sa=U&amp;ved=2ahUKEwjsm9TZhOGIAxW2zzgGHf6LL1cQjBB6BAgGEAc&amp;usg=AOvVaw1KWpY7H4H7FNkUjKKFHa7l\"><span class=\"XLloXe AP7Wnd\">Problem of the Day</span></a></span></div></div><div class=\"v9i61e\"><div class=\"BNeawe s3v9rd AP7Wnd\"><span class=\"BNeawe\"><a data-ved=\"2ahUKEwjsm9TZhOGIAxW2zzgGHf6LL1cQjBB6BAgGEAk\" href=\"/url?q=https://www.geeksforgeeks.org/python-programming-language-tutorial/&amp;sa=U&amp;ved=2ahUKEwjsm9TZhOGIAxW2zzgGHf6LL1cQjBB6BAgGEAk&amp;usg=AOvVaw2VRaQ218KLuqI60oI9xR0u\"><span class=\"XLloXe AP7Wnd\">Learn Python Programming</span></a></span></div></div><div class=\"v9i61e\"><div class=\"BNeawe s3v9rd AP7Wnd\"><span class=\"BNeawe\"><a data-ved=\"2ahUKEwjsm9TZhOGIAxW2zzgGHf6LL1cQjBB6BAgGEAs\" href=\"/url?q=https://www.geeksforgeeks.org/c-programming-language/&amp;sa=U&amp;ved=2ahUKEwjsm9TZhOGIAxW2zzgGHf6LL1cQjBB6BAgGEAs&amp;usg=AOvVaw3orDw_2kSwH0BhS4WBK2Xr\"><span class=\"XLloXe AP7Wnd\">C Programming Language</span></a></span></div></div><div><div class=\"BNeawe s3v9rd AP7Wnd\"><span class=\"BNeawe\"><a data-ved=\"2ahUKEwjsm9TZhOGIAxW2zzgGHf6LL1cQjBB6BAgGEA0\" href=\"/url?q=https://www.geeksforgeeks.org/c-plus-plus/&amp;sa=U&amp;ved=2ahUKEwjsm9TZhOGIAxW2zzgGHf6LL1cQjBB6BAgGEA0&amp;usg=AOvVaw0fb66uZnXwCvnOOG5nEb_X\"><span class=\"XLloXe AP7Wnd\">C++ Programming Language</span></a></span></div></div></div></div></div></div></div></div></div><div data-hveid=\"CAAQAA\"><div class=\"Gx5Zad xpd EtOod pkphOe\"><div class=\"K8tyEc\"><div class=\"mEUgP\"><span><div class=\"BNeawe\"><span class=\"FCUp0c rQMQod\">People also ask</span></div></span></div></div><div><div class=\"rxk4ae xpc\"><div class=\"duf-h\"><div aria-expanded=\"false\" class=\"fLtXsc iIWm4b\" data-ved=\"2ahUKEwjsm9TZhOGIAxW2zzgGHf6LL1cQuk56BAgAEAI\" id=\"tsuid_1\" role=\"button\" tabindex=\"0\"><div class=\"Lt3Tzc\">What is GeeksforGeeks used for?</div><div class=\"v7Y0Ge\"><div class=\"Lym8W xCgLUe\"><div class=\"AeQQub hwc\"></div><div class=\"YCU7eb hwc\"></div><div class=\"IyYaEd hwx\"></div><div class=\"ECUHQe hwx\"></div></div></div></div></div><div class=\"qxDOhb\" id=\"accdef_1\"></div></div></div><div class=\"x54gtf\"></div><div><div class=\"rxk4ae xpc\"><div class=\"duf-h\"><div aria-expanded=\"false\" class=\"fLtXsc iIWm4b\" data-ved=\"2ahUKEwjsm9TZhOGIAxW2zzgGHf6LL1cQuk56BAgAEAk\" id=\"tsuid_3\" role=\"button\" tabindex=\"0\"><div class=\"Lt3Tzc\">Is GeeksforGeeks an Indian company?</div><div class=\"v7Y0Ge\"><div class=\"Lym8W xCgLUe\"><div class=\"AeQQub hwc\"></div><div class=\"YCU7eb hwc\"></div><div class=\"IyYaEd hwx\"></div><div class=\"ECUHQe hwx\"></div></div></div></div></div><div class=\"qxDOhb\" id=\"accdef_3\"></div></div></div><div class=\"x54gtf\"></div><div><div class=\"rxk4ae xpc\"><div class=\"duf-h\"><div aria-expanded=\"false\" class=\"fLtXsc iIWm4b\" data-ved=\"2ahUKEwjsm9TZhOGIAxW2zzgGHf6LL1cQuk56BAgAEBA\" id=\"tsuid_4\" role=\"button\" tabindex=\"0\"><div class=\"Lt3Tzc\">Who is the CEO of GeeksforGeeks?</div><div class=\"v7Y0Ge\"><div class=\"Lym8W xCgLUe\"><div class=\"AeQQub hwc\"></div><div class=\"YCU7eb hwc\"></div><div class=\"IyYaEd hwx\"></div><div class=\"ECUHQe hwx\"></div></div></div></div></div><div class=\"qxDOhb\" id=\"accdef_5\"></div></div></div><div class=\"x54gtf\"></div><div><div class=\"rxk4ae xpc\"><div class=\"duf-h\"><div aria-expanded=\"false\" class=\"fLtXsc iIWm4b\" data-ved=\"2ahUKEwjsm9TZhOGIAxW2zzgGHf6LL1cQuk56BAgAEBc\" id=\"tsuid_5\" role=\"button\" tabindex=\"0\"><div class=\"Lt3Tzc\">Is GeeksforGeeks free?</div><div class=\"v7Y0Ge\"><div class=\"Lym8W xCgLUe\"><div class=\"AeQQub hwc\"></div><div class=\"YCU7eb hwc\"></div><div class=\"IyYaEd hwx\"></div><div class=\"ECUHQe hwx\"></div></div></div></div></div><div class=\"qxDOhb\" id=\"accdef_7\"></div></div></div></div></div><div><div class=\"Gx5Zad xpd EtOod pkphOe\"><div class=\"kCrYT\"><span class=\"cAuxJf\"><div class=\"BNeawe\"><span class=\"BNeawe\"><a data-ved=\"2ahUKEwjsm9TZhOGIAxW2zzgGHf6LL1cQsAR6BAgEEAE\" href=\"https://www.google.com/search?sca_esv=adb58b67ff5950fb&amp;sca_upv=1&amp;ie=UTF-8&amp;ei=xIz1ZuypLbaf4-EP_pe-uQU&amp;q=geeksforgeeks&amp;tbm=isch&amp;sa=X&amp;ved=2ahUKEwjsm9TZhOGIAxW2zzgGHf6LL1cQsAR6BAgEEAE\"><span><span class=\"FCUp0c rQMQod\">Images</span></span></a></span></div></span><div class=\"BNeawe tAd8D AP7Wnd\"><span class=\"BNeawe\"><a data-ved=\"2ahUKEwjsm9TZhOGIAxW2zzgGHf6LL1cQ7Al6BAgEEAI\" href=\"https://www.google.com/search?sca_esv=adb58b67ff5950fb&amp;sca_upv=1&amp;ie=UTF-8&amp;ei=xIz1ZuypLbaf4-EP_pe-uQU&amp;q=geeksforgeeks&amp;tbm=isch&amp;sa=X&amp;ved=2ahUKEwjsm9TZhOGIAxW2zzgGHf6LL1cQ7Al6BAgEEAI\"><span class=\"tAd8D AP7Wnd\"><span class=\"rQMQod Xb5VRe\">View all</span></span></a></span></div></div><div><div><div><div class=\"Xdlr0d\"><div class=\"idg8be\"><a class=\"BVG0Nb OxTOff\" data-ved=\"2ahUKEwjsm9TZhOGIAxW2zzgGHf6LL1cQ9QF6BAgEEAQ\" href=\"https://www.google.com/imgres?imgurl=https://play-lh.googleusercontent.com/ZI21NMObsjB7DbPU_EXRymHJL3HQpfsrB2N4CWb-diXm4xjl_13mmetYQZvcpgGf-64&amp;imgrefurl=https://play.google.com/store/apps/details?id%3Dfree.programming.programming%26hl%3Den_IN&amp;h=512&amp;w=512&amp;tbnid=QDG-h3TLDjKFTM&amp;q=geeksforgeeks&amp;tbnh=131&amp;tbnw=131&amp;usg=AI4_-kTKtYq7jT7dOxHFEK_BKJCjwixZUw&amp;vet=1&amp;docid=YOMoS_L7bQrWWM&amp;sa=X&amp;ved=2ahUKEwjsm9TZhOGIAxW2zzgGHf6LL1cQ9QF6BAgEEAQ\"><div><img alt=\"GeeksforGeeks - Learn To Code – Apps on Google Play\" class=\"WddBJd\" data-deferred=\"1\" id=\"dimg_1\" src=\"data:image/gif;base64,R0lGODlhAQABAIAAAP///////yH5BAEKAAEALAAAAAABAAEAAAICTAEAOw==\" style=\"max-width:none;height:128px;max-height:128px\"/></div></a><a class=\"BVG0Nb OxTOff\" data-ved=\"2ahUKEwjsm9TZhOGIAxW2zzgGHf6LL1cQ9QF6BAgEEAY\" href=\"https://www.google.com/imgres?imgurl=https://media.geeksforgeeks.org/wp-content/cdn-uploads/20220512131412/Student-Chapter-Article-Banner.png&amp;imgrefurl=https://www.geeksforgeeks.org/geeksforgeeks-student-chapter/&amp;h=508&amp;w=900&amp;tbnid=XRENYNKTopQhdM&amp;q=geeksforgeeks&amp;tbnh=82&amp;tbnw=146&amp;usg=AI4_-kR6UxajvvDabqpLKMq-jKfd4SUhEQ&amp;vet=1&amp;docid=4WPZXAhg8ADBXM&amp;sa=X&amp;ved=2ahUKEwjsm9TZhOGIAxW2zzgGHf6LL1cQ9QF6BAgEEAY\"><div><img alt=\"GeeksforGeeks Student Chapter - GeeksforGeeks\" class=\"WddBJd\" data-deferred=\"1\" id=\"dimg_5\" src=\"data:image/gif;base64,R0lGODlhAQABAIAAAP///////yH5BAEKAAEALAAAAAABAAEAAAICTAEAOw==\" style=\"max-width:none;height:128px;max-height:128px\"/></div></a><a class=\"BVG0Nb OxTOff\" data-ved=\"2ahUKEwjsm9TZhOGIAxW2zzgGHf6LL1cQ9QF6BAgEEAg\" href=\"https://www.google.com/imgres?imgurl=https://lookaside.fbsbx.com/lookaside/crawler/media/?media_id%3D100064683611564&amp;imgrefurl=https://www.facebook.com/geeksforgeeksGNDU/&amp;h=625&amp;w=625&amp;tbnid=onV4IdHkWZ9TLM&amp;q=geeksforgeeks&amp;tbnh=136&amp;tbnw=136&amp;usg=AI4_-kRSJewEF_ETE1_SAoNwCxORDzTmzw&amp;vet=1&amp;docid=ttEiL14gBnvNpM&amp;sa=X&amp;ved=2ahUKEwjsm9TZhOGIAxW2zzgGHf6LL1cQ9QF6BAgEEAg\"><div><img alt=\"GeeksforGeeks\" class=\"WddBJd\" data-deferred=\"1\" id=\"dimg_7\" src=\"data:image/gif;base64,R0lGODlhAQABAIAAAP///////yH5BAEKAAEALAAAAAABAAEAAAICTAEAOw==\" style=\"max-width:none;height:128px;max-height:128px\"/></div></a><a class=\"BVG0Nb OxTOff\" data-ved=\"2ahUKEwjsm9TZhOGIAxW2zzgGHf6LL1cQ9QF6BAgEEAo\" href=\"https://www.google.com/imgres?imgurl=https://is1-ssl.mzstatic.com/image/thumb/Purple221/v4/1f/ab/c0/1fabc0e1-0cfb-f046-1244-8c1345f23566/AppIcon-0-0-1x_U007emarketing-0-10-0-85-220.png/1200x600wa.png&amp;imgrefurl=https://apps.apple.com/in/app/geeksforgeeks-learn-coding/id1641848816&amp;h=600&amp;w=1200&amp;tbnid=cgBpnKODdFbNSM&amp;q=geeksforgeeks&amp;tbnh=75&amp;tbnw=150&amp;usg=AI4_-kSem3TyRjG7e1g7q0KKNuIzJPYm5Q&amp;vet=1&amp;docid=Ilfb-60P7z66nM&amp;sa=X&amp;ved=2ahUKEwjsm9TZhOGIAxW2zzgGHf6LL1cQ9QF6BAgEEAo\"><div><img alt=\"GeeksforGeeks - Learn Coding on the App Store\" class=\"WddBJd\" data-deferred=\"1\" id=\"dimg_11\" src=\"data:image/gif;base64,R0lGODlhAQABAIAAAP///////yH5BAEKAAEALAAAAAABAAEAAAICTAEAOw==\" style=\"max-width:none;height:128px;max-height:128px\"/></div></a><a class=\"BVG0Nb OxTOff\" data-ved=\"2ahUKEwjsm9TZhOGIAxW2zzgGHf6LL1cQ9QF6BAgEEAw\" href=\"https://www.google.com/imgres?imgurl=https://upload.wikimedia.org/wikipedia/commons/thumb/4/43/GeeksforGeeks.svg/1200px-GeeksforGeeks.svg.png&amp;imgrefurl=https://commons.wikimedia.org/wiki/File:GeeksforGeeks.svg&amp;h=608&amp;w=1200&amp;tbnid=eNysWKQ4tS7EkM&amp;q=geeksforgeeks&amp;tbnh=76&amp;tbnw=150&amp;usg=AI4_-kQM4XUn5WUKtslHkrSO36QmEuVbRg&amp;vet=1&amp;docid=awzfEJt4os2MqM&amp;sa=X&amp;ved=2ahUKEwjsm9TZhOGIAxW2zzgGHf6LL1cQ9QF6BAgEEAw\"><div><img alt=\"File:GeeksforGeeks.svg - Wikimedia Commons\" class=\"WddBJd\" data-deferred=\"1\" id=\"dimg_15\" src=\"data:image/gif;base64,R0lGODlhAQABAIAAAP///////yH5BAEKAAEALAAAAAABAAEAAAICTAEAOw==\" style=\"max-width:none;height:128px;max-height:128px\"/></div></a><a class=\"BVG0Nb OxTOff\" data-ved=\"2ahUKEwjsm9TZhOGIAxW2zzgGHf6LL1cQ9QF6BAgEEA4\" href=\"https://www.google.com/imgres?imgurl=https://media.licdn.com/dms/image/C4E12AQExn-HhPRvQYQ/article-cover_image-shrink_600_2000/0/1520220645316?e%3D2147483647%26v%3Dbeta%26t%3Du7rzKdUeieFBzdv-1HcfmjfCeVAuc8ov0RSPqodxUpw&amp;imgrefurl=https://www.linkedin.com/pulse/my-contribution-geeksforgeeksorg-kaushik-lele&amp;h=400&amp;w=744&amp;tbnid=y8QzaV8ZQizkmM&amp;q=geeksforgeeks&amp;tbnh=76&amp;tbnw=141&amp;usg=AI4_-kQJ7n5Z-rdUEB7KwMi7K6yRFPgEtg&amp;vet=1&amp;docid=4KBEB9ihQzE-NM&amp;sa=X&amp;ved=2ahUKEwjsm9TZhOGIAxW2zzgGHf6LL1cQ9QF6BAgEEA4\"><div><img alt=\"My contribution on GeeksForGeeks.org\" class=\"WddBJd\" data-deferred=\"1\" id=\"dimg_19\" src=\"data:image/gif;base64,R0lGODlhAQABAIAAAP///////yH5BAEKAAEALAAAAAABAAEAAAICTAEAOw==\" style=\"max-width:none;height:128px;max-height:128px\"/></div></a><a class=\"BVG0Nb OxTOff\" data-ved=\"2ahUKEwjsm9TZhOGIAxW2zzgGHf6LL1cQ9QF6BAgEEBA\" href=\"https://www.google.com/imgres?imgurl=https://static.startuptalky.com/2021/06/GeeksforGeeks-StartupTalky.jpg&amp;imgrefurl=https://startuptalky.com/geeksforgeeks-practice-coding/&amp;h=675&amp;w=1200&amp;tbnid=8LqgQg5be0kk6M&amp;q=geeksforgeeks&amp;tbnh=84&amp;tbnw=150&amp;usg=AI4_-kRBy-Q18CeNDSKIRssjNoEm2LfT3w&amp;vet=1&amp;docid=vi61vzY4WeFlSM&amp;sa=X&amp;ved=2ahUKEwjsm9TZhOGIAxW2zzgGHf6LL1cQ9QF6BAgEEBA\"><div><img alt=\"Using GeeksforGeeks For Practice | Learning Coding\" class=\"WddBJd\" data-deferred=\"1\" id=\"dimg_23\" src=\"data:image/gif;base64,R0lGODlhAQABAIAAAP///////yH5BAEKAAEALAAAAAABAAEAAAICTAEAOw==\" style=\"max-width:none;height:128px;max-height:128px\"/></div></a><a class=\"BVG0Nb OxTOff\" data-ved=\"2ahUKEwjsm9TZhOGIAxW2zzgGHf6LL1cQ9QF6BAgEEBI\" href=\"https://www.google.com/imgres?imgurl=https://media.geeksforgeeks.org/wp-content/uploads/20190328185307/gfg28.png&amp;imgrefurl=https://www.geeksforgeeks.org/node-jimp-color-blue/&amp;h=184&amp;w=667&amp;tbnid=dbBR9gBNFl8zVM&amp;q=geeksforgeeks&amp;tbnh=38&amp;tbnw=138&amp;usg=AI4_-kSYsyXrLKAiWWoVA8K4veTZl95qzw&amp;vet=1&amp;docid=0ibwXrCnOzCo7M&amp;sa=X&amp;ved=2ahUKEwjsm9TZhOGIAxW2zzgGHf6LL1cQ9QF6BAgEEBI\"><div><img alt=\"Node Jimp | Color blue - GeeksforGeeks\" class=\"WddBJd\" data-deferred=\"1\" id=\"dimg_29\" src=\"data:image/gif;base64,R0lGODlhAQABAIAAAP///////yH5BAEKAAEALAAAAAABAAEAAAICTAEAOw==\" style=\"max-width:none;height:128px;max-height:128px\"/></div></a><a class=\"BVG0Nb OxTOff\" data-ved=\"2ahUKEwjsm9TZhOGIAxW2zzgGHf6LL1cQ9QF6BAgEEBQ\" href=\"https://www.google.com/imgres?imgurl=https://play-lh.googleusercontent.com/ZI21NMObsjB7DbPU_EXRymHJL3HQpfsrB2N4CWb-diXm4xjl_13mmetYQZvcpgGf-64%3Dw600-h300-pc0xffffff-pd&amp;imgrefurl=https://play.google.com/store/apps/details?id%3Dfree.programming.programming%26hl%3Den_IN&amp;h=300&amp;w=600&amp;tbnid=s-NTnV38J06bzM&amp;q=geeksforgeeks&amp;tbnh=68&amp;tbnw=135&amp;usg=AI4_-kRN0hU-bmWLtRIK7XzcyXTRYMuawg&amp;vet=1&amp;docid=YOMoS_L7bQrWWM&amp;sa=X&amp;ved=2ahUKEwjsm9TZhOGIAxW2zzgGHf6LL1cQ9QF6BAgEEBQ\"><div><img alt=\"GeeksforGeeks - Learn To Code – Apps on Google Play\" class=\"WddBJd\" data-deferred=\"1\" id=\"dimg_37\" src=\"data:image/gif;base64,R0lGODlhAQABAIAAAP///////yH5BAEKAAEALAAAAAABAAEAAAICTAEAOw==\" style=\"max-width:none;height:128px;max-height:128px\"/></div></a><div class=\"mHhylf\"><div class=\"WZ5GJf\"><a class=\"qN9Ked\" data-ved=\"2ahUKEwjsm9TZhOGIAxW2zzgGHf6LL1cQ7Al6BAgEEBU\" href=\"https://www.google.com/search?sca_esv=adb58b67ff5950fb&amp;sca_upv=1&amp;ie=UTF-8&amp;ei=xIz1ZuypLbaf4-EP_pe-uQU&amp;q=geeksforgeeks&amp;tbm=isch&amp;sa=X&amp;ved=2ahUKEwjsm9TZhOGIAxW2zzgGHf6LL1cQ7Al6BAgEEBU\"><button class=\"DXk5Me Qi9Fd\" tabindex=\"-1\"><span class=\"hWHuJ\"><span class=\"Dk7jOe WqQeqc MmS8p\"><span></span></span></span></button><div class=\"BNeawe ji5jpf s3v9rd AP7Wnd\">View all</div></a></div></div></div></div></div></div></div></div></div><div><div class=\"Gx5Zad xpd EtOod pkphOe\"><div class=\"egMi0 kCrYT\"><a data-ved=\"2ahUKEwjsm9TZhOGIAxW2zzgGHf6LL1cQFnoECAIQAg\" href=\"/url?q=https://in.linkedin.com/company/geeksforgeeks&amp;sa=U&amp;ved=2ahUKEwjsm9TZhOGIAxW2zzgGHf6LL1cQFnoECAIQAg&amp;usg=AOvVaw3GNx2dlyuV8rULI9IGTgSH\"><div class=\"DnJfK\"><div class=\"j039Wc\"><h3 class=\"zBAuLc l97dzf\"><div class=\"BNeawe vvjwJb AP7Wnd\">GeeksforGeeks - LinkedIn</div></h3></div><div class=\"sCuL3\"><div class=\"BNeawe UPmit AP7Wnd lRVwie\">in.linkedin.com › company › geeksforgeeks</div></div></div></a></div><div class=\"kCrYT\"><div><div class=\"BNeawe s3v9rd AP7Wnd\"><div><div><div class=\"BNeawe s3v9rd AP7Wnd\">In a short span, we have built a community of 20 Million+ Geeks around the world, 20,000+ Contributors and 500+ Campus Ambassadors in various colleges across ...</div></div></div></div></div></div></div></div><div><div class=\"Gx5Zad xpd EtOod pkphOe\"><div class=\"egMi0 kCrYT\"><a data-ved=\"2ahUKEwjsm9TZhOGIAxW2zzgGHf6LL1cQFnoECAMQAg\" href=\"/url?q=https://www.youtube.com/channel/UC0RhatS1pyxInC00YKjjBqQ&amp;sa=U&amp;ved=2ahUKEwjsm9TZhOGIAxW2zzgGHf6LL1cQFnoECAMQAg&amp;usg=AOvVaw2GOdToikBW68woywZDmKLJ\"><div class=\"DnJfK\"><div class=\"j039Wc\"><h3 class=\"zBAuLc l97dzf\"><div class=\"BNeawe vvjwJb AP7Wnd\">GeeksforGeeks - YouTube</div></h3></div><div class=\"sCuL3\"><div class=\"BNeawe UPmit AP7Wnd lRVwie\">www.youtube.com › channel</div></div></div></a></div><div class=\"kCrYT\"><div><div class=\"BNeawe s3v9rd AP7Wnd\"><div><div><div class=\"BNeawe s3v9rd AP7Wnd\">Welcome to the Official Channel of GeekforGeeks, your one-stop destination for diverse tech education! ...more ...more geeksforgeeks.organd 4 more links.</div></div></div></div></div></div></div></div><div><div class=\"Gx5Zad xpd EtOod pkphOe\"><div class=\"egMi0 kCrYT\"><a data-ved=\"2ahUKEwjsm9TZhOGIAxW2zzgGHf6LL1cQFnoECAEQAg\" href=\"/url?q=https://play.google.com/store/apps/details%3Fid%3Dfree.programming.programming%26hl%3Den_IN&amp;sa=U&amp;ved=2ahUKEwjsm9TZhOGIAxW2zzgGHf6LL1cQFnoECAEQAg&amp;usg=AOvVaw10jOsYiREgD_BMwn8SRqsK\"><div class=\"DnJfK\"><div class=\"j039Wc\"><h3 class=\"zBAuLc l97dzf\"><div class=\"BNeawe vvjwJb AP7Wnd\">GeeksforGeeks - Learn To Code – Apps on Google Play</div></h3></div><div class=\"sCuL3\"><div class=\"BNeawe UPmit AP7Wnd lRVwie\">play.google.com › store › apps › details</div></div></div></a></div><div class=\"kCrYT\"><div><div class=\"BNeawe s3v9rd AP7Wnd\"><div><div class=\"v9i61e\"><div class=\"BNeawe s3v9rd AP7Wnd\"><span class=\"r0bn4c rQMQod\">Rating</span> <span class=\"r0bn4c rQMQod tP9Zud\"><span> </span><span aria-hidden=\"true\" class=\"oqSTJd\">4.4</span><span> </span><div aria-label=\"Rated4.5out of5\" class=\"Hk2yDb KsR1A\" role=\"img\"><span style=\"width:63px\"></span></div><span> </span><span>(13,407)</span><span> </span></span> <span class=\"r0bn4c rQMQod\"> · </span><span class=\"r0bn4c rQMQod\">Free</span> <span class=\"r0bn4c rQMQod\"> · </span><span class=\"r0bn4c rQMQod\">Android</span></div></div><div><div class=\"BNeawe s3v9rd AP7Wnd\">GeeksforGeeks is your ultimate solution for mastering Data Structures and Algorithms (DSA), Web Development, and other vital coding skills. Offering well- ...</div></div></div></div></div></div></div></div><div><div class=\"Gx5Zad xpd EtOod pkphOe\"><div class=\"egMi0 kCrYT\"><a data-ved=\"2ahUKEwjsm9TZhOGIAxW2zzgGHf6LL1cQFnoECAcQAg\" href=\"/url?q=https://www.instagram.com/geeks_for_geeks/%3Fhl%3Den&amp;sa=U&amp;ved=2ahUKEwjsm9TZhOGIAxW2zzgGHf6LL1cQFnoECAcQAg&amp;usg=AOvVaw2O971Ey0UuKBPlAqDIfy3U\"><div class=\"DnJfK\"><div class=\"j039Wc\"><h3 class=\"zBAuLc l97dzf\"><div class=\"BNeawe vvjwJb AP7Wnd\">Learn to Code (@geeks_for_geeks) - GeeksforGeeks - Instagram</div></h3></div><div class=\"sCuL3\"><div class=\"BNeawe UPmit AP7Wnd lRVwie\">www.instagram.com › geeks_for_geeks</div></div></div></a></div><div class=\"kCrYT\"><div><div class=\"BNeawe s3v9rd AP7Wnd\"><div><div><div class=\"BNeawe s3v9rd AP7Wnd\">369K Followers, 3 Following, 2339 Posts - GeeksforGeeks | Learn to Code (@geeks_for_geeks) on Instagram: \"35% Off on all GfG Courses (till 30th September) ...</div></div></div></div></div></div></div></div><div><div class=\"Gx5Zad xpd EtOod pkphOe\"><div class=\"egMi0 kCrYT\"><a data-ved=\"2ahUKEwjsm9TZhOGIAxW2zzgGHf6LL1cQFnoECAUQAg\" href=\"/url?q=https://www.facebook.com/geeksforgeeks.org/&amp;sa=U&amp;ved=2ahUKEwjsm9TZhOGIAxW2zzgGHf6LL1cQFnoECAUQAg&amp;usg=AOvVaw1O8Xb-Nq_lIPD3l9ZzpXsv\"><div class=\"DnJfK\"><div class=\"j039Wc\"><h3 class=\"zBAuLc l97dzf\"><div class=\"BNeawe vvjwJb AP7Wnd\">GeeksforGeeks | Noida - Facebook</div></h3></div><div class=\"sCuL3\"><div class=\"BNeawe UPmit AP7Wnd lRVwie\">www.facebook.com › ... › Software Company › GeeksforGeeks</div></div></div></a></div><div class=\"kCrYT\"><div><div class=\"BNeawe s3v9rd AP7Wnd\"><div><div><div class=\"BNeawe s3v9rd AP7Wnd\">GeeksforGeeks, Noida. 205105 likes · 1071 talking about this. Official facebook page of GeeksforGeeks.org. All the posts, blog news will be updated here.</div></div></div></div></div></div></div></div><div><div class=\"Gx5Zad xpd EtOod pkphOe\"><div class=\"K8tyEc\"><div class=\"mEUgP\"><span><div class=\"BNeawe\">People also search for</div></span></div></div><div><div><div class=\"rxk4ae xpx\"><div class=\"duf-h\"><div aria-expanded=\"true\" class=\"fLtXsc iIWm4b\" data-ved=\"2ahUKEwjsm9TZhOGIAxW2zzgGHf6LL1cQ3aYDegQICBAC\" id=\"tsuid_2\" role=\"button\" tabindex=\"0\"><div class=\"NtmAdb\"><div class=\"Q6Xouf G6SP0b\"><div style=\"width:40px;height:40px;position:static\"><img alt=\"\" class=\"h1hFNe\" data-deferred=\"1\" id=\"dimg_3\" src=\"data:image/gif;base64,R0lGODlhAQABAIAAAP///////yH5BAEKAAEALAAAAAABAAEAAAICTAEAOw==\" style=\"width:40px;height:40px\"/></div></div></div><div class=\"v7Y0Ge\"><div class=\"Lym8W xCgLUe\"><div class=\"AeQQub hwc\"></div><div class=\"YCU7eb hwc\"></div><div class=\"IyYaEd hwx\"></div><div class=\"ECUHQe hwx\"></div></div></div></div></div><div><div class=\"hwc\" style=\"padding-bottom:12px\"><div class=\"AzWLW\"><div class=\"Gx5Zad xpd EtOod pkphOe\"><div class=\"FybcKc\"><div><div><div class=\"Xdlr0d\"><div class=\"idg8be\"><a class=\"BVG0Nb OxTOff\" data-ved=\"2ahUKEwjsm9TZhOGIAxW2zzgGHf6LL1cQs9oBegQICBAF\" href=\"/search?sca_esv=adb58b67ff5950fb&amp;sca_upv=1&amp;ie=UTF-8&amp;q=LeetCode&amp;stick=H4sIAAAAAAAAAOMwVGI0-MXIsIGF4RULPxevfrq-oWF2cVpajmluzisWbi5O_Vx9g3QTizQgj5eLG8QzNDaLzzEyf8XCw8UF4hdVFhTkpiO0J5VnVxkZF2XBFWRZZiclVcG5prnlZoYFCPXJZgYp5mVJ2QiRDMOUtKysZEO4luy0CsvknEWsHD6pqSXO-Smpt9gkGbqf9hgHxocUvFNpPih1aM-SpyY_180u8161iEMsIDW_ICdVITGnOF-hODWxKDlDIS2_aAUHIwD1akeJ8AAAAA&amp;sa=X&amp;ved=2ahUKEwjsm9TZhOGIAxW2zzgGHf6LL1cQs9oBegQICBAF\"><div><div style=\"width:112px\"><div class=\"l7d08\" style=\"width:112px;height:112px\"><img alt=\"\" class=\"h1hFNe\" data-deferred=\"1\" id=\"dimg_9\" src=\"data:image/gif;base64,R0lGODlhAQABAIAAAP///////yH5BAEKAAEALAAAAAABAAEAAAICTAEAOw==\" style=\"max-width:112px;max-height:112px\"/></div><div class=\"RWuggc kCrYT\"><div><div class=\"BNeawe s3v9rd AP7Wnd\">LeetCode</div></div></div></div></div></a><a class=\"BVG0Nb OxTOff\" data-ved=\"2ahUKEwjsm9TZhOGIAxW2zzgGHf6LL1cQs9oBegQICBAG\" href=\"/search?sca_esv=adb58b67ff5950fb&amp;sca_upv=1&amp;ie=UTF-8&amp;q=W3Schools&amp;stick=H4sIAAAAAAAAAOMwVGI0_MXIsIGF4RULPxevfrq-oWF2cVpajmluzisWbi5O_Vx9g3QTizQgj5eLG8QzNDaLzzEyf8XCw8UF4hdVFhTkpiO0J5VnVxkZF2XBFWRZZiclVcG5prnlZoYFCPXJZgYp5mVJ2QiRDMOUtKysZEO4luy0CsvknEWsnOHGwckZ-fk5xbfYJBm6n_YYB8aHFLxTaT4odWjPkqcmP9fNLvNetYhDLCA1vyAnVSExpzhfoTg1sSg5QyEtv2gFByMAjLKTJvEAAAA&amp;sa=X&amp;ved=2ahUKEwjsm9TZhOGIAxW2zzgGHf6LL1cQs9oBegQICBAG\"><div><div style=\"width:112px\"><div class=\"l7d08\" style=\"width:112px;height:112px\"><img alt=\"\" class=\"h1hFNe\" data-deferred=\"1\" id=\"dimg_13\" src=\"data:image/gif;base64,R0lGODlhAQABAIAAAP///////yH5BAEKAAEALAAAAAABAAEAAAICTAEAOw==\" style=\"max-width:112px;max-height:112px\"/></div><div class=\"RWuggc kCrYT\"><div><div class=\"BNeawe s3v9rd AP7Wnd\">W3Schools</div></div></div></div></div></a><a class=\"BVG0Nb OxTOff\" data-ved=\"2ahUKEwjsm9TZhOGIAxW2zzgGHf6LL1cQs9oBegQICBAH\" href=\"/search?sca_esv=adb58b67ff5950fb&amp;sca_upv=1&amp;ie=UTF-8&amp;q=HackerRank&amp;stick=H4sIAAAAAAAAAOMwVGI0-sXIsIGF4RULPxevfrq-oWF2cVpajmluzisWbi5O_Vx9g3QTizQgj5eLG8QzNDaLzzEyf8XCw8UF4hdVFhTkpiO0J5VnVxkZF2XBFWRZZiclVcG5prnlZoYFCPXJZgYp5mVJ2QiRDMOUtKysZEO4luy0CsvknEWsXB6JydmpRUGJedm32CQZup_2GAfGhxS8U2k-KHVoz5KnJj_XzS7zXrWIQywgNb8gJ1UhMac4X6E4NbEoOUMhLb9oBQcjAMAdjDLyAAAA&amp;sa=X&amp;ved=2ahUKEwjsm9TZhOGIAxW2zzgGHf6LL1cQs9oBegQICBAH\"><div><div style=\"width:112px\"><div class=\"l7d08\" style=\"width:112px;height:112px\"><img alt=\"\" class=\"h1hFNe\" data-deferred=\"1\" id=\"dimg_17\" src=\"data:image/gif;base64,R0lGODlhAQABAIAAAP///////yH5BAEKAAEALAAAAAABAAEAAAICTAEAOw==\" style=\"max-width:112px;max-height:112px\"/></div><div class=\"RWuggc kCrYT\"><div><div class=\"BNeawe s3v9rd AP7Wnd\">HackerRa...</div></div></div></div></div></a><a class=\"BVG0Nb OxTOff\" data-ved=\"2ahUKEwjsm9TZhOGIAxW2zzgGHf6LL1cQs9oBegQICBAI\" href=\"/search?sca_esv=adb58b67ff5950fb&amp;sca_upv=1&amp;ie=UTF-8&amp;q=GitHub&amp;stick=H4sIAAAAAAAAAOMwVGI0_sXIsIGF4RULPxevfrq-oWF2cVpajmluzisWbi5O_Vx9g3QTizQgj5eLG8QzNDaLzzEyf8XCw8UF4hdVFhTkpiO0J5VnVxkZF2XBFWRZZiclVcG5prnlZoYFCPXJZgYp5mVJ2QiRDMOUtKysZEO4luy0CsvknEWsbO6ZJR6lSbfYJBm6n_YYB8aHFLxTaT4odWjPkqcmP9fNLvNetYhDLCA1vyAnVSExpzhfoTg1sSg5QyEtv2gFByMA9X_CCe4AAAA&amp;sa=X&amp;ved=2ahUKEwjsm9TZhOGIAxW2zzgGHf6LL1cQs9oBegQICBAI\"><div><div style=\"width:112px\"><div class=\"l7d08\" style=\"width:112px;height:112px\"><img alt=\"\" class=\"h1hFNe\" data-deferred=\"1\" id=\"dimg_21\" src=\"data:image/gif;base64,R0lGODlhAQABAIAAAP///////yH5BAEKAAEALAAAAAABAAEAAAICTAEAOw==\" style=\"max-width:112px;max-height:112px\"/></div><div class=\"RWuggc kCrYT\"><div><div class=\"BNeawe s3v9rd AP7Wnd\">GitHub</div></div></div></div></div></a></div></div></div></div></div></div></div></div></div></div></div></div><div class=\"x54gtf\"></div><div><div class=\"gGQDvd iIWm4b\"><a class=\"Q71vJc\" data-ved=\"2ahUKEwjsm9TZhOGIAxW2zzgGHf6LL1cQ1QJ6BAgIEAo\" href=\"/search?sca_esv=adb58b67ff5950fb&amp;sca_upv=1&amp;ie=UTF-8&amp;q=GeeksforGeeks+Python&amp;sa=X&amp;ved=2ahUKEwjsm9TZhOGIAxW2zzgGHf6LL1cQ1QJ6BAgIEAo\"><accordion-entry-search-icon class=\"toMBf\"><span><img alt=\"\" class=\"OEaqif\" data-deferred=\"1\" id=\"dimg_25\" src=\"data:image/gif;base64,R0lGODlhAQABAIAAAP///////yH5BAEKAAEALAAAAAABAAEAAAICTAEAOw==\" style=\"max-width:20px;max-height:20px\"/></span></accordion-entry-search-icon><div class=\"kjGX2\"><span class=\"Xe4YD\"><div class=\"BNeawe lRVwie\">GeeksforGeeks Python</div></span></div></a></div></div><div class=\"x54gtf\"></div><div><div class=\"gGQDvd iIWm4b\"><a class=\"Q71vJc\" data-ved=\"2ahUKEwjsm9TZhOGIAxW2zzgGHf6LL1cQ1QJ6BAgIEAw\" href=\"/search?sca_esv=adb58b67ff5950fb&amp;sca_upv=1&amp;ie=UTF-8&amp;q=Geeksforgeeks+C&amp;sa=X&amp;ved=2ahUKEwjsm9TZhOGIAxW2zzgGHf6LL1cQ1QJ6BAgIEAw\"><accordion-entry-search-icon class=\"toMBf\"><span><img alt=\"\" class=\"OEaqif\" data-deferred=\"1\" id=\"dimg_27\" src=\"data:image/gif;base64,R0lGODlhAQABAIAAAP///////yH5BAEKAAEALAAAAAABAAEAAAICTAEAOw==\" style=\"max-width:20px;max-height:20px\"/></span></accordion-entry-search-icon><div class=\"kjGX2\"><span class=\"Xe4YD\"><div class=\"BNeawe lRVwie\">Geeksforgeeks C</div></span></div></a></div></div><div class=\"x54gtf\"></div><div><div class=\"gGQDvd iIWm4b\"><a class=\"Q71vJc\" data-ved=\"2ahUKEwjsm9TZhOGIAxW2zzgGHf6LL1cQ1QJ6BAgIEA4\" href=\"/search?sca_esv=adb58b67ff5950fb&amp;sca_upv=1&amp;ie=UTF-8&amp;q=GeeksforGeeks+Java&amp;sa=X&amp;ved=2ahUKEwjsm9TZhOGIAxW2zzgGHf6LL1cQ1QJ6BAgIEA4\"><accordion-entry-search-icon class=\"toMBf\"><span><img alt=\"\" class=\"OEaqif\" data-deferred=\"1\" id=\"dimg_31\" src=\"data:image/gif;base64,R0lGODlhAQABAIAAAP///////yH5BAEKAAEALAAAAAABAAEAAAICTAEAOw==\" style=\"max-width:20px;max-height:20px\"/></span></accordion-entry-search-icon><div class=\"kjGX2\"><span class=\"Xe4YD\"><div class=\"BNeawe lRVwie\">GeeksforGeeks Java</div></span></div></a></div></div><div class=\"x54gtf\"></div><div><div class=\"gGQDvd iIWm4b\"><a class=\"Q71vJc\" data-ved=\"2ahUKEwjsm9TZhOGIAxW2zzgGHf6LL1cQ1QJ6BAgIEBA\" href=\"/search?sca_esv=adb58b67ff5950fb&amp;sca_upv=1&amp;ie=UTF-8&amp;q=Geeksforgeeks+practice&amp;sa=X&amp;ved=2ahUKEwjsm9TZhOGIAxW2zzgGHf6LL1cQ1QJ6BAgIEBA\"><accordion-entry-search-icon class=\"toMBf\"><span><img alt=\"\" class=\"OEaqif\" data-deferred=\"1\" id=\"dimg_33\" src=\"data:image/gif;base64,R0lGODlhAQABAIAAAP///////yH5BAEKAAEALAAAAAABAAEAAAICTAEAOw==\" style=\"max-width:20px;max-height:20px\"/></span></accordion-entry-search-icon><div class=\"kjGX2\"><span class=\"Xe4YD\"><div class=\"BNeawe lRVwie\">Geeksforgeeks practice</div></span></div></a></div></div><div class=\"x54gtf\"></div><div><div class=\"gGQDvd iIWm4b\"><a class=\"Q71vJc\" data-ved=\"2ahUKEwjsm9TZhOGIAxW2zzgGHf6LL1cQ1QJ6BAgIEBI\" href=\"/search?sca_esv=adb58b67ff5950fb&amp;sca_upv=1&amp;ie=UTF-8&amp;q=Geeksforgeeks+login&amp;sa=X&amp;ved=2ahUKEwjsm9TZhOGIAxW2zzgGHf6LL1cQ1QJ6BAgIEBI\"><accordion-entry-search-icon class=\"toMBf\"><span><img alt=\"\" class=\"OEaqif\" data-deferred=\"1\" id=\"dimg_35\" src=\"data:image/gif;base64,R0lGODlhAQABAIAAAP///////yH5BAEKAAEALAAAAAABAAEAAAICTAEAOw==\" style=\"max-width:20px;max-height:20px\"/></span></accordion-entry-search-icon><div class=\"kjGX2\"><span class=\"Xe4YD\"><div class=\"BNeawe lRVwie\">Geeksforgeeks login</div></span></div></a></div></div><div class=\"x54gtf\"></div><div><div class=\"gGQDvd iIWm4b\"><a class=\"Q71vJc\" data-ved=\"2ahUKEwjsm9TZhOGIAxW2zzgGHf6LL1cQ1QJ6BAgIEBQ\" href=\"/search?sca_esv=adb58b67ff5950fb&amp;sca_upv=1&amp;ie=UTF-8&amp;q=GeeksforGeeks+DSA&amp;sa=X&amp;ved=2ahUKEwjsm9TZhOGIAxW2zzgGHf6LL1cQ1QJ6BAgIEBQ\"><accordion-entry-search-icon class=\"toMBf\"><span><img alt=\"\" class=\"OEaqif\" data-deferred=\"1\" id=\"dimg_39\" src=\"data:image/gif;base64,R0lGODlhAQABAIAAAP///////yH5BAEKAAEALAAAAAABAAEAAAICTAEAOw==\" style=\"max-width:20px;max-height:20px\"/></span></accordion-entry-search-icon><div class=\"kjGX2\"><span class=\"Xe4YD\"><div class=\"BNeawe lRVwie\">GeeksforGeeks DSA</div></span></div></a></div></div><div class=\"x54gtf\"></div><div><div class=\"gGQDvd iIWm4b\"><a class=\"Q71vJc\" data-ved=\"2ahUKEwjsm9TZhOGIAxW2zzgGHf6LL1cQ1QJ6BAgIEBY\" href=\"/search?sca_esv=adb58b67ff5950fb&amp;sca_upv=1&amp;ie=UTF-8&amp;q=Geeksforgeeks+HTML&amp;sa=X&amp;ved=2ahUKEwjsm9TZhOGIAxW2zzgGHf6LL1cQ1QJ6BAgIEBY\"><accordion-entry-search-icon class=\"toMBf\"><span><img alt=\"\" class=\"OEaqif\" data-deferred=\"1\" id=\"dimg_41\" src=\"data:image/gif;base64,R0lGODlhAQABAIAAAP///////yH5BAEKAAEALAAAAAABAAEAAAICTAEAOw==\" style=\"max-width:20px;max-height:20px\"/></span></accordion-entry-search-icon><div class=\"kjGX2\"><span class=\"Xe4YD\"><div class=\"BNeawe lRVwie\">Geeksforgeeks HTML</div></span></div></a></div></div><div class=\"x54gtf\"></div><div><div class=\"gGQDvd iIWm4b\"><a class=\"Q71vJc\" data-ved=\"2ahUKEwjsm9TZhOGIAxW2zzgGHf6LL1cQ1QJ6BAgIEBg\" href=\"/search?sca_esv=adb58b67ff5950fb&amp;sca_upv=1&amp;ie=UTF-8&amp;q=Geeksforgeeks+SQL&amp;sa=X&amp;ved=2ahUKEwjsm9TZhOGIAxW2zzgGHf6LL1cQ1QJ6BAgIEBg\"><accordion-entry-search-icon class=\"toMBf\"><span><img alt=\"\" class=\"OEaqif\" data-deferred=\"1\" id=\"dimg_43\" src=\"data:image/gif;base64,R0lGODlhAQABAIAAAP///////yH5BAEKAAEALAAAAAABAAEAAAICTAEAOw==\" style=\"max-width:20px;max-height:20px\"/></span></accordion-entry-search-icon><div class=\"kjGX2\"><span class=\"Xe4YD\"><div class=\"BNeawe lRVwie\">Geeksforgeeks SQL</div></span></div></a></div></div></div></div><footer> <div> <div class=\"Gx5Zad xpd EtOod pkphOe OcpZAb\"><div class=\"nMymef Va3FIb lVm3ye\"><a aria-label=\"Next page\" class=\"nBDE1b G5eFlf\" href=\"/search?q=geeksforgeeks&amp;sca_esv=adb58b67ff5950fb&amp;sca_upv=1&amp;ie=UTF-8&amp;ei=xIz1ZuypLbaf4-EP_pe-uQU&amp;start=10&amp;sa=N\">Next &gt;</a></div></div> </div> <div id=\"EOlPnc\"><div class=\"Srfpq\"><div><span class=\"EYqSq unknown_loc\"></span><span class=\"dfB0uf\">600082, Chennai, Tamil Nadu</span></div><span>From your IP address</span><span> - </span><a aria-label=\"Learn more about this location\" class=\"IffyKc\" href=\"/url?q=https://support.google.com/websearch%3Fp%3Dws_settings_location%26hl%3Den-IN&amp;opi=89978449&amp;sa=U&amp;ved=0ahUKEwjsm9TZhOGIAxW2zzgGHf6LL1cQty4IhgE&amp;usg=AOvVaw1cyt-fXhTk12wBV0QqqGfo\" tabindex=\"0\">Learn more</a></div><div><a href=\"/url?q=https://accounts.google.com/ServiceLogin%3Fcontinue%3Dhttps://www.google.com/search%253Fq%253Dgeeksforgeeks%26hl%3Den&amp;opi=89978449&amp;sa=U&amp;ved=0ahUKEwjsm9TZhOGIAxW2zzgGHf6LL1cQxs8CCIcB&amp;usg=AOvVaw1TuHd6Xo3fo0PsVbf6s8jT\">Sign in</a></div><div><a class=\"xeDNfc\" href=\"https://www.google.com/preferences?hl=en-IN&amp;fg=1&amp;sa=X&amp;ved=0ahUKEwjsm9TZhOGIAxW2zzgGHf6LL1cQ5fUCCIgB\">Settings</a><a class=\"xeDNfc\" href=\"https://policies.google.com/privacy?hl=en-IN&amp;fg=1\">Privacy</a><a class=\"xeDNfc\" href=\"https://policies.google.com/terms?hl=en-IN&amp;fg=1\">Terms</a><a class=\"xeDNfc\" href=\"/setprefs?hl=en&amp;prev=https://www.google.com/search?q%3Dgeeksforgeeks%26pccc%3D1&amp;sig=0_eTF24XsT_tYHUWRGKXBcoWrMFK8%3D&amp;cs=2&amp;sa=X&amp;ved=0ahUKEwjsm9TZhOGIAxW2zzgGHf6LL1cQjcAJCIkB\">Dark theme: Off</a></div></div> </footer><script nonce=\"OfeM2M84IFZcxuPnOOcVew\">(function(){var hl='en-IN';(function(){var g=function(a){var b=0;return function(){return b<a.length?{done:!1,value:a[b++]}:{done:!0}}},k=typeof Object.defineProperties==\"function\"?Object.defineProperty:function(a,b,c){if(a==Array.prototype||a==Object.prototype)return a;a[b]=c.value;return a},l=function(a){a=[\"object\"==typeof globalThis&&globalThis,a,\"object\"==typeof window&&window,\"object\"==typeof self&&self,\"object\"==typeof global&&global];for(var b=0;b<a.length;++b){var c=a[b];if(c&&c.Math==Math)return c}throw Error(\"a\");},m=l(this),n=function(a,b){if(b)a:{var c=m;a=a.split(\".\");for(var d=0;d<a.length-1;d++){var e=a[d];if(!(e in c))break a;c=c[e]}a=a[a.length-1];d=c[a];b=b(d);b!=d&&b!=null&&k(c,a,{configurable:!0,writable:!0,value:b})}};n(\"Symbol\",function(a){if(a)return a;var b=function(h,f){this.g=h;k(this,\"description\",{configurable:!0,writable:!0,value:f})};b.prototype.toString=function(){return this.g};var c=\"jscomp_symbol_\"+(Math.random()*1E9>>>0)+\"_\",d=0,e=function(h){if(this instanceof e)throw new TypeError(\"Symbol is not a constructor\");return new b(c+(h||\"\")+\"_\"+d++,h)};return e});n(\"Symbol.iterator\",function(a){if(a)return a;a=Symbol(\"Symbol.iterator\");for(var b=\"Array Int8Array Uint8Array Uint8ClampedArray Int16Array Uint16Array Int32Array Uint32Array Float32Array Float64Array\".split(\" \"),c=0;c<b.length;c++){var d=m[b[c]];typeof d===\"function\"&&typeof d.prototype[a]!=\"function\"&&k(d.prototype,a,{configurable:!0,writable:!0,value:function(){return p(g(this))}})}return a});var p=function(a){a={next:a};a[Symbol.iterator]=function(){return this};return a},r=function(a){return q(a,a)},q=function(a,b){a.raw=b;Object.freeze&&(Object.freeze(a),Object.freeze(b));return a},t=function(){for(var a=Number(this),b=[],c=a;c<arguments.length;c++)b[c-a]=arguments[c];return b};n(\"globalThis\",function(a){return a||m});var u=function(a,b){a instanceof String&&(a+=\"\");var c=0,d=!1,e={next:function(){if(!d&&c<a.length){var h=c++;return{value:b(h,a[h]),done:!1}}d=!0;return{done:!0,value:void 0}}};e[Symbol.iterator]=function(){return e};return e};n(\"Array.prototype.entries\",function(a){return a?a:function(){return u(this,function(b,c){return[b,c]})}});n(\"Object.entries\",function(a){return a?a:function(b){var c=[],d;for(d in b)Object.prototype.hasOwnProperty.call(b,d)&&c.push([d,b[d]]);return c}});\n",
      "var v=globalThis.trustedTypes,x;function y(){var a=null;if(!v)return a;try{var b=function(c){return c};a=v.createPolicy(\"goog#html\",{createHTML:b,createScript:b,createScriptURL:b})}catch(c){}return a}function z(){x===void 0&&(x=y());return x};var A=function(a){this.g=a};A.prototype.toString=function(){return this.g+\"\"};function B(a){var b=z();return new A(b?b.createScriptURL(a):a)}function C(a){if(a instanceof A)return a.g;throw Error(\"e\");};var D=function(a){this.g=a};D.prototype.toString=function(){return this.g+\"\"};function E(a){var b=t.apply(1,arguments);if(b.length===0)return B(a[0]);for(var c=a[0],d=0;d<b.length;d++)c+=encodeURIComponent(b[d])+a[d+1];return B(c)}function F(a,b,c,d){function e(f,w){f!=null&&(Array.isArray(f)?f.forEach(function(Z){return e(Z,w)}):(b+=h+encodeURIComponent(w)+\"=\"+encodeURIComponent(f),h=\"&\"))}var h=b.length?\"&\":\"?\";d.constructor===Object&&(d=Object.entries(d));Array.isArray(d)?d.forEach(function(f){return e(f[1],f[0])}):d.forEach(e);return B(a+b+c)};function aa(a,b){if(a.nodeType===1&&/^(script|style)$/i.test(a.tagName))throw Error(\"e\");if(b instanceof D)b=b.g;else throw Error(\"e\");a.innerHTML=b};function ba(a){a=a===null?\"null\":a===void 0?\"undefined\":a;var b=z();return new D(b?b.createHTML(a):a)};\n",
      "var ca=r([\"/complete/search\"]),G=document.querySelector(\".l\"),H=document.querySelector(\"#sf\"),I=H.querySelector(\".sbc\"),J=H.querySelector(\"[type=text]\"),K=H.querySelector(\"[type=submit]\"),L=H.querySelector(\".sc\"),M=H.querySelector(\".x\"),N=J.value,O=[],P=-1,Q=N,R,S,T;N||(M&&(M.style.display=\"none\"),U(!1));function U(a){if(I.classList.contains(\"esbc\")){var b=I.classList.contains(\"chsbc\"),c=I.classList.contains(\"rtlsbc\");a&&(L.style.display=\"block\",b?(H.style.borderRadius=\"20px 20px 0 0\",L.style.borderBottom=\"1px solid #DFE1E5\",K.style.borderRadius=c?\"20px 0 0 0\":\"0 20px 0 0\"):I.style.borderRadius=c?\"0 8px 0 0\":\"8px 0 0 0\");a||(L.style.display=\"none\",b?(H.style.borderRadius=\"20px\",L.style.borderBottom=\"none\",K.style.borderRadius=c?\"20px 0 0 20px\":\"0 20px 20px 0\"):I.style.borderRadius=c?\"0 8px 8px 0\":\"8px 0 0 8px\")}}function V(){H.querySelector(\"[name=oq]\").value=Q;H.querySelector(\"[name=aqs]\").value=\"heirloom-srp.\"+(P>=0?P:\"\")+\".\"+(O.length>0?\"0l\"+O.length:\"\")}\n",
      "function W(){R=null;if(S){var a={client:\"heirloom-srp\",hl:hl,json:\"t\",callback:\"hS\",q:S};typeof ds!==\"undefined\"&&ds&&(a.ds=ds);var b=document;var c=\"SCRIPT\";b.contentType===\"application/xhtml+xml\"&&(c=c.toLowerCase());c=b.createElement(c);b=E(ca);var d=C(b).toString();var e=d.split(/[?#]/),h=/[?]/.test(d)?\"?\"+e[1]:\"\";b=e[0];d=/[#]/.test(d)?\"#\"+(h?e[2]:e[1]):\"\";a=F(b,h,d,a);c.src=C(a);var f,w;(f=(a=(w=(f=(c.ownerDocument&&c.ownerDocument.defaultView||window).document).querySelector)==null?void 0:w.call(f,\"script[nonce]\"))?a.nonce||a.getAttribute(\"nonce\")||\"\":\"\")&&c.setAttribute(\"nonce\",f);document.body.appendChild(c);S=null;R=setTimeout(W,500)}}function X(){for(;L.firstChild;)L.removeChild(L.firstChild);O=[];P=-1;U(!1)}function Y(){var a=L.querySelector(\".scs\");a&&(a.className=\"\");P>=0?(a=L.childNodes[P],a.className=\"scs\",N=a.textContent):N=Q;J.value=N}J.addEventListener(\"focus\",function(){G&&(G.style.display=\"none\")},!1);J.addEventListener(\"blur\",function(){X();G&&(G.style.display=\"\")},!1);J.addEventListener(\"keyup\",function(a){N=J.value;T=!1;a.which===13?V():a.which===27?(X(),G&&(G.style.display=\"\"),N=Q,J.value=N):a.which===40?(P++,P>=O.length&&(P=-1),Y()):a.which===38?(P--,P<-1&&(P=O.length-1),Y()):(a=N)?(M&&(M.style.display=\"\"),S=a,R||W(),Q=a):(M&&(M.style.display=\"none\"),U(!1),X(),Q=\"\",T=!0)},!1);K.addEventListener(\"click\",V,!1);M.addEventListener(\"click\",function(){J.value=\"\";M.style.display=\"none\";U(!1)},!1);I.addEventListener(\"click\",function(){J.focus()},!1);window.hS=function(a){if(!T){X();a[1].length===0&&U(!1);for(var b=0;b<a[1].length;b++){var c=a[1][b][0],d=document.createElement(\"div\");aa(d,ba(c));d.addEventListener(\"mousedown\",function(e){e.preventDefault();return!1},!1);c=c.replace(/<\\/?b>/g,\"\");d.addEventListener(\"click\",function(e){return function(){P=e;V();Y();X();H.submit()}}(b),!1);d.addEventListener(\"mouseover\",function(e){return function(){P!==e&&(P=e,Y())}}(b),!1);L.appendChild(d);U(!0);O.push(c)}}};}).call(this);})();(function(){function b(a){for(a=a.target||a.srcElement;a&&a.nodeName!==\"A\";)a=a.parentElement;a&&(a.href||\"\").match(/\\/search.*[?&]tbm=isch/)&&(a.href+=\"&biw=\"+document.documentElement.clientWidth,a.href+=\"&bih=\"+document.documentElement.clientHeight)}document.addEventListener(\"click\",b,!1);document.addEventListener(\"touchStart\",b,!1);}).call(this);</script></div><!-- cctlcm 5 cctlcm --><textarea class=\"csi\" name=\"csi\" style=\"display:none\"></textarea><script nonce=\"OfeM2M84IFZcxuPnOOcVew\">(function(){var e='xIz1ZuypLbaf4-EP_pe-uQU';var sn='web';var timl=false;(function(){function C(a){if(!a||D(a))return 0;if(!a.getBoundingClientRect)return 1;var c=function(b){return b.getBoundingClientRect()};return E(a,c)?0:K(a,c)}function E(a,c){var b;a:{for(b=a;b&&b!==null;b=b.parentElement)if(b.style.overflow===\"hidden\"||b.tagName===\"G-EXPANDABLE-CONTENT\"&&getComputedStyle(b).getPropertyValue(\"overflow\")===\"hidden\")break a;b=null}if(!b)return!1;a=c(a);c=c(b);return a.bottom<c.top||a.top>=c.bottom||a.right<c.left||a.left>=c.right}\n",
      "function D(a){return a.style.display===\"none\"?!0:document.defaultView&&document.defaultView.getComputedStyle?(a=document.defaultView.getComputedStyle(a),!!a&&(a.visibility===\"hidden\"||a.height===\"0px\"&&a.width===\"0px\")):!1}\n",
      "function K(a,c){var b=c(a);a=b.left+window.pageXOffset;c=b.top+window.pageYOffset;var d=b.width;b=b.height;var f=0;if(b<=0&&d<=0)return f;var q=window.innerHeight||document.documentElement.clientHeight;c+b<0?f=2:c>=q&&(f=4);if(a+d<0||a>=(window.innerWidth||document.documentElement.clientWidth))f|=8;f||(f=1,c+b>q&&(f|=4));return f};var L=e,M=sn,N=typeof de===\"undefined\"?!0:de!==!1,O=[];function P(a,c,b){a=\"/gen_204?atyp=csi&s=\"+M+\"&t=\"+a+(\"&lite=1&ei=\"+L+\"&conn=\"+(window.navigator&&window.navigator.connection?window.navigator.connection.type:-1)+c);c=\"&rt=\";for(var d in b)a+=\"\"+c+d+\".\"+b[d],c=\",\";return a}function Q(a){a={prt:a};window.wsrt&&(a.wsrt=window.wsrt);return a}function R(a){window.ping?window.ping(a):(new Image).src=a}\n",
      "(function(){for(var a=(new Date).getTime()-window.start,c=Q(a),b=0,d=0,f=0,q=document.getElementsByTagName(\"img\"),r=N?\"&biw=\"+window.innerWidth+\"&bih=\"+window.innerHeight:\"\",F=function(){r+=\"&ima=\"+f;c.aft=b;R(P(\"aft\",r,c))},y=0,S=function(g,t,u){var n=g.src;g.onload=function(){u&&n&&n===g.src||(d=(new Date).getTime()-window.start,t&&++y===f&&(b=d,F()),g.onload=null)}},T=0,h=void 0;h=q[T++];){var v=C(h),p=!!(v&1);p&&++f;var l=h.hasAttribute(\"data-ilite\"),w=h.hasAttribute(\"data-deferred\"),G=h.hasAttribute(\"data-src\")||\n",
      "h.hasAttribute(\"data-lzysrc\"),z=!w&&!l&&G;O.push([v,w||l,z,h.id,l&&G]);l=(v=h.complete&&!w&&!(p&&z))&&Number(h.getAttribute(\"data-iml\"))||0;v&&l?(p&&++y,l&&(h=l-window.start,p&&(b=Math.max(b,h)),d=Math.max(d,h))):S(h,p,w||z)}b||(b=a);d||(d=b);y===f&&F();google.rglh&&google.rglh();window.addEventListener(\"load\",function(){window.setTimeout(function(){c.ol=(new Date).getTime()-window.start;timl&&(c.iml=d);var g=window.performance&&window.performance.timing;g&&(c.rqst=g.responseEnd-g.requestStart,c.rspt=\n",
      "g.responseEnd-g.responseStart);for(var t=g=0,u=0,n=0,H=0,I=0,U=0,k;k=O[U++];){var m=k[0],A=k[1],J=k[2],x=k[3];k=k[4]||google.ldi&&x&&google.ldi[x];x=m==0;var V=m&8,B=m&1;m=!B&&m&4;B&&(A&&!k||++u,J&&++I);A&&(B&&k&&++g,m&&!k&&++t);x||V?J||++H:A||++n}r+=\"&ime=\"+u+\"&imel=\"+I+(\"&imex=\"+n+\"&imeh=\"+H)+(\"&imea=\"+g+\"&imeb=\"+t);R(P(\"all\",r,c))},0)},!1)})();}).call(this);})();(function(){window.google=window.google||{};window.google.ishk=[];function a(){return window.scrollY+window.document.documentElement.clientHeight>=Math.max(document.body.scrollHeight,document.body.offsetHeight)}function b(){a()&&window.google.ishk.length===0&&(window.google.bs=!0,window.removeEventListener(\"scroll\",b))}a()?window.google.bs=!0:(window.google.bs=!1,window.addEventListener(\"scroll\",b));}).call(this);</script><script nonce=\"OfeM2M84IFZcxuPnOOcVew\">window._setImagesSrc=function(k,e,n){function l(b){b.onerror=function(){b.style.display=\"none\"};b.setAttribute(\"data-deferred\",\"2\");e.substring(0,5)!==\"data:\"&&b.setAttribute(\"data-defe\",\"1\");b.src=e;var g;((g=google.c)==null?0:g.di)&&b.decode()}function m(b,g){google.iir=google.iir||{};google.iir[b]=g}for(var d={},h=0;h<k.length;d={g:void 0},++h){var f=k[h];d.g=document.getElementById(f)||document.querySelector('img[data-iid=\"'+f+'\"]');if(d.g){var c=void 0,a=void 0;if((a=google.c)==null?0:a.setup)c=\n",
      "google.c.setup(d.g);c=c!=null&&c&1;a=void 0;((a=google.c)==null?void 0:a.doiu)!==1||c?(a=void 0,((a=google.c)==null?void 0:a.doiu)!==2||n||c?(a=void 0,((a=google.c)==null?void 0:a.doiu)!==3||c?l(d.g):(google.doid=google.doid||{},google.doid[f]=e)):m(f,e)):google.caft(function(b){return function(){l(b.g)}}(d))}else m(f,e)}};typeof window.google===\"undefined\"&&(window.google={});</script><script nonce=\"OfeM2M84IFZcxuPnOOcVew\">(function(){var s='data:image/png;base64,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\\x3d\\x3d';var i=['dimg_1'];_setImagesSrc(i,s);})();</script><script nonce=\"OfeM2M84IFZcxuPnOOcVew\">(function(){var s='data:image/jpeg;base64,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';var i=['dimg_5'];_setImagesSrc(i,s);})();</script><script nonce=\"OfeM2M84IFZcxuPnOOcVew\">(function(){var s='data:image/png;base64,iVBORw0KGgoAAAANSUhEUgAAAIAAAACACAMAAAD04JH5AAAAYFBMVEUvjUb///8mikB0rIA/lFMchzkThTQrjEMiiT0Hgy/2+vcAgiuxz7dxq335/PrQ4tTo8era6N1lpXOOu5iVv5630r1XnmfH3Mt/s4pfom6myK3g7OPv9fA3kEyIt5JPm2ACMMW8AAAEFElEQVR4nO2Z2ZajOAxAw+INQ8waCGH5/79sII0xxAukputhju5DnerCsmVbkiX17QYAAAAAAAAAAAAAAAAAAOCEUIQXECWnBPyrAtbJGHsUcS2yTNRx8WDMd2nLaV6+Bap2GDl2CNhBKKnunkJUNxSZt0VYOIidQBfnmH67PPWLl/dBWvTIpG8Yd58CWUK/OgWCE83yiwoN0x2Cj8pILyAe+Pr6lNT62ZZN3T4PAT9Ts0DMr5ojet7N0022EBz2RHBpG++9wmuWgBrrdBPFXgMUO8anT5PlaNcvXOt73qBqwCrn+Ci/YIpkf51dFbdtWx/uONm2xA/7T6tpfFzvbVKwCwqEmwNkZYjRAr6VO794rte6PzDRkL/j8dhubimuXMHND/9uN1UDD0GkUY7h1b+/0IeyfJarArhfXbMm1/zA7xfdq6O/IaLcdvU+VJJtfyrQ3toJHpevwr/qh34/7XXQRByunPdj/qw44F0TcQifAkp2OQ7Mt/AatAEMby4q+LQAkREjGrXOziuBv3kW/d7gN2jb8uir/0qMdvbzZ3kHFtIK0I1LQ2+/iPjfQXp56D3N19/TX1t/OgIZeIItBgZfv/vXIeNqeBVbY1PHf2/9Kfavrp/J2/g9C5iRpp9Kn7zy1lgg/inQc7XC1QQ6Qs+JOtYPg1Mkw/rSSRNIzkkGvVUB6kxEfszDGpRo8P9XYLQq4OfuGX7G3a4AGf+1Al1of5jov1YgczyMyFJd/CfUjtQUybcltDGuYUCsyaPXIcv4Xrp36chNt0DQYmIEt+uogkuNc2oW4DKDcJjAlGCtI+/moQTLLCxEyfprZn6N6Bq5vZczOWeyJjXf1pYDTMk+l8roU8hZYSotq3UqoESC0qCBkpXm9IbkddxN5R/eUvkT1QGWWf79WAK/QYncczpnxaGswFJ9Vsy2tDU+UZ5RJRgmGg1wvhXuSxbG5BF4af+pAeHb+pHLBN8rKLVPyw4z+sp0S1kws8WOe3CsQBBVpitPZU2EKFXtK+Fbr41QnChl2BpV1TPz6gf3lWISDUrXSJxMW3cTelkTIowonX6EQaZ+CVab2+xwPoQ67/FbwB8HNbBG4dmsjakTTjsVcdk0ZSz2LTDFo5jYfUlFOzRDWWX7BkF+Pm/new20VEoaTnDmFtD7lAFHy2ne/64MIES4BHQeZdNgsHbJvOIQcwixd6m6Sz2qRQNb2697fExHmK2xJTQBwgVFRkOItR1oHJpam1HzRX/itsQQTe81qky9YsIeOkvoymM0Ow1BYbl3pehVhpZuh4/G+NDhE42xt31OBTw2cZZGE2kWNyOyNOsXAUyeRZV1s8BLtEnIfvyfFlP85ZwzzDjHpyYjiM3jF6HLvTEAAAAAAAAAAAAAAAAA+H3+AKE6NScR8KZcAAAAAElFTkSuQmCC';var i=['dimg_7'];_setImagesSrc(i,s);})();</script><script nonce=\"OfeM2M84IFZcxuPnOOcVew\">(function(){var s='data:image/png;base64,iVBORw0KGgoAAAANSUhEUgAAAQAAAACACAMAAADTa0c4AAAAY1BMVEX4+Pj///8qjkP7+/sAgiPk7uYWiTeGt5AeizsmjUD4/PkAhi5wrH1Sn2STv5wAfxvq8uzx9/Jjp3JaomrK386uzrRLm15CmFajyKuMvJc7lVHb6d6dxKU2k0y61cBpqXd+tIkS/GEJAAADeklEQVR4nO2ca5eyIBSFs7yg4q0rlV3+/68cQddMgq6XShcvsp8vM3WaFnsDR8DxrFYAAAAAAAAAAAAAAEzN5mNMt3wCNt6X2G3C1/LttmAS+RZbMJl+Ox2YUL6dFkyr3/NM63mXqfXb5sDEE4Bj1SSYQb9dDsyh36ZJMMsAsGkIzKPfniEw0wCwZwg4b8Bc+q2ZA64bMNsMsGUOwADXDZhPPwywIwvCABgAA2AADIABMGCQpKqSb+KmtWkx2vp9Tre73Zbm+8/idhtQsQv55ZYr/Zzkt7/4hVULM2Bzj/14/Uuc+oeexOrgp69xP74P7qlMa9NioN3l+VV+awEN/uIBTeW4fy6XY0DwCDtZYZqGpP09PP46EBy7OOHxzorwEajfZFqbFmqza79Tf4oYO2edRkK6RJAQ0sWzM2PRqYv79WIMSPKmh8NL3k37hB2FYpIJB5KsfXVknSFVfuGfVxOltQY0DviEXv9el5EY80T0cS30h9HLnL9S4g/pt9YAbxM9elk/qQtuwKkx5XriBhR1T2/1iBZ1FWgckPvzmTayU+Z5TPzylMLJ8MmiaW1aDLZcoeIzP76V5S3m2WBk4bNgA7wDTwP+fs+vEOFB849Ma9NCU0uQNV2f1nUzA+Js4JK/eAO8ZzMECKXNTAjlDLAkA8pghDLiSeB04ikgGv+U7QZUu8IfQSwFYrHoC8c+U+wq2w2g4foLQmq7AcnzOwOeie0G5Hyd02zzFNpNIel+jMTT3HYDvAM3gNBIgQrh260QOhTngVRaIJjWpkW/yfu1uNx7Cnee/vzrlS+E4rsaFwuEtXQ8aFqbFv0mV+IwxFeWuv9aCldihfiQ3jetTQtJCeNDmWSywHYzVLc9rW6GPHFIQJj0rmltWshdeYxFOu9vhxnfDsftdpjHC9bfDouLR3yUB4ZpbVrIfXkvRLp780CEv1coqcG0Ni3kRntUXAnfPRJr5gVVvsq0Ni2UVle7dtX75qFouFMPCUxr00JptVd+diw+cGPAtDYt1GY7f2MEt8a4RHbTvzl6W9zNUYHbt8e7fnb6HyQmwLQ2LWAADIABMAAGwAAYMAd2PDLj/ENTMMB1A5x/dBYGOP/4vPMGOF9CA0VUnC+jg0JKzpfSQjE1lNNDQUXnS2quUFR15XxZXY7jhZVbnC6tDQAAAAAAAAAAAAD+N34AGb1EFQtSZw4AAAAASUVORK5CYII\\x3d';var i=['dimg_11'];_setImagesSrc(i,s);})();</script><script nonce=\"OfeM2M84IFZcxuPnOOcVew\">(function(){var s='data:image/png;base64,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';var i=['dimg_15'];_setImagesSrc(i,s);})();</script><script nonce=\"OfeM2M84IFZcxuPnOOcVew\">(function(){var s='data:image/jpeg;base64,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\\x3d';var i=['dimg_19'];_setImagesSrc(i,s);})();</script><script nonce=\"OfeM2M84IFZcxuPnOOcVew\">(function(){var s='data:image/png;base64,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';var i=['dimg_23'];_setImagesSrc(i,s);})();</script><script nonce=\"OfeM2M84IFZcxuPnOOcVew\">(function(){var s='data:image/png;base64,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\\x3d\\x3d';var i=['dimg_29'];_setImagesSrc(i,s);})();</script><script nonce=\"OfeM2M84IFZcxuPnOOcVew\">(function(){var s='data:image/png;base64,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';var i=['dimg_37'];_setImagesSrc(i,s);})();</script><script nonce=\"OfeM2M84IFZcxuPnOOcVew\">(function(){var s='data:image/png;base64,iVBORw0KGgoAAAANSUhEUgAAACgAAAAoCAMAAAC7IEhfAAAAllBMVEX///8AAADnpB+zsbDMy8rAvr3mnwDOzs7moQf9+PHnoxnFxcWTk5PlmwBvTxD88+eEhITW1tZ3d3fe3t6sqqiRlp1zUQrysTnxy5PzrCDyz5zsuGXrtVptRwDwpQByZlL+5cH569Xz16/vw4EdHB1RUE/y8vLo5+dFREMRERFta2ljY2MrKyvsvG7237/prUS2jUaKYQjO1d1CAAABEklEQVQ4jc3Ua1vCIBQHcFruCMyFObNl5mWm5iWr7//lYgPG3DiDl/7fAb8HHi4HQroZPKjEjrFmEu1Gd+rMPl4C3ew1Z31uqN3TG6fpPMRFMvAe5qRc9LuPZQo0wuc0brUWbDOnvJI57saqySJEPt86VBo3sV1MrZ4WHmckX/iclnRrOzK3KyUANK7yE3FSFkXDjVDXSqiLK7fzOjKu4L5uZwNXDoTsSvdVu+H00ZVpRo4lPNXQ7WTC4Tl0abWZg91MEneTZOZ47JR41IGf/VBf4ckvL7gsbp6teWYdKeQrgwApgLeLxikrF/Fv4pFCF9eV9EvtoPNVtQqH/SDOluLvWohNDqir5/xbyjNRnxRtun9nsBH5Vslh9wAAAABJRU5ErkJggg\\x3d\\x3d';var i=['dimg_3'];_setImagesSrc(i,s);})();</script><script nonce=\"OfeM2M84IFZcxuPnOOcVew\">(function(){var s='data:image/png;base64,iVBORw0KGgoAAAANSUhEUgAAAHAAAABwCAMAAADxPgR5AAAArlBMVEX///8AAADnpB+zsbCwrq3d3NzBwL/lnADmnwDy8vLlmgDp6ekmJibnoxr23rvnohTy1abR0dEtLCzi4uIWFhawfhrwqiBAQED5+fn67t7IyMjnpzYMDAwgICD46dA7OzvtwXT++/X45shWVlbwyJGKiopoaGigoKB4eHjwzo4zMzMRCwHtvnfvxIDtuV6mdxnsvmnssUWnjGBLS0tGQDSVlJHpslDPvaNkQwDTlhpRxYckAAADxklEQVRogd2aa1vaMBiGa1qatFBSxEMRRe10Dpkoc7rt//+xtcEDJG+S5tQPPp8D93U3p+ZNo8guwwMoE8t/68AbQbwkHA/0u8+C8UC/g2EwHog7DMcD/Y569hv17HcxDcY775nXt98FOF565o2C8TJ4vn8dv8Oe/Y4g3GE4v/ue/cD5vjomqF6E4FWXoN/xCSow/TnzzstA3KrhtaH53DMyk/q9heIHn8hM0n8fvCak8NeV2anGbytJfBEzcP6tHvd5CBVk7YfXyW/7WK888Cpw/TwQ/LbEJ2eegZ8fRxM/D44SPzkPIezkCO+3Kp6To9SP4m1oATparznwfvSINk+LWZP6aTMnVAQWyG4FkPj9KncblWsMEHMrR3i9Tq/3W12Pc/G5FsicKNkfgAPuAgFEc0f4eZ5BTWtg7Jg6wn7nkgO8B8fn7n7Mkbg5St5fFAWKBRKnh4GjoR9zdOjHymC87BLF+UjnnYDfQF6q+9k4F4l53cEPfp5aXkMUHclDMD9GFFY5qt84rP0YkXfUAx38GDE3BDr5MSLZHzTXytaVox8j7vZjQdSNYV5swtt3JGNVy+qHux8jvu+PRa7kRQMffow4x6QJRmre1I8fS3nTRtPoFuKFKyhHiT+/bunZD3ygIf2GwBZ4F5AXTfr1i6Lv/foBRRiL+W4SYchchuUJwHAXAttk/Dao7sDpwDpvN1P8GL1X4c7ixD5xXEFAVQ+eNT9ySTJo/4QDDsLxGuJUPHnKh8zUmRfHaSWUKuTA1AMwGUZcrf5SestZeeDFScoDf395YPhHytdfgw8a/n1GDhz4UMyElUZx1p24T/yhuLSdyoFR7Ei8aysTPHCk+txgkDos3knKuqvi3zCU21M1HKR2mUzfR4dwjAn3ycg2wivGc2Cg+N59GxgolrYDE/ktuMlLUGAGnLbDOt6JwMCO0AVhUEegFwMfMF4gYkhH+FbSznF2tV4vtcVZuIxh4Vi/5oRSnL/q7mfAOoa5Y4nfaooUl5qmcCnKcHYsP4ttxUZd24MOwm2MihnlbnFPf7Hn7HizXzDNtT9wdCy5IrSmvNfGyfGGL3rjpf5HDo68XzegvaPIQ7luYrBYOgK8DoOGBXbUrAAQr/N9t4UjxKNz3cTXEBWOIA915hkTHf3kRMlTXRTi5SGlRjwz4lq8VzP0kxOBMuP4lYg8bMyTXdT84f5p9rH/7aQw95M6/t3sLVfLuaiHCs0ll5Hj6h8hm3pcNxnXCGPgexNLPxnx+KTpIcIC0Rz8JETZ11Ae/NqI/agD6ufff58XU5jGEWQSAAAAAElFTkSuQmCC';var i=['dimg_9'];_setImagesSrc(i,s);})();</script><script nonce=\"OfeM2M84IFZcxuPnOOcVew\">(function(){var s='data:image/png;base64,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\\x3d';var i=['dimg_13'];_setImagesSrc(i,s);})();</script><script nonce=\"OfeM2M84IFZcxuPnOOcVew\">(function(){var s='data:image/jpeg;base64,/9j/4AAQSkZJRgABAQAAAQABAAD/2wCEAAkGBwgHBgkIBwgKCgkLDRYPDQwMDRsUFRAWIB0iIiAdHx8kKDQsJCYxJx8fLT0tMTU3Ojo6Iys/RD84QzQ5OjcBCgoKDQwNGg8PGjclHyU3Nzc3Nzc3Nzc3Nzc3Nzc3Nzc3Nzc3Nzc3Nzc3Nzc3Nzc3Nzc3Nzc3Nzc3Nzc3Nzc3N//AABEIADcANwMBIgACEQEDEQH/xAAbAAEAAgMBAQAAAAAAAAAAAAAABgcEBQgBA//EAC0QAAEDBAAFBAEDBQAAAAAAAAECAwQABQYRBxIhMVETMkFhgRSxsxU4cXSR/8QAFAEBAAAAAAAAAAAAAAAAAAAAAP/EABQRAQAAAAAAAAAAAAAAAAAAAAD/2gAMAwEAAhEDEQA/AKNpSlApStsvGrujHUZCqGf6Utz0kyPUR7tka5d83cHrqg1NKUoFKUoJRfOHmWWCCqddbO61FR73EONuBH2eRR0Ps1pbNZ7jfJoh2iG9LkEb5Gk70PJ8D7NdIcPmbap6421rNpGTB5g+sw+ouJQCdFQJJ0Dza1vruoXhsheK8EbnkFnSkXOS/wAin+UEtDnDY/4CSN/KqCv71w6y6xwVzblZXW4yOq3G3G3eUeTyKJA+zUykf25xf98/yqqGweImWwm5jYvct9MtstrElZd5d/KebfKdeKuXhXZLdf8AhXaYV2QHI4mOO+kToOKS4ohJ8j6+qCi0YnflWBV+FseFrSNmSohI1vWwCdkb6bAr7Y7g+S5LHMiy2l6QwCR6pUltBI7gKWQD+KlPF7Ir3cskNguEdVrt0VwIYiJ9qk70lw66K6dvgdu+6tPPYEaLBtlmiZuzikRhnSGEDTjoHQHmC0nX7ne9/Ac8ZDjV5xqQli+W92ItY2gq0Ur/AMKBIP4NKuLL51he4ZP2i5ZjDv1wYdQuNJGg970jtzKJISVdfB+q8oMfGuIXDzDHXWcftlyUh9PM9KWAVKI9qRzK7dT4/PxD+HHECPjsGZY7/BNwsU0kuNJ0VNkjRIB7g6HTY1rY+4BSgtWVfeFlpgTTZLDKuE2S0pDaZg2hnfgqJ1ryAT07itSjOY0bhfCx2H+rau0eb64fTpKUALKgQre99R8VAKUFoX3P7DmWIoiZVClIv8VCv086K2gpUrXTe1AgK+RrXyNdhlRc/wAVymxxLfxEt0hcyGnlanxu6h5OiCCdDY6gnr0qpaUFgZxk2JP2Jmw4fYgy026HFzpCB6qtb6A9VHe/k/Wq8qAUoFKUoFKUoFKUoFKUoP/Z';var i=['dimg_17'];_setImagesSrc(i,s);})();</script><script nonce=\"OfeM2M84IFZcxuPnOOcVew\">(function(){var s='data:image/png;base64,iVBORw0KGgoAAAANSUhEUgAAAHAAAABwCAMAAADxPgR5AAAAZlBMVEX///8AAADn5+cZGRn5+fn8/Pz09PSdnZ25ubnc3NysrKzj4+OJiYnW1talpaV+fn6/v78PDw/t7e1KSkrPz88zMzPHx8cpKSloaGiVlZUkJCQ8PDweHh5TU1N1dXWysrJfX19DQ0NsoC9PAAAFAklEQVRogc1a6ZqqOhAkCIgiQRBEXJn3f8kjIBqSykbgfrf+zUQpk/RS3Y3n/d9RpEe6bQ5Zdmi29JgWa3Kl9HkjAm5Pmq5A5tOTyPXDifqLsjVXFduAa7MU50u5t8k+X+5swdaUbcA2cKILLel6ynA+396ersN+Jl1azeMjpJrjJ2E2l65DZn2u6caFj5CN5SZnGAuPxoIueLjzEfIw9pDEIK6Y4JqY8ZXL0HUoTfjOy/ERctbzxUvyERLr+I7L8hFy/M/ub4TyHnfL8xGyk/NF+RqEeSQl/FuDj5A/GZ9TuFYhw3y8A17iV2OsLr7IWxrHLfdP6I4F/9U+3hd7oAzleBz7CxOMHclXPmBX40J5MaXLvgZZ8z9E5BM8/vBb841uN2O28eQXBf8PhO9PPpJ8b6WuHllD93G8p032qL5baSfuJgZIPleJe+ByS3wldUvPCacdwuRM25pcuZgpRhDOUn3hA3f+DKJUqlPClPft4C48cKrLRbuoZU83A281by9jl0EMvbkRAonJXjIw/OUJmS2KN7jCkbLej9zs7lAivM1INBrWs8GiMo3pgRPruPqCq1o1ogJWRmP5iFNC60LIp4sBp2FRSBMDKvUj1ZAUXoPZ4CowN5TNGDssVvaK7WvknQ5Ybrb9Glx6uvGBBNWjW4HSPnfuMBXwUDut0aCFrSufpMTsikZYCy7QQoPG30kN9H/nG+wAb/GdV2VH7QxoHBEsX3K3dtIHATKbEgbS0xJ8OGS+oDEd9A8zwQE8egtzIV2GkIJHZ0hduIa1ESi8XTxUOixipNhMb1B8rEhYe0h8rEh495CzrHiHOYxsKxISD7UpV3SLDTQam86jAijx1dAtLvqHmQC5+A0GPCfB9gOSbif4MxStHAvANtMFRlizPqcOsG93gKa0hKSRiBqKqwDH4nDAH3pyLGlYOsnuAQl8cAn6JR0W8EQ8iXiLFyhYr+6EKKK8Qyl2z18pNxu4QrxIt147VdyerGDrzF/Sdna8RVhAfOp4vEScRtep5KH9Ii6sSO1QXxTQYsYSQjYa+ZsdUSNZU3doVGBPfOM2c06eSEernxJCcqbv9DxLa8TSYcRYlCnGW0/riywUDetvEpJ/hOSN1U0WjWrW8v0Y4/sv3z9nE2G1ORg3wXaZcrTzS3o/s8n7vyMuKz/oTlsxBqn69ZA3mOD1I/jopx3vSNdHc0x9SBv45bE56ce4bBHI1N3t4AsRNG3Y8MO9QRETY2DPcEgUBVDIkvgKZZFyg54XsktDR0x0lpskg4RG0yLuy5NzGfxFP10ZYTLHFRIse2d1bxwRd6i11CMD/WsioraeaJ5hjMLlGEW3SBocvwCqbCuuTxWdQnVoDRUKXfbqP7vxmV5qpZCOuuE41rmT6cUYtMtn59HVpVEKAN10XJLnWGP71aRhEIY6RZWox+NS82aUz8aq3eYrX/dR6DGmd2rVwVQSgnHsFyHjUDYNNxVhpbyPiGnbXMxPVUF41yTwSeOYmmZ7BaFWo0wN7rGNy6SIomJ3pIqvSglNxi0FaoZ1UIhGGeHVSIPh3Es29oSV6ZXA4ZDqdDChRbsHlXDWhFadCaCNbQkte6CRIKDtCC/2lRBfVFkRzprnRlzD35wwm1vo+RNzVSj+CWHr8jZ02doStq59umQUSBtF1IjGyuC5QAvLi2j/OMmrWwN68V0bB3stdk2m6RTFWeP0asN6+AcjnzxGP3uRXwAAAABJRU5ErkJggg\\x3d\\x3d';var i=['dimg_21'];_setImagesSrc(i,s);})();</script><script nonce=\"OfeM2M84IFZcxuPnOOcVew\">(function(){var s='data:image/png;base64,iVBORw0KGgoAAAANSUhEUgAAABQAAAAUCAYAAACNiR0NAAABAUlEQVR4AWMYesChoYElLjkzPj4lY3d8csZjIL4MxPNjUzPcSTYsISFLAqj5NBD/h+LPQPwbiT87NCuLh2gDgRr2QzXuT0jNMoBYksARn5zuHJ+UcR0kB6RXE2VYXHJGOlTDZmzyIJcB5e+D1CSkZDgQNBAaZv+jU1JkcKpJygiGeZ0I76a/Byq8jU9NZFqaCNTA48SE33/iDcw8TIyBt0GKQTFN0Msp6f2EIyUpo57YSIlLSrMhIg0WCIBcCfXSdlzJBsheTHQ6jEnOUgEFOLaEDbMIlhZBOYrorAdJk+nroVnvPsSgdGdoOF7HZyhZ2XPoGQoqjbCpIbt0AiejIQMArVLI7k/DXFkAAAAASUVORK5CYII\\x3d';var i=['dimg_25','dimg_27','dimg_31','dimg_33','dimg_35','dimg_39','dimg_41','dimg_43'];_setImagesSrc(i,s);})();</script><script nonce=\"OfeM2M84IFZcxuPnOOcVew\">(function(){var e='xIz1ZuypLbaf4-EP_pe-uQU';(function(){var a=e;if((window.performance&&window.performance.navigation&&window.performance.navigation.type)===2){var b=\"\",c=[],d=window.google!==void 0&&window.google.kOPI!==void 0&&window.google.kOPI!==0?window.google.kOPI:null;d!=null&&c.push([\"opi\",d.toString()]);for(var f=0;f<c.length;f++){if(f===0||f>0)b+=\"&\";b+=c[f][0]+\"=\"+c[f][1]}window.ping(\"/gen_204?ct=backbutton&ei=\"+a+b)};}).call(this);})();(function(){function b(){for(var a=google.drc.shift();a;)a(),a=google.drc.shift()};google.drc=[function(){google.tick&&google.tick(\"load\",\"dcl\")}];google.dclc=function(a){google.drc.length?google.drc.push(a):a()};window.addEventListener?(document.addEventListener(\"DOMContentLoaded\",b,!1),window.addEventListener(\"load\",b,!1)):window.attachEvent&&window.attachEvent(\"onload\",b);}).call(this);(function(){var b=function(a){var c=0;return function(){return c<a.length?{done:!1,value:a[c++]}:{done:!0}}};\n",
      "var e=this||self;var g,h;a:{for(var k=[\"CLOSURE_FLAGS\"],l=e,n=0;n<k.length;n++)if(l=l[k[n]],l==null){h=null;break a}h=l}var p=h&&h[610401301];g=p!=null?p:!1;var q,r=e.navigator;q=r?r.userAgentData||null:null;function t(a){return g?q?q.brands.some(function(c){return(c=c.brand)&&c.indexOf(a)!=-1}):!1:!1}function u(a){var c;a:{if(c=e.navigator)if(c=c.userAgent)break a;c=\"\"}return c.indexOf(a)!=-1};function v(){return g?!!q&&q.brands.length>0:!1}function w(){return u(\"Safari\")&&!(x()||(v()?0:u(\"Coast\"))||(v()?0:u(\"Opera\"))||(v()?0:u(\"Edge\"))||(v()?t(\"Microsoft Edge\"):u(\"Edg/\"))||(v()?t(\"Opera\"):u(\"OPR\"))||u(\"Firefox\")||u(\"FxiOS\")||u(\"Silk\")||u(\"Android\"))}function x(){return v()?t(\"Chromium\"):(u(\"Chrome\")||u(\"CriOS\"))&&!(v()?0:u(\"Edge\"))||u(\"Silk\")}function y(){return u(\"Android\")&&!(x()||u(\"Firefox\")||u(\"FxiOS\")||(v()?0:u(\"Opera\"))||u(\"Silk\"))};var z=v()?!1:u(\"Trident\")||u(\"MSIE\");y();x();w();var A=!z&&!w(),D=function(a){if(/-[a-z]/.test(\"ved\"))return null;if(A&&a.dataset){if(y()&&!(\"ved\"in a.dataset))return null;a=a.dataset.ved;return a===void 0?null:a}return a.getAttribute(\"data-\"+\"ved\".replace(/([A-Z])/g,\"-$1\").toLowerCase())};var E=[],F=null;function G(a){a=a.target;var c=performance.now(),f=[],H=f.concat,d=E;if(!(d instanceof Array)){var m=typeof Symbol!=\"undefined\"&&Symbol.iterator&&d[Symbol.iterator];if(m)d=m.call(d);else if(typeof d.length==\"number\")d={next:b(d)};else throw Error(\"b`\"+String(d));for(var B=[];!(m=d.next()).done;)B.push(m.value);d=B}E=H.call(f,d,[c]);if(a&&a instanceof HTMLElement)if(a===F){if(c=E.length>=4)c=(E[E.length-1]-E[E.length-4])/1E3<5;if(c){c=google.getEI(a);a.hasAttribute(\"data-ved\")?f=a?D(a)||\"\":\"\":f=(f=\n",
      "a.closest(\"[data-ved]\"))?D(f)||\"\":\"\";f=f||\"\";if(a.hasAttribute(\"jsname\"))a=a.getAttribute(\"jsname\");else{var C;a=(C=a.closest(\"[jsname]\"))==null?void 0:C.getAttribute(\"jsname\")}google.log(\"rcm\",\"&ei=\"+c+\"&tgtved=\"+f+\"&jsname=\"+(a||\"\"))}}else F=a,E=[c]}window.document.addEventListener(\"DOMContentLoaded\",function(){document.body.addEventListener(\"click\",G)});}).call(this);var w=function(a){var b=0;return function(){return b<a.length?{done:!1,value:a[b++]}:{done:!0}}};window.jsl=window.jsl||{};window.jsl.dh=function(a,b,m){try{var h=document.getElementById(a),e;if(!h&&((e=google.stvsc)==null?0:e.dds)){e=[];var f=e.concat,c=google.stvsc.dds;if(c instanceof Array)var n=c;else{var p=typeof Symbol!=\"undefined\"&&Symbol.iterator&&c[Symbol.iterator];if(p)var g=p.call(c);else if(typeof c.length==\"number\")g={next:w(c)};else throw Error(String(c)+\" is not an iterable or ArrayLike\");c=g;var q;for(g=[];!(q=c.next()).done;)g.push(q.value);n=g}var r=f.call(e,n);for(f=0;f<r.length&&!(h=r[f].getElementById(a));f++);}if(h)h.innerHTML=b,m&&m();else{var d={id:a,script:String(!!m),milestone:String(google.jslm||0)};google.jsla&&(d.async=google.jsla);var t=a.indexOf(\"_\"),k=t>0?a.substring(0,t):\"\",u=document.createElement(\"div\");u.innerHTML=b;var l=u.children[0];if(l&&(d.tag=l.tagName,d[\"class\"]=String(l.className||null),d.name=String(l.getAttribute(\"jsname\")),k)){a=[];var v=document.querySelectorAll('[id^=\"'+k+'_\"]');for(b=0;b<v.length;++b)a.push(v[b].id);d.ids=a.join(\",\")}google.ml(Error(k?\"Missing ID with prefix \"+\n",
      "k:\"Missing ID\"),!1,d)}}catch(x){google.ml(x,!0,{\"jsl.dh\":!0})}};(function(){var x=false;google.jslm=x?2:1;})();(function(){(function(){google.csct={};google.csct.ps='AOvVaw0tN5AOCQGTvwM3KGMThOcI\\x26ust\\x3d1727454788804575';})();})();(function(){(function(){google.csct.rd=true;})();})();(function(){window.xp=function(b){function f(k,g,h){return\"xp\"+(g==\"x\"?\"c\":\"x\")+h}for(var c=/\\bxp(x|c)(\\d?)\\b/,a=b;a;){var e=a.className,d=e.match(c);if(d){d=d[1]==\"c\";a.className=e.replace(c,f);b&&b.setAttribute(\"aria-expanded\",d);if(d)for(b=a.getElementsByTagName(\"img\"),c=0;c<b.length;++c)if(a=b[c],e=a.getAttribute(\"data-ll\"))a.src=e,a.removeAttribute(\"data-ll\");break}a=a.parentElement}};})();(function(){(function(){window.logVe=function(a){a&&a.attributes[\"data-ved\"]&&window.ping(\"/gen_204?ved=\"+a.attributes[\"data-ved\"].value)};}).call(this);})();(function(){(function(){var id='tsuid_1';var lve=true;(function(){\n",
      "var e=typeof navigator!==\"undefined\"&&!/Opera/.test(navigator.userAgent)&&/WebKit/.test(navigator.userAgent),f={A:1,INPUT:1,TEXTAREA:1,SELECT:1,BUTTON:1},g={Enter:13,\" \":32},h={A:13,BUTTON:0,CHECKBOX:32,COMBOBOX:13,FILE:0,GRIDCELL:13,LINK:13,LISTBOX:13,MENU:0,MENUBAR:0,MENUITEM:0,MENUITEMCHECKBOX:0,MENUITEMRADIO:0,OPTION:0,RADIO:32,RADIOGROUP:32,RESET:0,SUBMIT:0,SWITCH:32,TAB:0,TREE:13,TREEITEM:13},k={CHECKBOX:!0,FILE:!0,OPTION:!0,RADIO:!0},l={COLOR:!0,DATE:!0,DATETIME:!0,\"DATETIME-LOCAL\":!0,EMAIL:!0,MONTH:!0,NUMBER:!0,PASSWORD:!0,RANGE:!0,SEARCH:!0,TEL:!0,TEXT:!0,TEXTAREA:!0,TIME:!0,URL:!0,WEEK:!0};document.getElementById(id).onclick=function(){window.xp(this);lve&&window.logVe(this)};document.getElementById(id).onkeydown=function(d){var c=d.which||d.keyCode;!c&&d.key&&(c=g[d.key]);e&&c===3&&(c=13);if(c!==13&&c!==32)c=!1;else{var a=d.target;!a.getAttribute&&a.parentNode&&(a=a.parentNode);var b;if(!(b=d.type!==\"keydown\")){if(b=\"getAttribute\"in a)b=!((a.getAttribute(\"type\")||a.tagName).toUpperCase()in l);b=!(b&&!(a.tagName.toUpperCase()===\"BUTTON\"||a.type&&a.type.toUpperCase()===\"FILE\")&&!a.isContentEditable)}(b=b||d.ctrlKey||d.shiftKey||d.altKey||d.metaKey||(a.getAttribute(\"type\")||\n",
      "a.tagName).toUpperCase()in k&&c===32)||((b=a.tagName in f)||(b=a.getAttributeNode(\"tabindex\"),b=b!=null&&b.specified),b=!(b&&!a.disabled));if(b)c=!1;else{b=(a.getAttribute(\"role\")||a.type||a.tagName).toUpperCase();var m=!(b in h)&&c===13;a=a.tagName.toUpperCase()!==\"INPUT\"||!!a.type;c=(h[b]%c===0||m)&&a}}c&&(d.preventDefault(),window.xp(this),lve&&window.logVe(this))};}).call(this);})();})();(function(){window.jsl=window.jsl||{};window.jsl.dh=window.jsl.dh||function(i,c,d){try{var e=document.getElementById(i);if(e){e.innerHTML=c;if(d){d();}}else{if(window.jsl.el){window.jsl.el(new Error('Missing ID.'),{'id':i});}}}catch(e){if(window.jsl.el){window.jsl.el(new Error('jsl.dh'));}}};})();(function(){window.jsl.dh('accdef_1','\\x3cdiv\\x3e\\x3cdiv style\\x3d\\x22padding-bottom:12px;padding-top:0px\\x22 class\\x3d\\x22hwc kCrYT\\x22\\x3e\\x3cdiv class\\x3d\\x22yStFkb\\x22\\x3e\\x3cdiv class\\x3d\\x22Gx5Zad xpd EtOod pkphOe\\x22\\x3e\\x3cdiv class\\x3d\\x22kCrYT\\x22\\x3e\\x3cdiv class\\x3d\\x22PqksIc nRlVm\\x22\\x3e\\x3cdiv class\\x3d\\x22BNeawe\\x22\\x3e\\x3cdiv\\x3e\\x3cdiv class\\x3d\\x22BNeawe\\x22\\x3eGeeksforGeeks is a leading platform that \\x3cspan class\\x3d\\x22FCUp0c rQMQod\\x22\\x3eprovides computer science resources and coding challenges for programmers and technology enthusiasts, along with interview and exam preparations for upcoming aspirants\\x3c/span\\x3e.\\x3c/div\\x3e\\x3c/div\\x3e\\x3c/div\\x3e\\x3c/div\\x3e\\x3c/div\\x3e\\x3cdiv class\\x3d\\x22x54gtf\\x22\\x3e\\x3c/div\\x3e\\x3cdiv class\\x3d\\x22kCrYT\\x22\\x3e\\x3ca href\\x3d\\x22/url?q\\x3dhttps://www.geeksforgeeks.org/about/\\x26amp;sa\\x3dU\\x26amp;ved\\x3d2ahUKEwjsm9TZhOGIAxW2zzgGHf6LL1cQFnoECAAQBg\\x26amp;usg\\x3dAOvVaw1uUFujQHwRwW0nSCK2HbUL\\x22 data-ved\\x3d\\x222ahUKEwjsm9TZhOGIAxW2zzgGHf6LL1cQFnoECAAQBg\\x22\\x3e\\x3cspan\\x3e\\x3cdiv class\\x3d\\x22BNeawe vvjwJb AP7Wnd\\x22\\x3e\\x3cspan class\\x3d\\x22rQMQod Xb5VRe\\x22\\x3eAbout us - GeeksforGeeks\\x3c/span\\x3e\\x3c/div\\x3e\\x3c/span\\x3e\\x3cspan\\x3e\\x3cdiv class\\x3d\\x22BNeawe UPmit AP7Wnd\\x22\\x3ewww.geeksforgeeks.org \\u203a about\\x3c/div\\x3e\\x3c/span\\x3e\\x3c/a\\x3e\\x3c/div\\x3e\\x3c/div\\x3e\\x3c/div\\x3e\\x3cdiv\\x3e\\x3cdiv class\\x3d\\x22P1NWSe\\x22\\x3e\\x3cdiv class\\x3d\\x22wOMIed nkPlDb\\x22\\x3e\\x3cspan class\\x3d\\x22JhFlyf VQFmSd\\x22\\x3e\\x3ca class\\x3d\\x22f4J0H\\x22 href\\x3d\\x22https://www.google.com/search?sca_esv\\x3dadb58b67ff5950fb\\x26amp;sca_upv\\x3d1\\x26amp;ie\\x3dUTF-8\\x26amp;ei\\x3dxIz1ZuypLbaf4-EP_pe-uQU\\x26amp;q\\x3dWhat+is+GeeksforGeeks+used+for?\\x26amp;sa\\x3dX\\x26amp;ved\\x3d2ahUKEwjsm9TZhOGIAxW2zzgGHf6LL1cQzmd6BAgAEAc\\x22 data-ved\\x3d\\x222ahUKEwjsm9TZhOGIAxW2zzgGHf6LL1cQzmd6BAgAEAc\\x22\\x3eMore results\\x3c/a\\x3e\\x3c/span\\x3e\\x3c/div\\x3e\\x3c/div\\x3e\\x3c/div\\x3e\\x3c/div\\x3e\\x3c/div\\x3e');})();(function(){(function(){var id='tsuid_3';var lve=true;(function(){\n",
      "var e=typeof navigator!==\"undefined\"&&!/Opera/.test(navigator.userAgent)&&/WebKit/.test(navigator.userAgent),f={A:1,INPUT:1,TEXTAREA:1,SELECT:1,BUTTON:1},g={Enter:13,\" \":32},h={A:13,BUTTON:0,CHECKBOX:32,COMBOBOX:13,FILE:0,GRIDCELL:13,LINK:13,LISTBOX:13,MENU:0,MENUBAR:0,MENUITEM:0,MENUITEMCHECKBOX:0,MENUITEMRADIO:0,OPTION:0,RADIO:32,RADIOGROUP:32,RESET:0,SUBMIT:0,SWITCH:32,TAB:0,TREE:13,TREEITEM:13},k={CHECKBOX:!0,FILE:!0,OPTION:!0,RADIO:!0},l={COLOR:!0,DATE:!0,DATETIME:!0,\"DATETIME-LOCAL\":!0,EMAIL:!0,MONTH:!0,NUMBER:!0,PASSWORD:!0,RANGE:!0,SEARCH:!0,TEL:!0,TEXT:!0,TEXTAREA:!0,TIME:!0,URL:!0,WEEK:!0};document.getElementById(id).onclick=function(){window.xp(this);lve&&window.logVe(this)};document.getElementById(id).onkeydown=function(d){var c=d.which||d.keyCode;!c&&d.key&&(c=g[d.key]);e&&c===3&&(c=13);if(c!==13&&c!==32)c=!1;else{var a=d.target;!a.getAttribute&&a.parentNode&&(a=a.parentNode);var b;if(!(b=d.type!==\"keydown\")){if(b=\"getAttribute\"in a)b=!((a.getAttribute(\"type\")||a.tagName).toUpperCase()in l);b=!(b&&!(a.tagName.toUpperCase()===\"BUTTON\"||a.type&&a.type.toUpperCase()===\"FILE\")&&!a.isContentEditable)}(b=b||d.ctrlKey||d.shiftKey||d.altKey||d.metaKey||(a.getAttribute(\"type\")||\n",
      "a.tagName).toUpperCase()in k&&c===32)||((b=a.tagName in f)||(b=a.getAttributeNode(\"tabindex\"),b=b!=null&&b.specified),b=!(b&&!a.disabled));if(b)c=!1;else{b=(a.getAttribute(\"role\")||a.type||a.tagName).toUpperCase();var m=!(b in h)&&c===13;a=a.tagName.toUpperCase()!==\"INPUT\"||!!a.type;c=(h[b]%c===0||m)&&a}}c&&(d.preventDefault(),window.xp(this),lve&&window.logVe(this))};}).call(this);})();})();(function(){window.jsl.dh('accdef_3','\\x3cdiv\\x3e\\x3cdiv style\\x3d\\x22padding-bottom:12px;padding-top:0px\\x22 class\\x3d\\x22hwc kCrYT\\x22\\x3e\\x3cdiv class\\x3d\\x22yStFkb\\x22\\x3e\\x3cdiv class\\x3d\\x22Gx5Zad xpd EtOod pkphOe\\x22\\x3e\\x3cdiv class\\x3d\\x22kCrYT\\x22\\x3e\\x3cdiv class\\x3d\\x22PqksIc nRlVm\\x22\\x3e\\x3cdiv class\\x3d\\x22BNeawe\\x22\\x3e\\x3cdiv\\x3e\\x3cdiv class\\x3d\\x22BNeawe\\x22\\x3e\\x3cspan class\\x3d\\x22FCUp0c rQMQod\\x22\\x3eYes, GeeksforGeeks is an Indian company\\x3c/span\\x3e that was founded in 2009 by Sandeep Jain and is headquartered in Noida, Uttar Pradesh. GeeksforGeeks is proudly an Indian company that has made a significant mark in the global EdTech landscape.\\x3c/div\\x3e\\x3c/div\\x3e\\x3c/div\\x3e\\x3c/div\\x3e\\x3c/div\\x3e\\x3cdiv class\\x3d\\x22x54gtf\\x22\\x3e\\x3c/div\\x3e\\x3cdiv class\\x3d\\x22kCrYT\\x22\\x3e\\x3ca href\\x3d\\x22/url?q\\x3dhttps://www.geeksforgeeks.org/geeksforgeeks-is-an-indian-company/\\x26amp;sa\\x3dU\\x26amp;ved\\x3d2ahUKEwjsm9TZhOGIAxW2zzgGHf6LL1cQFnoECAAQDQ\\x26amp;usg\\x3dAOvVaw1QjI95H7OCg-d4KGrHiRa0\\x22 data-ved\\x3d\\x222ahUKEwjsm9TZhOGIAxW2zzgGHf6LL1cQFnoECAAQDQ\\x22\\x3e\\x3cspan\\x3e\\x3cdiv class\\x3d\\x22BNeawe vvjwJb AP7Wnd\\x22\\x3e\\x3cspan class\\x3d\\x22rQMQod Xb5VRe\\x22\\x3eIs GeeksforGeeks an Indian Company?\\x3c/span\\x3e\\x3c/div\\x3e\\x3c/span\\x3e\\x3cspan\\x3e\\x3cdiv class\\x3d\\x22BNeawe UPmit AP7Wnd\\x22\\x3ewww.geeksforgeeks.org \\u203a geeksforgeeks-is-an-indian-company\\x3c/div\\x3e\\x3c/span\\x3e\\x3c/a\\x3e\\x3c/div\\x3e\\x3c/div\\x3e\\x3c/div\\x3e\\x3cdiv\\x3e\\x3cdiv class\\x3d\\x22P1NWSe\\x22\\x3e\\x3cdiv class\\x3d\\x22wOMIed nkPlDb\\x22\\x3e\\x3cspan class\\x3d\\x22JhFlyf VQFmSd\\x22\\x3e\\x3ca class\\x3d\\x22f4J0H\\x22 href\\x3d\\x22https://www.google.com/search?sca_esv\\x3dadb58b67ff5950fb\\x26amp;sca_upv\\x3d1\\x26amp;ie\\x3dUTF-8\\x26amp;ei\\x3dxIz1ZuypLbaf4-EP_pe-uQU\\x26amp;q\\x3dIs+GeeksforGeeks+an+Indian+company?\\x26amp;sa\\x3dX\\x26amp;ved\\x3d2ahUKEwjsm9TZhOGIAxW2zzgGHf6LL1cQzmd6BAgAEA4\\x22 data-ved\\x3d\\x222ahUKEwjsm9TZhOGIAxW2zzgGHf6LL1cQzmd6BAgAEA4\\x22\\x3eMore results\\x3c/a\\x3e\\x3c/span\\x3e\\x3c/div\\x3e\\x3c/div\\x3e\\x3c/div\\x3e\\x3c/div\\x3e\\x3c/div\\x3e');})();(function(){(function(){var id='tsuid_4';var lve=true;(function(){\n",
      "var e=typeof navigator!==\"undefined\"&&!/Opera/.test(navigator.userAgent)&&/WebKit/.test(navigator.userAgent),f={A:1,INPUT:1,TEXTAREA:1,SELECT:1,BUTTON:1},g={Enter:13,\" \":32},h={A:13,BUTTON:0,CHECKBOX:32,COMBOBOX:13,FILE:0,GRIDCELL:13,LINK:13,LISTBOX:13,MENU:0,MENUBAR:0,MENUITEM:0,MENUITEMCHECKBOX:0,MENUITEMRADIO:0,OPTION:0,RADIO:32,RADIOGROUP:32,RESET:0,SUBMIT:0,SWITCH:32,TAB:0,TREE:13,TREEITEM:13},k={CHECKBOX:!0,FILE:!0,OPTION:!0,RADIO:!0},l={COLOR:!0,DATE:!0,DATETIME:!0,\"DATETIME-LOCAL\":!0,EMAIL:!0,MONTH:!0,NUMBER:!0,PASSWORD:!0,RANGE:!0,SEARCH:!0,TEL:!0,TEXT:!0,TEXTAREA:!0,TIME:!0,URL:!0,WEEK:!0};document.getElementById(id).onclick=function(){window.xp(this);lve&&window.logVe(this)};document.getElementById(id).onkeydown=function(d){var c=d.which||d.keyCode;!c&&d.key&&(c=g[d.key]);e&&c===3&&(c=13);if(c!==13&&c!==32)c=!1;else{var a=d.target;!a.getAttribute&&a.parentNode&&(a=a.parentNode);var b;if(!(b=d.type!==\"keydown\")){if(b=\"getAttribute\"in a)b=!((a.getAttribute(\"type\")||a.tagName).toUpperCase()in l);b=!(b&&!(a.tagName.toUpperCase()===\"BUTTON\"||a.type&&a.type.toUpperCase()===\"FILE\")&&!a.isContentEditable)}(b=b||d.ctrlKey||d.shiftKey||d.altKey||d.metaKey||(a.getAttribute(\"type\")||\n",
      "a.tagName).toUpperCase()in k&&c===32)||((b=a.tagName in f)||(b=a.getAttributeNode(\"tabindex\"),b=b!=null&&b.specified),b=!(b&&!a.disabled));if(b)c=!1;else{b=(a.getAttribute(\"role\")||a.type||a.tagName).toUpperCase();var m=!(b in h)&&c===13;a=a.tagName.toUpperCase()!==\"INPUT\"||!!a.type;c=(h[b]%c===0||m)&&a}}c&&(d.preventDefault(),window.xp(this),lve&&window.logVe(this))};}).call(this);})();})();(function(){window.jsl.dh('accdef_5','\\x3cdiv\\x3e\\x3cdiv style\\x3d\\x22padding-bottom:12px;padding-top:0px\\x22 class\\x3d\\x22hwc kCrYT\\x22\\x3e\\x3cdiv class\\x3d\\x22yStFkb\\x22\\x3e\\x3cdiv class\\x3d\\x22Gx5Zad xpd EtOod pkphOe\\x22\\x3e\\x3cdiv class\\x3d\\x22kCrYT\\x22\\x3e\\x3cdiv class\\x3d\\x22PqksIc nRlVm\\x22\\x3e\\x3cdiv class\\x3d\\x22BNeawe\\x22\\x3e\\x3cdiv\\x3e\\x3cdiv class\\x3d\\x22BNeawe\\x22\\x3e\\x3cspan class\\x3d\\x22FCUp0c rQMQod\\x22\\x3eSandeep Jain\\x3c/span\\x3e\\n\\n Mr. Sandeep Jain is the founder at GeeksforGeeks. He is an alumini of Indian Institute of Technology Roorkee. His platform GeeksforGeeks is well recognized among all the engineering students throughout all colleges in India.\\x3c/div\\x3e\\x3c/div\\x3e\\x3c/div\\x3e\\x3c/div\\x3e\\x3c/div\\x3e\\x3cdiv class\\x3d\\x22x54gtf\\x22\\x3e\\x3c/div\\x3e\\x3cdiv class\\x3d\\x22kCrYT\\x22\\x3e\\x3ca href\\x3d\\x22/url?q\\x3dhttps://v1.nitj.ac.in/esummit/speakers.html\\x26amp;sa\\x3dU\\x26amp;ved\\x3d2ahUKEwjsm9TZhOGIAxW2zzgGHf6LL1cQFnoECAAQFA\\x26amp;usg\\x3dAOvVaw2Euqy4mAWq4p4cV7V_RR2B\\x22 data-ved\\x3d\\x222ahUKEwjsm9TZhOGIAxW2zzgGHf6LL1cQFnoECAAQFA\\x22\\x3e\\x3cspan\\x3e\\x3cdiv class\\x3d\\x22BNeawe vvjwJb AP7Wnd\\x22\\x3e\\x3cspan class\\x3d\\x22rQMQod Xb5VRe\\x22\\x3eFounder \\x26amp; CEO, GeeksForGeeks - NIT Jalandhar\\x3c/span\\x3e\\x3c/div\\x3e\\x3c/span\\x3e\\x3cspan\\x3e\\x3cdiv class\\x3d\\x22BNeawe UPmit AP7Wnd\\x22\\x3ev1.nitj.ac.in \\u203a esummit \\u203a speakers\\x3c/div\\x3e\\x3c/span\\x3e\\x3c/a\\x3e\\x3c/div\\x3e\\x3c/div\\x3e\\x3c/div\\x3e\\x3cdiv\\x3e\\x3cdiv class\\x3d\\x22P1NWSe\\x22\\x3e\\x3cdiv class\\x3d\\x22wOMIed nkPlDb\\x22\\x3e\\x3cspan class\\x3d\\x22JhFlyf VQFmSd\\x22\\x3e\\x3ca class\\x3d\\x22f4J0H\\x22 href\\x3d\\x22https://www.google.com/search?sca_esv\\x3dadb58b67ff5950fb\\x26amp;sca_upv\\x3d1\\x26amp;ie\\x3dUTF-8\\x26amp;ei\\x3dxIz1ZuypLbaf4-EP_pe-uQU\\x26amp;q\\x3dWho+is+the+CEO+of+GeeksforGeeks?\\x26amp;sa\\x3dX\\x26amp;ved\\x3d2ahUKEwjsm9TZhOGIAxW2zzgGHf6LL1cQzmd6BAgAEBU\\x22 data-ved\\x3d\\x222ahUKEwjsm9TZhOGIAxW2zzgGHf6LL1cQzmd6BAgAEBU\\x22\\x3eMore results\\x3c/a\\x3e\\x3c/span\\x3e\\x3c/div\\x3e\\x3c/div\\x3e\\x3c/div\\x3e\\x3c/div\\x3e\\x3c/div\\x3e');})();(function(){(function(){var id='tsuid_5';var lve=true;(function(){\n",
      "var e=typeof navigator!==\"undefined\"&&!/Opera/.test(navigator.userAgent)&&/WebKit/.test(navigator.userAgent),f={A:1,INPUT:1,TEXTAREA:1,SELECT:1,BUTTON:1},g={Enter:13,\" \":32},h={A:13,BUTTON:0,CHECKBOX:32,COMBOBOX:13,FILE:0,GRIDCELL:13,LINK:13,LISTBOX:13,MENU:0,MENUBAR:0,MENUITEM:0,MENUITEMCHECKBOX:0,MENUITEMRADIO:0,OPTION:0,RADIO:32,RADIOGROUP:32,RESET:0,SUBMIT:0,SWITCH:32,TAB:0,TREE:13,TREEITEM:13},k={CHECKBOX:!0,FILE:!0,OPTION:!0,RADIO:!0},l={COLOR:!0,DATE:!0,DATETIME:!0,\"DATETIME-LOCAL\":!0,EMAIL:!0,MONTH:!0,NUMBER:!0,PASSWORD:!0,RANGE:!0,SEARCH:!0,TEL:!0,TEXT:!0,TEXTAREA:!0,TIME:!0,URL:!0,WEEK:!0};document.getElementById(id).onclick=function(){window.xp(this);lve&&window.logVe(this)};document.getElementById(id).onkeydown=function(d){var c=d.which||d.keyCode;!c&&d.key&&(c=g[d.key]);e&&c===3&&(c=13);if(c!==13&&c!==32)c=!1;else{var a=d.target;!a.getAttribute&&a.parentNode&&(a=a.parentNode);var b;if(!(b=d.type!==\"keydown\")){if(b=\"getAttribute\"in a)b=!((a.getAttribute(\"type\")||a.tagName).toUpperCase()in l);b=!(b&&!(a.tagName.toUpperCase()===\"BUTTON\"||a.type&&a.type.toUpperCase()===\"FILE\")&&!a.isContentEditable)}(b=b||d.ctrlKey||d.shiftKey||d.altKey||d.metaKey||(a.getAttribute(\"type\")||\n",
      "a.tagName).toUpperCase()in k&&c===32)||((b=a.tagName in f)||(b=a.getAttributeNode(\"tabindex\"),b=b!=null&&b.specified),b=!(b&&!a.disabled));if(b)c=!1;else{b=(a.getAttribute(\"role\")||a.type||a.tagName).toUpperCase();var m=!(b in h)&&c===13;a=a.tagName.toUpperCase()!==\"INPUT\"||!!a.type;c=(h[b]%c===0||m)&&a}}c&&(d.preventDefault(),window.xp(this),lve&&window.logVe(this))};}).call(this);})();})();(function(){window.jsl.dh('accdef_7','\\x3cdiv\\x3e\\x3cdiv style\\x3d\\x22padding-bottom:12px;padding-top:0px\\x22 class\\x3d\\x22hwc kCrYT\\x22\\x3e\\x3cdiv class\\x3d\\x22yStFkb\\x22\\x3e\\x3cdiv class\\x3d\\x22Gx5Zad xpd EtOod pkphOe\\x22\\x3e\\x3cdiv class\\x3d\\x22kCrYT\\x22\\x3e\\x3cdiv class\\x3d\\x22PqksIc nRlVm\\x22\\x3e\\x3cdiv class\\x3d\\x22BNeawe\\x22\\x3e\\x3cdiv\\x3e\\x3cdiv class\\x3d\\x22BNeawe\\x22\\x3eThese courses provided by GeeksforGeeks are \\x3cspan class\\x3d\\x22FCUp0c rQMQod\\x22\\x3eabsolutely free\\x3c/span\\x3e and bring the best quality content be it video-based or theoretical. Each course is track-based, has assessments and practice sessions (to implement your learning), and is also updated.\\x3c/div\\x3e\\x3c/div\\x3e\\x3c/div\\x3e\\x3c/div\\x3e\\x3c/div\\x3e\\x3cdiv class\\x3d\\x22x54gtf\\x22\\x3e\\x3c/div\\x3e\\x3cdiv class\\x3d\\x22kCrYT\\x22\\x3e\\x3ca href\\x3d\\x22/url?q\\x3dhttps://www.geeksforgeeks.org/free-online-courses-by-geeksforgeeks-learn-new-tech-skills/\\x26amp;sa\\x3dU\\x26amp;ved\\x3d2ahUKEwjsm9TZhOGIAxW2zzgGHf6LL1cQFnoECAAQGw\\x26amp;usg\\x3dAOvVaw13v-t7KJTNmZbl58T9IXGF\\x22 data-ved\\x3d\\x222ahUKEwjsm9TZhOGIAxW2zzgGHf6LL1cQFnoECAAQGw\\x22\\x3e\\x3cspan\\x3e\\x3cdiv class\\x3d\\x22BNeawe vvjwJb AP7Wnd\\x22\\x3e\\x3cspan class\\x3d\\x22rQMQod Xb5VRe\\x22\\x3eFREE Online Courses By GeeksforGeeks - Learn New Tech ...\\x3c/span\\x3e\\x3c/div\\x3e\\x3c/span\\x3e\\x3cspan\\x3e\\x3cdiv class\\x3d\\x22BNeawe UPmit AP7Wnd\\x22\\x3ewww.geeksforgeeks.org \\u203a free-online-courses-by-geeksforgeeks-learn-new...\\x3c/div\\x3e\\x3c/span\\x3e\\x3c/a\\x3e\\x3c/div\\x3e\\x3c/div\\x3e\\x3c/div\\x3e\\x3cdiv\\x3e\\x3cdiv class\\x3d\\x22P1NWSe\\x22\\x3e\\x3cdiv class\\x3d\\x22wOMIed nkPlDb\\x22\\x3e\\x3cspan class\\x3d\\x22JhFlyf VQFmSd\\x22\\x3e\\x3ca class\\x3d\\x22f4J0H\\x22 href\\x3d\\x22https://www.google.com/search?sca_esv\\x3dadb58b67ff5950fb\\x26amp;sca_upv\\x3d1\\x26amp;ie\\x3dUTF-8\\x26amp;ei\\x3dxIz1ZuypLbaf4-EP_pe-uQU\\x26amp;q\\x3dIs+GeeksforGeeks+free?\\x26amp;sa\\x3dX\\x26amp;ved\\x3d2ahUKEwjsm9TZhOGIAxW2zzgGHf6LL1cQzmd6BAgAEBw\\x22 data-ved\\x3d\\x222ahUKEwjsm9TZhOGIAxW2zzgGHf6LL1cQzmd6BAgAEBw\\x22\\x3eMore results\\x3c/a\\x3e\\x3c/span\\x3e\\x3c/div\\x3e\\x3c/div\\x3e\\x3c/div\\x3e\\x3c/div\\x3e\\x3c/div\\x3e');})();(function(){(function(){var id='tsuid_2';var lve=true;(function(){\n",
      "var e=typeof navigator!==\"undefined\"&&!/Opera/.test(navigator.userAgent)&&/WebKit/.test(navigator.userAgent),f={A:1,INPUT:1,TEXTAREA:1,SELECT:1,BUTTON:1},g={Enter:13,\" \":32},h={A:13,BUTTON:0,CHECKBOX:32,COMBOBOX:13,FILE:0,GRIDCELL:13,LINK:13,LISTBOX:13,MENU:0,MENUBAR:0,MENUITEM:0,MENUITEMCHECKBOX:0,MENUITEMRADIO:0,OPTION:0,RADIO:32,RADIOGROUP:32,RESET:0,SUBMIT:0,SWITCH:32,TAB:0,TREE:13,TREEITEM:13},k={CHECKBOX:!0,FILE:!0,OPTION:!0,RADIO:!0},l={COLOR:!0,DATE:!0,DATETIME:!0,\"DATETIME-LOCAL\":!0,EMAIL:!0,MONTH:!0,NUMBER:!0,PASSWORD:!0,RANGE:!0,SEARCH:!0,TEL:!0,TEXT:!0,TEXTAREA:!0,TIME:!0,URL:!0,WEEK:!0};document.getElementById(id).onclick=function(){window.xp(this);lve&&window.logVe(this)};document.getElementById(id).onkeydown=function(d){var c=d.which||d.keyCode;!c&&d.key&&(c=g[d.key]);e&&c===3&&(c=13);if(c!==13&&c!==32)c=!1;else{var a=d.target;!a.getAttribute&&a.parentNode&&(a=a.parentNode);var b;if(!(b=d.type!==\"keydown\")){if(b=\"getAttribute\"in a)b=!((a.getAttribute(\"type\")||a.tagName).toUpperCase()in l);b=!(b&&!(a.tagName.toUpperCase()===\"BUTTON\"||a.type&&a.type.toUpperCase()===\"FILE\")&&!a.isContentEditable)}(b=b||d.ctrlKey||d.shiftKey||d.altKey||d.metaKey||(a.getAttribute(\"type\")||\n",
      "a.tagName).toUpperCase()in k&&c===32)||((b=a.tagName in f)||(b=a.getAttributeNode(\"tabindex\"),b=b!=null&&b.specified),b=!(b&&!a.disabled));if(b)c=!1;else{b=(a.getAttribute(\"role\")||a.type||a.tagName).toUpperCase();var m=!(b in h)&&c===13;a=a.tagName.toUpperCase()!==\"INPUT\"||!!a.type;c=(h[b]%c===0||m)&&a}}c&&(d.preventDefault(),window.xp(this),lve&&window.logVe(this))};}).call(this);})();})();if (!google.stvsc){google.drty && google.drty(undefined,true);}\n",
      "</script></body></html>\n"
     ]
    }
   ],
   "source": [
    "#google search results\n",
    "text= \"geeksforgeeks\"\n",
    "url = 'https://google.com/search?q=' + text \n",
    "request_result=requests.get(url) \n",
    "\n",
    "soup = BeautifulSoup(request_result.text, \"html.parser\") \n",
    "print(soup) "
   ]
  },
  {
   "cell_type": "markdown",
   "metadata": {},
   "source": [
    "## Using getText method:"
   ]
  },
  {
   "cell_type": "code",
   "execution_count": 12,
   "metadata": {},
   "outputs": [
    {
     "name": "stdout",
     "output_type": "stream",
     "text": [
      "Similar Reads\n",
      "------\n",
      "Please Login to comment...\n",
      "------\n"
     ]
    }
   ],
   "source": [
    "#all h3 tags\n",
    "heading_object=soup.find_all('h3') \n",
    "for info in heading_object:\n",
    "\tprint(info.getText()) \n",
    "\tprint(\"------\") "
   ]
  },
  {
   "cell_type": "code",
   "execution_count": 13,
   "metadata": {},
   "outputs": [
    {
     "name": "stdout",
     "output_type": "stream",
     "text": [
      "23°C\n"
     ]
    }
   ],
   "source": [
    "#city temperature\n",
    "city = \"Imphal\"\n",
    "url = \"https://google.com/search?q=weather+in+\" + city  \n",
    "request_result = requests.get(url) \n",
    "soup = BeautifulSoup(request_result.text, \"html.parser\") \n",
    "temp = soup.find( \"div\" , class_='BNeawe' ).text \n",
    "print(temp) \n"
   ]
  },
  {
   "cell_type": "markdown",
   "metadata": {},
   "source": [
    "## Using DOT operator with name:"
   ]
  },
  {
   "cell_type": "code",
   "execution_count": 13,
   "metadata": {},
   "outputs": [
    {
     "name": "stdout",
     "output_type": "stream",
     "text": [
      "name_of_tag\n"
     ]
    }
   ],
   "source": [
    "soup = BeautifulSoup(''' \n",
    "\t<root> \n",
    "\t\t<name_of_tag>the first strong tag</name_of_tag> \n",
    "\t</root> \n",
    "\t''', \"lxml\") \n",
    "\n",
    "tag = soup.name_of_tag \n",
    "name = tag.name \n",
    "print(name)"
   ]
  },
  {
   "cell_type": "code",
   "execution_count": 14,
   "metadata": {},
   "outputs": [
    {
     "name": "stdout",
     "output_type": "stream",
     "text": [
      "h2\n"
     ]
    }
   ],
   "source": [
    "soup = BeautifulSoup(''' \n",
    "\t<html> \n",
    "\t\t<h2> Heading 1 </h2> \n",
    "\t\t<h1> Heading 2 </h1> \n",
    "\t</html> \n",
    "\t''', \"lxml\") \n",
    "\n",
    "\n",
    "tag = soup.h2 \n",
    "name = tag.name \n",
    "print(name) "
   ]
  },
  {
   "cell_type": "markdown",
   "metadata": {},
   "source": [
    "## Using attrs:"
   ]
  },
  {
   "cell_type": "code",
   "execution_count": 18,
   "metadata": {},
   "outputs": [
    {
     "name": "stdout",
     "output_type": "stream",
     "text": [
      "{'class': ['hello']}\n"
     ]
    }
   ],
   "source": [
    "soup = BeautifulSoup(''' \n",
    "\t<html> \n",
    "\t\t<h2 class=\"hello\"> Heading 1 </h2> \n",
    "\t\t<h1> Heading 2 </h1> \n",
    "\t</html> \n",
    "\t''', \"lxml\") \n",
    "\n",
    "tag = soup.h2 \n",
    "attribute = tag.attrs \n",
    "print(attribute) "
   ]
  },
  {
   "cell_type": "code",
   "execution_count": 19,
   "metadata": {},
   "outputs": [
    {
     "name": "stdout",
     "output_type": "stream",
     "text": [
      "['hello']\n"
     ]
    }
   ],
   "source": [
    "soup = BeautifulSoup(''' \n",
    "\t<html> \n",
    "\t\t<h2 class=\"hello\"> Heading 1 </h2> \n",
    "\t\t<h1> Heading 2 </h1> \n",
    "\t</html> \n",
    "\t''', \"lxml\") \n",
    "\n",
    "\n",
    "tag = soup.h2 \n",
    "attribute = tag['class'] \n",
    "print(attribute) "
   ]
  },
  {
   "cell_type": "markdown",
   "metadata": {},
   "source": [
    "## Using [] to extract information:"
   ]
  },
  {
   "cell_type": "code",
   "execution_count": 21,
   "metadata": {},
   "outputs": [
    {
     "name": "stdout",
     "output_type": "stream",
     "text": [
      "['first', 'second', 'third']\n",
      "{'class': ['first', 'second', 'third']}\n"
     ]
    }
   ],
   "source": [
    "soup = BeautifulSoup(''' \n",
    "\t<html> \n",
    "\t\t<h2 class=\"first second third\"> Heading 1 </h2> \n",
    "\t\t<h1> Heading 2 </h1> \n",
    "\t</html> \n",
    "\t''', \"lxml\") \n",
    "\n",
    "tag = soup.h2 \n",
    "attribute = tag['class'] \n",
    "print(attribute) \n",
    "print(tag.attrs)\n"
   ]
  },
  {
   "cell_type": "code",
   "execution_count": 24,
   "metadata": {},
   "outputs": [
    {
     "name": "stdout",
     "output_type": "stream",
     "text": [
      "Before modifying the tag name: \n",
      "<p class=\"para\">gfg</p>\n",
      "\n",
      "p\n"
     ]
    }
   ],
   "source": [
    "# importing module\n",
    "from bs4 import BeautifulSoup\n",
    "\n",
    "markup = \"\"\"\n",
    "<p class=\"para\">gfg</p>\n",
    "\"\"\"\n",
    "\n",
    "soup = BeautifulSoup(markup, 'html.parser')\n",
    "tag = soup.p\n",
    "\n",
    "print(\"Before modifying the tag name: \")\n",
    "print(tag)\n",
    "print()\n",
    "print(tag.name)\n"
   ]
  },
  {
   "cell_type": "markdown",
   "metadata": {},
   "source": [
    "## Modifying tag:"
   ]
  },
  {
   "cell_type": "code",
   "execution_count": 25,
   "metadata": {},
   "outputs": [
    {
     "name": "stdout",
     "output_type": "stream",
     "text": [
      "After modifying the tag name: \n",
      "<div class=\"para\">gfg</div>\n",
      "\n"
     ]
    }
   ],
   "source": [
    "tag.name = \"div\"\n",
    "print(\"After modifying the tag name: \")\n",
    "print(tag)\n",
    "print()"
   ]
  },
  {
   "cell_type": "markdown",
   "metadata": {},
   "source": [
    "## Modifying class name:"
   ]
  },
  {
   "cell_type": "code",
   "execution_count": 26,
   "metadata": {},
   "outputs": [
    {
     "name": "stdout",
     "output_type": "stream",
     "text": [
      "<div class=\"div_class\">gfg</div>\n"
     ]
    }
   ],
   "source": [
    "tag['class'] = \"div_class\"\n",
    "print(tag)\n"
   ]
  },
  {
   "cell_type": "markdown",
   "metadata": {},
   "source": [
    "## Adding new attribute:"
   ]
  },
  {
   "cell_type": "code",
   "execution_count": 27,
   "metadata": {},
   "outputs": [
    {
     "name": "stdout",
     "output_type": "stream",
     "text": [
      "After modifying and adding attributes: \n",
      "<div class=\"div_class\" id=\"div_id\">gfg</div>\n",
      "\n"
     ]
    }
   ],
   "source": [
    "tag['id'] = \"div_id\"\n",
    "\n",
    "print(\"After modifying and adding attributes: \")\n",
    "print(tag)\n",
    "print()"
   ]
  },
  {
   "cell_type": "markdown",
   "metadata": {},
   "source": [
    "## Delete attribute:"
   ]
  },
  {
   "cell_type": "code",
   "execution_count": 28,
   "metadata": {},
   "outputs": [
    {
     "name": "stdout",
     "output_type": "stream",
     "text": [
      "<div id=\"div_id\">gfg</div>\n"
     ]
    }
   ],
   "source": [
    "del tag[\"class\"]\n",
    "print(tag)"
   ]
  },
  {
   "cell_type": "markdown",
   "metadata": {},
   "source": [
    "## Modifying tag content:"
   ]
  },
  {
   "cell_type": "code",
   "execution_count": 29,
   "metadata": {},
   "outputs": [
    {
     "name": "stdout",
     "output_type": "stream",
     "text": [
      "After modifying tag string: \n",
      "<div id=\"div_id\">Geeks</div>\n"
     ]
    }
   ],
   "source": [
    "tag.string = \"Geeks\"\n",
    "print(\"After modifying tag string: \")\n",
    "print(tag)"
   ]
  },
  {
   "cell_type": "markdown",
   "metadata": {},
   "source": [
    "## Insert content:"
   ]
  },
  {
   "cell_type": "code",
   "execution_count": 30,
   "metadata": {},
   "outputs": [
    {
     "name": "stdout",
     "output_type": "stream",
     "text": [
      "<div id=\"div_id\">Geeks</div>\n",
      "<div id=\"div_id\">Geeks for Geeks</div>\n"
     ]
    }
   ],
   "source": [
    "tag = soup.div\n",
    "print(tag)\n",
    "tag.insert(1, \" for Geeks\")\n",
    "print(tag)\n"
   ]
  },
  {
   "cell_type": "markdown",
   "metadata": {},
   "source": [
    "## HTML Data:"
   ]
  },
  {
   "cell_type": "code",
   "execution_count": 31,
   "metadata": {},
   "outputs": [],
   "source": [
    "from bs4 import BeautifulSoup\n",
    "\n",
    "soup = BeautifulSoup(\"<b>| A Computer Science portal</b>\", 'html.parser')\n",
    "tag = soup.new_tag(\"p\")\n",
    "tag.string = \"Geeks\""
   ]
  },
  {
   "cell_type": "markdown",
   "metadata": {},
   "source": [
    "## Insert Before:"
   ]
  },
  {
   "cell_type": "code",
   "execution_count": 32,
   "metadata": {},
   "outputs": [
    {
     "name": "stdout",
     "output_type": "stream",
     "text": [
      "<b><p>Geeks</p>| A Computer Science portal</b>\n"
     ]
    }
   ],
   "source": [
    "soup.b.string.insert_before(tag)\n",
    "print(soup.b)"
   ]
  },
  {
   "cell_type": "markdown",
   "metadata": {},
   "source": [
    "## Insert After:"
   ]
  },
  {
   "cell_type": "code",
   "execution_count": 33,
   "metadata": {},
   "outputs": [
    {
     "name": "stdout",
     "output_type": "stream",
     "text": [
      "<b><p>Geeks</p> for Geeks| A Computer Science portal</b>\n"
     ]
    }
   ],
   "source": [
    "soup.b.p.insert_after(soup.new_string(\" for Geeks\"))\n",
    "print(soup.b)"
   ]
  },
  {
   "cell_type": "markdown",
   "metadata": {},
   "source": [
    "## HTML Data:"
   ]
  },
  {
   "cell_type": "code",
   "execution_count": 40,
   "metadata": {},
   "outputs": [
    {
     "name": "stdout",
     "output_type": "stream",
     "text": [
      "<p>Geeks for Geeks</p>\n"
     ]
    }
   ],
   "source": [
    "\n",
    "markup = '<p>Geeks for Geeks</p>'\n",
    "soup = BeautifulSoup(markup, 'html.parser')\n",
    "print(soup)"
   ]
  },
  {
   "cell_type": "markdown",
   "metadata": {},
   "source": [
    "## Wrap:"
   ]
  },
  {
   "cell_type": "code",
   "execution_count": 41,
   "metadata": {},
   "outputs": [
    {
     "name": "stdout",
     "output_type": "stream",
     "text": [
      "<p><i>Geeks for Geeks</i></p>\n"
     ]
    }
   ],
   "source": [
    "soup.p.string.wrap(soup.new_tag(\"i\"))\n",
    "print(soup)\n"
   ]
  },
  {
   "cell_type": "markdown",
   "metadata": {},
   "source": [
    "## New Tag:"
   ]
  },
  {
   "cell_type": "code",
   "execution_count": 42,
   "metadata": {},
   "outputs": [
    {
     "name": "stdout",
     "output_type": "stream",
     "text": [
      "<div><p><i>Geeks for Geeks</i></p></div>\n"
     ]
    }
   ],
   "source": [
    "soup.p.wrap(soup.new_tag(\"div\"))\n",
    "print(soup)"
   ]
  },
  {
   "cell_type": "markdown",
   "metadata": {},
   "source": [
    "## Unwrap:"
   ]
  },
  {
   "cell_type": "code",
   "execution_count": 43,
   "metadata": {},
   "outputs": [
    {
     "name": "stdout",
     "output_type": "stream",
     "text": [
      "<div><p>Geeks for Geeks</p></div>\n"
     ]
    }
   ],
   "source": [
    "soup.p.i.unwrap()\n",
    "print(soup)"
   ]
  },
  {
   "cell_type": "markdown",
   "metadata": {},
   "source": [
    "## Append:"
   ]
  },
  {
   "cell_type": "code",
   "execution_count": 44,
   "metadata": {},
   "outputs": [
    {
     "name": "stdout",
     "output_type": "stream",
     "text": [
      "<div><p>Geeks for Geeks</p><div>| A Computer Science portal for geeks</div></div>\n"
     ]
    }
   ],
   "source": [
    "old_tag = soup.div\n",
    "new_tag = soup.new_tag('div')\n",
    "new_tag.string = \"| A Computer Science portal for geeks\"\n",
    "old_tag.append(new_tag)\n",
    "print(soup)"
   ]
  },
  {
   "cell_type": "markdown",
   "metadata": {},
   "source": [
    "## HTML Data:"
   ]
  },
  {
   "cell_type": "code",
   "execution_count": 45,
   "metadata": {},
   "outputs": [],
   "source": [
    "markup = '<a href=\"http://gfg.com/\">Geeks for Geeks <i>gfg.com</i></a>'\n",
    "soup = BeautifulSoup(markup, 'html.parser')"
   ]
  },
  {
   "cell_type": "markdown",
   "metadata": {},
   "source": []
  },
  {
   "cell_type": "code",
   "execution_count": 46,
   "metadata": {},
   "outputs": [
    {
     "name": "stdout",
     "output_type": "stream",
     "text": [
      "<a href=\"http://gfg.com/\">Geeks for Geeks <p>gfg.in</p></a>\n"
     ]
    }
   ],
   "source": [
    "old_tag = soup.a\n",
    "new_tag = soup.new_tag(\"p\")\n",
    "new_tag.string = \"gfg.in\"\n",
    "\n",
    "'''replacing tag page_element.replace_with(\"string\") removes a tag or string from the tree, \n",
    "and replaces it with the tag or string of your choice.'''\n",
    "\n",
    "old_tag.i.replace_with(new_tag)\n",
    "print(old_tag)"
   ]
  },
  {
   "cell_type": "markdown",
   "metadata": {},
   "source": [
    "## NavigableString:"
   ]
  },
  {
   "cell_type": "code",
   "execution_count": 47,
   "metadata": {},
   "outputs": [
    {
     "name": "stdout",
     "output_type": "stream",
     "text": [
      "<a href=\"https://www.geeksforgeeks.org/\">Geeks for Geeks| A Computer Science portal</a>\n",
      "<a href=\"https://www.geeksforgeeks.org/\">Geeks for Geeks| A Computer Science portal for geeks</a>\n"
     ]
    }
   ],
   "source": [
    "from bs4 import NavigableString\n",
    "\n",
    "markup = \"\"\"<a href=\"https://www.geeksforgeeks.org/\">Geeks for Geeks</a>\"\"\"\n",
    "soup = BeautifulSoup(markup, 'html.parser')\n",
    "\n",
    "# extracting a tag\n",
    "tag = soup.a\n",
    "\n",
    "# appending content\n",
    "tag.append(\"| A Computer Science portal\")\n",
    "print(tag)\n",
    "\n",
    "# appending content using navigableString constructor\n",
    "new_str = NavigableString(\" for geeks\")\n",
    "tag.append(new_str)\n",
    "print(tag)"
   ]
  },
  {
   "cell_type": "markdown",
   "metadata": {},
   "source": [
    "## Using clear:"
   ]
  },
  {
   "cell_type": "code",
   "execution_count": 48,
   "metadata": {},
   "outputs": [
    {
     "name": "stdout",
     "output_type": "stream",
     "text": [
      "<a href=\"https://www.geeksforgeeks.org/\">Geeks for Geeks <i>| A Computer Science portal</i></a>\n",
      "<a href=\"https://www.geeksforgeeks.org/\"></a>\n"
     ]
    }
   ],
   "source": [
    "markup = '<a href=\"https://www.geeksforgeeks.org/\">Geeks for Geeks <i>| A Computer Science portal</i></a>'\n",
    "\n",
    "soup = BeautifulSoup(markup, 'html.parser')\n",
    "tag = soup.a\n",
    "print(tag)\n",
    "\n",
    "# clearing its all text content\n",
    "tag.clear()\n",
    "print(tag)"
   ]
  },
  {
   "cell_type": "markdown",
   "metadata": {},
   "source": [
    "## Using Extract:"
   ]
  },
  {
   "cell_type": "code",
   "execution_count": 52,
   "metadata": {},
   "outputs": [
    {
     "name": "stdout",
     "output_type": "stream",
     "text": [
      "<i>| A Computer Science portal</i>\n"
     ]
    }
   ],
   "source": [
    "soup2 = BeautifulSoup(markup, 'html.parser')\n",
    "a_tag = soup2.a\n",
    "i_tag = soup2.i.extract()\n",
    "print(i_tag)"
   ]
  },
  {
   "cell_type": "markdown",
   "metadata": {},
   "source": [
    "## Using Decompose:"
   ]
  },
  {
   "cell_type": "code",
   "execution_count": 54,
   "metadata": {},
   "outputs": [
    {
     "name": "stdout",
     "output_type": "stream",
     "text": [
      "<a href=\"https://www.geeksforgeeks.org/\">Geeks for Geeks <i>| A Computer Science portal</i></a>\n",
      "<a href=\"https://www.geeksforgeeks.org/\">Geeks for Geeks </a>\n"
     ]
    }
   ],
   "source": [
    "soup2 = BeautifulSoup(markup, 'html.parser')\n",
    "a_tag = soup2.a\n",
    "print(a_tag)\n",
    "soup2.i.decompose()\n",
    "print(a_tag)"
   ]
  },
  {
   "cell_type": "markdown",
   "metadata": {},
   "source": [
    "## Using find method and text:"
   ]
  },
  {
   "cell_type": "code",
   "execution_count": 34,
   "metadata": {},
   "outputs": [
    {
     "name": "stdout",
     "output_type": "stream",
     "text": [
      "GeeksforGeeks | A computer science portal for geeks\n"
     ]
    }
   ],
   "source": [
    "url = \"https://www.geeksforgeeks.org/\"\n",
    "html_content = requests.get(url).text\n",
    "soup = BeautifulSoup(html_content, \"html.parser\")\n",
    "print(soup.find('title').text)\n"
   ]
  },
  {
   "cell_type": "markdown",
   "metadata": {},
   "source": [
    "## Using find_all and get_text:"
   ]
  },
  {
   "cell_type": "code",
   "execution_count": 35,
   "metadata": {},
   "outputs": [],
   "source": [
    "url = \"https://www.geeksforgeeks.org/\"\n",
    "\n",
    "html_content = requests.get(url).text\n",
    "soup = BeautifulSoup(html_content, \"html.parser\")\n",
    "texts = soup.find_all('p')\n",
    "for text in texts:\n",
    "\tprint(text.get_text())\n"
   ]
  }
 ],
 "metadata": {
  "kernelspec": {
   "display_name": "Python 3",
   "language": "python",
   "name": "python3"
  },
  "language_info": {
   "codemirror_mode": {
    "name": "ipython",
    "version": 3
   },
   "file_extension": ".py",
   "mimetype": "text/x-python",
   "name": "python",
   "nbconvert_exporter": "python",
   "pygments_lexer": "ipython3",
   "version": "3.11.6"
  }
 },
 "nbformat": 4,
 "nbformat_minor": 2
}
