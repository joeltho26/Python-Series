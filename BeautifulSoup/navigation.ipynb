{
 "cells": [
  {
   "cell_type": "markdown",
   "metadata": {},
   "source": [
    "## BeautifulSoup "
   ]
  },
  {
   "cell_type": "code",
   "execution_count": 1,
   "metadata": {},
   "outputs": [],
   "source": [
    "from bs4 import BeautifulSoup \n",
    "\n",
    "html_code = \"\"\"<a><b>text1</b><d>text3</d><c>text2</c></a>\"\"\"\n",
    "soup = BeautifulSoup(html_code, 'html5lib') "
   ]
  },
  {
   "cell_type": "markdown",
   "metadata": {},
   "source": [
    "## Next Sibling:"
   ]
  },
  {
   "cell_type": "code",
   "execution_count": 2,
   "metadata": {},
   "outputs": [
    {
     "name": "stdout",
     "output_type": "stream",
     "text": [
      "<d>text3</d>\n"
     ]
    }
   ],
   "source": [
    "print(soup.b.next_sibling) "
   ]
  },
  {
   "cell_type": "markdown",
   "metadata": {},
   "source": [
    "## Next Siblings:"
   ]
  },
  {
   "cell_type": "code",
   "execution_count": 3,
   "metadata": {},
   "outputs": [
    {
     "name": "stdout",
     "output_type": "stream",
     "text": [
      "<d>text3</d>\n",
      "<c>text2</c>\n"
     ]
    }
   ],
   "source": [
    "for element in soup.b.next_siblings: \n",
    "    print(element)"
   ]
  },
  {
   "cell_type": "markdown",
   "metadata": {},
   "source": [
    "## Previous Sibling"
   ]
  },
  {
   "cell_type": "code",
   "execution_count": 4,
   "metadata": {},
   "outputs": [
    {
     "name": "stdout",
     "output_type": "stream",
     "text": [
      "<d>text3</d>\n"
     ]
    }
   ],
   "source": [
    "\n",
    "print(soup.c.previous_sibling) \n"
   ]
  },
  {
   "cell_type": "markdown",
   "metadata": {},
   "source": [
    "## Previous Siblings"
   ]
  },
  {
   "cell_type": "code",
   "execution_count": 5,
   "metadata": {},
   "outputs": [
    {
     "name": "stdout",
     "output_type": "stream",
     "text": [
      "<d>text3</d>\n",
      "<b>text1</b>\n"
     ]
    }
   ],
   "source": [
    "for element in soup.c.previous_siblings: \n",
    "    print(element)"
   ]
  },
  {
   "cell_type": "markdown",
   "metadata": {},
   "source": [
    "## Data:"
   ]
  },
  {
   "cell_type": "code",
   "execution_count": 22,
   "metadata": {},
   "outputs": [],
   "source": [
    "\n",
    "ht_doc = \"\"\"\n",
    "<html>\n",
    "    <head>\n",
    "        <title>Geeks For Geeks</title>\n",
    "    </head>\n",
    "    <body>\n",
    "        <p class=\"title\"><b>most viewed courses in GFG,its all free</b></p>\n",
    "        <p class =\"prog\">Top 5 Popular Programming Languages</p>\n",
    "        <a href=\"https://www.geeksforgeeks.org/java-programming-examples/\" class=\"prog\" id=\"link1\">Java</a>\n",
    "        <a href=\"https://www.geeksforgeeks.org/cc-programs/\" class=\"prog\" id=\"link2\">c/c++</a>\n",
    "        <a href=\"https://www.geeksforgeeks.org/python-programming-examples/\" class=\"prog\" id=\"link3\">Python</a>\n",
    "        <a href=\"https://https://www.geeksforgeeks.org/introduction-to-javascript/\" class=\"prog\" id=\"link4\">Javascript</a>\n",
    "        <a href=\"https://www.geeksforgeeks.org/ruby-programming-language/\" class=\"prog\" id=\"link5\">Ruby</a>\n",
    "        <p>according to an online survey. </p>\n",
    "        <p class=\"prog\"> Programming Languages</p>\n",
    "    </body>\n",
    "</html>\n",
    "\"\"\"\n",
    "\n",
    "soup = BeautifulSoup(ht_doc, 'html.parser')\n"
   ]
  },
  {
   "cell_type": "markdown",
   "metadata": {},
   "source": [
    "## Dot (Navigation):"
   ]
  },
  {
   "cell_type": "code",
   "execution_count": 23,
   "metadata": {},
   "outputs": [
    {
     "name": "stdout",
     "output_type": "stream",
     "text": [
      "<head>\n",
      "<title>Geeks For Geeks</title>\n",
      "</head>\n"
     ]
    }
   ],
   "source": [
    "print(soup.head)"
   ]
  },
  {
   "cell_type": "code",
   "execution_count": 24,
   "metadata": {},
   "outputs": [
    {
     "name": "stdout",
     "output_type": "stream",
     "text": [
      "<title>Geeks For Geeks</title>\n"
     ]
    }
   ],
   "source": [
    "print(soup.title)"
   ]
  },
  {
   "cell_type": "code",
   "execution_count": 25,
   "metadata": {},
   "outputs": [
    {
     "name": "stdout",
     "output_type": "stream",
     "text": [
      "<title>Geeks For Geeks</title>\n"
     ]
    }
   ],
   "source": [
    "print(soup.head.title)"
   ]
  },
  {
   "cell_type": "code",
   "execution_count": 26,
   "metadata": {},
   "outputs": [
    {
     "name": "stdout",
     "output_type": "stream",
     "text": [
      "<b>most viewed courses in GFG,its all free</b>\n"
     ]
    }
   ],
   "source": [
    "print(soup.body.b)"
   ]
  },
  {
   "cell_type": "code",
   "execution_count": 27,
   "metadata": {},
   "outputs": [
    {
     "name": "stdout",
     "output_type": "stream",
     "text": [
      "<a class=\"prog\" href=\"https://www.geeksforgeeks.org/java-programming-examples/\" id=\"link1\">Java</a>\n"
     ]
    }
   ],
   "source": [
    "print(soup.a)"
   ]
  },
  {
   "cell_type": "markdown",
   "metadata": {},
   "source": [
    "## Using find_all:"
   ]
  },
  {
   "cell_type": "code",
   "execution_count": 28,
   "metadata": {},
   "outputs": [
    {
     "name": "stdout",
     "output_type": "stream",
     "text": [
      "[<a class=\"prog\" href=\"https://www.geeksforgeeks.org/java-programming-examples/\" id=\"link1\">Java</a>, <a class=\"prog\" href=\"https://www.geeksforgeeks.org/cc-programs/\" id=\"link2\">c/c++</a>, <a class=\"prog\" href=\"https://www.geeksforgeeks.org/python-programming-examples/\" id=\"link3\">Python</a>, <a class=\"prog\" href=\"https://https://www.geeksforgeeks.org/introduction-to-javascript/\" id=\"link4\">Javascript</a>, <a class=\"prog\" href=\"https://www.geeksforgeeks.org/ruby-programming-language/\" id=\"link5\">Ruby</a>]\n"
     ]
    }
   ],
   "source": [
    "print(soup.find_all(\"a\"))"
   ]
  },
  {
   "cell_type": "code",
   "execution_count": 29,
   "metadata": {},
   "outputs": [
    {
     "name": "stdout",
     "output_type": "stream",
     "text": [
      "<head>\n",
      "<title>Geeks For Geeks</title>\n",
      "</head>\n"
     ]
    }
   ],
   "source": [
    "hTag = soup.head \n",
    "print(hTag)"
   ]
  },
  {
   "cell_type": "markdown",
   "metadata": {},
   "source": [
    "## Using contents:"
   ]
  },
  {
   "cell_type": "code",
   "execution_count": 30,
   "metadata": {},
   "outputs": [
    {
     "name": "stdout",
     "output_type": "stream",
     "text": [
      "['\\n', <title>Geeks For Geeks</title>, '\\n']\n"
     ]
    }
   ],
   "source": [
    "print(hTag.contents) "
   ]
  },
  {
   "cell_type": "markdown",
   "metadata": {},
   "source": [
    "## Using descendants method:"
   ]
  },
  {
   "cell_type": "code",
   "execution_count": 31,
   "metadata": {},
   "outputs": [
    {
     "name": "stdout",
     "output_type": "stream",
     "text": [
      "\n",
      "\n",
      "<title>Geeks For Geeks</title>\n",
      "Geeks For Geeks\n",
      "\n",
      "\n"
     ]
    }
   ],
   "source": [
    "for child in hTag.descendants: \n",
    "\tprint(child)"
   ]
  },
  {
   "cell_type": "code",
   "execution_count": 43,
   "metadata": {},
   "outputs": [
    {
     "name": "stdout",
     "output_type": "stream",
     "text": [
      "\n",
      "\n",
      "<p class=\"title\"><b>most viewed courses in GFG,its all free</b></p>\n",
      "<b>most viewed courses in GFG,its all free</b>\n",
      "most viewed courses in GFG,its all free\n",
      "\n",
      "\n",
      "<p class=\"prog\">Top 5 Popular Programming Languages</p>\n",
      "Top 5 Popular Programming Languages\n",
      "\n",
      "\n",
      "<a class=\"prog\" href=\"https://www.geeksforgeeks.org/java-programming-examples/\" id=\"link1\">Java</a>\n",
      "Java\n",
      "\n",
      "\n",
      "<a class=\"prog\" href=\"https://www.geeksforgeeks.org/cc-programs/\" id=\"link2\">c/c++</a>\n",
      "c/c++\n",
      "\n",
      "\n",
      "<a class=\"prog\" href=\"https://www.geeksforgeeks.org/python-programming-examples/\" id=\"link3\">Python</a>\n",
      "Python\n",
      "\n",
      "\n",
      "<a class=\"prog\" href=\"https://https://www.geeksforgeeks.org/introduction-to-javascript/\" id=\"link4\">Javascript</a>\n",
      "Javascript\n",
      "\n",
      "\n",
      "<a class=\"prog\" href=\"https://www.geeksforgeeks.org/ruby-programming-language/\" id=\"link5\">Ruby</a>\n",
      "Ruby\n",
      "\n",
      "\n",
      "<p>according to an online survey. </p>\n",
      "according to an online survey. \n",
      "\n",
      "\n",
      "<p class=\"prog\"> Programming Languages</p>\n",
      " Programming Languages\n",
      "\n",
      "\n"
     ]
    }
   ],
   "source": [
    "tag = soup.body \n",
    "for descendant in tag.descendants: \n",
    "\tprint(descendant) "
   ]
  },
  {
   "cell_type": "markdown",
   "metadata": {},
   "source": [
    "## Using string method:"
   ]
  },
  {
   "cell_type": "code",
   "execution_count": 36,
   "metadata": {},
   "outputs": [
    {
     "name": "stdout",
     "output_type": "stream",
     "text": [
      "None\n"
     ]
    }
   ],
   "source": [
    "print(hTag.string)"
   ]
  },
  {
   "cell_type": "markdown",
   "metadata": {},
   "source": [
    "## Using strings method:"
   ]
  },
  {
   "cell_type": "code",
   "execution_count": 37,
   "metadata": {},
   "outputs": [
    {
     "name": "stdout",
     "output_type": "stream",
     "text": [
      "\n",
      "\n",
      "Geeks For Geeks\n",
      "\n",
      "\n"
     ]
    }
   ],
   "source": [
    "for string in hTag.strings:\n",
    "    print(string)"
   ]
  },
  {
   "cell_type": "code",
   "execution_count": 38,
   "metadata": {},
   "outputs": [
    {
     "name": "stdout",
     "output_type": "stream",
     "text": [
      "'\\n'\n",
      "'\\n'\n",
      "'\\n'\n",
      "'Geeks For Geeks'\n",
      "'\\n'\n",
      "'\\n'\n",
      "'\\n'\n",
      "'most viewed courses in GFG,its all free'\n",
      "'\\n'\n",
      "'Top 5 Popular Programming Languages'\n",
      "'\\n'\n",
      "'Java'\n",
      "'\\n'\n",
      "'c/c++'\n",
      "'\\n'\n",
      "'Python'\n",
      "'\\n'\n",
      "'Javascript'\n",
      "'\\n'\n",
      "'Ruby'\n",
      "'\\n'\n",
      "'according to an online survey. '\n",
      "'\\n'\n",
      "' Programming Languages'\n",
      "'\\n'\n",
      "'\\n'\n",
      "'\\n'\n"
     ]
    }
   ],
   "source": [
    "for string in soup.strings :\n",
    "\tprint(repr(string))"
   ]
  },
  {
   "cell_type": "markdown",
   "metadata": {},
   "source": [
    "## Using Stripped strings:"
   ]
  },
  {
   "cell_type": "code",
   "execution_count": 39,
   "metadata": {},
   "outputs": [
    {
     "name": "stdout",
     "output_type": "stream",
     "text": [
      "'Geeks For Geeks'\n",
      "'most viewed courses in GFG,its all free'\n",
      "'Top 5 Popular Programming Languages'\n",
      "'Java'\n",
      "'c/c++'\n",
      "'Python'\n",
      "'Javascript'\n",
      "'Ruby'\n",
      "'according to an online survey.'\n",
      "'Programming Languages'\n"
     ]
    }
   ],
   "source": [
    "for string in soup.stripped_strings :\n",
    "\tprint(repr(string))"
   ]
  },
  {
   "cell_type": "markdown",
   "metadata": {},
   "source": [
    "## Using Parent:"
   ]
  },
  {
   "cell_type": "code",
   "execution_count": 40,
   "metadata": {},
   "outputs": [
    {
     "name": "stdout",
     "output_type": "stream",
     "text": [
      "<head>\n",
      "<title>Geeks For Geeks</title>\n",
      "</head>\n"
     ]
    }
   ],
   "source": [
    "Itag = soup.title \n",
    "print(Itag.parent)"
   ]
  },
  {
   "cell_type": "code",
   "execution_count": 41,
   "metadata": {},
   "outputs": [
    {
     "name": "stdout",
     "output_type": "stream",
     "text": [
      "<class 'bs4.BeautifulSoup'>\n",
      "None\n"
     ]
    }
   ],
   "source": [
    "htmlTag = soup.html\n",
    "print(type(htmlTag.parent))\n",
    "print(soup.parent)"
   ]
  },
  {
   "cell_type": "markdown",
   "metadata": {},
   "source": [
    "## Using Parents:"
   ]
  },
  {
   "cell_type": "code",
   "execution_count": 42,
   "metadata": {},
   "outputs": [
    {
     "name": "stdout",
     "output_type": "stream",
     "text": [
      "<a class=\"prog\" href=\"https://www.geeksforgeeks.org/java-programming-examples/\" id=\"link1\">Java</a>\n",
      "body\n",
      "html\n",
      "[document]\n"
     ]
    }
   ],
   "source": [
    "link = soup.a \n",
    "print(link)\n",
    "\n",
    "for parent in link.parents :\n",
    "\tif parent is None : \n",
    "\t\tprint(parent)\n",
    "\telse :\n",
    "\t\tprint(parent.name)\n"
   ]
  },
  {
   "cell_type": "code",
   "execution_count": null,
   "metadata": {},
   "outputs": [],
   "source": []
  },
  {
   "cell_type": "code",
   "execution_count": null,
   "metadata": {},
   "outputs": [],
   "source": []
  }
 ],
 "metadata": {
  "kernelspec": {
   "display_name": "Python 3",
   "language": "python",
   "name": "python3"
  },
  "language_info": {
   "codemirror_mode": {
    "name": "ipython",
    "version": 3
   },
   "file_extension": ".py",
   "mimetype": "text/x-python",
   "name": "python",
   "nbconvert_exporter": "python",
   "pygments_lexer": "ipython3",
   "version": "3.11.6"
  }
 },
 "nbformat": 4,
 "nbformat_minor": 2
}
